{
 "cells": [
  {
   "cell_type": "markdown",
   "metadata": {
    "id": "PvWfbzr5jqQf"
   },
   "source": [
    "### Importing Libraries"
   ]
  },
  {
   "cell_type": "code",
   "source": [
    "from google.colab import drive\n",
    "drive.mount('/content/drive')"
   ],
   "metadata": {
    "colab": {
     "base_uri": "https://localhost:8080/"
    },
    "id": "XfiOI-eMEvi0",
    "outputId": "5fe22a83-54f6-44b2-8de3-4858806ffed0"
   },
   "execution_count": null,
   "outputs": [
    {
     "output_type": "stream",
     "name": "stdout",
     "text": [
      "Mounted at /content/drive\n"
     ]
    }
   ]
  },
  {
   "cell_type": "code",
   "execution_count": null,
   "metadata": {
    "colab": {
     "base_uri": "https://localhost:8080/"
    },
    "id": "3yNakltmje5I",
    "outputId": "a3bfc97c-5975-4259-801c-72bba29c6f08"
   },
   "outputs": [
    {
     "output_type": "stream",
     "name": "stdout",
     "text": [
      "Looking in indexes: https://pypi.org/simple, https://us-python.pkg.dev/colab-wheels/public/simple/\n",
      "Collecting keras-tuner==1.0.3\n",
      "  Downloading keras_tuner-1.0.3-py3-none-any.whl (96 kB)\n",
      "\u001B[K     |████████████████████████████████| 96 kB 5.1 MB/s \n",
      "\u001B[?25hCollecting kt-legacy\n",
      "  Downloading kt_legacy-1.0.4-py3-none-any.whl (9.6 kB)\n",
      "Requirement already satisfied: scipy in /usr/local/lib/python3.7/dist-packages (from keras-tuner==1.0.3) (1.7.3)\n",
      "Requirement already satisfied: ipython in /usr/local/lib/python3.7/dist-packages (from keras-tuner==1.0.3) (7.9.0)\n",
      "Requirement already satisfied: numpy in /usr/local/lib/python3.7/dist-packages (from keras-tuner==1.0.3) (1.21.6)\n",
      "Requirement already satisfied: packaging in /usr/local/lib/python3.7/dist-packages (from keras-tuner==1.0.3) (21.3)\n",
      "Requirement already satisfied: tensorboard in /usr/local/lib/python3.7/dist-packages (from keras-tuner==1.0.3) (2.8.0)\n",
      "Requirement already satisfied: requests in /usr/local/lib/python3.7/dist-packages (from keras-tuner==1.0.3) (2.23.0)\n",
      "Requirement already satisfied: traitlets>=4.2 in /usr/local/lib/python3.7/dist-packages (from ipython->keras-tuner==1.0.3) (5.1.1)\n",
      "Requirement already satisfied: prompt-toolkit<2.1.0,>=2.0.0 in /usr/local/lib/python3.7/dist-packages (from ipython->keras-tuner==1.0.3) (2.0.10)\n",
      "Requirement already satisfied: backcall in /usr/local/lib/python3.7/dist-packages (from ipython->keras-tuner==1.0.3) (0.2.0)\n",
      "Requirement already satisfied: decorator in /usr/local/lib/python3.7/dist-packages (from ipython->keras-tuner==1.0.3) (4.4.2)\n",
      "Requirement already satisfied: pexpect in /usr/local/lib/python3.7/dist-packages (from ipython->keras-tuner==1.0.3) (4.8.0)\n",
      "Requirement already satisfied: setuptools>=18.5 in /usr/local/lib/python3.7/dist-packages (from ipython->keras-tuner==1.0.3) (57.4.0)\n",
      "Requirement already satisfied: pygments in /usr/local/lib/python3.7/dist-packages (from ipython->keras-tuner==1.0.3) (2.6.1)\n",
      "Requirement already satisfied: pickleshare in /usr/local/lib/python3.7/dist-packages (from ipython->keras-tuner==1.0.3) (0.7.5)\n",
      "Collecting jedi>=0.10\n",
      "  Downloading jedi-0.18.1-py2.py3-none-any.whl (1.6 MB)\n",
      "\u001B[K     |████████████████████████████████| 1.6 MB 55.2 MB/s \n",
      "\u001B[?25hRequirement already satisfied: parso<0.9.0,>=0.8.0 in /usr/local/lib/python3.7/dist-packages (from jedi>=0.10->ipython->keras-tuner==1.0.3) (0.8.3)\n",
      "Requirement already satisfied: six>=1.9.0 in /usr/local/lib/python3.7/dist-packages (from prompt-toolkit<2.1.0,>=2.0.0->ipython->keras-tuner==1.0.3) (1.15.0)\n",
      "Requirement already satisfied: wcwidth in /usr/local/lib/python3.7/dist-packages (from prompt-toolkit<2.1.0,>=2.0.0->ipython->keras-tuner==1.0.3) (0.2.5)\n",
      "Requirement already satisfied: pyparsing!=3.0.5,>=2.0.2 in /usr/local/lib/python3.7/dist-packages (from packaging->keras-tuner==1.0.3) (3.0.9)\n",
      "Requirement already satisfied: ptyprocess>=0.5 in /usr/local/lib/python3.7/dist-packages (from pexpect->ipython->keras-tuner==1.0.3) (0.7.0)\n",
      "Requirement already satisfied: urllib3!=1.25.0,!=1.25.1,<1.26,>=1.21.1 in /usr/local/lib/python3.7/dist-packages (from requests->keras-tuner==1.0.3) (1.24.3)\n",
      "Requirement already satisfied: idna<3,>=2.5 in /usr/local/lib/python3.7/dist-packages (from requests->keras-tuner==1.0.3) (2.10)\n",
      "Requirement already satisfied: certifi>=2017.4.17 in /usr/local/lib/python3.7/dist-packages (from requests->keras-tuner==1.0.3) (2022.6.15)\n",
      "Requirement already satisfied: chardet<4,>=3.0.2 in /usr/local/lib/python3.7/dist-packages (from requests->keras-tuner==1.0.3) (3.0.4)\n",
      "Requirement already satisfied: google-auth-oauthlib<0.5,>=0.4.1 in /usr/local/lib/python3.7/dist-packages (from tensorboard->keras-tuner==1.0.3) (0.4.6)\n",
      "Requirement already satisfied: grpcio>=1.24.3 in /usr/local/lib/python3.7/dist-packages (from tensorboard->keras-tuner==1.0.3) (1.47.0)\n",
      "Requirement already satisfied: protobuf>=3.6.0 in /usr/local/lib/python3.7/dist-packages (from tensorboard->keras-tuner==1.0.3) (3.17.3)\n",
      "Requirement already satisfied: wheel>=0.26 in /usr/local/lib/python3.7/dist-packages (from tensorboard->keras-tuner==1.0.3) (0.37.1)\n",
      "Requirement already satisfied: markdown>=2.6.8 in /usr/local/lib/python3.7/dist-packages (from tensorboard->keras-tuner==1.0.3) (3.4.1)\n",
      "Requirement already satisfied: google-auth<3,>=1.6.3 in /usr/local/lib/python3.7/dist-packages (from tensorboard->keras-tuner==1.0.3) (1.35.0)\n",
      "Requirement already satisfied: tensorboard-data-server<0.7.0,>=0.6.0 in /usr/local/lib/python3.7/dist-packages (from tensorboard->keras-tuner==1.0.3) (0.6.1)\n",
      "Requirement already satisfied: werkzeug>=0.11.15 in /usr/local/lib/python3.7/dist-packages (from tensorboard->keras-tuner==1.0.3) (1.0.1)\n",
      "Requirement already satisfied: absl-py>=0.4 in /usr/local/lib/python3.7/dist-packages (from tensorboard->keras-tuner==1.0.3) (1.2.0)\n",
      "Requirement already satisfied: tensorboard-plugin-wit>=1.6.0 in /usr/local/lib/python3.7/dist-packages (from tensorboard->keras-tuner==1.0.3) (1.8.1)\n",
      "Requirement already satisfied: pyasn1-modules>=0.2.1 in /usr/local/lib/python3.7/dist-packages (from google-auth<3,>=1.6.3->tensorboard->keras-tuner==1.0.3) (0.2.8)\n",
      "Requirement already satisfied: cachetools<5.0,>=2.0.0 in /usr/local/lib/python3.7/dist-packages (from google-auth<3,>=1.6.3->tensorboard->keras-tuner==1.0.3) (4.2.4)\n",
      "Requirement already satisfied: rsa<5,>=3.1.4 in /usr/local/lib/python3.7/dist-packages (from google-auth<3,>=1.6.3->tensorboard->keras-tuner==1.0.3) (4.9)\n",
      "Requirement already satisfied: requests-oauthlib>=0.7.0 in /usr/local/lib/python3.7/dist-packages (from google-auth-oauthlib<0.5,>=0.4.1->tensorboard->keras-tuner==1.0.3) (1.3.1)\n",
      "Requirement already satisfied: importlib-metadata>=4.4 in /usr/local/lib/python3.7/dist-packages (from markdown>=2.6.8->tensorboard->keras-tuner==1.0.3) (4.12.0)\n",
      "Requirement already satisfied: typing-extensions>=3.6.4 in /usr/local/lib/python3.7/dist-packages (from importlib-metadata>=4.4->markdown>=2.6.8->tensorboard->keras-tuner==1.0.3) (4.1.1)\n",
      "Requirement already satisfied: zipp>=0.5 in /usr/local/lib/python3.7/dist-packages (from importlib-metadata>=4.4->markdown>=2.6.8->tensorboard->keras-tuner==1.0.3) (3.8.1)\n",
      "Requirement already satisfied: pyasn1<0.5.0,>=0.4.6 in /usr/local/lib/python3.7/dist-packages (from pyasn1-modules>=0.2.1->google-auth<3,>=1.6.3->tensorboard->keras-tuner==1.0.3) (0.4.8)\n",
      "Requirement already satisfied: oauthlib>=3.0.0 in /usr/local/lib/python3.7/dist-packages (from requests-oauthlib>=0.7.0->google-auth-oauthlib<0.5,>=0.4.1->tensorboard->keras-tuner==1.0.3) (3.2.0)\n",
      "Installing collected packages: jedi, kt-legacy, keras-tuner\n",
      "Successfully installed jedi-0.18.1 keras-tuner-1.0.3 kt-legacy-1.0.4\n"
     ]
    }
   ],
   "source": [
    "!pip install keras-tuner==1.0.3"
   ]
  },
  {
   "cell_type": "code",
   "execution_count": null,
   "metadata": {
    "colab": {
     "base_uri": "https://localhost:8080/"
    },
    "id": "ZpibH7SX_qH1",
    "outputId": "823c2d94-acc4-4189-9223-6ca8707218a5"
   },
   "outputs": [
    {
     "output_type": "stream",
     "name": "stdout",
     "text": [
      "Looking in indexes: https://pypi.org/simple, https://us-python.pkg.dev/colab-wheels/public/simple/\n",
      "Collecting keras-self-attention\n",
      "  Downloading keras-self-attention-0.51.0.tar.gz (11 kB)\n",
      "Requirement already satisfied: numpy in /usr/local/lib/python3.7/dist-packages (from keras-self-attention) (1.21.6)\n",
      "Building wheels for collected packages: keras-self-attention\n",
      "  Building wheel for keras-self-attention (setup.py) ... \u001B[?25l\u001B[?25hdone\n",
      "  Created wheel for keras-self-attention: filename=keras_self_attention-0.51.0-py3-none-any.whl size=18912 sha256=b7eafdbb559252dec4c745f63d00db4df361c61d49acea55ce7849798e8ef6d7\n",
      "  Stored in directory: /root/.cache/pip/wheels/95/b1/a8/5ee00cc137940b2f6fa198212e8f45d813d0e0d9c3a04035a3\n",
      "Successfully built keras-self-attention\n",
      "Installing collected packages: keras-self-attention\n",
      "Successfully installed keras-self-attention-0.51.0\n"
     ]
    }
   ],
   "source": [
    "!pip install keras-self-attention"
   ]
  },
  {
   "cell_type": "code",
   "execution_count": null,
   "metadata": {
    "id": "wwjYAdhNjrdQ"
   },
   "outputs": [],
   "source": [
    "import keras_tuner as kt \n",
    "import tensorflow as tf\n",
    "import numpy as np\n",
    "import matplotlib.pyplot as plt\n",
    "import pandas as pd\n",
    "import random\n",
    "import itertools\n",
    "import operator\n",
    "from tensorflow import keras\n",
    "from tensorflow.keras import layers\n",
    "from tensorflow.keras.models import load_model\n",
    "from pathlib import Path\n",
    "from sklearn.model_selection import KFold\n",
    "from sklearn.utils import resample\n",
    "from sklearn.metrics import roc_curve, auc, confusion_matrix\n",
    "import seaborn as sns\n",
    "from keras.layers import Layer\n",
    "from keras_self_attention import SeqSelfAttention\n",
    "import keras.backend as K\n",
    "from collections import Counter\n",
    "import itertools\n",
    "import operator"
   ]
  },
  {
   "cell_type": "markdown",
   "metadata": {
    "id": "shDLaG5vjxjO"
   },
   "source": [
    "### Init Parameters"
   ]
  },
  {
   "cell_type": "code",
   "execution_count": null,
   "metadata": {
    "id": "eWZUx58zjwzF"
   },
   "outputs": [],
   "source": [
    "maxlength = 20 # Maximum length of each sequence\n",
    "crossvalidation = KFold(5) # k-fold cross-validation\n",
    "epochs = 500 # Number of epochs\n",
    "batch_size = 32 # Batch size\n",
    "imbalanced = False # Turn off if dataset is not unbalanced\n",
    "MIC_cutoff = 40"
   ]
  },
  {
   "cell_type": "code",
   "execution_count": null,
   "metadata": {
    "colab": {
     "base_uri": "https://localhost:8080/"
    },
    "id": "zkP6kDh8j3Dh",
    "outputId": "688ce4ea-f817-488e-c23f-cb81b3e85908"
   },
   "outputs": [
    {
     "output_type": "stream",
     "name": "stdout",
     "text": [
      "Number of sequences: 4821\n"
     ]
    }
   ],
   "source": [
    "# Transforming csv file into pandas dataframe, then transferring sequences and MICs to separate lists\n",
    "classification_sequences = pd.read_csv('/datasets/ecoli/activity_ecoli_strains_dataset_v1.csv');\n",
    "#classification_sequences = classification_sequences.loc[(classification_sequences.e_coli > 0)]\n",
    "amps_sequences = classification_sequences['sequence'].to_list()\n",
    "print('Number of sequences:', len(amps_sequences)) # Displays the number of total sequences"
   ]
  },
  {
   "cell_type": "code",
   "execution_count": null,
   "metadata": {
    "id": "KTh6Gu3xRu9B"
   },
   "outputs": [],
   "source": [
    "classification_sequences['seqLength'] = classification_sequences['sequence'].map(lambda x: len(str(x)))"
   ]
  },
  {
   "cell_type": "code",
   "execution_count": null,
   "metadata": {
    "colab": {
     "base_uri": "https://localhost:8080/"
    },
    "id": "sMWHHZnJSXTY",
    "outputId": "f3b1c8ff-e1d4-41c4-94f4-72679bf15c8d"
   },
   "outputs": [
    {
     "output_type": "execute_result",
     "data": {
      "text/plain": [
       "count    4821.000000\n",
       "mean       19.627878\n",
       "std        11.364924\n",
       "min         1.000000\n",
       "25%        13.000000\n",
       "50%        17.000000\n",
       "75%        24.000000\n",
       "max       140.000000\n",
       "Name: seqLength, dtype: float64"
      ]
     },
     "metadata": {},
     "execution_count": 55
    }
   ],
   "source": [
    "classification_sequences[\"seqLength\"].describe()"
   ]
  },
  {
   "cell_type": "code",
   "execution_count": null,
   "metadata": {
    "colab": {
     "base_uri": "https://localhost:8080/",
     "height": 460
    },
    "id": "knYIkMuFSsx-",
    "outputId": "4a10291b-1779-4500-e6a6-56310b1747cc"
   },
   "outputs": [
    {
     "output_type": "execute_result",
     "data": {
      "text/plain": [
       "Text(0.5, 0.98, 'Sequance Lenght distribution')"
      ]
     },
     "metadata": {},
     "execution_count": 56
    },
    {
     "output_type": "display_data",
     "data": {
      "text/plain": [
       "<Figure size 432x432 with 3 Axes>"
      ],
      "image/png": "[encoded data removed]"
     },
     "metadata": {
      "needs_background": "light"
     }
    }
   ],
   "source": [
    "# statistics about gram- group and activity profile\n",
    "seqlenghtStatistic = classification_sequences.groupby(['seqLength']).size().reset_index(name='counts')\n",
    "seqlenghtStatistic\n",
    "x_len = seqlenghtStatistic['seqLength']\n",
    "y_count = seqlenghtStatistic['counts']\n",
    "\n",
    "sns.jointplot(x=x_len, y=y_count,\n",
    "              kind='hex', xlim=(1,190), ylim=(0,1500))\n",
    "plt.suptitle(\"Sequance Lenght distribution\")"
   ]
  },
  {
   "cell_type": "code",
   "execution_count": null,
   "metadata": {
    "colab": {
     "base_uri": "https://localhost:8080/",
     "height": 419
    },
    "id": "Hf6rn8p1hmQw",
    "outputId": "b850e103-ebdf-4d58-ebe6-5059fbde6672"
   },
   "outputs": [
    {
     "output_type": "execute_result",
     "data": {
      "text/plain": [
       "      Unnamed: 0              sequence nTerminus cTerminus  e_coli  \\\n",
       "4              6          KAaaKWAaKaAK       C16       AMD     NaN   \n",
       "5              7                  KLlK       C16       AMD     NaN   \n",
       "7             10          kGGGkWGGkGGk       C16       AMD     NaN   \n",
       "8             13          KLllKWLlKlLK       NaN       AMD     NaN   \n",
       "10            16    KLALKLALKAWKAALKLA       NaN       AMD     3.9   \n",
       "...          ...                   ...       ...       ...     ...   \n",
       "4717          54   KWKLFKKILLKFLHLAKLF         -         -    12.0   \n",
       "4718          55   KYYSRVRGGRSAVLSSLDK         -         -     4.0   \n",
       "4719          56   SSGWVCTLTIECGTVICAC         -         -   200.0   \n",
       "4720          57   VDKGSYLPRPTSHPRPIRV         -         -     3.0   \n",
       "4721          58  GLMSVLGHAVGNVLGGLFKS         -         -    25.0   \n",
       "\n",
       "      e_coli_atcc  seqLength  \n",
       "4            6.25         12  \n",
       "5          100.00          4  \n",
       "7           25.00         12  \n",
       "8           15.00         12  \n",
       "10            NaN         18  \n",
       "...           ...        ...  \n",
       "4717          NaN         19  \n",
       "4718          NaN         19  \n",
       "4719          NaN         19  \n",
       "4720          NaN         19  \n",
       "4721          NaN         20  \n",
       "\n",
       "[3026 rows x 7 columns]"
      ],
      "text/html": [
       "\n",
       "  <div id=\"df-5cdd2a25-fb3e-4bd0-9576-2468e98dc7b0\">\n",
       "    <div class=\"colab-df-container\">\n",
       "      <div>\n",
       "<style scoped>\n",
       "    .dataframe tbody tr th:only-of-type {\n",
       "        vertical-align: middle;\n",
       "    }\n",
       "\n",
       "    .dataframe tbody tr th {\n",
       "        vertical-align: top;\n",
       "    }\n",
       "\n",
       "    .dataframe thead th {\n",
       "        text-align: right;\n",
       "    }\n",
       "</style>\n",
       "<table border=\"1\" class=\"dataframe\">\n",
       "  <thead>\n",
       "    <tr style=\"text-align: right;\">\n",
       "      <th></th>\n",
       "      <th>Unnamed: 0</th>\n",
       "      <th>sequence</th>\n",
       "      <th>nTerminus</th>\n",
       "      <th>cTerminus</th>\n",
       "      <th>e_coli</th>\n",
       "      <th>e_coli_atcc</th>\n",
       "      <th>seqLength</th>\n",
       "    </tr>\n",
       "  </thead>\n",
       "  <tbody>\n",
       "    <tr>\n",
       "      <th>4</th>\n",
       "      <td>6</td>\n",
       "      <td>KAaaKWAaKaAK</td>\n",
       "      <td>C16</td>\n",
       "      <td>AMD</td>\n",
       "      <td>NaN</td>\n",
       "      <td>6.25</td>\n",
       "      <td>12</td>\n",
       "    </tr>\n",
       "    <tr>\n",
       "      <th>5</th>\n",
       "      <td>7</td>\n",
       "      <td>KLlK</td>\n",
       "      <td>C16</td>\n",
       "      <td>AMD</td>\n",
       "      <td>NaN</td>\n",
       "      <td>100.00</td>\n",
       "      <td>4</td>\n",
       "    </tr>\n",
       "    <tr>\n",
       "      <th>7</th>\n",
       "      <td>10</td>\n",
       "      <td>kGGGkWGGkGGk</td>\n",
       "      <td>C16</td>\n",
       "      <td>AMD</td>\n",
       "      <td>NaN</td>\n",
       "      <td>25.00</td>\n",
       "      <td>12</td>\n",
       "    </tr>\n",
       "    <tr>\n",
       "      <th>8</th>\n",
       "      <td>13</td>\n",
       "      <td>KLllKWLlKlLK</td>\n",
       "      <td>NaN</td>\n",
       "      <td>AMD</td>\n",
       "      <td>NaN</td>\n",
       "      <td>15.00</td>\n",
       "      <td>12</td>\n",
       "    </tr>\n",
       "    <tr>\n",
       "      <th>10</th>\n",
       "      <td>16</td>\n",
       "      <td>KLALKLALKAWKAALKLA</td>\n",
       "      <td>NaN</td>\n",
       "      <td>AMD</td>\n",
       "      <td>3.9</td>\n",
       "      <td>NaN</td>\n",
       "      <td>18</td>\n",
       "    </tr>\n",
       "    <tr>\n",
       "      <th>...</th>\n",
       "      <td>...</td>\n",
       "      <td>...</td>\n",
       "      <td>...</td>\n",
       "      <td>...</td>\n",
       "      <td>...</td>\n",
       "      <td>...</td>\n",
       "      <td>...</td>\n",
       "    </tr>\n",
       "    <tr>\n",
       "      <th>4717</th>\n",
       "      <td>54</td>\n",
       "      <td>KWKLFKKILLKFLHLAKLF</td>\n",
       "      <td>-</td>\n",
       "      <td>-</td>\n",
       "      <td>12.0</td>\n",
       "      <td>NaN</td>\n",
       "      <td>19</td>\n",
       "    </tr>\n",
       "    <tr>\n",
       "      <th>4718</th>\n",
       "      <td>55</td>\n",
       "      <td>KYYSRVRGGRSAVLSSLDK</td>\n",
       "      <td>-</td>\n",
       "      <td>-</td>\n",
       "      <td>4.0</td>\n",
       "      <td>NaN</td>\n",
       "      <td>19</td>\n",
       "    </tr>\n",
       "    <tr>\n",
       "      <th>4719</th>\n",
       "      <td>56</td>\n",
       "      <td>SSGWVCTLTIECGTVICAC</td>\n",
       "      <td>-</td>\n",
       "      <td>-</td>\n",
       "      <td>200.0</td>\n",
       "      <td>NaN</td>\n",
       "      <td>19</td>\n",
       "    </tr>\n",
       "    <tr>\n",
       "      <th>4720</th>\n",
       "      <td>57</td>\n",
       "      <td>VDKGSYLPRPTSHPRPIRV</td>\n",
       "      <td>-</td>\n",
       "      <td>-</td>\n",
       "      <td>3.0</td>\n",
       "      <td>NaN</td>\n",
       "      <td>19</td>\n",
       "    </tr>\n",
       "    <tr>\n",
       "      <th>4721</th>\n",
       "      <td>58</td>\n",
       "      <td>GLMSVLGHAVGNVLGGLFKS</td>\n",
       "      <td>-</td>\n",
       "      <td>-</td>\n",
       "      <td>25.0</td>\n",
       "      <td>NaN</td>\n",
       "      <td>20</td>\n",
       "    </tr>\n",
       "  </tbody>\n",
       "</table>\n",
       "<p>3026 rows × 7 columns</p>\n",
       "</div>\n",
       "      <button class=\"colab-df-convert\" onclick=\"convertToInteractive('df-5cdd2a25-fb3e-4bd0-9576-2468e98dc7b0')\"\n",
       "              title=\"Convert this dataframe to an interactive table.\"\n",
       "              style=\"display:none;\">\n",
       "        \n",
       "  <svg xmlns=\"http://www.w3.org/2000/svg\" height=\"24px\"viewBox=\"0 0 24 24\"\n",
       "       width=\"24px\">\n",
       "    <path d=\"M0 0h24v24H0V0z\" fill=\"none\"/>\n",
       "    <path d=\"M18.56 5.44l.94 2.06.94-2.06 2.06-.94-2.06-.94-.94-2.06-.94 2.06-2.06.94zm-11 1L8.5 8.5l.94-2.06 2.06-.94-2.06-.94L8.5 2.5l-.94 2.06-2.06.94zm10 10l.94 2.06.94-2.06 2.06-.94-2.06-.94-.94-2.06-.94 2.06-2.06.94z\"/><path d=\"M17.41 7.96l-1.37-1.37c-.4-.4-.92-.59-1.43-.59-.52 0-1.04.2-1.43.59L10.3 9.45l-7.72 7.72c-.78.78-.78 2.05 0 2.83L4 21.41c.39.39.9.59 1.41.59.51 0 1.02-.2 1.41-.59l7.78-7.78 2.81-2.81c.8-.78.8-2.07 0-2.86zM5.41 20L4 18.59l7.72-7.72 1.47 1.35L5.41 20z\"/>\n",
       "  </svg>\n",
       "      </button>\n",
       "      \n",
       "  <style>\n",
       "    .colab-df-container {\n",
       "      display:flex;\n",
       "      flex-wrap:wrap;\n",
       "      gap: 12px;\n",
       "    }\n",
       "\n",
       "    .colab-df-convert {\n",
       "      background-color: #E8F0FE;\n",
       "      border: none;\n",
       "      border-radius: 50%;\n",
       "      cursor: pointer;\n",
       "      display: none;\n",
       "      fill: #1967D2;\n",
       "      height: 32px;\n",
       "      padding: 0 0 0 0;\n",
       "      width: 32px;\n",
       "    }\n",
       "\n",
       "    .colab-df-convert:hover {\n",
       "      background-color: #E2EBFA;\n",
       "      box-shadow: 0px 1px 2px rgba(60, 64, 67, 0.3), 0px 1px 3px 1px rgba(60, 64, 67, 0.15);\n",
       "      fill: #174EA6;\n",
       "    }\n",
       "\n",
       "    [theme=dark] .colab-df-convert {\n",
       "      background-color: #3B4455;\n",
       "      fill: #D2E3FC;\n",
       "    }\n",
       "\n",
       "    [theme=dark] .colab-df-convert:hover {\n",
       "      background-color: #434B5C;\n",
       "      box-shadow: 0px 1px 3px 1px rgba(0, 0, 0, 0.15);\n",
       "      filter: drop-shadow(0px 1px 2px rgba(0, 0, 0, 0.3));\n",
       "      fill: #FFFFFF;\n",
       "    }\n",
       "  </style>\n",
       "\n",
       "      <script>\n",
       "        const buttonEl =\n",
       "          document.querySelector('#df-5cdd2a25-fb3e-4bd0-9576-2468e98dc7b0 button.colab-df-convert');\n",
       "        buttonEl.style.display =\n",
       "          google.colab.kernel.accessAllowed ? 'block' : 'none';\n",
       "\n",
       "        async function convertToInteractive(key) {\n",
       "          const element = document.querySelector('#df-5cdd2a25-fb3e-4bd0-9576-2468e98dc7b0');\n",
       "          const dataTable =\n",
       "            await google.colab.kernel.invokeFunction('convertToInteractive',\n",
       "                                                     [key], {});\n",
       "          if (!dataTable) return;\n",
       "\n",
       "          const docLinkHtml = 'Like what you see? Visit the ' +\n",
       "            '<a target=\"_blank\" href=https://colab.research.google.com/notebooks/data_table.ipynb>data table notebook</a>'\n",
       "            + ' to learn more about interactive tables.';\n",
       "          element.innerHTML = '';\n",
       "          dataTable['output_type'] = 'display_data';\n",
       "          await google.colab.output.renderOutput(dataTable, element);\n",
       "          const docLink = document.createElement('div');\n",
       "          docLink.innerHTML = docLinkHtml;\n",
       "          element.appendChild(docLink);\n",
       "        }\n",
       "      </script>\n",
       "    </div>\n",
       "  </div>\n",
       "  "
      ]
     },
     "metadata": {},
     "execution_count": 57
    }
   ],
   "source": [
    "df = classification_sequences.drop(classification_sequences[classification_sequences['sequence'].str.len() > maxlength].index)\n",
    "df"
   ]
  },
  {
   "cell_type": "code",
   "source": [
    "no_df = df.loc[df['e_coli'].isnull()]\n",
    "no_df"
   ],
   "metadata": {
    "colab": {
     "base_uri": "https://localhost:8080/",
     "height": 419
    },
    "id": "D-L6OMuNa3y9",
    "outputId": "6a2ec46b-7c18-4ebf-dd07-20d6abd8a8e8"
   },
   "execution_count": null,
   "outputs": [
    {
     "output_type": "execute_result",
     "data": {
      "text/plain": [
       "      Unnamed: 0              sequence nTerminus cTerminus  e_coli  \\\n",
       "4              6          KAaaKWAaKaAK       C16       AMD     NaN   \n",
       "5              7                  KLlK       C16       AMD     NaN   \n",
       "7             10          kGGGkWGGkGGk       C16       AMD     NaN   \n",
       "8             13          KLllKWLlKlLK       NaN       AMD     NaN   \n",
       "11            17  GLRKRLRKFRNKIKEKLKKI       NaN       NaN     NaN   \n",
       "...          ...                   ...       ...       ...     ...   \n",
       "4507         265        DLRDSWKVIGSDKK      Free      Free     NaN   \n",
       "4608          24             FFLSRIFGK         -         -     NaN   \n",
       "4614          79          TWLKKRRWKKAK         -         -     NaN   \n",
       "4624         265             IAKVALKAL         -         -     NaN   \n",
       "4659         825       INLKAIAALAKKLLG         -         -     NaN   \n",
       "\n",
       "      e_coli_atcc  seqLength  \n",
       "4            6.25         12  \n",
       "5          100.00          4  \n",
       "7           25.00         12  \n",
       "8           15.00         12  \n",
       "11           4.00         20  \n",
       "...           ...        ...  \n",
       "4507        45.54         14  \n",
       "4608        25.00          9  \n",
       "4614        64.00         12  \n",
       "4624        23.60          9  \n",
       "4659         6.00         15  \n",
       "\n",
       "[2173 rows x 7 columns]"
      ],
      "text/html": [
       "\n",
       "  <div id=\"df-5c857cb0-38e0-49ad-935f-c1c33ff0ed66\">\n",
       "    <div class=\"colab-df-container\">\n",
       "      <div>\n",
       "<style scoped>\n",
       "    .dataframe tbody tr th:only-of-type {\n",
       "        vertical-align: middle;\n",
       "    }\n",
       "\n",
       "    .dataframe tbody tr th {\n",
       "        vertical-align: top;\n",
       "    }\n",
       "\n",
       "    .dataframe thead th {\n",
       "        text-align: right;\n",
       "    }\n",
       "</style>\n",
       "<table border=\"1\" class=\"dataframe\">\n",
       "  <thead>\n",
       "    <tr style=\"text-align: right;\">\n",
       "      <th></th>\n",
       "      <th>Unnamed: 0</th>\n",
       "      <th>sequence</th>\n",
       "      <th>nTerminus</th>\n",
       "      <th>cTerminus</th>\n",
       "      <th>e_coli</th>\n",
       "      <th>e_coli_atcc</th>\n",
       "      <th>seqLength</th>\n",
       "    </tr>\n",
       "  </thead>\n",
       "  <tbody>\n",
       "    <tr>\n",
       "      <th>4</th>\n",
       "      <td>6</td>\n",
       "      <td>KAaaKWAaKaAK</td>\n",
       "      <td>C16</td>\n",
       "      <td>AMD</td>\n",
       "      <td>NaN</td>\n",
       "      <td>6.25</td>\n",
       "      <td>12</td>\n",
       "    </tr>\n",
       "    <tr>\n",
       "      <th>5</th>\n",
       "      <td>7</td>\n",
       "      <td>KLlK</td>\n",
       "      <td>C16</td>\n",
       "      <td>AMD</td>\n",
       "      <td>NaN</td>\n",
       "      <td>100.00</td>\n",
       "      <td>4</td>\n",
       "    </tr>\n",
       "    <tr>\n",
       "      <th>7</th>\n",
       "      <td>10</td>\n",
       "      <td>kGGGkWGGkGGk</td>\n",
       "      <td>C16</td>\n",
       "      <td>AMD</td>\n",
       "      <td>NaN</td>\n",
       "      <td>25.00</td>\n",
       "      <td>12</td>\n",
       "    </tr>\n",
       "    <tr>\n",
       "      <th>8</th>\n",
       "      <td>13</td>\n",
       "      <td>KLllKWLlKlLK</td>\n",
       "      <td>NaN</td>\n",
       "      <td>AMD</td>\n",
       "      <td>NaN</td>\n",
       "      <td>15.00</td>\n",
       "      <td>12</td>\n",
       "    </tr>\n",
       "    <tr>\n",
       "      <th>11</th>\n",
       "      <td>17</td>\n",
       "      <td>GLRKRLRKFRNKIKEKLKKI</td>\n",
       "      <td>NaN</td>\n",
       "      <td>NaN</td>\n",
       "      <td>NaN</td>\n",
       "      <td>4.00</td>\n",
       "      <td>20</td>\n",
       "    </tr>\n",
       "    <tr>\n",
       "      <th>...</th>\n",
       "      <td>...</td>\n",
       "      <td>...</td>\n",
       "      <td>...</td>\n",
       "      <td>...</td>\n",
       "      <td>...</td>\n",
       "      <td>...</td>\n",
       "      <td>...</td>\n",
       "    </tr>\n",
       "    <tr>\n",
       "      <th>4507</th>\n",
       "      <td>265</td>\n",
       "      <td>DLRDSWKVIGSDKK</td>\n",
       "      <td>Free</td>\n",
       "      <td>Free</td>\n",
       "      <td>NaN</td>\n",
       "      <td>45.54</td>\n",
       "      <td>14</td>\n",
       "    </tr>\n",
       "    <tr>\n",
       "      <th>4608</th>\n",
       "      <td>24</td>\n",
       "      <td>FFLSRIFGK</td>\n",
       "      <td>-</td>\n",
       "      <td>-</td>\n",
       "      <td>NaN</td>\n",
       "      <td>25.00</td>\n",
       "      <td>9</td>\n",
       "    </tr>\n",
       "    <tr>\n",
       "      <th>4614</th>\n",
       "      <td>79</td>\n",
       "      <td>TWLKKRRWKKAK</td>\n",
       "      <td>-</td>\n",
       "      <td>-</td>\n",
       "      <td>NaN</td>\n",
       "      <td>64.00</td>\n",
       "      <td>12</td>\n",
       "    </tr>\n",
       "    <tr>\n",
       "      <th>4624</th>\n",
       "      <td>265</td>\n",
       "      <td>IAKVALKAL</td>\n",
       "      <td>-</td>\n",
       "      <td>-</td>\n",
       "      <td>NaN</td>\n",
       "      <td>23.60</td>\n",
       "      <td>9</td>\n",
       "    </tr>\n",
       "    <tr>\n",
       "      <th>4659</th>\n",
       "      <td>825</td>\n",
       "      <td>INLKAIAALAKKLLG</td>\n",
       "      <td>-</td>\n",
       "      <td>-</td>\n",
       "      <td>NaN</td>\n",
       "      <td>6.00</td>\n",
       "      <td>15</td>\n",
       "    </tr>\n",
       "  </tbody>\n",
       "</table>\n",
       "<p>2173 rows × 7 columns</p>\n",
       "</div>\n",
       "      <button class=\"colab-df-convert\" onclick=\"convertToInteractive('df-5c857cb0-38e0-49ad-935f-c1c33ff0ed66')\"\n",
       "              title=\"Convert this dataframe to an interactive table.\"\n",
       "              style=\"display:none;\">\n",
       "        \n",
       "  <svg xmlns=\"http://www.w3.org/2000/svg\" height=\"24px\"viewBox=\"0 0 24 24\"\n",
       "       width=\"24px\">\n",
       "    <path d=\"M0 0h24v24H0V0z\" fill=\"none\"/>\n",
       "    <path d=\"M18.56 5.44l.94 2.06.94-2.06 2.06-.94-2.06-.94-.94-2.06-.94 2.06-2.06.94zm-11 1L8.5 8.5l.94-2.06 2.06-.94-2.06-.94L8.5 2.5l-.94 2.06-2.06.94zm10 10l.94 2.06.94-2.06 2.06-.94-2.06-.94-.94-2.06-.94 2.06-2.06.94z\"/><path d=\"M17.41 7.96l-1.37-1.37c-.4-.4-.92-.59-1.43-.59-.52 0-1.04.2-1.43.59L10.3 9.45l-7.72 7.72c-.78.78-.78 2.05 0 2.83L4 21.41c.39.39.9.59 1.41.59.51 0 1.02-.2 1.41-.59l7.78-7.78 2.81-2.81c.8-.78.8-2.07 0-2.86zM5.41 20L4 18.59l7.72-7.72 1.47 1.35L5.41 20z\"/>\n",
       "  </svg>\n",
       "      </button>\n",
       "      \n",
       "  <style>\n",
       "    .colab-df-container {\n",
       "      display:flex;\n",
       "      flex-wrap:wrap;\n",
       "      gap: 12px;\n",
       "    }\n",
       "\n",
       "    .colab-df-convert {\n",
       "      background-color: #E8F0FE;\n",
       "      border: none;\n",
       "      border-radius: 50%;\n",
       "      cursor: pointer;\n",
       "      display: none;\n",
       "      fill: #1967D2;\n",
       "      height: 32px;\n",
       "      padding: 0 0 0 0;\n",
       "      width: 32px;\n",
       "    }\n",
       "\n",
       "    .colab-df-convert:hover {\n",
       "      background-color: #E2EBFA;\n",
       "      box-shadow: 0px 1px 2px rgba(60, 64, 67, 0.3), 0px 1px 3px 1px rgba(60, 64, 67, 0.15);\n",
       "      fill: #174EA6;\n",
       "    }\n",
       "\n",
       "    [theme=dark] .colab-df-convert {\n",
       "      background-color: #3B4455;\n",
       "      fill: #D2E3FC;\n",
       "    }\n",
       "\n",
       "    [theme=dark] .colab-df-convert:hover {\n",
       "      background-color: #434B5C;\n",
       "      box-shadow: 0px 1px 3px 1px rgba(0, 0, 0, 0.15);\n",
       "      filter: drop-shadow(0px 1px 2px rgba(0, 0, 0, 0.3));\n",
       "      fill: #FFFFFF;\n",
       "    }\n",
       "  </style>\n",
       "\n",
       "      <script>\n",
       "        const buttonEl =\n",
       "          document.querySelector('#df-5c857cb0-38e0-49ad-935f-c1c33ff0ed66 button.colab-df-convert');\n",
       "        buttonEl.style.display =\n",
       "          google.colab.kernel.accessAllowed ? 'block' : 'none';\n",
       "\n",
       "        async function convertToInteractive(key) {\n",
       "          const element = document.querySelector('#df-5c857cb0-38e0-49ad-935f-c1c33ff0ed66');\n",
       "          const dataTable =\n",
       "            await google.colab.kernel.invokeFunction('convertToInteractive',\n",
       "                                                     [key], {});\n",
       "          if (!dataTable) return;\n",
       "\n",
       "          const docLinkHtml = 'Like what you see? Visit the ' +\n",
       "            '<a target=\"_blank\" href=https://colab.research.google.com/notebooks/data_table.ipynb>data table notebook</a>'\n",
       "            + ' to learn more about interactive tables.';\n",
       "          element.innerHTML = '';\n",
       "          dataTable['output_type'] = 'display_data';\n",
       "          await google.colab.output.renderOutput(dataTable, element);\n",
       "          const docLink = document.createElement('div');\n",
       "          docLink.innerHTML = docLinkHtml;\n",
       "          element.appendChild(docLink);\n",
       "        }\n",
       "      </script>\n",
       "    </div>\n",
       "  </div>\n",
       "  "
      ]
     },
     "metadata": {},
     "execution_count": 58
    }
   ]
  },
  {
   "cell_type": "code",
   "source": [
    "df.dropna(subset=['e_coli'], inplace= True)\n",
    "df"
   ],
   "metadata": {
    "colab": {
     "base_uri": "https://localhost:8080/",
     "height": 419
    },
    "id": "Tp0C-Ffb1awE",
    "outputId": "54187e40-715d-40f3-d4d7-52f0365a1ff7"
   },
   "execution_count": null,
   "outputs": [
    {
     "output_type": "execute_result",
     "data": {
      "text/plain": [
       "      Unnamed: 0              sequence nTerminus cTerminus      e_coli  \\\n",
       "10            16    KLALKLALKAWKAALKLA       NaN       AMD    3.900000   \n",
       "12            18      ALWKTLLKKVLKAAAK       NaN       AMD    2.526436   \n",
       "13            19         ALWKTLLKKVLKA       NaN       AMD    5.956335   \n",
       "14            20    KLALKAALKAWKAAAKLA       NaN       AMD    8.250000   \n",
       "15            21    KLALKAAAKAWKAAAKAA       NaN       AMD   91.000000   \n",
       "...          ...                   ...       ...       ...         ...   \n",
       "4717          54   KWKLFKKILLKFLHLAKLF         -         -   12.000000   \n",
       "4718          55   KYYSRVRGGRSAVLSSLDK         -         -    4.000000   \n",
       "4719          56   SSGWVCTLTIECGTVICAC         -         -  200.000000   \n",
       "4720          57   VDKGSYLPRPTSHPRPIRV         -         -    3.000000   \n",
       "4721          58  GLMSVLGHAVGNVLGGLFKS         -         -   25.000000   \n",
       "\n",
       "      e_coli_atcc  seqLength  \n",
       "10            NaN         18  \n",
       "12            NaN         16  \n",
       "13            NaN         13  \n",
       "14            NaN         18  \n",
       "15            NaN         18  \n",
       "...           ...        ...  \n",
       "4717          NaN         19  \n",
       "4718          NaN         19  \n",
       "4719          NaN         19  \n",
       "4720          NaN         19  \n",
       "4721          NaN         20  \n",
       "\n",
       "[853 rows x 7 columns]"
      ],
      "text/html": [
       "\n",
       "  <div id=\"df-0a27320d-e8fd-4248-8d95-af2f1fedf5f2\">\n",
       "    <div class=\"colab-df-container\">\n",
       "      <div>\n",
       "<style scoped>\n",
       "    .dataframe tbody tr th:only-of-type {\n",
       "        vertical-align: middle;\n",
       "    }\n",
       "\n",
       "    .dataframe tbody tr th {\n",
       "        vertical-align: top;\n",
       "    }\n",
       "\n",
       "    .dataframe thead th {\n",
       "        text-align: right;\n",
       "    }\n",
       "</style>\n",
       "<table border=\"1\" class=\"dataframe\">\n",
       "  <thead>\n",
       "    <tr style=\"text-align: right;\">\n",
       "      <th></th>\n",
       "      <th>Unnamed: 0</th>\n",
       "      <th>sequence</th>\n",
       "      <th>nTerminus</th>\n",
       "      <th>cTerminus</th>\n",
       "      <th>e_coli</th>\n",
       "      <th>e_coli_atcc</th>\n",
       "      <th>seqLength</th>\n",
       "    </tr>\n",
       "  </thead>\n",
       "  <tbody>\n",
       "    <tr>\n",
       "      <th>10</th>\n",
       "      <td>16</td>\n",
       "      <td>KLALKLALKAWKAALKLA</td>\n",
       "      <td>NaN</td>\n",
       "      <td>AMD</td>\n",
       "      <td>3.900000</td>\n",
       "      <td>NaN</td>\n",
       "      <td>18</td>\n",
       "    </tr>\n",
       "    <tr>\n",
       "      <th>12</th>\n",
       "      <td>18</td>\n",
       "      <td>ALWKTLLKKVLKAAAK</td>\n",
       "      <td>NaN</td>\n",
       "      <td>AMD</td>\n",
       "      <td>2.526436</td>\n",
       "      <td>NaN</td>\n",
       "      <td>16</td>\n",
       "    </tr>\n",
       "    <tr>\n",
       "      <th>13</th>\n",
       "      <td>19</td>\n",
       "      <td>ALWKTLLKKVLKA</td>\n",
       "      <td>NaN</td>\n",
       "      <td>AMD</td>\n",
       "      <td>5.956335</td>\n",
       "      <td>NaN</td>\n",
       "      <td>13</td>\n",
       "    </tr>\n",
       "    <tr>\n",
       "      <th>14</th>\n",
       "      <td>20</td>\n",
       "      <td>KLALKAALKAWKAAAKLA</td>\n",
       "      <td>NaN</td>\n",
       "      <td>AMD</td>\n",
       "      <td>8.250000</td>\n",
       "      <td>NaN</td>\n",
       "      <td>18</td>\n",
       "    </tr>\n",
       "    <tr>\n",
       "      <th>15</th>\n",
       "      <td>21</td>\n",
       "      <td>KLALKAAAKAWKAAAKAA</td>\n",
       "      <td>NaN</td>\n",
       "      <td>AMD</td>\n",
       "      <td>91.000000</td>\n",
       "      <td>NaN</td>\n",
       "      <td>18</td>\n",
       "    </tr>\n",
       "    <tr>\n",
       "      <th>...</th>\n",
       "      <td>...</td>\n",
       "      <td>...</td>\n",
       "      <td>...</td>\n",
       "      <td>...</td>\n",
       "      <td>...</td>\n",
       "      <td>...</td>\n",
       "      <td>...</td>\n",
       "    </tr>\n",
       "    <tr>\n",
       "      <th>4717</th>\n",
       "      <td>54</td>\n",
       "      <td>KWKLFKKILLKFLHLAKLF</td>\n",
       "      <td>-</td>\n",
       "      <td>-</td>\n",
       "      <td>12.000000</td>\n",
       "      <td>NaN</td>\n",
       "      <td>19</td>\n",
       "    </tr>\n",
       "    <tr>\n",
       "      <th>4718</th>\n",
       "      <td>55</td>\n",
       "      <td>KYYSRVRGGRSAVLSSLDK</td>\n",
       "      <td>-</td>\n",
       "      <td>-</td>\n",
       "      <td>4.000000</td>\n",
       "      <td>NaN</td>\n",
       "      <td>19</td>\n",
       "    </tr>\n",
       "    <tr>\n",
       "      <th>4719</th>\n",
       "      <td>56</td>\n",
       "      <td>SSGWVCTLTIECGTVICAC</td>\n",
       "      <td>-</td>\n",
       "      <td>-</td>\n",
       "      <td>200.000000</td>\n",
       "      <td>NaN</td>\n",
       "      <td>19</td>\n",
       "    </tr>\n",
       "    <tr>\n",
       "      <th>4720</th>\n",
       "      <td>57</td>\n",
       "      <td>VDKGSYLPRPTSHPRPIRV</td>\n",
       "      <td>-</td>\n",
       "      <td>-</td>\n",
       "      <td>3.000000</td>\n",
       "      <td>NaN</td>\n",
       "      <td>19</td>\n",
       "    </tr>\n",
       "    <tr>\n",
       "      <th>4721</th>\n",
       "      <td>58</td>\n",
       "      <td>GLMSVLGHAVGNVLGGLFKS</td>\n",
       "      <td>-</td>\n",
       "      <td>-</td>\n",
       "      <td>25.000000</td>\n",
       "      <td>NaN</td>\n",
       "      <td>20</td>\n",
       "    </tr>\n",
       "  </tbody>\n",
       "</table>\n",
       "<p>853 rows × 7 columns</p>\n",
       "</div>\n",
       "      <button class=\"colab-df-convert\" onclick=\"convertToInteractive('df-0a27320d-e8fd-4248-8d95-af2f1fedf5f2')\"\n",
       "              title=\"Convert this dataframe to an interactive table.\"\n",
       "              style=\"display:none;\">\n",
       "        \n",
       "  <svg xmlns=\"http://www.w3.org/2000/svg\" height=\"24px\"viewBox=\"0 0 24 24\"\n",
       "       width=\"24px\">\n",
       "    <path d=\"M0 0h24v24H0V0z\" fill=\"none\"/>\n",
       "    <path d=\"M18.56 5.44l.94 2.06.94-2.06 2.06-.94-2.06-.94-.94-2.06-.94 2.06-2.06.94zm-11 1L8.5 8.5l.94-2.06 2.06-.94-2.06-.94L8.5 2.5l-.94 2.06-2.06.94zm10 10l.94 2.06.94-2.06 2.06-.94-2.06-.94-.94-2.06-.94 2.06-2.06.94z\"/><path d=\"M17.41 7.96l-1.37-1.37c-.4-.4-.92-.59-1.43-.59-.52 0-1.04.2-1.43.59L10.3 9.45l-7.72 7.72c-.78.78-.78 2.05 0 2.83L4 21.41c.39.39.9.59 1.41.59.51 0 1.02-.2 1.41-.59l7.78-7.78 2.81-2.81c.8-.78.8-2.07 0-2.86zM5.41 20L4 18.59l7.72-7.72 1.47 1.35L5.41 20z\"/>\n",
       "  </svg>\n",
       "      </button>\n",
       "      \n",
       "  <style>\n",
       "    .colab-df-container {\n",
       "      display:flex;\n",
       "      flex-wrap:wrap;\n",
       "      gap: 12px;\n",
       "    }\n",
       "\n",
       "    .colab-df-convert {\n",
       "      background-color: #E8F0FE;\n",
       "      border: none;\n",
       "      border-radius: 50%;\n",
       "      cursor: pointer;\n",
       "      display: none;\n",
       "      fill: #1967D2;\n",
       "      height: 32px;\n",
       "      padding: 0 0 0 0;\n",
       "      width: 32px;\n",
       "    }\n",
       "\n",
       "    .colab-df-convert:hover {\n",
       "      background-color: #E2EBFA;\n",
       "      box-shadow: 0px 1px 2px rgba(60, 64, 67, 0.3), 0px 1px 3px 1px rgba(60, 64, 67, 0.15);\n",
       "      fill: #174EA6;\n",
       "    }\n",
       "\n",
       "    [theme=dark] .colab-df-convert {\n",
       "      background-color: #3B4455;\n",
       "      fill: #D2E3FC;\n",
       "    }\n",
       "\n",
       "    [theme=dark] .colab-df-convert:hover {\n",
       "      background-color: #434B5C;\n",
       "      box-shadow: 0px 1px 3px 1px rgba(0, 0, 0, 0.15);\n",
       "      filter: drop-shadow(0px 1px 2px rgba(0, 0, 0, 0.3));\n",
       "      fill: #FFFFFF;\n",
       "    }\n",
       "  </style>\n",
       "\n",
       "      <script>\n",
       "        const buttonEl =\n",
       "          document.querySelector('#df-0a27320d-e8fd-4248-8d95-af2f1fedf5f2 button.colab-df-convert');\n",
       "        buttonEl.style.display =\n",
       "          google.colab.kernel.accessAllowed ? 'block' : 'none';\n",
       "\n",
       "        async function convertToInteractive(key) {\n",
       "          const element = document.querySelector('#df-0a27320d-e8fd-4248-8d95-af2f1fedf5f2');\n",
       "          const dataTable =\n",
       "            await google.colab.kernel.invokeFunction('convertToInteractive',\n",
       "                                                     [key], {});\n",
       "          if (!dataTable) return;\n",
       "\n",
       "          const docLinkHtml = 'Like what you see? Visit the ' +\n",
       "            '<a target=\"_blank\" href=https://colab.research.google.com/notebooks/data_table.ipynb>data table notebook</a>'\n",
       "            + ' to learn more about interactive tables.';\n",
       "          element.innerHTML = '';\n",
       "          dataTable['output_type'] = 'display_data';\n",
       "          await google.colab.output.renderOutput(dataTable, element);\n",
       "          const docLink = document.createElement('div');\n",
       "          docLink.innerHTML = docLinkHtml;\n",
       "          element.appendChild(docLink);\n",
       "        }\n",
       "      </script>\n",
       "    </div>\n",
       "  </div>\n",
       "  "
      ]
     },
     "metadata": {},
     "execution_count": 59
    }
   ]
  },
  {
   "cell_type": "code",
   "source": [
    "df[\"e_coli\"].describe()"
   ],
   "metadata": {
    "colab": {
     "base_uri": "https://localhost:8080/"
    },
    "id": "YWx-Rn3tT6Ey",
    "outputId": "45d38a0c-68a9-4278-ae8a-c4cf73fdf19c"
   },
   "execution_count": null,
   "outputs": [
    {
     "output_type": "execute_result",
     "data": {
      "text/plain": [
       "count     853.000000\n",
       "mean       69.955223\n",
       "std       367.123812\n",
       "min         0.052906\n",
       "25%         3.750000\n",
       "50%        10.666484\n",
       "75%        47.000000\n",
       "max      7572.133113\n",
       "Name: e_coli, dtype: float64"
      ]
     },
     "metadata": {},
     "execution_count": 60
    }
   ]
  },
  {
   "cell_type": "code",
   "execution_count": null,
   "metadata": {
    "colab": {
     "base_uri": "https://localhost:8080/",
     "height": 419
    },
    "id": "EqGId14pMMK1",
    "outputId": "d0965c85-f692-416a-dbb5-3ba0bde31844"
   },
   "outputs": [
    {
     "output_type": "execute_result",
     "data": {
      "text/plain": [
       "      Unnamed: 0              sequence nTerminus cTerminus     e_coli  \\\n",
       "10            16    KLALKLALKAWKAALKLA       NaN       AMD   3.900000   \n",
       "12            18      ALWKTLLKKVLKAAAK       NaN       AMD   2.526436   \n",
       "13            19         ALWKTLLKKVLKA       NaN       AMD   5.956335   \n",
       "14            20    KLALKAALKAWKAAAKLA       NaN       AMD   8.250000   \n",
       "16            22    KAIAKSILKWIKSIAKAI       NaN       AMD   5.600000   \n",
       "...          ...                   ...       ...       ...        ...   \n",
       "4716          53   GWMSKIASGIGTFLSGIQQ         -         -  10.000000   \n",
       "4717          54   KWKLFKKILLKFLHLAKLF         -         -  12.000000   \n",
       "4718          55   KYYSRVRGGRSAVLSSLDK         -         -   4.000000   \n",
       "4720          57   VDKGSYLPRPTSHPRPIRV         -         -   3.000000   \n",
       "4721          58  GLMSVLGHAVGNVLGGLFKS         -         -  25.000000   \n",
       "\n",
       "      e_coli_atcc  seqLength  \n",
       "10            NaN         18  \n",
       "12            NaN         16  \n",
       "13            NaN         13  \n",
       "14            NaN         18  \n",
       "16            NaN         18  \n",
       "...           ...        ...  \n",
       "4716          NaN         19  \n",
       "4717          NaN         19  \n",
       "4718          NaN         19  \n",
       "4720          NaN         19  \n",
       "4721          NaN         20  \n",
       "\n",
       "[623 rows x 7 columns]"
      ],
      "text/html": [
       "\n",
       "  <div id=\"df-6b3b4322-a299-42fc-8f49-5a52ae848f9f\">\n",
       "    <div class=\"colab-df-container\">\n",
       "      <div>\n",
       "<style scoped>\n",
       "    .dataframe tbody tr th:only-of-type {\n",
       "        vertical-align: middle;\n",
       "    }\n",
       "\n",
       "    .dataframe tbody tr th {\n",
       "        vertical-align: top;\n",
       "    }\n",
       "\n",
       "    .dataframe thead th {\n",
       "        text-align: right;\n",
       "    }\n",
       "</style>\n",
       "<table border=\"1\" class=\"dataframe\">\n",
       "  <thead>\n",
       "    <tr style=\"text-align: right;\">\n",
       "      <th></th>\n",
       "      <th>Unnamed: 0</th>\n",
       "      <th>sequence</th>\n",
       "      <th>nTerminus</th>\n",
       "      <th>cTerminus</th>\n",
       "      <th>e_coli</th>\n",
       "      <th>e_coli_atcc</th>\n",
       "      <th>seqLength</th>\n",
       "    </tr>\n",
       "  </thead>\n",
       "  <tbody>\n",
       "    <tr>\n",
       "      <th>10</th>\n",
       "      <td>16</td>\n",
       "      <td>KLALKLALKAWKAALKLA</td>\n",
       "      <td>NaN</td>\n",
       "      <td>AMD</td>\n",
       "      <td>3.900000</td>\n",
       "      <td>NaN</td>\n",
       "      <td>18</td>\n",
       "    </tr>\n",
       "    <tr>\n",
       "      <th>12</th>\n",
       "      <td>18</td>\n",
       "      <td>ALWKTLLKKVLKAAAK</td>\n",
       "      <td>NaN</td>\n",
       "      <td>AMD</td>\n",
       "      <td>2.526436</td>\n",
       "      <td>NaN</td>\n",
       "      <td>16</td>\n",
       "    </tr>\n",
       "    <tr>\n",
       "      <th>13</th>\n",
       "      <td>19</td>\n",
       "      <td>ALWKTLLKKVLKA</td>\n",
       "      <td>NaN</td>\n",
       "      <td>AMD</td>\n",
       "      <td>5.956335</td>\n",
       "      <td>NaN</td>\n",
       "      <td>13</td>\n",
       "    </tr>\n",
       "    <tr>\n",
       "      <th>14</th>\n",
       "      <td>20</td>\n",
       "      <td>KLALKAALKAWKAAAKLA</td>\n",
       "      <td>NaN</td>\n",
       "      <td>AMD</td>\n",
       "      <td>8.250000</td>\n",
       "      <td>NaN</td>\n",
       "      <td>18</td>\n",
       "    </tr>\n",
       "    <tr>\n",
       "      <th>16</th>\n",
       "      <td>22</td>\n",
       "      <td>KAIAKSILKWIKSIAKAI</td>\n",
       "      <td>NaN</td>\n",
       "      <td>AMD</td>\n",
       "      <td>5.600000</td>\n",
       "      <td>NaN</td>\n",
       "      <td>18</td>\n",
       "    </tr>\n",
       "    <tr>\n",
       "      <th>...</th>\n",
       "      <td>...</td>\n",
       "      <td>...</td>\n",
       "      <td>...</td>\n",
       "      <td>...</td>\n",
       "      <td>...</td>\n",
       "      <td>...</td>\n",
       "      <td>...</td>\n",
       "    </tr>\n",
       "    <tr>\n",
       "      <th>4716</th>\n",
       "      <td>53</td>\n",
       "      <td>GWMSKIASGIGTFLSGIQQ</td>\n",
       "      <td>-</td>\n",
       "      <td>-</td>\n",
       "      <td>10.000000</td>\n",
       "      <td>NaN</td>\n",
       "      <td>19</td>\n",
       "    </tr>\n",
       "    <tr>\n",
       "      <th>4717</th>\n",
       "      <td>54</td>\n",
       "      <td>KWKLFKKILLKFLHLAKLF</td>\n",
       "      <td>-</td>\n",
       "      <td>-</td>\n",
       "      <td>12.000000</td>\n",
       "      <td>NaN</td>\n",
       "      <td>19</td>\n",
       "    </tr>\n",
       "    <tr>\n",
       "      <th>4718</th>\n",
       "      <td>55</td>\n",
       "      <td>KYYSRVRGGRSAVLSSLDK</td>\n",
       "      <td>-</td>\n",
       "      <td>-</td>\n",
       "      <td>4.000000</td>\n",
       "      <td>NaN</td>\n",
       "      <td>19</td>\n",
       "    </tr>\n",
       "    <tr>\n",
       "      <th>4720</th>\n",
       "      <td>57</td>\n",
       "      <td>VDKGSYLPRPTSHPRPIRV</td>\n",
       "      <td>-</td>\n",
       "      <td>-</td>\n",
       "      <td>3.000000</td>\n",
       "      <td>NaN</td>\n",
       "      <td>19</td>\n",
       "    </tr>\n",
       "    <tr>\n",
       "      <th>4721</th>\n",
       "      <td>58</td>\n",
       "      <td>GLMSVLGHAVGNVLGGLFKS</td>\n",
       "      <td>-</td>\n",
       "      <td>-</td>\n",
       "      <td>25.000000</td>\n",
       "      <td>NaN</td>\n",
       "      <td>20</td>\n",
       "    </tr>\n",
       "  </tbody>\n",
       "</table>\n",
       "<p>623 rows × 7 columns</p>\n",
       "</div>\n",
       "      <button class=\"colab-df-convert\" onclick=\"convertToInteractive('df-6b3b4322-a299-42fc-8f49-5a52ae848f9f')\"\n",
       "              title=\"Convert this dataframe to an interactive table.\"\n",
       "              style=\"display:none;\">\n",
       "        \n",
       "  <svg xmlns=\"http://www.w3.org/2000/svg\" height=\"24px\"viewBox=\"0 0 24 24\"\n",
       "       width=\"24px\">\n",
       "    <path d=\"M0 0h24v24H0V0z\" fill=\"none\"/>\n",
       "    <path d=\"M18.56 5.44l.94 2.06.94-2.06 2.06-.94-2.06-.94-.94-2.06-.94 2.06-2.06.94zm-11 1L8.5 8.5l.94-2.06 2.06-.94-2.06-.94L8.5 2.5l-.94 2.06-2.06.94zm10 10l.94 2.06.94-2.06 2.06-.94-2.06-.94-.94-2.06-.94 2.06-2.06.94z\"/><path d=\"M17.41 7.96l-1.37-1.37c-.4-.4-.92-.59-1.43-.59-.52 0-1.04.2-1.43.59L10.3 9.45l-7.72 7.72c-.78.78-.78 2.05 0 2.83L4 21.41c.39.39.9.59 1.41.59.51 0 1.02-.2 1.41-.59l7.78-7.78 2.81-2.81c.8-.78.8-2.07 0-2.86zM5.41 20L4 18.59l7.72-7.72 1.47 1.35L5.41 20z\"/>\n",
       "  </svg>\n",
       "      </button>\n",
       "      \n",
       "  <style>\n",
       "    .colab-df-container {\n",
       "      display:flex;\n",
       "      flex-wrap:wrap;\n",
       "      gap: 12px;\n",
       "    }\n",
       "\n",
       "    .colab-df-convert {\n",
       "      background-color: #E8F0FE;\n",
       "      border: none;\n",
       "      border-radius: 50%;\n",
       "      cursor: pointer;\n",
       "      display: none;\n",
       "      fill: #1967D2;\n",
       "      height: 32px;\n",
       "      padding: 0 0 0 0;\n",
       "      width: 32px;\n",
       "    }\n",
       "\n",
       "    .colab-df-convert:hover {\n",
       "      background-color: #E2EBFA;\n",
       "      box-shadow: 0px 1px 2px rgba(60, 64, 67, 0.3), 0px 1px 3px 1px rgba(60, 64, 67, 0.15);\n",
       "      fill: #174EA6;\n",
       "    }\n",
       "\n",
       "    [theme=dark] .colab-df-convert {\n",
       "      background-color: #3B4455;\n",
       "      fill: #D2E3FC;\n",
       "    }\n",
       "\n",
       "    [theme=dark] .colab-df-convert:hover {\n",
       "      background-color: #434B5C;\n",
       "      box-shadow: 0px 1px 3px 1px rgba(0, 0, 0, 0.15);\n",
       "      filter: drop-shadow(0px 1px 2px rgba(0, 0, 0, 0.3));\n",
       "      fill: #FFFFFF;\n",
       "    }\n",
       "  </style>\n",
       "\n",
       "      <script>\n",
       "        const buttonEl =\n",
       "          document.querySelector('#df-6b3b4322-a299-42fc-8f49-5a52ae848f9f button.colab-df-convert');\n",
       "        buttonEl.style.display =\n",
       "          google.colab.kernel.accessAllowed ? 'block' : 'none';\n",
       "\n",
       "        async function convertToInteractive(key) {\n",
       "          const element = document.querySelector('#df-6b3b4322-a299-42fc-8f49-5a52ae848f9f');\n",
       "          const dataTable =\n",
       "            await google.colab.kernel.invokeFunction('convertToInteractive',\n",
       "                                                     [key], {});\n",
       "          if (!dataTable) return;\n",
       "\n",
       "          const docLinkHtml = 'Like what you see? Visit the ' +\n",
       "            '<a target=\"_blank\" href=https://colab.research.google.com/notebooks/data_table.ipynb>data table notebook</a>'\n",
       "            + ' to learn more about interactive tables.';\n",
       "          element.innerHTML = '';\n",
       "          dataTable['output_type'] = 'display_data';\n",
       "          await google.colab.output.renderOutput(dataTable, element);\n",
       "          const docLink = document.createElement('div');\n",
       "          docLink.innerHTML = docLinkHtml;\n",
       "          element.appendChild(docLink);\n",
       "        }\n",
       "      </script>\n",
       "    </div>\n",
       "  </div>\n",
       "  "
      ]
     },
     "metadata": {},
     "execution_count": 61
    }
   ],
   "source": [
    "df = df.loc[((df.e_coli > 0) & (df.e_coli < MIC_cutoff) )]\n",
    "df"
   ]
  },
  {
   "cell_type": "code",
   "execution_count": null,
   "metadata": {
    "colab": {
     "base_uri": "https://localhost:8080/",
     "height": 419
    },
    "id": "JjQFJXsfw-7G",
    "outputId": "595a8de2-06f4-4719-d0fd-bc55dcc04f13"
   },
   "outputs": [
    {
     "output_type": "execute_result",
     "data": {
      "text/plain": [
       "      Unnamed: 0              sequence  nTerminus  cTerminus  e_coli  \\\n",
       "0         900001                   GEP        NaN        NaN  1000.0   \n",
       "1         900002                  MGHP        NaN        NaN  1000.0   \n",
       "2         900003                  GTGG        NaN        NaN  1000.0   \n",
       "3         900004                  SVTP        NaN        NaN  1000.0   \n",
       "4         900005                 MFSPQ        NaN        NaN  1000.0   \n",
       "...          ...                   ...        ...        ...     ...   \n",
       "1114      901115  EKFKRSDKSTIKKRYMHLTE        NaN        NaN  1000.0   \n",
       "1115      901116  ERNAHNFPLDLASIEAPTNG        NaN        NaN  1000.0   \n",
       "1116      901117  VAVFSSWARQVLETQKEPDD        NaN        NaN  1000.0   \n",
       "1117      901118  MKRILLLISFLFAPIFAGPA        NaN        NaN  1000.0   \n",
       "1118      901119  AETVTMGDMLPYGFRGDILK        NaN        NaN  1000.0   \n",
       "\n",
       "      pseudomonas  \n",
       "0            1000  \n",
       "1            1000  \n",
       "2            1000  \n",
       "3            1000  \n",
       "4            1000  \n",
       "...           ...  \n",
       "1114         1000  \n",
       "1115         1000  \n",
       "1116         1000  \n",
       "1117         1000  \n",
       "1118         1000  \n",
       "\n",
       "[1119 rows x 6 columns]"
      ],
      "text/html": [
       "\n",
       "  <div id=\"df-f367b7e3-89a0-4c5e-9ca5-96b9dc90f78c\">\n",
       "    <div class=\"colab-df-container\">\n",
       "      <div>\n",
       "<style scoped>\n",
       "    .dataframe tbody tr th:only-of-type {\n",
       "        vertical-align: middle;\n",
       "    }\n",
       "\n",
       "    .dataframe tbody tr th {\n",
       "        vertical-align: top;\n",
       "    }\n",
       "\n",
       "    .dataframe thead th {\n",
       "        text-align: right;\n",
       "    }\n",
       "</style>\n",
       "<table border=\"1\" class=\"dataframe\">\n",
       "  <thead>\n",
       "    <tr style=\"text-align: right;\">\n",
       "      <th></th>\n",
       "      <th>Unnamed: 0</th>\n",
       "      <th>sequence</th>\n",
       "      <th>nTerminus</th>\n",
       "      <th>cTerminus</th>\n",
       "      <th>e_coli</th>\n",
       "      <th>pseudomonas</th>\n",
       "    </tr>\n",
       "  </thead>\n",
       "  <tbody>\n",
       "    <tr>\n",
       "      <th>0</th>\n",
       "      <td>900001</td>\n",
       "      <td>GEP</td>\n",
       "      <td>NaN</td>\n",
       "      <td>NaN</td>\n",
       "      <td>1000.0</td>\n",
       "      <td>1000</td>\n",
       "    </tr>\n",
       "    <tr>\n",
       "      <th>1</th>\n",
       "      <td>900002</td>\n",
       "      <td>MGHP</td>\n",
       "      <td>NaN</td>\n",
       "      <td>NaN</td>\n",
       "      <td>1000.0</td>\n",
       "      <td>1000</td>\n",
       "    </tr>\n",
       "    <tr>\n",
       "      <th>2</th>\n",
       "      <td>900003</td>\n",
       "      <td>GTGG</td>\n",
       "      <td>NaN</td>\n",
       "      <td>NaN</td>\n",
       "      <td>1000.0</td>\n",
       "      <td>1000</td>\n",
       "    </tr>\n",
       "    <tr>\n",
       "      <th>3</th>\n",
       "      <td>900004</td>\n",
       "      <td>SVTP</td>\n",
       "      <td>NaN</td>\n",
       "      <td>NaN</td>\n",
       "      <td>1000.0</td>\n",
       "      <td>1000</td>\n",
       "    </tr>\n",
       "    <tr>\n",
       "      <th>4</th>\n",
       "      <td>900005</td>\n",
       "      <td>MFSPQ</td>\n",
       "      <td>NaN</td>\n",
       "      <td>NaN</td>\n",
       "      <td>1000.0</td>\n",
       "      <td>1000</td>\n",
       "    </tr>\n",
       "    <tr>\n",
       "      <th>...</th>\n",
       "      <td>...</td>\n",
       "      <td>...</td>\n",
       "      <td>...</td>\n",
       "      <td>...</td>\n",
       "      <td>...</td>\n",
       "      <td>...</td>\n",
       "    </tr>\n",
       "    <tr>\n",
       "      <th>1114</th>\n",
       "      <td>901115</td>\n",
       "      <td>EKFKRSDKSTIKKRYMHLTE</td>\n",
       "      <td>NaN</td>\n",
       "      <td>NaN</td>\n",
       "      <td>1000.0</td>\n",
       "      <td>1000</td>\n",
       "    </tr>\n",
       "    <tr>\n",
       "      <th>1115</th>\n",
       "      <td>901116</td>\n",
       "      <td>ERNAHNFPLDLASIEAPTNG</td>\n",
       "      <td>NaN</td>\n",
       "      <td>NaN</td>\n",
       "      <td>1000.0</td>\n",
       "      <td>1000</td>\n",
       "    </tr>\n",
       "    <tr>\n",
       "      <th>1116</th>\n",
       "      <td>901117</td>\n",
       "      <td>VAVFSSWARQVLETQKEPDD</td>\n",
       "      <td>NaN</td>\n",
       "      <td>NaN</td>\n",
       "      <td>1000.0</td>\n",
       "      <td>1000</td>\n",
       "    </tr>\n",
       "    <tr>\n",
       "      <th>1117</th>\n",
       "      <td>901118</td>\n",
       "      <td>MKRILLLISFLFAPIFAGPA</td>\n",
       "      <td>NaN</td>\n",
       "      <td>NaN</td>\n",
       "      <td>1000.0</td>\n",
       "      <td>1000</td>\n",
       "    </tr>\n",
       "    <tr>\n",
       "      <th>1118</th>\n",
       "      <td>901119</td>\n",
       "      <td>AETVTMGDMLPYGFRGDILK</td>\n",
       "      <td>NaN</td>\n",
       "      <td>NaN</td>\n",
       "      <td>1000.0</td>\n",
       "      <td>1000</td>\n",
       "    </tr>\n",
       "  </tbody>\n",
       "</table>\n",
       "<p>1119 rows × 6 columns</p>\n",
       "</div>\n",
       "      <button class=\"colab-df-convert\" onclick=\"convertToInteractive('df-f367b7e3-89a0-4c5e-9ca5-96b9dc90f78c')\"\n",
       "              title=\"Convert this dataframe to an interactive table.\"\n",
       "              style=\"display:none;\">\n",
       "        \n",
       "  <svg xmlns=\"http://www.w3.org/2000/svg\" height=\"24px\"viewBox=\"0 0 24 24\"\n",
       "       width=\"24px\">\n",
       "    <path d=\"M0 0h24v24H0V0z\" fill=\"none\"/>\n",
       "    <path d=\"M18.56 5.44l.94 2.06.94-2.06 2.06-.94-2.06-.94-.94-2.06-.94 2.06-2.06.94zm-11 1L8.5 8.5l.94-2.06 2.06-.94-2.06-.94L8.5 2.5l-.94 2.06-2.06.94zm10 10l.94 2.06.94-2.06 2.06-.94-2.06-.94-.94-2.06-.94 2.06-2.06.94z\"/><path d=\"M17.41 7.96l-1.37-1.37c-.4-.4-.92-.59-1.43-.59-.52 0-1.04.2-1.43.59L10.3 9.45l-7.72 7.72c-.78.78-.78 2.05 0 2.83L4 21.41c.39.39.9.59 1.41.59.51 0 1.02-.2 1.41-.59l7.78-7.78 2.81-2.81c.8-.78.8-2.07 0-2.86zM5.41 20L4 18.59l7.72-7.72 1.47 1.35L5.41 20z\"/>\n",
       "  </svg>\n",
       "      </button>\n",
       "      \n",
       "  <style>\n",
       "    .colab-df-container {\n",
       "      display:flex;\n",
       "      flex-wrap:wrap;\n",
       "      gap: 12px;\n",
       "    }\n",
       "\n",
       "    .colab-df-convert {\n",
       "      background-color: #E8F0FE;\n",
       "      border: none;\n",
       "      border-radius: 50%;\n",
       "      cursor: pointer;\n",
       "      display: none;\n",
       "      fill: #1967D2;\n",
       "      height: 32px;\n",
       "      padding: 0 0 0 0;\n",
       "      width: 32px;\n",
       "    }\n",
       "\n",
       "    .colab-df-convert:hover {\n",
       "      background-color: #E2EBFA;\n",
       "      box-shadow: 0px 1px 2px rgba(60, 64, 67, 0.3), 0px 1px 3px 1px rgba(60, 64, 67, 0.15);\n",
       "      fill: #174EA6;\n",
       "    }\n",
       "\n",
       "    [theme=dark] .colab-df-convert {\n",
       "      background-color: #3B4455;\n",
       "      fill: #D2E3FC;\n",
       "    }\n",
       "\n",
       "    [theme=dark] .colab-df-convert:hover {\n",
       "      background-color: #434B5C;\n",
       "      box-shadow: 0px 1px 3px 1px rgba(0, 0, 0, 0.15);\n",
       "      filter: drop-shadow(0px 1px 2px rgba(0, 0, 0, 0.3));\n",
       "      fill: #FFFFFF;\n",
       "    }\n",
       "  </style>\n",
       "\n",
       "      <script>\n",
       "        const buttonEl =\n",
       "          document.querySelector('#df-f367b7e3-89a0-4c5e-9ca5-96b9dc90f78c button.colab-df-convert');\n",
       "        buttonEl.style.display =\n",
       "          google.colab.kernel.accessAllowed ? 'block' : 'none';\n",
       "\n",
       "        async function convertToInteractive(key) {\n",
       "          const element = document.querySelector('#df-f367b7e3-89a0-4c5e-9ca5-96b9dc90f78c');\n",
       "          const dataTable =\n",
       "            await google.colab.kernel.invokeFunction('convertToInteractive',\n",
       "                                                     [key], {});\n",
       "          if (!dataTable) return;\n",
       "\n",
       "          const docLinkHtml = 'Like what you see? Visit the ' +\n",
       "            '<a target=\"_blank\" href=https://colab.research.google.com/notebooks/data_table.ipynb>data table notebook</a>'\n",
       "            + ' to learn more about interactive tables.';\n",
       "          element.innerHTML = '';\n",
       "          dataTable['output_type'] = 'display_data';\n",
       "          await google.colab.output.renderOutput(dataTable, element);\n",
       "          const docLink = document.createElement('div');\n",
       "          docLink.innerHTML = docLinkHtml;\n",
       "          element.appendChild(docLink);\n",
       "        }\n",
       "      </script>\n",
       "    </div>\n",
       "  </div>\n",
       "  "
      ]
     },
     "metadata": {},
     "execution_count": 63
    }
   ],
   "source": [
    "# add non-amp sequnces to dataset to increse the number of negative samples\n",
    "nonAMP = pd.read_csv('/datasets/non_amp_dataset_and_not_active.csv');\n",
    "nonAMP['e_coli'] = nonAMP['e_coli'].astype(float)\n",
    "nonAMP = nonAMP.loc[(nonAMP.e_coli <1001)]\n",
    "nonAMP"
   ]
  },
  {
   "cell_type": "code",
   "source": [
    "nonAMP = nonAMP.sample(frac=0.51)\n",
    "nonAMP"
   ],
   "metadata": {
    "colab": {
     "base_uri": "https://localhost:8080/",
     "height": 419
    },
    "id": "LzFOVTetjEni",
    "outputId": "a2e9c054-1aca-4534-f315-cd0bd340c6e5"
   },
   "execution_count": null,
   "outputs": [
    {
     "output_type": "execute_result",
     "data": {
      "text/plain": [
       "      Unnamed: 0              sequence  nTerminus  cTerminus  e_coli  \\\n",
       "698       900699      ISGMEQTSFLFQQASK        NaN        NaN  1000.0   \n",
       "201       900202          MLRLNLGLGPAG        NaN        NaN  1000.0   \n",
       "85        900086             AITHSHAEY        NaN        NaN  1000.0   \n",
       "426       900427         QETEEQMELADKA        NaN        NaN  1000.0   \n",
       "731       900732      MEEEQELKTSVKQQDQ        NaN        NaN  1000.0   \n",
       "...          ...                   ...        ...        ...     ...   \n",
       "565       900566        DQLFTDEIEELNRK        NaN        NaN  1000.0   \n",
       "581       900582        MELIYKILFTILIR        NaN        NaN  1000.0   \n",
       "740       900741      MNEHVEMLEQQQEVEA        NaN        NaN  1000.0   \n",
       "1083      901084  MNMYIAEPGIYRASNLNLSP        NaN        NaN  1000.0   \n",
       "623       900624       PYPHILSTPAAQTMS        NaN        NaN  1000.0   \n",
       "\n",
       "      pseudomonas  \n",
       "698          1000  \n",
       "201          1000  \n",
       "85           1000  \n",
       "426          1000  \n",
       "731          1000  \n",
       "...           ...  \n",
       "565          1000  \n",
       "581          1000  \n",
       "740          1000  \n",
       "1083         1000  \n",
       "623          1000  \n",
       "\n",
       "[571 rows x 6 columns]"
      ],
      "text/html": [
       "\n",
       "  <div id=\"df-a3566963-4bee-414c-ab04-1d9a7122d51c\">\n",
       "    <div class=\"colab-df-container\">\n",
       "      <div>\n",
       "<style scoped>\n",
       "    .dataframe tbody tr th:only-of-type {\n",
       "        vertical-align: middle;\n",
       "    }\n",
       "\n",
       "    .dataframe tbody tr th {\n",
       "        vertical-align: top;\n",
       "    }\n",
       "\n",
       "    .dataframe thead th {\n",
       "        text-align: right;\n",
       "    }\n",
       "</style>\n",
       "<table border=\"1\" class=\"dataframe\">\n",
       "  <thead>\n",
       "    <tr style=\"text-align: right;\">\n",
       "      <th></th>\n",
       "      <th>Unnamed: 0</th>\n",
       "      <th>sequence</th>\n",
       "      <th>nTerminus</th>\n",
       "      <th>cTerminus</th>\n",
       "      <th>e_coli</th>\n",
       "      <th>pseudomonas</th>\n",
       "    </tr>\n",
       "  </thead>\n",
       "  <tbody>\n",
       "    <tr>\n",
       "      <th>698</th>\n",
       "      <td>900699</td>\n",
       "      <td>ISGMEQTSFLFQQASK</td>\n",
       "      <td>NaN</td>\n",
       "      <td>NaN</td>\n",
       "      <td>1000.0</td>\n",
       "      <td>1000</td>\n",
       "    </tr>\n",
       "    <tr>\n",
       "      <th>201</th>\n",
       "      <td>900202</td>\n",
       "      <td>MLRLNLGLGPAG</td>\n",
       "      <td>NaN</td>\n",
       "      <td>NaN</td>\n",
       "      <td>1000.0</td>\n",
       "      <td>1000</td>\n",
       "    </tr>\n",
       "    <tr>\n",
       "      <th>85</th>\n",
       "      <td>900086</td>\n",
       "      <td>AITHSHAEY</td>\n",
       "      <td>NaN</td>\n",
       "      <td>NaN</td>\n",
       "      <td>1000.0</td>\n",
       "      <td>1000</td>\n",
       "    </tr>\n",
       "    <tr>\n",
       "      <th>426</th>\n",
       "      <td>900427</td>\n",
       "      <td>QETEEQMELADKA</td>\n",
       "      <td>NaN</td>\n",
       "      <td>NaN</td>\n",
       "      <td>1000.0</td>\n",
       "      <td>1000</td>\n",
       "    </tr>\n",
       "    <tr>\n",
       "      <th>731</th>\n",
       "      <td>900732</td>\n",
       "      <td>MEEEQELKTSVKQQDQ</td>\n",
       "      <td>NaN</td>\n",
       "      <td>NaN</td>\n",
       "      <td>1000.0</td>\n",
       "      <td>1000</td>\n",
       "    </tr>\n",
       "    <tr>\n",
       "      <th>...</th>\n",
       "      <td>...</td>\n",
       "      <td>...</td>\n",
       "      <td>...</td>\n",
       "      <td>...</td>\n",
       "      <td>...</td>\n",
       "      <td>...</td>\n",
       "    </tr>\n",
       "    <tr>\n",
       "      <th>565</th>\n",
       "      <td>900566</td>\n",
       "      <td>DQLFTDEIEELNRK</td>\n",
       "      <td>NaN</td>\n",
       "      <td>NaN</td>\n",
       "      <td>1000.0</td>\n",
       "      <td>1000</td>\n",
       "    </tr>\n",
       "    <tr>\n",
       "      <th>581</th>\n",
       "      <td>900582</td>\n",
       "      <td>MELIYKILFTILIR</td>\n",
       "      <td>NaN</td>\n",
       "      <td>NaN</td>\n",
       "      <td>1000.0</td>\n",
       "      <td>1000</td>\n",
       "    </tr>\n",
       "    <tr>\n",
       "      <th>740</th>\n",
       "      <td>900741</td>\n",
       "      <td>MNEHVEMLEQQQEVEA</td>\n",
       "      <td>NaN</td>\n",
       "      <td>NaN</td>\n",
       "      <td>1000.0</td>\n",
       "      <td>1000</td>\n",
       "    </tr>\n",
       "    <tr>\n",
       "      <th>1083</th>\n",
       "      <td>901084</td>\n",
       "      <td>MNMYIAEPGIYRASNLNLSP</td>\n",
       "      <td>NaN</td>\n",
       "      <td>NaN</td>\n",
       "      <td>1000.0</td>\n",
       "      <td>1000</td>\n",
       "    </tr>\n",
       "    <tr>\n",
       "      <th>623</th>\n",
       "      <td>900624</td>\n",
       "      <td>PYPHILSTPAAQTMS</td>\n",
       "      <td>NaN</td>\n",
       "      <td>NaN</td>\n",
       "      <td>1000.0</td>\n",
       "      <td>1000</td>\n",
       "    </tr>\n",
       "  </tbody>\n",
       "</table>\n",
       "<p>571 rows × 6 columns</p>\n",
       "</div>\n",
       "      <button class=\"colab-df-convert\" onclick=\"convertToInteractive('df-a3566963-4bee-414c-ab04-1d9a7122d51c')\"\n",
       "              title=\"Convert this dataframe to an interactive table.\"\n",
       "              style=\"display:none;\">\n",
       "        \n",
       "  <svg xmlns=\"http://www.w3.org/2000/svg\" height=\"24px\"viewBox=\"0 0 24 24\"\n",
       "       width=\"24px\">\n",
       "    <path d=\"M0 0h24v24H0V0z\" fill=\"none\"/>\n",
       "    <path d=\"M18.56 5.44l.94 2.06.94-2.06 2.06-.94-2.06-.94-.94-2.06-.94 2.06-2.06.94zm-11 1L8.5 8.5l.94-2.06 2.06-.94-2.06-.94L8.5 2.5l-.94 2.06-2.06.94zm10 10l.94 2.06.94-2.06 2.06-.94-2.06-.94-.94-2.06-.94 2.06-2.06.94z\"/><path d=\"M17.41 7.96l-1.37-1.37c-.4-.4-.92-.59-1.43-.59-.52 0-1.04.2-1.43.59L10.3 9.45l-7.72 7.72c-.78.78-.78 2.05 0 2.83L4 21.41c.39.39.9.59 1.41.59.51 0 1.02-.2 1.41-.59l7.78-7.78 2.81-2.81c.8-.78.8-2.07 0-2.86zM5.41 20L4 18.59l7.72-7.72 1.47 1.35L5.41 20z\"/>\n",
       "  </svg>\n",
       "      </button>\n",
       "      \n",
       "  <style>\n",
       "    .colab-df-container {\n",
       "      display:flex;\n",
       "      flex-wrap:wrap;\n",
       "      gap: 12px;\n",
       "    }\n",
       "\n",
       "    .colab-df-convert {\n",
       "      background-color: #E8F0FE;\n",
       "      border: none;\n",
       "      border-radius: 50%;\n",
       "      cursor: pointer;\n",
       "      display: none;\n",
       "      fill: #1967D2;\n",
       "      height: 32px;\n",
       "      padding: 0 0 0 0;\n",
       "      width: 32px;\n",
       "    }\n",
       "\n",
       "    .colab-df-convert:hover {\n",
       "      background-color: #E2EBFA;\n",
       "      box-shadow: 0px 1px 2px rgba(60, 64, 67, 0.3), 0px 1px 3px 1px rgba(60, 64, 67, 0.15);\n",
       "      fill: #174EA6;\n",
       "    }\n",
       "\n",
       "    [theme=dark] .colab-df-convert {\n",
       "      background-color: #3B4455;\n",
       "      fill: #D2E3FC;\n",
       "    }\n",
       "\n",
       "    [theme=dark] .colab-df-convert:hover {\n",
       "      background-color: #434B5C;\n",
       "      box-shadow: 0px 1px 3px 1px rgba(0, 0, 0, 0.15);\n",
       "      filter: drop-shadow(0px 1px 2px rgba(0, 0, 0, 0.3));\n",
       "      fill: #FFFFFF;\n",
       "    }\n",
       "  </style>\n",
       "\n",
       "      <script>\n",
       "        const buttonEl =\n",
       "          document.querySelector('#df-a3566963-4bee-414c-ab04-1d9a7122d51c button.colab-df-convert');\n",
       "        buttonEl.style.display =\n",
       "          google.colab.kernel.accessAllowed ? 'block' : 'none';\n",
       "\n",
       "        async function convertToInteractive(key) {\n",
       "          const element = document.querySelector('#df-a3566963-4bee-414c-ab04-1d9a7122d51c');\n",
       "          const dataTable =\n",
       "            await google.colab.kernel.invokeFunction('convertToInteractive',\n",
       "                                                     [key], {});\n",
       "          if (!dataTable) return;\n",
       "\n",
       "          const docLinkHtml = 'Like what you see? Visit the ' +\n",
       "            '<a target=\"_blank\" href=https://colab.research.google.com/notebooks/data_table.ipynb>data table notebook</a>'\n",
       "            + ' to learn more about interactive tables.';\n",
       "          element.innerHTML = '';\n",
       "          dataTable['output_type'] = 'display_data';\n",
       "          await google.colab.output.renderOutput(dataTable, element);\n",
       "          const docLink = document.createElement('div');\n",
       "          docLink.innerHTML = docLinkHtml;\n",
       "          element.appendChild(docLink);\n",
       "        }\n",
       "      </script>\n",
       "    </div>\n",
       "  </div>\n",
       "  "
      ]
     },
     "metadata": {},
     "execution_count": 64
    }
   ]
  },
  {
   "cell_type": "code",
   "execution_count": null,
   "metadata": {
    "colab": {
     "base_uri": "https://localhost:8080/",
     "height": 419
    },
    "id": "_TPi-zSExXIY",
    "outputId": "df0e43e6-fcbb-4e89-a0e3-5dfb6e7b5f5f"
   },
   "outputs": [
    {
     "output_type": "execute_result",
     "data": {
      "text/plain": [
       "      Unnamed: 0              sequence nTerminus cTerminus       e_coli  \\\n",
       "10            16    KLALKLALKAWKAALKLA       NaN       AMD     3.900000   \n",
       "12            18      ALWKTLLKKVLKAAAK       NaN       AMD     2.526436   \n",
       "13            19         ALWKTLLKKVLKA       NaN       AMD     5.956335   \n",
       "14            20    KLALKAALKAWKAAAKLA       NaN       AMD     8.250000   \n",
       "16            22    KAIAKSILKWIKSIAKAI       NaN       AMD     5.600000   \n",
       "...          ...                   ...       ...       ...          ...   \n",
       "565       900566        DQLFTDEIEELNRK       NaN       NaN  1000.000000   \n",
       "581       900582        MELIYKILFTILIR       NaN       NaN  1000.000000   \n",
       "740       900741      MNEHVEMLEQQQEVEA       NaN       NaN  1000.000000   \n",
       "1083      901084  MNMYIAEPGIYRASNLNLSP       NaN       NaN  1000.000000   \n",
       "623       900624       PYPHILSTPAAQTMS       NaN       NaN  1000.000000   \n",
       "\n",
       "      e_coli_atcc  seqLength  pseudomonas  \n",
       "10            NaN       18.0          NaN  \n",
       "12            NaN       16.0          NaN  \n",
       "13            NaN       13.0          NaN  \n",
       "14            NaN       18.0          NaN  \n",
       "16            NaN       18.0          NaN  \n",
       "...           ...        ...          ...  \n",
       "565           NaN        NaN       1000.0  \n",
       "581           NaN        NaN       1000.0  \n",
       "740           NaN        NaN       1000.0  \n",
       "1083          NaN        NaN       1000.0  \n",
       "623           NaN        NaN       1000.0  \n",
       "\n",
       "[1194 rows x 8 columns]"
      ],
      "text/html": [
       "\n",
       "  <div id=\"df-31dae878-db30-4715-9d28-bf0187a3f047\">\n",
       "    <div class=\"colab-df-container\">\n",
       "      <div>\n",
       "<style scoped>\n",
       "    .dataframe tbody tr th:only-of-type {\n",
       "        vertical-align: middle;\n",
       "    }\n",
       "\n",
       "    .dataframe tbody tr th {\n",
       "        vertical-align: top;\n",
       "    }\n",
       "\n",
       "    .dataframe thead th {\n",
       "        text-align: right;\n",
       "    }\n",
       "</style>\n",
       "<table border=\"1\" class=\"dataframe\">\n",
       "  <thead>\n",
       "    <tr style=\"text-align: right;\">\n",
       "      <th></th>\n",
       "      <th>Unnamed: 0</th>\n",
       "      <th>sequence</th>\n",
       "      <th>nTerminus</th>\n",
       "      <th>cTerminus</th>\n",
       "      <th>e_coli</th>\n",
       "      <th>e_coli_atcc</th>\n",
       "      <th>seqLength</th>\n",
       "      <th>pseudomonas</th>\n",
       "    </tr>\n",
       "  </thead>\n",
       "  <tbody>\n",
       "    <tr>\n",
       "      <th>10</th>\n",
       "      <td>16</td>\n",
       "      <td>KLALKLALKAWKAALKLA</td>\n",
       "      <td>NaN</td>\n",
       "      <td>AMD</td>\n",
       "      <td>3.900000</td>\n",
       "      <td>NaN</td>\n",
       "      <td>18.0</td>\n",
       "      <td>NaN</td>\n",
       "    </tr>\n",
       "    <tr>\n",
       "      <th>12</th>\n",
       "      <td>18</td>\n",
       "      <td>ALWKTLLKKVLKAAAK</td>\n",
       "      <td>NaN</td>\n",
       "      <td>AMD</td>\n",
       "      <td>2.526436</td>\n",
       "      <td>NaN</td>\n",
       "      <td>16.0</td>\n",
       "      <td>NaN</td>\n",
       "    </tr>\n",
       "    <tr>\n",
       "      <th>13</th>\n",
       "      <td>19</td>\n",
       "      <td>ALWKTLLKKVLKA</td>\n",
       "      <td>NaN</td>\n",
       "      <td>AMD</td>\n",
       "      <td>5.956335</td>\n",
       "      <td>NaN</td>\n",
       "      <td>13.0</td>\n",
       "      <td>NaN</td>\n",
       "    </tr>\n",
       "    <tr>\n",
       "      <th>14</th>\n",
       "      <td>20</td>\n",
       "      <td>KLALKAALKAWKAAAKLA</td>\n",
       "      <td>NaN</td>\n",
       "      <td>AMD</td>\n",
       "      <td>8.250000</td>\n",
       "      <td>NaN</td>\n",
       "      <td>18.0</td>\n",
       "      <td>NaN</td>\n",
       "    </tr>\n",
       "    <tr>\n",
       "      <th>16</th>\n",
       "      <td>22</td>\n",
       "      <td>KAIAKSILKWIKSIAKAI</td>\n",
       "      <td>NaN</td>\n",
       "      <td>AMD</td>\n",
       "      <td>5.600000</td>\n",
       "      <td>NaN</td>\n",
       "      <td>18.0</td>\n",
       "      <td>NaN</td>\n",
       "    </tr>\n",
       "    <tr>\n",
       "      <th>...</th>\n",
       "      <td>...</td>\n",
       "      <td>...</td>\n",
       "      <td>...</td>\n",
       "      <td>...</td>\n",
       "      <td>...</td>\n",
       "      <td>...</td>\n",
       "      <td>...</td>\n",
       "      <td>...</td>\n",
       "    </tr>\n",
       "    <tr>\n",
       "      <th>565</th>\n",
       "      <td>900566</td>\n",
       "      <td>DQLFTDEIEELNRK</td>\n",
       "      <td>NaN</td>\n",
       "      <td>NaN</td>\n",
       "      <td>1000.000000</td>\n",
       "      <td>NaN</td>\n",
       "      <td>NaN</td>\n",
       "      <td>1000.0</td>\n",
       "    </tr>\n",
       "    <tr>\n",
       "      <th>581</th>\n",
       "      <td>900582</td>\n",
       "      <td>MELIYKILFTILIR</td>\n",
       "      <td>NaN</td>\n",
       "      <td>NaN</td>\n",
       "      <td>1000.000000</td>\n",
       "      <td>NaN</td>\n",
       "      <td>NaN</td>\n",
       "      <td>1000.0</td>\n",
       "    </tr>\n",
       "    <tr>\n",
       "      <th>740</th>\n",
       "      <td>900741</td>\n",
       "      <td>MNEHVEMLEQQQEVEA</td>\n",
       "      <td>NaN</td>\n",
       "      <td>NaN</td>\n",
       "      <td>1000.000000</td>\n",
       "      <td>NaN</td>\n",
       "      <td>NaN</td>\n",
       "      <td>1000.0</td>\n",
       "    </tr>\n",
       "    <tr>\n",
       "      <th>1083</th>\n",
       "      <td>901084</td>\n",
       "      <td>MNMYIAEPGIYRASNLNLSP</td>\n",
       "      <td>NaN</td>\n",
       "      <td>NaN</td>\n",
       "      <td>1000.000000</td>\n",
       "      <td>NaN</td>\n",
       "      <td>NaN</td>\n",
       "      <td>1000.0</td>\n",
       "    </tr>\n",
       "    <tr>\n",
       "      <th>623</th>\n",
       "      <td>900624</td>\n",
       "      <td>PYPHILSTPAAQTMS</td>\n",
       "      <td>NaN</td>\n",
       "      <td>NaN</td>\n",
       "      <td>1000.000000</td>\n",
       "      <td>NaN</td>\n",
       "      <td>NaN</td>\n",
       "      <td>1000.0</td>\n",
       "    </tr>\n",
       "  </tbody>\n",
       "</table>\n",
       "<p>1194 rows × 8 columns</p>\n",
       "</div>\n",
       "      <button class=\"colab-df-convert\" onclick=\"convertToInteractive('df-31dae878-db30-4715-9d28-bf0187a3f047')\"\n",
       "              title=\"Convert this dataframe to an interactive table.\"\n",
       "              style=\"display:none;\">\n",
       "        \n",
       "  <svg xmlns=\"http://www.w3.org/2000/svg\" height=\"24px\"viewBox=\"0 0 24 24\"\n",
       "       width=\"24px\">\n",
       "    <path d=\"M0 0h24v24H0V0z\" fill=\"none\"/>\n",
       "    <path d=\"M18.56 5.44l.94 2.06.94-2.06 2.06-.94-2.06-.94-.94-2.06-.94 2.06-2.06.94zm-11 1L8.5 8.5l.94-2.06 2.06-.94-2.06-.94L8.5 2.5l-.94 2.06-2.06.94zm10 10l.94 2.06.94-2.06 2.06-.94-2.06-.94-.94-2.06-.94 2.06-2.06.94z\"/><path d=\"M17.41 7.96l-1.37-1.37c-.4-.4-.92-.59-1.43-.59-.52 0-1.04.2-1.43.59L10.3 9.45l-7.72 7.72c-.78.78-.78 2.05 0 2.83L4 21.41c.39.39.9.59 1.41.59.51 0 1.02-.2 1.41-.59l7.78-7.78 2.81-2.81c.8-.78.8-2.07 0-2.86zM5.41 20L4 18.59l7.72-7.72 1.47 1.35L5.41 20z\"/>\n",
       "  </svg>\n",
       "      </button>\n",
       "      \n",
       "  <style>\n",
       "    .colab-df-container {\n",
       "      display:flex;\n",
       "      flex-wrap:wrap;\n",
       "      gap: 12px;\n",
       "    }\n",
       "\n",
       "    .colab-df-convert {\n",
       "      background-color: #E8F0FE;\n",
       "      border: none;\n",
       "      border-radius: 50%;\n",
       "      cursor: pointer;\n",
       "      display: none;\n",
       "      fill: #1967D2;\n",
       "      height: 32px;\n",
       "      padding: 0 0 0 0;\n",
       "      width: 32px;\n",
       "    }\n",
       "\n",
       "    .colab-df-convert:hover {\n",
       "      background-color: #E2EBFA;\n",
       "      box-shadow: 0px 1px 2px rgba(60, 64, 67, 0.3), 0px 1px 3px 1px rgba(60, 64, 67, 0.15);\n",
       "      fill: #174EA6;\n",
       "    }\n",
       "\n",
       "    [theme=dark] .colab-df-convert {\n",
       "      background-color: #3B4455;\n",
       "      fill: #D2E3FC;\n",
       "    }\n",
       "\n",
       "    [theme=dark] .colab-df-convert:hover {\n",
       "      background-color: #434B5C;\n",
       "      box-shadow: 0px 1px 3px 1px rgba(0, 0, 0, 0.15);\n",
       "      filter: drop-shadow(0px 1px 2px rgba(0, 0, 0, 0.3));\n",
       "      fill: #FFFFFF;\n",
       "    }\n",
       "  </style>\n",
       "\n",
       "      <script>\n",
       "        const buttonEl =\n",
       "          document.querySelector('#df-31dae878-db30-4715-9d28-bf0187a3f047 button.colab-df-convert');\n",
       "        buttonEl.style.display =\n",
       "          google.colab.kernel.accessAllowed ? 'block' : 'none';\n",
       "\n",
       "        async function convertToInteractive(key) {\n",
       "          const element = document.querySelector('#df-31dae878-db30-4715-9d28-bf0187a3f047');\n",
       "          const dataTable =\n",
       "            await google.colab.kernel.invokeFunction('convertToInteractive',\n",
       "                                                     [key], {});\n",
       "          if (!dataTable) return;\n",
       "\n",
       "          const docLinkHtml = 'Like what you see? Visit the ' +\n",
       "            '<a target=\"_blank\" href=https://colab.research.google.com/notebooks/data_table.ipynb>data table notebook</a>'\n",
       "            + ' to learn more about interactive tables.';\n",
       "          element.innerHTML = '';\n",
       "          dataTable['output_type'] = 'display_data';\n",
       "          await google.colab.output.renderOutput(dataTable, element);\n",
       "          const docLink = document.createElement('div');\n",
       "          docLink.innerHTML = docLinkHtml;\n",
       "          element.appendChild(docLink);\n",
       "        }\n",
       "      </script>\n",
       "    </div>\n",
       "  </div>\n",
       "  "
      ]
     },
     "metadata": {},
     "execution_count": 65
    }
   ],
   "source": [
    "frames = [df, nonAMP]\n",
    "df = pd.concat(frames)\n",
    "df"
   ]
  },
  {
   "cell_type": "code",
   "source": [
    "df['e_coli'].fillna(2000.0, inplace=True)"
   ],
   "metadata": {
    "id": "facnuLklUJ46"
   },
   "execution_count": null,
   "outputs": []
  },
  {
   "cell_type": "code",
   "execution_count": null,
   "metadata": {
    "id": "EAxcZD7fv_Kt"
   },
   "outputs": [],
   "source": [
    "df['e_isActive'] =  np.where(df['e_coli'] <= MIC_cutoff , True, False)"
   ]
  },
  {
   "cell_type": "code",
   "source": [
    "df"
   ],
   "metadata": {
    "colab": {
     "base_uri": "https://localhost:8080/",
     "height": 419
    },
    "id": "8X-mYUM_AcxA",
    "outputId": "be3c02d8-e921-4dd5-a25d-b1f98ca5fc82"
   },
   "execution_count": null,
   "outputs": [
    {
     "output_type": "execute_result",
     "data": {
      "text/plain": [
       "      Unnamed: 0              sequence nTerminus cTerminus       e_coli  \\\n",
       "10            16    KLALKLALKAWKAALKLA       NaN       AMD     3.900000   \n",
       "12            18      ALWKTLLKKVLKAAAK       NaN       AMD     2.526436   \n",
       "13            19         ALWKTLLKKVLKA       NaN       AMD     5.956335   \n",
       "14            20    KLALKAALKAWKAAAKLA       NaN       AMD     8.250000   \n",
       "16            22    KAIAKSILKWIKSIAKAI       NaN       AMD     5.600000   \n",
       "...          ...                   ...       ...       ...          ...   \n",
       "565       900566        DQLFTDEIEELNRK       NaN       NaN  1000.000000   \n",
       "581       900582        MELIYKILFTILIR       NaN       NaN  1000.000000   \n",
       "740       900741      MNEHVEMLEQQQEVEA       NaN       NaN  1000.000000   \n",
       "1083      901084  MNMYIAEPGIYRASNLNLSP       NaN       NaN  1000.000000   \n",
       "623       900624       PYPHILSTPAAQTMS       NaN       NaN  1000.000000   \n",
       "\n",
       "      e_coli_atcc  seqLength  pseudomonas  e_isActive  \n",
       "10            NaN       18.0          NaN        True  \n",
       "12            NaN       16.0          NaN        True  \n",
       "13            NaN       13.0          NaN        True  \n",
       "14            NaN       18.0          NaN        True  \n",
       "16            NaN       18.0          NaN        True  \n",
       "...           ...        ...          ...         ...  \n",
       "565           NaN        NaN       1000.0       False  \n",
       "581           NaN        NaN       1000.0       False  \n",
       "740           NaN        NaN       1000.0       False  \n",
       "1083          NaN        NaN       1000.0       False  \n",
       "623           NaN        NaN       1000.0       False  \n",
       "\n",
       "[1194 rows x 9 columns]"
      ],
      "text/html": [
       "\n",
       "  <div id=\"df-92f57843-0a7e-4108-b9b2-c764bb00c3c4\">\n",
       "    <div class=\"colab-df-container\">\n",
       "      <div>\n",
       "<style scoped>\n",
       "    .dataframe tbody tr th:only-of-type {\n",
       "        vertical-align: middle;\n",
       "    }\n",
       "\n",
       "    .dataframe tbody tr th {\n",
       "        vertical-align: top;\n",
       "    }\n",
       "\n",
       "    .dataframe thead th {\n",
       "        text-align: right;\n",
       "    }\n",
       "</style>\n",
       "<table border=\"1\" class=\"dataframe\">\n",
       "  <thead>\n",
       "    <tr style=\"text-align: right;\">\n",
       "      <th></th>\n",
       "      <th>Unnamed: 0</th>\n",
       "      <th>sequence</th>\n",
       "      <th>nTerminus</th>\n",
       "      <th>cTerminus</th>\n",
       "      <th>e_coli</th>\n",
       "      <th>e_coli_atcc</th>\n",
       "      <th>seqLength</th>\n",
       "      <th>pseudomonas</th>\n",
       "      <th>e_isActive</th>\n",
       "    </tr>\n",
       "  </thead>\n",
       "  <tbody>\n",
       "    <tr>\n",
       "      <th>10</th>\n",
       "      <td>16</td>\n",
       "      <td>KLALKLALKAWKAALKLA</td>\n",
       "      <td>NaN</td>\n",
       "      <td>AMD</td>\n",
       "      <td>3.900000</td>\n",
       "      <td>NaN</td>\n",
       "      <td>18.0</td>\n",
       "      <td>NaN</td>\n",
       "      <td>True</td>\n",
       "    </tr>\n",
       "    <tr>\n",
       "      <th>12</th>\n",
       "      <td>18</td>\n",
       "      <td>ALWKTLLKKVLKAAAK</td>\n",
       "      <td>NaN</td>\n",
       "      <td>AMD</td>\n",
       "      <td>2.526436</td>\n",
       "      <td>NaN</td>\n",
       "      <td>16.0</td>\n",
       "      <td>NaN</td>\n",
       "      <td>True</td>\n",
       "    </tr>\n",
       "    <tr>\n",
       "      <th>13</th>\n",
       "      <td>19</td>\n",
       "      <td>ALWKTLLKKVLKA</td>\n",
       "      <td>NaN</td>\n",
       "      <td>AMD</td>\n",
       "      <td>5.956335</td>\n",
       "      <td>NaN</td>\n",
       "      <td>13.0</td>\n",
       "      <td>NaN</td>\n",
       "      <td>True</td>\n",
       "    </tr>\n",
       "    <tr>\n",
       "      <th>14</th>\n",
       "      <td>20</td>\n",
       "      <td>KLALKAALKAWKAAAKLA</td>\n",
       "      <td>NaN</td>\n",
       "      <td>AMD</td>\n",
       "      <td>8.250000</td>\n",
       "      <td>NaN</td>\n",
       "      <td>18.0</td>\n",
       "      <td>NaN</td>\n",
       "      <td>True</td>\n",
       "    </tr>\n",
       "    <tr>\n",
       "      <th>16</th>\n",
       "      <td>22</td>\n",
       "      <td>KAIAKSILKWIKSIAKAI</td>\n",
       "      <td>NaN</td>\n",
       "      <td>AMD</td>\n",
       "      <td>5.600000</td>\n",
       "      <td>NaN</td>\n",
       "      <td>18.0</td>\n",
       "      <td>NaN</td>\n",
       "      <td>True</td>\n",
       "    </tr>\n",
       "    <tr>\n",
       "      <th>...</th>\n",
       "      <td>...</td>\n",
       "      <td>...</td>\n",
       "      <td>...</td>\n",
       "      <td>...</td>\n",
       "      <td>...</td>\n",
       "      <td>...</td>\n",
       "      <td>...</td>\n",
       "      <td>...</td>\n",
       "      <td>...</td>\n",
       "    </tr>\n",
       "    <tr>\n",
       "      <th>565</th>\n",
       "      <td>900566</td>\n",
       "      <td>DQLFTDEIEELNRK</td>\n",
       "      <td>NaN</td>\n",
       "      <td>NaN</td>\n",
       "      <td>1000.000000</td>\n",
       "      <td>NaN</td>\n",
       "      <td>NaN</td>\n",
       "      <td>1000.0</td>\n",
       "      <td>False</td>\n",
       "    </tr>\n",
       "    <tr>\n",
       "      <th>581</th>\n",
       "      <td>900582</td>\n",
       "      <td>MELIYKILFTILIR</td>\n",
       "      <td>NaN</td>\n",
       "      <td>NaN</td>\n",
       "      <td>1000.000000</td>\n",
       "      <td>NaN</td>\n",
       "      <td>NaN</td>\n",
       "      <td>1000.0</td>\n",
       "      <td>False</td>\n",
       "    </tr>\n",
       "    <tr>\n",
       "      <th>740</th>\n",
       "      <td>900741</td>\n",
       "      <td>MNEHVEMLEQQQEVEA</td>\n",
       "      <td>NaN</td>\n",
       "      <td>NaN</td>\n",
       "      <td>1000.000000</td>\n",
       "      <td>NaN</td>\n",
       "      <td>NaN</td>\n",
       "      <td>1000.0</td>\n",
       "      <td>False</td>\n",
       "    </tr>\n",
       "    <tr>\n",
       "      <th>1083</th>\n",
       "      <td>901084</td>\n",
       "      <td>MNMYIAEPGIYRASNLNLSP</td>\n",
       "      <td>NaN</td>\n",
       "      <td>NaN</td>\n",
       "      <td>1000.000000</td>\n",
       "      <td>NaN</td>\n",
       "      <td>NaN</td>\n",
       "      <td>1000.0</td>\n",
       "      <td>False</td>\n",
       "    </tr>\n",
       "    <tr>\n",
       "      <th>623</th>\n",
       "      <td>900624</td>\n",
       "      <td>PYPHILSTPAAQTMS</td>\n",
       "      <td>NaN</td>\n",
       "      <td>NaN</td>\n",
       "      <td>1000.000000</td>\n",
       "      <td>NaN</td>\n",
       "      <td>NaN</td>\n",
       "      <td>1000.0</td>\n",
       "      <td>False</td>\n",
       "    </tr>\n",
       "  </tbody>\n",
       "</table>\n",
       "<p>1194 rows × 9 columns</p>\n",
       "</div>\n",
       "      <button class=\"colab-df-convert\" onclick=\"convertToInteractive('df-92f57843-0a7e-4108-b9b2-c764bb00c3c4')\"\n",
       "              title=\"Convert this dataframe to an interactive table.\"\n",
       "              style=\"display:none;\">\n",
       "        \n",
       "  <svg xmlns=\"http://www.w3.org/2000/svg\" height=\"24px\"viewBox=\"0 0 24 24\"\n",
       "       width=\"24px\">\n",
       "    <path d=\"M0 0h24v24H0V0z\" fill=\"none\"/>\n",
       "    <path d=\"M18.56 5.44l.94 2.06.94-2.06 2.06-.94-2.06-.94-.94-2.06-.94 2.06-2.06.94zm-11 1L8.5 8.5l.94-2.06 2.06-.94-2.06-.94L8.5 2.5l-.94 2.06-2.06.94zm10 10l.94 2.06.94-2.06 2.06-.94-2.06-.94-.94-2.06-.94 2.06-2.06.94z\"/><path d=\"M17.41 7.96l-1.37-1.37c-.4-.4-.92-.59-1.43-.59-.52 0-1.04.2-1.43.59L10.3 9.45l-7.72 7.72c-.78.78-.78 2.05 0 2.83L4 21.41c.39.39.9.59 1.41.59.51 0 1.02-.2 1.41-.59l7.78-7.78 2.81-2.81c.8-.78.8-2.07 0-2.86zM5.41 20L4 18.59l7.72-7.72 1.47 1.35L5.41 20z\"/>\n",
       "  </svg>\n",
       "      </button>\n",
       "      \n",
       "  <style>\n",
       "    .colab-df-container {\n",
       "      display:flex;\n",
       "      flex-wrap:wrap;\n",
       "      gap: 12px;\n",
       "    }\n",
       "\n",
       "    .colab-df-convert {\n",
       "      background-color: #E8F0FE;\n",
       "      border: none;\n",
       "      border-radius: 50%;\n",
       "      cursor: pointer;\n",
       "      display: none;\n",
       "      fill: #1967D2;\n",
       "      height: 32px;\n",
       "      padding: 0 0 0 0;\n",
       "      width: 32px;\n",
       "    }\n",
       "\n",
       "    .colab-df-convert:hover {\n",
       "      background-color: #E2EBFA;\n",
       "      box-shadow: 0px 1px 2px rgba(60, 64, 67, 0.3), 0px 1px 3px 1px rgba(60, 64, 67, 0.15);\n",
       "      fill: #174EA6;\n",
       "    }\n",
       "\n",
       "    [theme=dark] .colab-df-convert {\n",
       "      background-color: #3B4455;\n",
       "      fill: #D2E3FC;\n",
       "    }\n",
       "\n",
       "    [theme=dark] .colab-df-convert:hover {\n",
       "      background-color: #434B5C;\n",
       "      box-shadow: 0px 1px 3px 1px rgba(0, 0, 0, 0.15);\n",
       "      filter: drop-shadow(0px 1px 2px rgba(0, 0, 0, 0.3));\n",
       "      fill: #FFFFFF;\n",
       "    }\n",
       "  </style>\n",
       "\n",
       "      <script>\n",
       "        const buttonEl =\n",
       "          document.querySelector('#df-92f57843-0a7e-4108-b9b2-c764bb00c3c4 button.colab-df-convert');\n",
       "        buttonEl.style.display =\n",
       "          google.colab.kernel.accessAllowed ? 'block' : 'none';\n",
       "\n",
       "        async function convertToInteractive(key) {\n",
       "          const element = document.querySelector('#df-92f57843-0a7e-4108-b9b2-c764bb00c3c4');\n",
       "          const dataTable =\n",
       "            await google.colab.kernel.invokeFunction('convertToInteractive',\n",
       "                                                     [key], {});\n",
       "          if (!dataTable) return;\n",
       "\n",
       "          const docLinkHtml = 'Like what you see? Visit the ' +\n",
       "            '<a target=\"_blank\" href=https://colab.research.google.com/notebooks/data_table.ipynb>data table notebook</a>'\n",
       "            + ' to learn more about interactive tables.';\n",
       "          element.innerHTML = '';\n",
       "          dataTable['output_type'] = 'display_data';\n",
       "          await google.colab.output.renderOutput(dataTable, element);\n",
       "          const docLink = document.createElement('div');\n",
       "          docLink.innerHTML = docLinkHtml;\n",
       "          element.appendChild(docLink);\n",
       "        }\n",
       "      </script>\n",
       "    </div>\n",
       "  </div>\n",
       "  "
      ]
     },
     "metadata": {},
     "execution_count": 68
    }
   ]
  },
  {
   "cell_type": "code",
   "execution_count": null,
   "metadata": {
    "id": "wsuiX4inCo1s"
   },
   "outputs": [],
   "source": [
    "df = df.sort_values(by=['e_coli'], ascending=[True])"
   ]
  },
  {
   "cell_type": "code",
   "source": [
    "df = df.drop_duplicates(subset='sequence', keep=\"first\")"
   ],
   "metadata": {
    "id": "XedIu2XTLFYS"
   },
   "execution_count": null,
   "outputs": []
  },
  {
   "cell_type": "code",
   "execution_count": null,
   "metadata": {
    "colab": {
     "base_uri": "https://localhost:8080/",
     "height": 204
    },
    "id": "sxx5VunIq11z",
    "outputId": "0abd15fc-b6c2-4cd5-dbbb-21f3fc04cdcf"
   },
   "outputs": [
    {
     "output_type": "execute_result",
     "data": {
      "text/plain": [
       "                sequence  e_isActive\n",
       "515   RRWCFRVCYRGFCYRKCR        True\n",
       "290   GNNRPVYIPQPRPPHPRL        True\n",
       "3004  GNNKPVYKPQPRPPHPRL        True\n",
       "3005  GNNKPVYRPQPRPPHPRL        True\n",
       "4680     ERSAAKSAARSLARR        True"
      ],
      "text/html": [
       "\n",
       "  <div id=\"df-bcb7ca81-9ba5-4985-92df-37155e4f6520\">\n",
       "    <div class=\"colab-df-container\">\n",
       "      <div>\n",
       "<style scoped>\n",
       "    .dataframe tbody tr th:only-of-type {\n",
       "        vertical-align: middle;\n",
       "    }\n",
       "\n",
       "    .dataframe tbody tr th {\n",
       "        vertical-align: top;\n",
       "    }\n",
       "\n",
       "    .dataframe thead th {\n",
       "        text-align: right;\n",
       "    }\n",
       "</style>\n",
       "<table border=\"1\" class=\"dataframe\">\n",
       "  <thead>\n",
       "    <tr style=\"text-align: right;\">\n",
       "      <th></th>\n",
       "      <th>sequence</th>\n",
       "      <th>e_isActive</th>\n",
       "    </tr>\n",
       "  </thead>\n",
       "  <tbody>\n",
       "    <tr>\n",
       "      <th>515</th>\n",
       "      <td>RRWCFRVCYRGFCYRKCR</td>\n",
       "      <td>True</td>\n",
       "    </tr>\n",
       "    <tr>\n",
       "      <th>290</th>\n",
       "      <td>GNNRPVYIPQPRPPHPRL</td>\n",
       "      <td>True</td>\n",
       "    </tr>\n",
       "    <tr>\n",
       "      <th>3004</th>\n",
       "      <td>GNNKPVYKPQPRPPHPRL</td>\n",
       "      <td>True</td>\n",
       "    </tr>\n",
       "    <tr>\n",
       "      <th>3005</th>\n",
       "      <td>GNNKPVYRPQPRPPHPRL</td>\n",
       "      <td>True</td>\n",
       "    </tr>\n",
       "    <tr>\n",
       "      <th>4680</th>\n",
       "      <td>ERSAAKSAARSLARR</td>\n",
       "      <td>True</td>\n",
       "    </tr>\n",
       "  </tbody>\n",
       "</table>\n",
       "</div>\n",
       "      <button class=\"colab-df-convert\" onclick=\"convertToInteractive('df-bcb7ca81-9ba5-4985-92df-37155e4f6520')\"\n",
       "              title=\"Convert this dataframe to an interactive table.\"\n",
       "              style=\"display:none;\">\n",
       "        \n",
       "  <svg xmlns=\"http://www.w3.org/2000/svg\" height=\"24px\"viewBox=\"0 0 24 24\"\n",
       "       width=\"24px\">\n",
       "    <path d=\"M0 0h24v24H0V0z\" fill=\"none\"/>\n",
       "    <path d=\"M18.56 5.44l.94 2.06.94-2.06 2.06-.94-2.06-.94-.94-2.06-.94 2.06-2.06.94zm-11 1L8.5 8.5l.94-2.06 2.06-.94-2.06-.94L8.5 2.5l-.94 2.06-2.06.94zm10 10l.94 2.06.94-2.06 2.06-.94-2.06-.94-.94-2.06-.94 2.06-2.06.94z\"/><path d=\"M17.41 7.96l-1.37-1.37c-.4-.4-.92-.59-1.43-.59-.52 0-1.04.2-1.43.59L10.3 9.45l-7.72 7.72c-.78.78-.78 2.05 0 2.83L4 21.41c.39.39.9.59 1.41.59.51 0 1.02-.2 1.41-.59l7.78-7.78 2.81-2.81c.8-.78.8-2.07 0-2.86zM5.41 20L4 18.59l7.72-7.72 1.47 1.35L5.41 20z\"/>\n",
       "  </svg>\n",
       "      </button>\n",
       "      \n",
       "  <style>\n",
       "    .colab-df-container {\n",
       "      display:flex;\n",
       "      flex-wrap:wrap;\n",
       "      gap: 12px;\n",
       "    }\n",
       "\n",
       "    .colab-df-convert {\n",
       "      background-color: #E8F0FE;\n",
       "      border: none;\n",
       "      border-radius: 50%;\n",
       "      cursor: pointer;\n",
       "      display: none;\n",
       "      fill: #1967D2;\n",
       "      height: 32px;\n",
       "      padding: 0 0 0 0;\n",
       "      width: 32px;\n",
       "    }\n",
       "\n",
       "    .colab-df-convert:hover {\n",
       "      background-color: #E2EBFA;\n",
       "      box-shadow: 0px 1px 2px rgba(60, 64, 67, 0.3), 0px 1px 3px 1px rgba(60, 64, 67, 0.15);\n",
       "      fill: #174EA6;\n",
       "    }\n",
       "\n",
       "    [theme=dark] .colab-df-convert {\n",
       "      background-color: #3B4455;\n",
       "      fill: #D2E3FC;\n",
       "    }\n",
       "\n",
       "    [theme=dark] .colab-df-convert:hover {\n",
       "      background-color: #434B5C;\n",
       "      box-shadow: 0px 1px 3px 1px rgba(0, 0, 0, 0.15);\n",
       "      filter: drop-shadow(0px 1px 2px rgba(0, 0, 0, 0.3));\n",
       "      fill: #FFFFFF;\n",
       "    }\n",
       "  </style>\n",
       "\n",
       "      <script>\n",
       "        const buttonEl =\n",
       "          document.querySelector('#df-bcb7ca81-9ba5-4985-92df-37155e4f6520 button.colab-df-convert');\n",
       "        buttonEl.style.display =\n",
       "          google.colab.kernel.accessAllowed ? 'block' : 'none';\n",
       "\n",
       "        async function convertToInteractive(key) {\n",
       "          const element = document.querySelector('#df-bcb7ca81-9ba5-4985-92df-37155e4f6520');\n",
       "          const dataTable =\n",
       "            await google.colab.kernel.invokeFunction('convertToInteractive',\n",
       "                                                     [key], {});\n",
       "          if (!dataTable) return;\n",
       "\n",
       "          const docLinkHtml = 'Like what you see? Visit the ' +\n",
       "            '<a target=\"_blank\" href=https://colab.research.google.com/notebooks/data_table.ipynb>data table notebook</a>'\n",
       "            + ' to learn more about interactive tables.';\n",
       "          element.innerHTML = '';\n",
       "          dataTable['output_type'] = 'display_data';\n",
       "          await google.colab.output.renderOutput(dataTable, element);\n",
       "          const docLink = document.createElement('div');\n",
       "          docLink.innerHTML = docLinkHtml;\n",
       "          element.appendChild(docLink);\n",
       "        }\n",
       "      </script>\n",
       "    </div>\n",
       "  </div>\n",
       "  "
      ]
     },
     "metadata": {},
     "execution_count": 71
    }
   ],
   "source": [
    "df = df[['sequence', 'e_isActive']]\n",
    "df.head()"
   ]
  },
  {
   "cell_type": "code",
   "execution_count": null,
   "metadata": {
    "colab": {
     "base_uri": "https://localhost:8080/"
    },
    "id": "tsSoI1OBOHXh",
    "outputId": "176fe7db-7fdf-4b63-e7ed-93b92fefe6f0"
   },
   "outputs": [
    {
     "output_type": "execute_result",
     "data": {
      "text/plain": [
       "20"
      ]
     },
     "metadata": {},
     "execution_count": 72
    }
   ],
   "source": [
    "df.sequence.map(lambda x: len(x)).max()"
   ]
  },
  {
   "cell_type": "code",
   "execution_count": null,
   "metadata": {
    "colab": {
     "base_uri": "https://localhost:8080/",
     "height": 111
    },
    "id": "Or5fsvQci2PX",
    "outputId": "e5b052d5-a399-483b-ae34-e7cb542d5ed0"
   },
   "outputs": [
    {
     "output_type": "execute_result",
     "data": {
      "text/plain": [
       "   e_isActive  counts\n",
       "0       False     571\n",
       "1        True     572"
      ],
      "text/html": [
       "\n",
       "  <div id=\"df-b6ad6b81-e25f-43d1-9953-4461d59f7192\">\n",
       "    <div class=\"colab-df-container\">\n",
       "      <div>\n",
       "<style scoped>\n",
       "    .dataframe tbody tr th:only-of-type {\n",
       "        vertical-align: middle;\n",
       "    }\n",
       "\n",
       "    .dataframe tbody tr th {\n",
       "        vertical-align: top;\n",
       "    }\n",
       "\n",
       "    .dataframe thead th {\n",
       "        text-align: right;\n",
       "    }\n",
       "</style>\n",
       "<table border=\"1\" class=\"dataframe\">\n",
       "  <thead>\n",
       "    <tr style=\"text-align: right;\">\n",
       "      <th></th>\n",
       "      <th>e_isActive</th>\n",
       "      <th>counts</th>\n",
       "    </tr>\n",
       "  </thead>\n",
       "  <tbody>\n",
       "    <tr>\n",
       "      <th>0</th>\n",
       "      <td>False</td>\n",
       "      <td>571</td>\n",
       "    </tr>\n",
       "    <tr>\n",
       "      <th>1</th>\n",
       "      <td>True</td>\n",
       "      <td>572</td>\n",
       "    </tr>\n",
       "  </tbody>\n",
       "</table>\n",
       "</div>\n",
       "      <button class=\"colab-df-convert\" onclick=\"convertToInteractive('df-b6ad6b81-e25f-43d1-9953-4461d59f7192')\"\n",
       "              title=\"Convert this dataframe to an interactive table.\"\n",
       "              style=\"display:none;\">\n",
       "        \n",
       "  <svg xmlns=\"http://www.w3.org/2000/svg\" height=\"24px\"viewBox=\"0 0 24 24\"\n",
       "       width=\"24px\">\n",
       "    <path d=\"M0 0h24v24H0V0z\" fill=\"none\"/>\n",
       "    <path d=\"M18.56 5.44l.94 2.06.94-2.06 2.06-.94-2.06-.94-.94-2.06-.94 2.06-2.06.94zm-11 1L8.5 8.5l.94-2.06 2.06-.94-2.06-.94L8.5 2.5l-.94 2.06-2.06.94zm10 10l.94 2.06.94-2.06 2.06-.94-2.06-.94-.94-2.06-.94 2.06-2.06.94z\"/><path d=\"M17.41 7.96l-1.37-1.37c-.4-.4-.92-.59-1.43-.59-.52 0-1.04.2-1.43.59L10.3 9.45l-7.72 7.72c-.78.78-.78 2.05 0 2.83L4 21.41c.39.39.9.59 1.41.59.51 0 1.02-.2 1.41-.59l7.78-7.78 2.81-2.81c.8-.78.8-2.07 0-2.86zM5.41 20L4 18.59l7.72-7.72 1.47 1.35L5.41 20z\"/>\n",
       "  </svg>\n",
       "      </button>\n",
       "      \n",
       "  <style>\n",
       "    .colab-df-container {\n",
       "      display:flex;\n",
       "      flex-wrap:wrap;\n",
       "      gap: 12px;\n",
       "    }\n",
       "\n",
       "    .colab-df-convert {\n",
       "      background-color: #E8F0FE;\n",
       "      border: none;\n",
       "      border-radius: 50%;\n",
       "      cursor: pointer;\n",
       "      display: none;\n",
       "      fill: #1967D2;\n",
       "      height: 32px;\n",
       "      padding: 0 0 0 0;\n",
       "      width: 32px;\n",
       "    }\n",
       "\n",
       "    .colab-df-convert:hover {\n",
       "      background-color: #E2EBFA;\n",
       "      box-shadow: 0px 1px 2px rgba(60, 64, 67, 0.3), 0px 1px 3px 1px rgba(60, 64, 67, 0.15);\n",
       "      fill: #174EA6;\n",
       "    }\n",
       "\n",
       "    [theme=dark] .colab-df-convert {\n",
       "      background-color: #3B4455;\n",
       "      fill: #D2E3FC;\n",
       "    }\n",
       "\n",
       "    [theme=dark] .colab-df-convert:hover {\n",
       "      background-color: #434B5C;\n",
       "      box-shadow: 0px 1px 3px 1px rgba(0, 0, 0, 0.15);\n",
       "      filter: drop-shadow(0px 1px 2px rgba(0, 0, 0, 0.3));\n",
       "      fill: #FFFFFF;\n",
       "    }\n",
       "  </style>\n",
       "\n",
       "      <script>\n",
       "        const buttonEl =\n",
       "          document.querySelector('#df-b6ad6b81-e25f-43d1-9953-4461d59f7192 button.colab-df-convert');\n",
       "        buttonEl.style.display =\n",
       "          google.colab.kernel.accessAllowed ? 'block' : 'none';\n",
       "\n",
       "        async function convertToInteractive(key) {\n",
       "          const element = document.querySelector('#df-b6ad6b81-e25f-43d1-9953-4461d59f7192');\n",
       "          const dataTable =\n",
       "            await google.colab.kernel.invokeFunction('convertToInteractive',\n",
       "                                                     [key], {});\n",
       "          if (!dataTable) return;\n",
       "\n",
       "          const docLinkHtml = 'Like what you see? Visit the ' +\n",
       "            '<a target=\"_blank\" href=https://colab.research.google.com/notebooks/data_table.ipynb>data table notebook</a>'\n",
       "            + ' to learn more about interactive tables.';\n",
       "          element.innerHTML = '';\n",
       "          dataTable['output_type'] = 'display_data';\n",
       "          await google.colab.output.renderOutput(dataTable, element);\n",
       "          const docLink = document.createElement('div');\n",
       "          docLink.innerHTML = docLinkHtml;\n",
       "          element.appendChild(docLink);\n",
       "        }\n",
       "      </script>\n",
       "    </div>\n",
       "  </div>\n",
       "  "
      ]
     },
     "metadata": {},
     "execution_count": 73
    }
   ],
   "source": [
    "# statistics about positive and negative samples\n",
    "groupActivityStatistic = df.groupby(['e_isActive']).size().reset_index(name='counts')\n",
    "groupActivityStatistic"
   ]
  },
  {
   "cell_type": "code",
   "execution_count": null,
   "metadata": {
    "id": "4zAbC2ctDFda"
   },
   "outputs": [],
   "source": [
    "# Split dataset into training (4/5) and test (1/5) sets; out of every 5 sequences, grab the 3rd for the test set\n",
    "# Dataset will already be sorted by MIC primarily (meaning negative controls are at the bottom) and sequence length secondarily in Excel\n",
    "included_sequences = df['sequence'].to_list()\n",
    "included_MICs = df['e_isActive'].to_list()\n",
    "\n",
    "training_sequences = df['sequence'].to_list()\n",
    "del training_sequences[2::5]\n",
    "test_sequences = included_sequences[2::5] # Grabs the 3rd sequence every 5 steps\n",
    "training_MICs = df['e_isActive'].to_list()\n",
    "del training_MICs[2::5]\n",
    "test_MICs = included_MICs[2::5]"
   ]
  },
  {
   "cell_type": "code",
   "execution_count": null,
   "metadata": {
    "id": "6WYoBwzXKFBq"
   },
   "outputs": [],
   "source": [
    "# Zip corresponding sequences and labels together\n",
    "training_set = list(zip(training_sequences, training_MICs))\n",
    "test_set = list(zip(test_sequences, test_MICs))"
   ]
  },
  {
   "cell_type": "code",
   "execution_count": null,
   "metadata": {
    "colab": {
     "base_uri": "https://localhost:8080/"
    },
    "id": "9z3MR3vwVRo1",
    "outputId": "7c6ebb48-cc55-4ea2-c4a5-faf7de5d5262"
   },
   "outputs": [
    {
     "output_type": "execute_result",
     "data": {
      "text/plain": [
       "914"
      ]
     },
     "metadata": {},
     "execution_count": 76
    }
   ],
   "source": [
    "len(training_set)"
   ]
  },
  {
   "cell_type": "code",
   "execution_count": null,
   "metadata": {
    "colab": {
     "base_uri": "https://localhost:8080/"
    },
    "id": "M2ATzjvFrvvU",
    "outputId": "2be1dee9-168a-40ba-8c10-5dab9ed6c360"
   },
   "outputs": [
    {
     "output_type": "execute_result",
     "data": {
      "text/plain": [
       "Counter({True: 458, False: 456})"
      ]
     },
     "metadata": {},
     "execution_count": 77
    }
   ],
   "source": [
    "from collections import Counter\n",
    "Counter(elem[1] for elem in training_set)"
   ]
  },
  {
   "cell_type": "code",
   "execution_count": null,
   "metadata": {
    "colab": {
     "base_uri": "https://localhost:8080/"
    },
    "id": "ns-WzIcm26YV",
    "outputId": "8614f8a1-c4f6-4a27-c9aa-c627826c33bd"
   },
   "outputs": [
    {
     "output_type": "execute_result",
     "data": {
      "text/plain": [
       "229"
      ]
     },
     "metadata": {},
     "execution_count": 78
    }
   ],
   "source": [
    "len(test_set)"
   ]
  },
  {
   "cell_type": "code",
   "execution_count": null,
   "metadata": {
    "colab": {
     "base_uri": "https://localhost:8080/"
    },
    "id": "6gsMV5lcsglV",
    "outputId": "4c398dc2-3cc9-4771-91ce-be5e3b50b7b6"
   },
   "outputs": [
    {
     "output_type": "execute_result",
     "data": {
      "text/plain": [
       "Counter({True: 114, False: 115})"
      ]
     },
     "metadata": {},
     "execution_count": 79
    }
   ],
   "source": [
    "Counter(elem[1] for elem in test_set)"
   ]
  },
  {
   "cell_type": "code",
   "execution_count": null,
   "metadata": {
    "id": "Sutr7mHqKM0O"
   },
   "outputs": [],
   "source": [
    "# Shuffle sequences and labels, with corresponding sequences and labels kept together\n",
    "# Split the sequences and labels in training_set and test_set into separate lists again\n",
    "random.seed(16)\n",
    "random.shuffle(training_set)\n",
    "training_sequences, training_MICs = zip(*training_set)\n",
    "random.shuffle(test_set)\n",
    "test_sequences, test_MICs = zip(*test_set)"
   ]
  },
  {
   "cell_type": "code",
   "execution_count": null,
   "metadata": {
    "id": "LT-y-FUOtBBt"
   },
   "outputs": [],
   "source": [
    "# Function for zero-padding the sequences\n",
    "def padding(sequences):\n",
    "    padded_sequences = []\n",
    "    for i in range(0, len(sequences)):\n",
    "        if len(sequences[i]) == maxlength:\n",
    "            padded_sequences.append(sequences[i])\n",
    "        else:\n",
    "            padded_sequences.append(sequences[i] + \"0\" * (maxlength - len(sequences[i])))\n",
    "    return padded_sequences"
   ]
  },
  {
   "cell_type": "code",
   "execution_count": null,
   "metadata": {
    "id": "_4XGktqmuQKB"
   },
   "outputs": [],
   "source": [
    "# Pad the training sequences and test sequences\n",
    "padded_training_sequences = padding(training_sequences)\n",
    "padded_test_sequences = padding(test_sequences)"
   ]
  },
  {
   "cell_type": "code",
   "execution_count": null,
   "metadata": {
    "id": "sgwAOYXEui8w"
   },
   "outputs": [],
   "source": [
    "# Mapping of unique characters to integers\n",
    "chars = ['A', 'D', 'E', 'F', 'G', 'H', 'I', 'K', 'L', 'M', 'N', 'P', 'Q', 'R', 'S', 'T', 'V', 'W', 'Y', '0']\n",
    "token_index = dict(zip(chars, range(0, 20)))"
   ]
  },
  {
   "cell_type": "code",
   "execution_count": null,
   "metadata": {
    "id": "RQoi_wq7uloE"
   },
   "outputs": [],
   "source": [
    "# Function for one-hot encoding sequences into binary arrays\n",
    "def one_hot_encode(sequences):\n",
    "    x = np.zeros((len(sequences), maxlength, len(chars))) \n",
    "    for i, sequence in enumerate(sequences): \n",
    "        for j, char in enumerate(sequence[0 : 20]): \n",
    "            index = token_index.get(char) \n",
    "            x[i, j, index] = 1 \n",
    "    return x"
   ]
  },
  {
   "cell_type": "code",
   "execution_count": null,
   "metadata": {
    "colab": {
     "base_uri": "https://localhost:8080/"
    },
    "id": "xJE1_j7EuoXU",
    "outputId": "c52f2001-1994-48df-ceac-bb8327099eca"
   },
   "outputs": [
    {
     "output_type": "stream",
     "name": "stdout",
     "text": [
      "One-hot encoding the sequences...\n"
     ]
    }
   ],
   "source": [
    "# One-hot encode training and test sequences\n",
    "print('One-hot encoding the sequences...')\n",
    "# x_train list contains one-hot encoded versions of the 20 residues of each training sequence\n",
    "x_train = one_hot_encode(padded_training_sequences) \n",
    "# x_test list contains one-hot encoded versions of the 20 residues of each test sequence\n",
    "x_test = one_hot_encode(padded_test_sequences) "
   ]
  },
  {
   "cell_type": "code",
   "execution_count": null,
   "metadata": {
    "colab": {
     "base_uri": "https://localhost:8080/"
    },
    "id": "5Fcz3eMrxqQg",
    "outputId": "29b47ae3-7fc7-4cd5-c2b1-ac23369ac83b"
   },
   "outputs": [
    {
     "output_type": "execute_result",
     "data": {
      "text/plain": [
       "914"
      ]
     },
     "metadata": {},
     "execution_count": 87
    }
   ],
   "source": [
    "len(x_train)"
   ]
  },
  {
   "cell_type": "code",
   "execution_count": null,
   "metadata": {
    "id": "zTMkzvTOuxT-"
   },
   "outputs": [],
   "source": [
    "# Vectorize labels\n",
    "y_train = np.asarray(training_MICs).astype('float64')\n",
    "y_test = np.asarray(test_MICs).astype('float64')"
   ]
  },
  {
   "cell_type": "code",
   "execution_count": null,
   "metadata": {
    "colab": {
     "base_uri": "https://localhost:8080/"
    },
    "id": "UFAh6rNVxzho",
    "outputId": "be4db847-e0fa-4dad-84e3-fa96d649280e"
   },
   "outputs": [
    {
     "output_type": "execute_result",
     "data": {
      "text/plain": [
       "914"
      ]
     },
     "metadata": {},
     "execution_count": 89
    }
   ],
   "source": [
    "len(y_train)"
   ]
  },
  {
   "cell_type": "code",
   "execution_count": null,
   "metadata": {
    "colab": {
     "base_uri": "https://localhost:8080/"
    },
    "id": "AIC3SrxSEhGV",
    "outputId": "ea90405b-9046-4ea4-9c7f-5ff888592d23"
   },
   "outputs": [
    {
     "output_type": "execute_result",
     "data": {
      "text/plain": [
       "229"
      ]
     },
     "metadata": {},
     "execution_count": 90
    }
   ],
   "source": [
    "len(x_test)"
   ]
  },
  {
   "cell_type": "markdown",
   "metadata": {
    "id": "vNSP7FHuvAxC"
   },
   "source": [
    "### Preparing The Model"
   ]
  },
  {
   "cell_type": "code",
   "execution_count": null,
   "metadata": {
    "id": "Gs1D5t3Xu_2r"
   },
   "outputs": [],
   "source": [
    "METRICS = [\n",
    "      keras.metrics.TruePositives(name='tp'),\n",
    "      keras.metrics.FalsePositives(name='fp'),\n",
    "      keras.metrics.TrueNegatives(name='tn'),\n",
    "      keras.metrics.FalseNegatives(name='fn'), \n",
    "      keras.metrics.BinaryAccuracy(name='accuracy'),\n",
    "      keras.metrics.Precision(name='precision'),\n",
    "      keras.metrics.Recall(name='recall'),\n",
    "      keras.metrics.AUC(name='auc'),\n",
    "      keras.metrics.AUC(name='prc', curve='PR'), # precision-recall curve\n",
    "]\n",
    "\n",
    "# Callbacks (checkpoints to save model weights each time it improves, stops training when there is no improvement)\n",
    "callbacks = [keras.callbacks.EarlyStopping(monitor = 'acc', patience = 5, mode = 'max'), \n",
    "             keras.callbacks.ModelCheckpoint(filepath = '/content/sample_data/cnn_lstm_att_ecoli_main_classification_model_v1.h5', monitor = 'acc', \n",
    "                                             verbose = 0, save_best_only = True, mode = 'max')]"
   ]
  },
  {
   "cell_type": "code",
   "execution_count": null,
   "metadata": {
    "id": "j_FdrY14vG2r"
   },
   "outputs": [],
   "source": [
    "\n",
    "# Function that builds model\n",
    "def build_model(hp):\n",
    "    model = tf.keras.models.Sequential() # Sequential model\n",
    "    # Tune the number of units in the LSTM layer; picks an optimal value between 32-512\n",
    "    hp_units = hp.Int('units', min_value = 32, max_value = 512, step = 32)\n",
    "    # Add CNN layer\n",
    "    model.add(layers.Conv1D(filters=32, kernel_size=3, padding='same', activation='relu',input_shape=(maxlength, len(chars))))\n",
    "    model.add(layers.MaxPooling1D(pool_size=2))\n",
    "    # Add a bidirectional LSTM layer\n",
    "    model.add(layers.Bidirectional(layers.LSTM(hp_units, return_sequences = True), input_shape = (maxlength, len(chars))))\n",
    "    model.add(layers.Bidirectional(layers.LSTM(hp_units, return_sequences = True), input_shape = (maxlength, len(chars))))\n",
    "    model.add(SeqSelfAttention(attention_activation='softmax'))\n",
    "    #model.add(layers.Attention())\n",
    "   # model.add(BahdanauAttention(hp_units))\n",
    "    # Picks an optimal value of dropout between\n",
    "    hp_dropout = hp.Float('dropout', min_value = 0.3, max_value = 0.7, step = 0.1)\n",
    "    model.add(layers.Dropout(hp_dropout)) # Adds a Dropout layer\n",
    "    model.add(layers.Flatten())\n",
    "    model.add(layers.Dense(1, activation = 'sigmoid')) # Sigmoid last-layer activation\n",
    "    # Tune the learning rate; picks an optimal value from the different learning rates  [1e-1, 1e-2, 2e-2, 3e-2, 1e-3, 1e-4]\n",
    "    hp_learning_rate = hp.Choice('learning_rate', values = [3e-3])\n",
    "    model.compile(loss = 'binary_crossentropy', optimizer = keras.optimizers.RMSprop(hp_learning_rate), metrics = ['acc'])\n",
    "    # Saving the weights of the model before training start, so we can reset the weights if needed\n",
    "    model.save_weights('/content/sample_data/initial_cnn_lstm_att_ecoli_main_classification_model_v1.h5') \n",
    "    return model"
   ]
  },
  {
   "cell_type": "code",
   "execution_count": null,
   "metadata": {
    "id": "aWOxmmeEvLoX"
   },
   "outputs": [],
   "source": [
    "# Subclassing keras tuner to support cross-validation\n",
    "class tuner_crossvalidation(kt.engine.tuner.Tuner):\n",
    "    def run_trial(self, trial, x_train, y_train, batch_size = batch_size, epochs = epochs, callbacks = callbacks):\n",
    "        val_accuracies = []\n",
    "        for train_indices, test_indices in crossvalidation.split(x_train):\n",
    "            x_cvtrain, x_cvtest = x_train[train_indices], x_train[test_indices]\n",
    "            y_cvtrain, y_cvtest = y_train[train_indices], y_train[test_indices]\n",
    "            model = self.hypermodel.build(trial.hyperparameters)\n",
    "            model.fit(x_cvtrain, y_cvtrain, batch_size = batch_size, epochs = epochs, callbacks = callbacks)\n",
    "            val_accuracies.append(model.evaluate(x_cvtest, y_cvtest))\n",
    "        self.oracle.update_trial(trial.trial_id, {'val_acc': np.mean(val_accuracies)})\n",
    "        self.save_model(trial.trial_id, model)"
   ]
  },
  {
   "cell_type": "code",
   "execution_count": null,
   "metadata": {
    "id": "9Ou4qqzaTRYQ"
   },
   "outputs": [],
   "source": [
    "tuner = tuner_crossvalidation(hypermodel = build_model, \n",
    "                              oracle = kt.oracles.BayesianOptimization(objective = 'val_acc', max_trials = 11))"
   ]
  },
  {
   "cell_type": "code",
   "execution_count": null,
   "metadata": {
    "colab": {
     "base_uri": "https://localhost:8080/"
    },
    "id": "J2nABy4wvN3S",
    "outputId": "706c3261-9a28-40c7-9633-abc78f65ce5e"
   },
   "outputs": [
    {
     "output_type": "stream",
     "name": "stdout",
     "text": [
      "Search space summary\n",
      "Default search space size: 3\n",
      "units (Int)\n",
      "{'default': None, 'conditions': [], 'min_value': 32, 'max_value': 512, 'step': 32, 'sampling': None}\n",
      "dropout (Float)\n",
      "{'default': 0.3, 'conditions': [], 'min_value': 0.3, 'max_value': 0.7, 'step': 0.1, 'sampling': None}\n",
      "learning_rate (Choice)\n",
      "{'default': 0.003, 'conditions': [], 'values': [0.003], 'ordered': True}\n"
     ]
    }
   ],
   "source": [
    "# Show search space summary\n",
    "tuner.search_space_summary()"
   ]
  },
  {
   "cell_type": "markdown",
   "metadata": {
    "id": "8b7YIAQFvRcs"
   },
   "source": [
    "### Find Best Tuning Params"
   ]
  },
  {
   "cell_type": "code",
   "execution_count": null,
   "metadata": {
    "colab": {
     "base_uri": "https://localhost:8080/"
    },
    "id": "xyCCUsSKvSbV",
    "outputId": "33b9131d-f07e-41c3-e773-7e152de48903"
   },
   "outputs": [
    {
     "output_type": "stream",
     "name": "stdout",
     "text": [
      "Trial 11 Complete [00h 01m 17s]\n",
      "val_acc: 0.6970419988036156\n",
      "\n",
      "Best val_acc So Far: 0.8881943643093109\n",
      "Total elapsed time: 00h 16m 25s\n"
     ]
    }
   ],
   "source": [
    "# Run the hyperparameter search\n",
    "tuner.search(x_train, y_train, batch_size = batch_size, epochs = epochs, callbacks = callbacks)\n",
    "best_model = tuner.get_best_models()[0]"
   ]
  },
  {
   "cell_type": "code",
   "execution_count": null,
   "metadata": {
    "colab": {
     "base_uri": "https://localhost:8080/"
    },
    "id": "wsuURtxivWFs",
    "outputId": "38bd033f-292a-4e90-8e2e-75d701f40a9c"
   },
   "outputs": [
    {
     "output_type": "stream",
     "name": "stdout",
     "text": [
      "\n",
      "Completed hyperparameter search. The optimal number of units in the LSTM\n",
      "layer is 192. The optimal dropout for the dropout layer is 0.5.\n",
      "The optimal learning rate for the optimizer is 0.003. \n",
      "\n"
     ]
    }
   ],
   "source": [
    "# Get the best hyperparameters\n",
    "best_hps = tuner.get_best_hyperparameters(num_trials = 1)[0]\n",
    "\n",
    "print(f\"\"\"\n",
    "Completed hyperparameter search. The optimal number of units in the LSTM\n",
    "layer is {best_hps.get('units')}. The optimal dropout for the dropout layer is {best_hps.get('dropout')}.\n",
    "The optimal learning rate for the optimizer is {best_hps.get('learning_rate')}. \n",
    "\"\"\")"
   ]
  },
  {
   "cell_type": "markdown",
   "metadata": {
    "id": "53B4HCrNvc-_"
   },
   "source": [
    "### Training The Model"
   ]
  },
  {
   "cell_type": "code",
   "execution_count": null,
   "metadata": {
    "id": "EpYbbFKNvdmQ"
   },
   "outputs": [],
   "source": [
    "# Function for plotting the accuracy\n",
    "def plot_acc():\n",
    "    acc = history.history['acc']\n",
    "    epochs = range(1, len(acc) + 1)\n",
    "    plt.figure(1)\n",
    "    plt.plot(epochs, acc, 'b-', label = 'Training accuracy')\n",
    "    plt.title('Training accuracy')\n",
    "    plt.xlabel('Epochs')\n",
    "    plt.ylabel('Accuracy')\n",
    "    plt.show()  "
   ]
  },
  {
   "cell_type": "code",
   "execution_count": null,
   "metadata": {
    "id": "nC3SXdo-vgnu",
    "colab": {
     "base_uri": "https://localhost:8080/"
    },
    "outputId": "72bd0b85-ad0d-4e73-b2bf-2c33ad913318"
   },
   "outputs": [
    {
     "output_type": "stream",
     "name": "stdout",
     "text": [
      "Epoch 1/500\n",
      "29/29 [==============================] - 6s 15ms/step - loss: 0.6669 - acc: 0.6346\n",
      "Epoch 2/500\n",
      "29/29 [==============================] - 0s 13ms/step - loss: 0.2771 - acc: 0.8917\n",
      "Epoch 3/500\n",
      "29/29 [==============================] - 0s 12ms/step - loss: 0.2118 - acc: 0.9234\n",
      "Epoch 4/500\n",
      "29/29 [==============================] - 0s 13ms/step - loss: 0.1707 - acc: 0.9420\n",
      "Epoch 5/500\n",
      "29/29 [==============================] - 0s 13ms/step - loss: 0.1457 - acc: 0.9420\n",
      "Epoch 6/500\n",
      "29/29 [==============================] - 0s 12ms/step - loss: 0.1427 - acc: 0.9464\n",
      "Epoch 7/500\n",
      "29/29 [==============================] - 0s 13ms/step - loss: 0.1230 - acc: 0.9562\n",
      "Epoch 8/500\n",
      "29/29 [==============================] - 0s 13ms/step - loss: 0.1032 - acc: 0.9694\n",
      "Epoch 9/500\n",
      "29/29 [==============================] - 0s 13ms/step - loss: 0.1400 - acc: 0.9464\n",
      "Epoch 10/500\n",
      "29/29 [==============================] - 0s 13ms/step - loss: 0.0516 - acc: 0.9858\n",
      "Epoch 11/500\n",
      "29/29 [==============================] - 0s 13ms/step - loss: 0.0585 - acc: 0.9759\n",
      "Epoch 12/500\n",
      "29/29 [==============================] - 0s 13ms/step - loss: 0.0483 - acc: 0.9770\n",
      "Epoch 13/500\n",
      "29/29 [==============================] - 0s 13ms/step - loss: 0.0680 - acc: 0.9902\n",
      "Epoch 14/500\n",
      "29/29 [==============================] - 0s 13ms/step - loss: 0.0291 - acc: 0.9902\n",
      "Epoch 15/500\n",
      "29/29 [==============================] - 0s 13ms/step - loss: 0.0459 - acc: 0.9880\n",
      "Epoch 16/500\n",
      "29/29 [==============================] - 0s 12ms/step - loss: 0.1031 - acc: 0.9880\n",
      "Epoch 17/500\n",
      "29/29 [==============================] - 0s 12ms/step - loss: 0.0122 - acc: 0.9934\n",
      "Epoch 18/500\n",
      "29/29 [==============================] - 0s 13ms/step - loss: 0.0453 - acc: 0.9891\n",
      "Epoch 19/500\n",
      "29/29 [==============================] - 0s 13ms/step - loss: 0.0103 - acc: 0.9978\n",
      "Epoch 20/500\n",
      "29/29 [==============================] - 0s 13ms/step - loss: 0.0304 - acc: 0.9912\n",
      "Epoch 21/500\n",
      "29/29 [==============================] - 0s 13ms/step - loss: 1.1343e-04 - acc: 1.0000\n",
      "Epoch 22/500\n",
      "29/29 [==============================] - 0s 13ms/step - loss: 9.5870e-06 - acc: 1.0000\n",
      "Epoch 23/500\n",
      "29/29 [==============================] - 0s 13ms/step - loss: 8.0882e-07 - acc: 1.0000\n",
      "Epoch 24/500\n",
      "29/29 [==============================] - 0s 13ms/step - loss: 2.6816e-07 - acc: 1.0000\n",
      "Epoch 25/500\n",
      "29/29 [==============================] - 0s 12ms/step - loss: 5.9803e-08 - acc: 1.0000\n",
      "Epoch 26/500\n",
      "29/29 [==============================] - 0s 13ms/step - loss: 2.1233e-08 - acc: 1.0000\n"
     ]
    }
   ],
   "source": [
    "# Build and train the model with most optimal hyperparameters on all training sequences; plotting the loss and accuracy\n",
    "model = tuner.hypermodel.build(best_hps)\n",
    "history = model.fit(x_train, y_train, batch_size = batch_size, epochs = epochs, callbacks = callbacks)"
   ]
  },
  {
   "cell_type": "code",
   "execution_count": null,
   "metadata": {
    "id": "tXdvQkWwvlJQ",
    "colab": {
     "base_uri": "https://localhost:8080/",
     "height": 295
    },
    "outputId": "47e5ca74-8119-4e4d-e6a1-8627c0323e51"
   },
   "outputs": [
    {
     "output_type": "display_data",
     "data": {
      "text/plain": [
       "<Figure size 432x288 with 1 Axes>"
      ],
      "image/png": "[encoded data removed]"
     },
     "metadata": {
      "needs_background": "light"
     }
    }
   ],
   "source": [
    "# Plots figure of accuracy\n",
    "plot = plot_acc()"
   ]
  },
  {
   "cell_type": "markdown",
   "metadata": {
    "id": "KMMJE6RAvnth"
   },
   "source": [
    "### Evaluatation"
   ]
  },
  {
   "cell_type": "code",
   "execution_count": null,
   "metadata": {
    "id": "0-iFBgmovoZD",
    "colab": {
     "base_uri": "https://localhost:8080/"
    },
    "outputId": "5c41b906-58eb-405c-bacf-74a13dd02011"
   },
   "outputs": [
    {
     "output_type": "stream",
     "name": "stdout",
     "text": [
      "8/8 [==============================] - 2s 9ms/step - loss: 0.5667 - acc: 0.9651\n",
      "Test score (loss value, validation accuracy):  [0.5667336583137512, 0.9650654792785645]\n"
     ]
    }
   ],
   "source": [
    "# Evaluate optimised model on a never-seen before test set\n",
    "test_score = model.evaluate(x_test, y_test)\n",
    "print('Test score (loss value, validation accuracy): ', test_score)"
   ]
  },
  {
   "cell_type": "code",
   "execution_count": null,
   "metadata": {
    "id": "RPw-6-srvsMh"
   },
   "outputs": [],
   "source": [
    "# Load our best model\n",
    "model = load_model('/content/sample_data/cnn_lstm_att_ecoli_main_classification_model_v1.h5', custom_objects={\"SeqSelfAttention\": SeqSelfAttention})"
   ]
  },
  {
   "cell_type": "code",
   "execution_count": null,
   "metadata": {
    "id": "nNAWgXVOvs3r"
   },
   "outputs": [],
   "source": [
    "# Function for plotting the ROC and AUC\n",
    "def plot_roc_auc():\n",
    "    plt.figure(2)  \n",
    "    plt.plot([0, 1], [0, 1], 'g--') # plots the diagonal line where fpr = tpr\n",
    "    plt.plot(fpr, tpr, label = 'AUC = {:.3f}'.format(roc_auc))\n",
    "    plt.scatter(fpr[max_value], tpr[max_value], marker = 'o', color = 'red', label = 'Best decision boundary = {:.5f}'.format(best_threshold))\n",
    "    plt.title('ROC curve')\n",
    "    plt.xlabel('False positive rate')\n",
    "    plt.ylabel('True positive rate')\n",
    "    plt.legend(loc = 'best')\n",
    "    plt.show"
   ]
  },
  {
   "cell_type": "code",
   "execution_count": null,
   "metadata": {
    "id": "rLO3dSLXvzW0"
   },
   "outputs": [],
   "source": [
    "# Function for plotting the confusion matrix\n",
    "def plot_conf_matrix():\n",
    "    plt.figure(3)\n",
    "    plt.imshow(conf_matrix, cmap = plt.cm.Blues)\n",
    "    plt.title('Confusion matrix')\n",
    "    plt.xlabel('Predicted label', fontweight = 'bold')\n",
    "    plt.ylabel('True label', fontweight = 'bold')\n",
    "    labels = ['Non-antimicrobial', 'Antimicrobial']\n",
    "    plt.xticks([0, 1], labels)\n",
    "    plt.yticks([0, 1], labels, rotation = 90, va = 'center')\n",
    "    thresh = conf_matrix.max()/2\n",
    "    for i, j in itertools.product(range(conf_matrix.shape[0]), range(conf_matrix.shape[1])):\n",
    "         plt.text(j, i, conf_matrix[i, j], ha = 'center', color = 'white' if conf_matrix[i, j] > thresh else \"black\")\n",
    "    plt.colorbar()\n",
    "    plt.show()"
   ]
  },
  {
   "cell_type": "code",
   "execution_count": null,
   "metadata": {
    "id": "Dd80rWAsv1sg",
    "colab": {
     "base_uri": "https://localhost:8080/",
     "height": 312
    },
    "outputId": "8d3f5c2e-40bc-48bd-a88d-bf2d6d36a944"
   },
   "outputs": [
    {
     "output_type": "stream",
     "name": "stdout",
     "text": [
      "Best threshold = 0.673793\n"
     ]
    },
    {
     "output_type": "display_data",
     "data": {
      "text/plain": [
       "<Figure size 432x288 with 1 Axes>"
      ],
      "image/png": "[encoded data removed]"
     },
     "metadata": {
      "needs_background": "light"
     }
    }
   ],
   "source": [
    "# Plot the ROC curve and AUC; determine decision boundary   \n",
    "y_pred = model.predict(x_test)\n",
    "fpr, tpr, thresholds = roc_curve(y_test, y_pred)\n",
    "roc_auc = auc(fpr, tpr)\n",
    "J = tpr - fpr # Using Youden's J statistic for calculation of best threshold\n",
    "max_value = np.argmax(J)\n",
    "best_threshold = thresholds[max_value]\n",
    "print('Best threshold = %f' % (best_threshold))\n",
    "plot2 = plot_roc_auc()"
   ]
  },
  {
   "cell_type": "code",
   "execution_count": null,
   "metadata": {
    "id": "sp4w_QTHwFAm",
    "colab": {
     "base_uri": "https://localhost:8080/",
     "height": 329
    },
    "outputId": "2077c7ea-3624-423e-d677-495d335cfa10"
   },
   "outputs": [
    {
     "output_type": "stream",
     "name": "stdout",
     "text": [
      "[[114   1]\n",
      " [  7 107]]\n"
     ]
    },
    {
     "output_type": "display_data",
     "data": {
      "text/plain": [
       "<Figure size 432x288 with 2 Axes>"
      ],
      "image/png": "[encoded data removed]"
     },
     "metadata": {
      "needs_background": "light"
     }
    }
   ],
   "source": [
    "# Plot the confusion matrix\n",
    "for i in range(len(y_pred)):\n",
    "    if y_pred[i] >= best_threshold:\n",
    "        y_pred[i] = 1\n",
    "    else: y_pred[i] = 0\n",
    "conf_matrix = confusion_matrix(y_test, y_pred)\n",
    "print(conf_matrix)\n",
    "plot3 = plot_conf_matrix()"
   ]
  },
  {
   "cell_type": "code",
   "execution_count": null,
   "metadata": {
    "id": "CmfuXQBXLBnX",
    "colab": {
     "base_uri": "https://localhost:8080/"
    },
    "outputId": "33dc412b-6b03-4fff-c883-232d9c0a449c"
   },
   "outputs": [
    {
     "output_type": "stream",
     "name": "stdout",
     "text": [
      "              precision    recall  f1-score   support\n",
      "\n",
      "         0.0       0.94      0.99      0.97       115\n",
      "         1.0       0.99      0.94      0.96       114\n",
      "\n",
      "    accuracy                           0.97       229\n",
      "   macro avg       0.97      0.96      0.97       229\n",
      "weighted avg       0.97      0.97      0.97       229\n",
      "\n"
     ]
    }
   ],
   "source": [
    "from sklearn.metrics import classification_report\n",
    "print(classification_report(y_test, y_pred))"
   ]
  },
  {
   "cell_type": "code",
   "source": [
    "from sklearn.metrics import matthews_corrcoef\n",
    "matthews_corrcoef(y_test, y_pred)"
   ],
   "metadata": {
    "colab": {
     "base_uri": "https://localhost:8080/"
    },
    "id": "0424o4qu-xnt",
    "outputId": "cc649053-b392-4222-f4ee-10778b31e17b"
   },
   "execution_count": null,
   "outputs": [
    {
     "output_type": "execute_result",
     "data": {
      "text/plain": [
       "0.9313939713091521"
      ]
     },
     "metadata": {},
     "execution_count": 110
    }
   ]
  }
 ],
 "metadata": {
  "accelerator": "GPU",
  "colab": {
   "provenance": []
  },
  "kernelspec": {
   "display_name": "Python 3",
   "name": "python3"
  },
  "language_info": {
   "name": "python"
  }
 },
 "nbformat": 4,
 "nbformat_minor": 0
}
