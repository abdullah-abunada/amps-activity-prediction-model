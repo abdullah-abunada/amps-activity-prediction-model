{
 "cells": [
  {
   "cell_type": "markdown",
   "metadata": {
    "id": "PvWfbzr5jqQf"
   },
   "source": [
    "### Importing Libraries"
   ]
  },
  {
   "cell_type": "code",
   "source": [
    "from google.colab import drive\n",
    "drive.mount('/content/drive')"
   ],
   "metadata": {
    "id": "XfiOI-eMEvi0",
    "colab": {
     "base_uri": "https://localhost:8080/"
    },
    "outputId": "482ab5e4-65ed-404a-9220-e46989d6e62d"
   },
   "execution_count": null,
   "outputs": [
    {
     "output_type": "stream",
     "name": "stdout",
     "text": [
      "Mounted at /content/drive\n"
     ]
    }
   ]
  },
  {
   "cell_type": "code",
   "execution_count": null,
   "metadata": {
    "id": "3yNakltmje5I",
    "colab": {
     "base_uri": "https://localhost:8080/"
    },
    "outputId": "40de6491-4c49-40bb-eff3-701edf7f3435"
   },
   "outputs": [
    {
     "output_type": "stream",
     "name": "stdout",
     "text": [
      "Looking in indexes: https://pypi.org/simple, https://us-python.pkg.dev/colab-wheels/public/simple/\n",
      "Collecting keras-tuner==1.0.3\n",
      "  Downloading keras_tuner-1.0.3-py3-none-any.whl (96 kB)\n",
      "\u001B[K     |████████████████████████████████| 96 kB 5.3 MB/s \n",
      "\u001B[?25hRequirement already satisfied: tensorboard in /usr/local/lib/python3.7/dist-packages (from keras-tuner==1.0.3) (2.8.0)\n",
      "Requirement already satisfied: scipy in /usr/local/lib/python3.7/dist-packages (from keras-tuner==1.0.3) (1.7.3)\n",
      "Requirement already satisfied: packaging in /usr/local/lib/python3.7/dist-packages (from keras-tuner==1.0.3) (21.3)\n",
      "Requirement already satisfied: requests in /usr/local/lib/python3.7/dist-packages (from keras-tuner==1.0.3) (2.23.0)\n",
      "Collecting kt-legacy\n",
      "  Downloading kt_legacy-1.0.4-py3-none-any.whl (9.6 kB)\n",
      "Requirement already satisfied: numpy in /usr/local/lib/python3.7/dist-packages (from keras-tuner==1.0.3) (1.21.6)\n",
      "Requirement already satisfied: ipython in /usr/local/lib/python3.7/dist-packages (from keras-tuner==1.0.3) (7.9.0)\n",
      "Requirement already satisfied: pexpect in /usr/local/lib/python3.7/dist-packages (from ipython->keras-tuner==1.0.3) (4.8.0)\n",
      "Requirement already satisfied: setuptools>=18.5 in /usr/local/lib/python3.7/dist-packages (from ipython->keras-tuner==1.0.3) (57.4.0)\n",
      "Requirement already satisfied: traitlets>=4.2 in /usr/local/lib/python3.7/dist-packages (from ipython->keras-tuner==1.0.3) (5.1.1)\n",
      "Requirement already satisfied: backcall in /usr/local/lib/python3.7/dist-packages (from ipython->keras-tuner==1.0.3) (0.2.0)\n",
      "Requirement already satisfied: pickleshare in /usr/local/lib/python3.7/dist-packages (from ipython->keras-tuner==1.0.3) (0.7.5)\n",
      "Collecting jedi>=0.10\n",
      "  Downloading jedi-0.18.1-py2.py3-none-any.whl (1.6 MB)\n",
      "\u001B[K     |████████████████████████████████| 1.6 MB 60.8 MB/s \n",
      "\u001B[?25hRequirement already satisfied: pygments in /usr/local/lib/python3.7/dist-packages (from ipython->keras-tuner==1.0.3) (2.6.1)\n",
      "Requirement already satisfied: prompt-toolkit<2.1.0,>=2.0.0 in /usr/local/lib/python3.7/dist-packages (from ipython->keras-tuner==1.0.3) (2.0.10)\n",
      "Requirement already satisfied: decorator in /usr/local/lib/python3.7/dist-packages (from ipython->keras-tuner==1.0.3) (4.4.2)\n",
      "Requirement already satisfied: parso<0.9.0,>=0.8.0 in /usr/local/lib/python3.7/dist-packages (from jedi>=0.10->ipython->keras-tuner==1.0.3) (0.8.3)\n",
      "Requirement already satisfied: wcwidth in /usr/local/lib/python3.7/dist-packages (from prompt-toolkit<2.1.0,>=2.0.0->ipython->keras-tuner==1.0.3) (0.2.5)\n",
      "Requirement already satisfied: six>=1.9.0 in /usr/local/lib/python3.7/dist-packages (from prompt-toolkit<2.1.0,>=2.0.0->ipython->keras-tuner==1.0.3) (1.15.0)\n",
      "Requirement already satisfied: pyparsing!=3.0.5,>=2.0.2 in /usr/local/lib/python3.7/dist-packages (from packaging->keras-tuner==1.0.3) (3.0.9)\n",
      "Requirement already satisfied: ptyprocess>=0.5 in /usr/local/lib/python3.7/dist-packages (from pexpect->ipython->keras-tuner==1.0.3) (0.7.0)\n",
      "Requirement already satisfied: chardet<4,>=3.0.2 in /usr/local/lib/python3.7/dist-packages (from requests->keras-tuner==1.0.3) (3.0.4)\n",
      "Requirement already satisfied: idna<3,>=2.5 in /usr/local/lib/python3.7/dist-packages (from requests->keras-tuner==1.0.3) (2.10)\n",
      "Requirement already satisfied: certifi>=2017.4.17 in /usr/local/lib/python3.7/dist-packages (from requests->keras-tuner==1.0.3) (2022.6.15)\n",
      "Requirement already satisfied: urllib3!=1.25.0,!=1.25.1,<1.26,>=1.21.1 in /usr/local/lib/python3.7/dist-packages (from requests->keras-tuner==1.0.3) (1.24.3)\n",
      "Requirement already satisfied: google-auth<3,>=1.6.3 in /usr/local/lib/python3.7/dist-packages (from tensorboard->keras-tuner==1.0.3) (1.35.0)\n",
      "Requirement already satisfied: google-auth-oauthlib<0.5,>=0.4.1 in /usr/local/lib/python3.7/dist-packages (from tensorboard->keras-tuner==1.0.3) (0.4.6)\n",
      "Requirement already satisfied: markdown>=2.6.8 in /usr/local/lib/python3.7/dist-packages (from tensorboard->keras-tuner==1.0.3) (3.4.1)\n",
      "Requirement already satisfied: wheel>=0.26 in /usr/local/lib/python3.7/dist-packages (from tensorboard->keras-tuner==1.0.3) (0.37.1)\n",
      "Requirement already satisfied: werkzeug>=0.11.15 in /usr/local/lib/python3.7/dist-packages (from tensorboard->keras-tuner==1.0.3) (1.0.1)\n",
      "Requirement already satisfied: grpcio>=1.24.3 in /usr/local/lib/python3.7/dist-packages (from tensorboard->keras-tuner==1.0.3) (1.47.0)\n",
      "Requirement already satisfied: tensorboard-plugin-wit>=1.6.0 in /usr/local/lib/python3.7/dist-packages (from tensorboard->keras-tuner==1.0.3) (1.8.1)\n",
      "Requirement already satisfied: absl-py>=0.4 in /usr/local/lib/python3.7/dist-packages (from tensorboard->keras-tuner==1.0.3) (1.2.0)\n",
      "Requirement already satisfied: protobuf>=3.6.0 in /usr/local/lib/python3.7/dist-packages (from tensorboard->keras-tuner==1.0.3) (3.17.3)\n",
      "Requirement already satisfied: tensorboard-data-server<0.7.0,>=0.6.0 in /usr/local/lib/python3.7/dist-packages (from tensorboard->keras-tuner==1.0.3) (0.6.1)\n",
      "Requirement already satisfied: rsa<5,>=3.1.4 in /usr/local/lib/python3.7/dist-packages (from google-auth<3,>=1.6.3->tensorboard->keras-tuner==1.0.3) (4.9)\n",
      "Requirement already satisfied: cachetools<5.0,>=2.0.0 in /usr/local/lib/python3.7/dist-packages (from google-auth<3,>=1.6.3->tensorboard->keras-tuner==1.0.3) (4.2.4)\n",
      "Requirement already satisfied: pyasn1-modules>=0.2.1 in /usr/local/lib/python3.7/dist-packages (from google-auth<3,>=1.6.3->tensorboard->keras-tuner==1.0.3) (0.2.8)\n",
      "Requirement already satisfied: requests-oauthlib>=0.7.0 in /usr/local/lib/python3.7/dist-packages (from google-auth-oauthlib<0.5,>=0.4.1->tensorboard->keras-tuner==1.0.3) (1.3.1)\n",
      "Requirement already satisfied: importlib-metadata>=4.4 in /usr/local/lib/python3.7/dist-packages (from markdown>=2.6.8->tensorboard->keras-tuner==1.0.3) (4.12.0)\n",
      "Requirement already satisfied: zipp>=0.5 in /usr/local/lib/python3.7/dist-packages (from importlib-metadata>=4.4->markdown>=2.6.8->tensorboard->keras-tuner==1.0.3) (3.8.1)\n",
      "Requirement already satisfied: typing-extensions>=3.6.4 in /usr/local/lib/python3.7/dist-packages (from importlib-metadata>=4.4->markdown>=2.6.8->tensorboard->keras-tuner==1.0.3) (4.1.1)\n",
      "Requirement already satisfied: pyasn1<0.5.0,>=0.4.6 in /usr/local/lib/python3.7/dist-packages (from pyasn1-modules>=0.2.1->google-auth<3,>=1.6.3->tensorboard->keras-tuner==1.0.3) (0.4.8)\n",
      "Requirement already satisfied: oauthlib>=3.0.0 in /usr/local/lib/python3.7/dist-packages (from requests-oauthlib>=0.7.0->google-auth-oauthlib<0.5,>=0.4.1->tensorboard->keras-tuner==1.0.3) (3.2.0)\n",
      "Installing collected packages: jedi, kt-legacy, keras-tuner\n",
      "Successfully installed jedi-0.18.1 keras-tuner-1.0.3 kt-legacy-1.0.4\n"
     ]
    }
   ],
   "source": [
    "!pip install keras-tuner==1.0.3"
   ]
  },
  {
   "cell_type": "code",
   "execution_count": null,
   "metadata": {
    "colab": {
     "base_uri": "https://localhost:8080/"
    },
    "id": "ZpibH7SX_qH1",
    "outputId": "3b9f6795-936b-4d27-834c-69532175df6f"
   },
   "outputs": [
    {
     "output_type": "stream",
     "name": "stdout",
     "text": [
      "Looking in indexes: https://pypi.org/simple, https://us-python.pkg.dev/colab-wheels/public/simple/\n",
      "Collecting keras-self-attention\n",
      "  Downloading keras-self-attention-0.51.0.tar.gz (11 kB)\n",
      "Requirement already satisfied: numpy in /usr/local/lib/python3.7/dist-packages (from keras-self-attention) (1.21.6)\n",
      "Building wheels for collected packages: keras-self-attention\n",
      "  Building wheel for keras-self-attention (setup.py) ... \u001B[?25l\u001B[?25hdone\n",
      "  Created wheel for keras-self-attention: filename=keras_self_attention-0.51.0-py3-none-any.whl size=18912 sha256=fcb0179b83c3df20b7ba0ec62985c106be3e61743466fc886e01a45a252fff88\n",
      "  Stored in directory: /root/.cache/pip/wheels/95/b1/a8/5ee00cc137940b2f6fa198212e8f45d813d0e0d9c3a04035a3\n",
      "Successfully built keras-self-attention\n",
      "Installing collected packages: keras-self-attention\n",
      "Successfully installed keras-self-attention-0.51.0\n"
     ]
    }
   ],
   "source": [
    "!pip install keras-self-attention"
   ]
  },
  {
   "cell_type": "code",
   "execution_count": null,
   "metadata": {
    "id": "wwjYAdhNjrdQ"
   },
   "outputs": [],
   "source": [
    "import keras_tuner as kt \n",
    "import tensorflow as tf\n",
    "import numpy as np\n",
    "import matplotlib.pyplot as plt\n",
    "import pandas as pd\n",
    "import random\n",
    "import itertools\n",
    "import operator\n",
    "from tensorflow import keras\n",
    "from tensorflow.keras import layers\n",
    "from tensorflow.keras.models import load_model\n",
    "from pathlib import Path\n",
    "from sklearn.model_selection import KFold\n",
    "from sklearn.utils import resample\n",
    "from sklearn.metrics import roc_curve, auc, confusion_matrix\n",
    "import seaborn as sns\n",
    "from keras.layers import Layer\n",
    "from keras_self_attention import SeqSelfAttention\n",
    "import keras.backend as K\n",
    "from collections import Counter\n",
    "import itertools\n",
    "import operator"
   ]
  },
  {
   "cell_type": "markdown",
   "metadata": {
    "id": "shDLaG5vjxjO"
   },
   "source": [
    "### Init Parameters"
   ]
  },
  {
   "cell_type": "code",
   "execution_count": null,
   "metadata": {
    "id": "eWZUx58zjwzF"
   },
   "outputs": [],
   "source": [
    "maxlength = 20 # Maximum length of each sequence\n",
    "crossvalidation = KFold(5) # k-fold cross-validation\n",
    "epochs = 500 # Number of epochs\n",
    "batch_size = 32 # Batch size\n",
    "imbalanced = False # Turn off if dataset is not unbalanced\n",
    "MIC_cutoff = 25"
   ]
  },
  {
   "cell_type": "code",
   "execution_count": null,
   "metadata": {
    "colab": {
     "base_uri": "https://localhost:8080/"
    },
    "id": "zkP6kDh8j3Dh",
    "outputId": "624014fa-5d98-4863-de79-1355f05e7600"
   },
   "outputs": [
    {
     "output_type": "stream",
     "name": "stdout",
     "text": [
      "Number of sequences: 4821\n"
     ]
    }
   ],
   "source": [
    "# Transforming csv file into pandas dataframe, then transferring sequences and MICs to separate lists\n",
    "classification_sequences = pd.read_csv('/Datasets/ecoli/activity_ecoli_strains_dataset_v1.csv');\n",
    "#classification_sequences = classification_sequences.loc[(classification_sequences.e_coli > 0)]\n",
    "amps_sequences = classification_sequences['sequence'].to_list()\n",
    "print('Number of sequences:', len(amps_sequences)) # Displays the number of total sequences"
   ]
  },
  {
   "cell_type": "code",
   "execution_count": null,
   "metadata": {
    "id": "KTh6Gu3xRu9B"
   },
   "outputs": [],
   "source": [
    "classification_sequences['seqLength'] = classification_sequences['sequence'].map(lambda x: len(str(x)))"
   ]
  },
  {
   "cell_type": "code",
   "execution_count": null,
   "metadata": {
    "colab": {
     "base_uri": "https://localhost:8080/"
    },
    "id": "sMWHHZnJSXTY",
    "outputId": "6973f069-b74c-4fd9-b758-a2ba0f728657"
   },
   "outputs": [
    {
     "output_type": "execute_result",
     "data": {
      "text/plain": [
       "count    4821.000000\n",
       "mean       19.627878\n",
       "std        11.364924\n",
       "min         1.000000\n",
       "25%        13.000000\n",
       "50%        17.000000\n",
       "75%        24.000000\n",
       "max       140.000000\n",
       "Name: seqLength, dtype: float64"
      ]
     },
     "metadata": {},
     "execution_count": 9
    }
   ],
   "source": [
    "classification_sequences[\"seqLength\"].describe()"
   ]
  },
  {
   "cell_type": "code",
   "execution_count": null,
   "metadata": {
    "colab": {
     "base_uri": "https://localhost:8080/",
     "height": 460
    },
    "id": "knYIkMuFSsx-",
    "outputId": "b6f5d6a7-cd94-47b4-aeba-f806c3e81e78"
   },
   "outputs": [
    {
     "output_type": "execute_result",
     "data": {
      "text/plain": [
       "Text(0.5, 0.98, 'Sequance Lenght distribution')"
      ]
     },
     "metadata": {},
     "execution_count": 10
    },
    {
     "output_type": "display_data",
     "data": {
      "text/plain": [
       "<Figure size 432x432 with 3 Axes>"
      ],
      "image/png": "[encoded data removed]"
     },
     "metadata": {
      "needs_background": "light"
     }
    }
   ],
   "source": [
    "# statistics about AMP sequences lenght\n",
    "seqlenghtStatistic = classification_sequences.groupby(['seqLength']).size().reset_index(name='counts')\n",
    "seqlenghtStatistic\n",
    "x_len = seqlenghtStatistic['seqLength']\n",
    "y_count = seqlenghtStatistic['counts']\n",
    "\n",
    "sns.jointplot(x=x_len, y=y_count,\n",
    "              kind='hex', xlim=(1,190), ylim=(0,1500))\n",
    "plt.suptitle(\"Sequance Lenght distribution\")"
   ]
  },
  {
   "cell_type": "code",
   "execution_count": null,
   "metadata": {
    "colab": {
     "base_uri": "https://localhost:8080/",
     "height": 500
    },
    "id": "Hf6rn8p1hmQw",
    "outputId": "31ed6dc2-df8e-4375-9d42-cb8f764fac9c"
   },
   "outputs": [
    {
     "output_type": "execute_result",
     "data": {
      "text/plain": [
       "      Unnamed: 0              sequence nTerminus cTerminus  e_coli  \\\n",
       "4              6          KAaaKWAaKaAK       C16       AMD     NaN   \n",
       "5              7                  KLlK       C16       AMD     NaN   \n",
       "7             10          kGGGkWGGkGGk       C16       AMD     NaN   \n",
       "8             13          KLllKWLlKlLK       NaN       AMD     NaN   \n",
       "10            16    KLALKLALKAWKAALKLA       NaN       AMD     3.9   \n",
       "...          ...                   ...       ...       ...     ...   \n",
       "4717          54   KWKLFKKILLKFLHLAKLF         -         -    12.0   \n",
       "4718          55   KYYSRVRGGRSAVLSSLDK         -         -     4.0   \n",
       "4719          56   SSGWVCTLTIECGTVICAC         -         -   200.0   \n",
       "4720          57   VDKGSYLPRPTSHPRPIRV         -         -     3.0   \n",
       "4721          58  GLMSVLGHAVGNVLGGLFKS         -         -    25.0   \n",
       "\n",
       "      e_coli_atcc  seqLength  \n",
       "4            6.25         12  \n",
       "5          100.00          4  \n",
       "7           25.00         12  \n",
       "8           15.00         12  \n",
       "10            NaN         18  \n",
       "...           ...        ...  \n",
       "4717          NaN         19  \n",
       "4718          NaN         19  \n",
       "4719          NaN         19  \n",
       "4720          NaN         19  \n",
       "4721          NaN         20  \n",
       "\n",
       "[3026 rows x 7 columns]"
      ],
      "text/html": [
       "\n",
       "  <div id=\"df-c2ac9a6c-4931-49c9-b721-766304d9c2e6\">\n",
       "    <div class=\"colab-df-container\">\n",
       "      <div>\n",
       "<style scoped>\n",
       "    .dataframe tbody tr th:only-of-type {\n",
       "        vertical-align: middle;\n",
       "    }\n",
       "\n",
       "    .dataframe tbody tr th {\n",
       "        vertical-align: top;\n",
       "    }\n",
       "\n",
       "    .dataframe thead th {\n",
       "        text-align: right;\n",
       "    }\n",
       "</style>\n",
       "<table border=\"1\" class=\"dataframe\">\n",
       "  <thead>\n",
       "    <tr style=\"text-align: right;\">\n",
       "      <th></th>\n",
       "      <th>Unnamed: 0</th>\n",
       "      <th>sequence</th>\n",
       "      <th>nTerminus</th>\n",
       "      <th>cTerminus</th>\n",
       "      <th>e_coli</th>\n",
       "      <th>e_coli_atcc</th>\n",
       "      <th>seqLength</th>\n",
       "    </tr>\n",
       "  </thead>\n",
       "  <tbody>\n",
       "    <tr>\n",
       "      <th>4</th>\n",
       "      <td>6</td>\n",
       "      <td>KAaaKWAaKaAK</td>\n",
       "      <td>C16</td>\n",
       "      <td>AMD</td>\n",
       "      <td>NaN</td>\n",
       "      <td>6.25</td>\n",
       "      <td>12</td>\n",
       "    </tr>\n",
       "    <tr>\n",
       "      <th>5</th>\n",
       "      <td>7</td>\n",
       "      <td>KLlK</td>\n",
       "      <td>C16</td>\n",
       "      <td>AMD</td>\n",
       "      <td>NaN</td>\n",
       "      <td>100.00</td>\n",
       "      <td>4</td>\n",
       "    </tr>\n",
       "    <tr>\n",
       "      <th>7</th>\n",
       "      <td>10</td>\n",
       "      <td>kGGGkWGGkGGk</td>\n",
       "      <td>C16</td>\n",
       "      <td>AMD</td>\n",
       "      <td>NaN</td>\n",
       "      <td>25.00</td>\n",
       "      <td>12</td>\n",
       "    </tr>\n",
       "    <tr>\n",
       "      <th>8</th>\n",
       "      <td>13</td>\n",
       "      <td>KLllKWLlKlLK</td>\n",
       "      <td>NaN</td>\n",
       "      <td>AMD</td>\n",
       "      <td>NaN</td>\n",
       "      <td>15.00</td>\n",
       "      <td>12</td>\n",
       "    </tr>\n",
       "    <tr>\n",
       "      <th>10</th>\n",
       "      <td>16</td>\n",
       "      <td>KLALKLALKAWKAALKLA</td>\n",
       "      <td>NaN</td>\n",
       "      <td>AMD</td>\n",
       "      <td>3.9</td>\n",
       "      <td>NaN</td>\n",
       "      <td>18</td>\n",
       "    </tr>\n",
       "    <tr>\n",
       "      <th>...</th>\n",
       "      <td>...</td>\n",
       "      <td>...</td>\n",
       "      <td>...</td>\n",
       "      <td>...</td>\n",
       "      <td>...</td>\n",
       "      <td>...</td>\n",
       "      <td>...</td>\n",
       "    </tr>\n",
       "    <tr>\n",
       "      <th>4717</th>\n",
       "      <td>54</td>\n",
       "      <td>KWKLFKKILLKFLHLAKLF</td>\n",
       "      <td>-</td>\n",
       "      <td>-</td>\n",
       "      <td>12.0</td>\n",
       "      <td>NaN</td>\n",
       "      <td>19</td>\n",
       "    </tr>\n",
       "    <tr>\n",
       "      <th>4718</th>\n",
       "      <td>55</td>\n",
       "      <td>KYYSRVRGGRSAVLSSLDK</td>\n",
       "      <td>-</td>\n",
       "      <td>-</td>\n",
       "      <td>4.0</td>\n",
       "      <td>NaN</td>\n",
       "      <td>19</td>\n",
       "    </tr>\n",
       "    <tr>\n",
       "      <th>4719</th>\n",
       "      <td>56</td>\n",
       "      <td>SSGWVCTLTIECGTVICAC</td>\n",
       "      <td>-</td>\n",
       "      <td>-</td>\n",
       "      <td>200.0</td>\n",
       "      <td>NaN</td>\n",
       "      <td>19</td>\n",
       "    </tr>\n",
       "    <tr>\n",
       "      <th>4720</th>\n",
       "      <td>57</td>\n",
       "      <td>VDKGSYLPRPTSHPRPIRV</td>\n",
       "      <td>-</td>\n",
       "      <td>-</td>\n",
       "      <td>3.0</td>\n",
       "      <td>NaN</td>\n",
       "      <td>19</td>\n",
       "    </tr>\n",
       "    <tr>\n",
       "      <th>4721</th>\n",
       "      <td>58</td>\n",
       "      <td>GLMSVLGHAVGNVLGGLFKS</td>\n",
       "      <td>-</td>\n",
       "      <td>-</td>\n",
       "      <td>25.0</td>\n",
       "      <td>NaN</td>\n",
       "      <td>20</td>\n",
       "    </tr>\n",
       "  </tbody>\n",
       "</table>\n",
       "<p>3026 rows × 7 columns</p>\n",
       "</div>\n",
       "      <button class=\"colab-df-convert\" onclick=\"convertToInteractive('df-c2ac9a6c-4931-49c9-b721-766304d9c2e6')\"\n",
       "              title=\"Convert this dataframe to an interactive table.\"\n",
       "              style=\"display:none;\">\n",
       "        \n",
       "  <svg xmlns=\"http://www.w3.org/2000/svg\" height=\"24px\"viewBox=\"0 0 24 24\"\n",
       "       width=\"24px\">\n",
       "    <path d=\"M0 0h24v24H0V0z\" fill=\"none\"/>\n",
       "    <path d=\"M18.56 5.44l.94 2.06.94-2.06 2.06-.94-2.06-.94-.94-2.06-.94 2.06-2.06.94zm-11 1L8.5 8.5l.94-2.06 2.06-.94-2.06-.94L8.5 2.5l-.94 2.06-2.06.94zm10 10l.94 2.06.94-2.06 2.06-.94-2.06-.94-.94-2.06-.94 2.06-2.06.94z\"/><path d=\"M17.41 7.96l-1.37-1.37c-.4-.4-.92-.59-1.43-.59-.52 0-1.04.2-1.43.59L10.3 9.45l-7.72 7.72c-.78.78-.78 2.05 0 2.83L4 21.41c.39.39.9.59 1.41.59.51 0 1.02-.2 1.41-.59l7.78-7.78 2.81-2.81c.8-.78.8-2.07 0-2.86zM5.41 20L4 18.59l7.72-7.72 1.47 1.35L5.41 20z\"/>\n",
       "  </svg>\n",
       "      </button>\n",
       "      \n",
       "  <style>\n",
       "    .colab-df-container {\n",
       "      display:flex;\n",
       "      flex-wrap:wrap;\n",
       "      gap: 12px;\n",
       "    }\n",
       "\n",
       "    .colab-df-convert {\n",
       "      background-color: #E8F0FE;\n",
       "      border: none;\n",
       "      border-radius: 50%;\n",
       "      cursor: pointer;\n",
       "      display: none;\n",
       "      fill: #1967D2;\n",
       "      height: 32px;\n",
       "      padding: 0 0 0 0;\n",
       "      width: 32px;\n",
       "    }\n",
       "\n",
       "    .colab-df-convert:hover {\n",
       "      background-color: #E2EBFA;\n",
       "      box-shadow: 0px 1px 2px rgba(60, 64, 67, 0.3), 0px 1px 3px 1px rgba(60, 64, 67, 0.15);\n",
       "      fill: #174EA6;\n",
       "    }\n",
       "\n",
       "    [theme=dark] .colab-df-convert {\n",
       "      background-color: #3B4455;\n",
       "      fill: #D2E3FC;\n",
       "    }\n",
       "\n",
       "    [theme=dark] .colab-df-convert:hover {\n",
       "      background-color: #434B5C;\n",
       "      box-shadow: 0px 1px 3px 1px rgba(0, 0, 0, 0.15);\n",
       "      filter: drop-shadow(0px 1px 2px rgba(0, 0, 0, 0.3));\n",
       "      fill: #FFFFFF;\n",
       "    }\n",
       "  </style>\n",
       "\n",
       "      <script>\n",
       "        const buttonEl =\n",
       "          document.querySelector('#df-c2ac9a6c-4931-49c9-b721-766304d9c2e6 button.colab-df-convert');\n",
       "        buttonEl.style.display =\n",
       "          google.colab.kernel.accessAllowed ? 'block' : 'none';\n",
       "\n",
       "        async function convertToInteractive(key) {\n",
       "          const element = document.querySelector('#df-c2ac9a6c-4931-49c9-b721-766304d9c2e6');\n",
       "          const dataTable =\n",
       "            await google.colab.kernel.invokeFunction('convertToInteractive',\n",
       "                                                     [key], {});\n",
       "          if (!dataTable) return;\n",
       "\n",
       "          const docLinkHtml = 'Like what you see? Visit the ' +\n",
       "            '<a target=\"_blank\" href=https://colab.research.google.com/notebooks/data_table.ipynb>data table notebook</a>'\n",
       "            + ' to learn more about interactive tables.';\n",
       "          element.innerHTML = '';\n",
       "          dataTable['output_type'] = 'display_data';\n",
       "          await google.colab.output.renderOutput(dataTable, element);\n",
       "          const docLink = document.createElement('div');\n",
       "          docLink.innerHTML = docLinkHtml;\n",
       "          element.appendChild(docLink);\n",
       "        }\n",
       "      </script>\n",
       "    </div>\n",
       "  </div>\n",
       "  "
      ]
     },
     "metadata": {},
     "execution_count": 11
    }
   ],
   "source": [
    "df = classification_sequences.drop(classification_sequences[classification_sequences['sequence'].str.len() > maxlength].index)\n",
    "df"
   ]
  },
  {
   "cell_type": "code",
   "source": [
    "no_df = df.loc[df['e_coli_atcc'].isnull()]\n",
    "no_df"
   ],
   "metadata": {
    "colab": {
     "base_uri": "https://localhost:8080/",
     "height": 500
    },
    "id": "D-L6OMuNa3y9",
    "outputId": "30b2180b-96f2-4733-a917-972e355d0ddb"
   },
   "execution_count": null,
   "outputs": [
    {
     "output_type": "execute_result",
     "data": {
      "text/plain": [
       "      Unnamed: 0              sequence nTerminus cTerminus      e_coli  \\\n",
       "10            16    KLALKLALKAWKAALKLA       NaN       AMD    3.900000   \n",
       "12            18      ALWKTLLKKVLKAAAK       NaN       AMD    2.526436   \n",
       "13            19         ALWKTLLKKVLKA       NaN       AMD    5.956335   \n",
       "14            20    KLALKAALKAWKAAAKLA       NaN       AMD    8.250000   \n",
       "15            21    KLALKAAAKAWKAAAKAA       NaN       AMD   91.000000   \n",
       "...          ...                   ...       ...       ...         ...   \n",
       "4717          54   KWKLFKKILLKFLHLAKLF         -         -   12.000000   \n",
       "4718          55   KYYSRVRGGRSAVLSSLDK         -         -    4.000000   \n",
       "4719          56   SSGWVCTLTIECGTVICAC         -         -  200.000000   \n",
       "4720          57   VDKGSYLPRPTSHPRPIRV         -         -    3.000000   \n",
       "4721          58  GLMSVLGHAVGNVLGGLFKS         -         -   25.000000   \n",
       "\n",
       "      e_coli_atcc  seqLength  \n",
       "10            NaN         18  \n",
       "12            NaN         16  \n",
       "13            NaN         13  \n",
       "14            NaN         18  \n",
       "15            NaN         18  \n",
       "...           ...        ...  \n",
       "4717          NaN         19  \n",
       "4718          NaN         19  \n",
       "4719          NaN         19  \n",
       "4720          NaN         19  \n",
       "4721          NaN         20  \n",
       "\n",
       "[714 rows x 7 columns]"
      ],
      "text/html": [
       "\n",
       "  <div id=\"df-3790f15d-7add-4eb1-92bb-5174043b35fe\">\n",
       "    <div class=\"colab-df-container\">\n",
       "      <div>\n",
       "<style scoped>\n",
       "    .dataframe tbody tr th:only-of-type {\n",
       "        vertical-align: middle;\n",
       "    }\n",
       "\n",
       "    .dataframe tbody tr th {\n",
       "        vertical-align: top;\n",
       "    }\n",
       "\n",
       "    .dataframe thead th {\n",
       "        text-align: right;\n",
       "    }\n",
       "</style>\n",
       "<table border=\"1\" class=\"dataframe\">\n",
       "  <thead>\n",
       "    <tr style=\"text-align: right;\">\n",
       "      <th></th>\n",
       "      <th>Unnamed: 0</th>\n",
       "      <th>sequence</th>\n",
       "      <th>nTerminus</th>\n",
       "      <th>cTerminus</th>\n",
       "      <th>e_coli</th>\n",
       "      <th>e_coli_atcc</th>\n",
       "      <th>seqLength</th>\n",
       "    </tr>\n",
       "  </thead>\n",
       "  <tbody>\n",
       "    <tr>\n",
       "      <th>10</th>\n",
       "      <td>16</td>\n",
       "      <td>KLALKLALKAWKAALKLA</td>\n",
       "      <td>NaN</td>\n",
       "      <td>AMD</td>\n",
       "      <td>3.900000</td>\n",
       "      <td>NaN</td>\n",
       "      <td>18</td>\n",
       "    </tr>\n",
       "    <tr>\n",
       "      <th>12</th>\n",
       "      <td>18</td>\n",
       "      <td>ALWKTLLKKVLKAAAK</td>\n",
       "      <td>NaN</td>\n",
       "      <td>AMD</td>\n",
       "      <td>2.526436</td>\n",
       "      <td>NaN</td>\n",
       "      <td>16</td>\n",
       "    </tr>\n",
       "    <tr>\n",
       "      <th>13</th>\n",
       "      <td>19</td>\n",
       "      <td>ALWKTLLKKVLKA</td>\n",
       "      <td>NaN</td>\n",
       "      <td>AMD</td>\n",
       "      <td>5.956335</td>\n",
       "      <td>NaN</td>\n",
       "      <td>13</td>\n",
       "    </tr>\n",
       "    <tr>\n",
       "      <th>14</th>\n",
       "      <td>20</td>\n",
       "      <td>KLALKAALKAWKAAAKLA</td>\n",
       "      <td>NaN</td>\n",
       "      <td>AMD</td>\n",
       "      <td>8.250000</td>\n",
       "      <td>NaN</td>\n",
       "      <td>18</td>\n",
       "    </tr>\n",
       "    <tr>\n",
       "      <th>15</th>\n",
       "      <td>21</td>\n",
       "      <td>KLALKAAAKAWKAAAKAA</td>\n",
       "      <td>NaN</td>\n",
       "      <td>AMD</td>\n",
       "      <td>91.000000</td>\n",
       "      <td>NaN</td>\n",
       "      <td>18</td>\n",
       "    </tr>\n",
       "    <tr>\n",
       "      <th>...</th>\n",
       "      <td>...</td>\n",
       "      <td>...</td>\n",
       "      <td>...</td>\n",
       "      <td>...</td>\n",
       "      <td>...</td>\n",
       "      <td>...</td>\n",
       "      <td>...</td>\n",
       "    </tr>\n",
       "    <tr>\n",
       "      <th>4717</th>\n",
       "      <td>54</td>\n",
       "      <td>KWKLFKKILLKFLHLAKLF</td>\n",
       "      <td>-</td>\n",
       "      <td>-</td>\n",
       "      <td>12.000000</td>\n",
       "      <td>NaN</td>\n",
       "      <td>19</td>\n",
       "    </tr>\n",
       "    <tr>\n",
       "      <th>4718</th>\n",
       "      <td>55</td>\n",
       "      <td>KYYSRVRGGRSAVLSSLDK</td>\n",
       "      <td>-</td>\n",
       "      <td>-</td>\n",
       "      <td>4.000000</td>\n",
       "      <td>NaN</td>\n",
       "      <td>19</td>\n",
       "    </tr>\n",
       "    <tr>\n",
       "      <th>4719</th>\n",
       "      <td>56</td>\n",
       "      <td>SSGWVCTLTIECGTVICAC</td>\n",
       "      <td>-</td>\n",
       "      <td>-</td>\n",
       "      <td>200.000000</td>\n",
       "      <td>NaN</td>\n",
       "      <td>19</td>\n",
       "    </tr>\n",
       "    <tr>\n",
       "      <th>4720</th>\n",
       "      <td>57</td>\n",
       "      <td>VDKGSYLPRPTSHPRPIRV</td>\n",
       "      <td>-</td>\n",
       "      <td>-</td>\n",
       "      <td>3.000000</td>\n",
       "      <td>NaN</td>\n",
       "      <td>19</td>\n",
       "    </tr>\n",
       "    <tr>\n",
       "      <th>4721</th>\n",
       "      <td>58</td>\n",
       "      <td>GLMSVLGHAVGNVLGGLFKS</td>\n",
       "      <td>-</td>\n",
       "      <td>-</td>\n",
       "      <td>25.000000</td>\n",
       "      <td>NaN</td>\n",
       "      <td>20</td>\n",
       "    </tr>\n",
       "  </tbody>\n",
       "</table>\n",
       "<p>714 rows × 7 columns</p>\n",
       "</div>\n",
       "      <button class=\"colab-df-convert\" onclick=\"convertToInteractive('df-3790f15d-7add-4eb1-92bb-5174043b35fe')\"\n",
       "              title=\"Convert this dataframe to an interactive table.\"\n",
       "              style=\"display:none;\">\n",
       "        \n",
       "  <svg xmlns=\"http://www.w3.org/2000/svg\" height=\"24px\"viewBox=\"0 0 24 24\"\n",
       "       width=\"24px\">\n",
       "    <path d=\"M0 0h24v24H0V0z\" fill=\"none\"/>\n",
       "    <path d=\"M18.56 5.44l.94 2.06.94-2.06 2.06-.94-2.06-.94-.94-2.06-.94 2.06-2.06.94zm-11 1L8.5 8.5l.94-2.06 2.06-.94-2.06-.94L8.5 2.5l-.94 2.06-2.06.94zm10 10l.94 2.06.94-2.06 2.06-.94-2.06-.94-.94-2.06-.94 2.06-2.06.94z\"/><path d=\"M17.41 7.96l-1.37-1.37c-.4-.4-.92-.59-1.43-.59-.52 0-1.04.2-1.43.59L10.3 9.45l-7.72 7.72c-.78.78-.78 2.05 0 2.83L4 21.41c.39.39.9.59 1.41.59.51 0 1.02-.2 1.41-.59l7.78-7.78 2.81-2.81c.8-.78.8-2.07 0-2.86zM5.41 20L4 18.59l7.72-7.72 1.47 1.35L5.41 20z\"/>\n",
       "  </svg>\n",
       "      </button>\n",
       "      \n",
       "  <style>\n",
       "    .colab-df-container {\n",
       "      display:flex;\n",
       "      flex-wrap:wrap;\n",
       "      gap: 12px;\n",
       "    }\n",
       "\n",
       "    .colab-df-convert {\n",
       "      background-color: #E8F0FE;\n",
       "      border: none;\n",
       "      border-radius: 50%;\n",
       "      cursor: pointer;\n",
       "      display: none;\n",
       "      fill: #1967D2;\n",
       "      height: 32px;\n",
       "      padding: 0 0 0 0;\n",
       "      width: 32px;\n",
       "    }\n",
       "\n",
       "    .colab-df-convert:hover {\n",
       "      background-color: #E2EBFA;\n",
       "      box-shadow: 0px 1px 2px rgba(60, 64, 67, 0.3), 0px 1px 3px 1px rgba(60, 64, 67, 0.15);\n",
       "      fill: #174EA6;\n",
       "    }\n",
       "\n",
       "    [theme=dark] .colab-df-convert {\n",
       "      background-color: #3B4455;\n",
       "      fill: #D2E3FC;\n",
       "    }\n",
       "\n",
       "    [theme=dark] .colab-df-convert:hover {\n",
       "      background-color: #434B5C;\n",
       "      box-shadow: 0px 1px 3px 1px rgba(0, 0, 0, 0.15);\n",
       "      filter: drop-shadow(0px 1px 2px rgba(0, 0, 0, 0.3));\n",
       "      fill: #FFFFFF;\n",
       "    }\n",
       "  </style>\n",
       "\n",
       "      <script>\n",
       "        const buttonEl =\n",
       "          document.querySelector('#df-3790f15d-7add-4eb1-92bb-5174043b35fe button.colab-df-convert');\n",
       "        buttonEl.style.display =\n",
       "          google.colab.kernel.accessAllowed ? 'block' : 'none';\n",
       "\n",
       "        async function convertToInteractive(key) {\n",
       "          const element = document.querySelector('#df-3790f15d-7add-4eb1-92bb-5174043b35fe');\n",
       "          const dataTable =\n",
       "            await google.colab.kernel.invokeFunction('convertToInteractive',\n",
       "                                                     [key], {});\n",
       "          if (!dataTable) return;\n",
       "\n",
       "          const docLinkHtml = 'Like what you see? Visit the ' +\n",
       "            '<a target=\"_blank\" href=https://colab.research.google.com/notebooks/data_table.ipynb>data table notebook</a>'\n",
       "            + ' to learn more about interactive tables.';\n",
       "          element.innerHTML = '';\n",
       "          dataTable['output_type'] = 'display_data';\n",
       "          await google.colab.output.renderOutput(dataTable, element);\n",
       "          const docLink = document.createElement('div');\n",
       "          docLink.innerHTML = docLinkHtml;\n",
       "          element.appendChild(docLink);\n",
       "        }\n",
       "      </script>\n",
       "    </div>\n",
       "  </div>\n",
       "  "
      ]
     },
     "metadata": {},
     "execution_count": 12
    }
   ]
  },
  {
   "cell_type": "code",
   "source": [
    "df.dropna(subset=['e_coli_atcc'], inplace= True)\n",
    "df"
   ],
   "metadata": {
    "colab": {
     "base_uri": "https://localhost:8080/",
     "height": 500
    },
    "id": "Tp0C-Ffb1awE",
    "outputId": "578703a2-f6fe-4a4d-85f2-91ce6fc4808c"
   },
   "execution_count": null,
   "outputs": [
    {
     "output_type": "execute_result",
     "data": {
      "text/plain": [
       "      Unnamed: 0              sequence nTerminus cTerminus  e_coli  \\\n",
       "4              6          KAaaKWAaKaAK       C16       AMD     NaN   \n",
       "5              7                  KLlK       C16       AMD     NaN   \n",
       "7             10          kGGGkWGGkGGk       C16       AMD     NaN   \n",
       "8             13          KLllKWLlKlLK       NaN       AMD     NaN   \n",
       "11            17  GLRKRLRKFRNKIKEKLKKI       NaN       NaN     NaN   \n",
       "...          ...                   ...       ...       ...     ...   \n",
       "4507         265        DLRDSWKVIGSDKK      Free      Free     NaN   \n",
       "4608          24             FFLSRIFGK         -         -     NaN   \n",
       "4614          79          TWLKKRRWKKAK         -         -     NaN   \n",
       "4624         265             IAKVALKAL         -         -     NaN   \n",
       "4659         825       INLKAIAALAKKLLG         -         -     NaN   \n",
       "\n",
       "      e_coli_atcc  seqLength  \n",
       "4            6.25         12  \n",
       "5          100.00          4  \n",
       "7           25.00         12  \n",
       "8           15.00         12  \n",
       "11           4.00         20  \n",
       "...           ...        ...  \n",
       "4507        45.54         14  \n",
       "4608        25.00          9  \n",
       "4614        64.00         12  \n",
       "4624        23.60          9  \n",
       "4659         6.00         15  \n",
       "\n",
       "[2312 rows x 7 columns]"
      ],
      "text/html": [
       "\n",
       "  <div id=\"df-ab0c18c3-a7f4-4e20-89fb-c0e6f13da312\">\n",
       "    <div class=\"colab-df-container\">\n",
       "      <div>\n",
       "<style scoped>\n",
       "    .dataframe tbody tr th:only-of-type {\n",
       "        vertical-align: middle;\n",
       "    }\n",
       "\n",
       "    .dataframe tbody tr th {\n",
       "        vertical-align: top;\n",
       "    }\n",
       "\n",
       "    .dataframe thead th {\n",
       "        text-align: right;\n",
       "    }\n",
       "</style>\n",
       "<table border=\"1\" class=\"dataframe\">\n",
       "  <thead>\n",
       "    <tr style=\"text-align: right;\">\n",
       "      <th></th>\n",
       "      <th>Unnamed: 0</th>\n",
       "      <th>sequence</th>\n",
       "      <th>nTerminus</th>\n",
       "      <th>cTerminus</th>\n",
       "      <th>e_coli</th>\n",
       "      <th>e_coli_atcc</th>\n",
       "      <th>seqLength</th>\n",
       "    </tr>\n",
       "  </thead>\n",
       "  <tbody>\n",
       "    <tr>\n",
       "      <th>4</th>\n",
       "      <td>6</td>\n",
       "      <td>KAaaKWAaKaAK</td>\n",
       "      <td>C16</td>\n",
       "      <td>AMD</td>\n",
       "      <td>NaN</td>\n",
       "      <td>6.25</td>\n",
       "      <td>12</td>\n",
       "    </tr>\n",
       "    <tr>\n",
       "      <th>5</th>\n",
       "      <td>7</td>\n",
       "      <td>KLlK</td>\n",
       "      <td>C16</td>\n",
       "      <td>AMD</td>\n",
       "      <td>NaN</td>\n",
       "      <td>100.00</td>\n",
       "      <td>4</td>\n",
       "    </tr>\n",
       "    <tr>\n",
       "      <th>7</th>\n",
       "      <td>10</td>\n",
       "      <td>kGGGkWGGkGGk</td>\n",
       "      <td>C16</td>\n",
       "      <td>AMD</td>\n",
       "      <td>NaN</td>\n",
       "      <td>25.00</td>\n",
       "      <td>12</td>\n",
       "    </tr>\n",
       "    <tr>\n",
       "      <th>8</th>\n",
       "      <td>13</td>\n",
       "      <td>KLllKWLlKlLK</td>\n",
       "      <td>NaN</td>\n",
       "      <td>AMD</td>\n",
       "      <td>NaN</td>\n",
       "      <td>15.00</td>\n",
       "      <td>12</td>\n",
       "    </tr>\n",
       "    <tr>\n",
       "      <th>11</th>\n",
       "      <td>17</td>\n",
       "      <td>GLRKRLRKFRNKIKEKLKKI</td>\n",
       "      <td>NaN</td>\n",
       "      <td>NaN</td>\n",
       "      <td>NaN</td>\n",
       "      <td>4.00</td>\n",
       "      <td>20</td>\n",
       "    </tr>\n",
       "    <tr>\n",
       "      <th>...</th>\n",
       "      <td>...</td>\n",
       "      <td>...</td>\n",
       "      <td>...</td>\n",
       "      <td>...</td>\n",
       "      <td>...</td>\n",
       "      <td>...</td>\n",
       "      <td>...</td>\n",
       "    </tr>\n",
       "    <tr>\n",
       "      <th>4507</th>\n",
       "      <td>265</td>\n",
       "      <td>DLRDSWKVIGSDKK</td>\n",
       "      <td>Free</td>\n",
       "      <td>Free</td>\n",
       "      <td>NaN</td>\n",
       "      <td>45.54</td>\n",
       "      <td>14</td>\n",
       "    </tr>\n",
       "    <tr>\n",
       "      <th>4608</th>\n",
       "      <td>24</td>\n",
       "      <td>FFLSRIFGK</td>\n",
       "      <td>-</td>\n",
       "      <td>-</td>\n",
       "      <td>NaN</td>\n",
       "      <td>25.00</td>\n",
       "      <td>9</td>\n",
       "    </tr>\n",
       "    <tr>\n",
       "      <th>4614</th>\n",
       "      <td>79</td>\n",
       "      <td>TWLKKRRWKKAK</td>\n",
       "      <td>-</td>\n",
       "      <td>-</td>\n",
       "      <td>NaN</td>\n",
       "      <td>64.00</td>\n",
       "      <td>12</td>\n",
       "    </tr>\n",
       "    <tr>\n",
       "      <th>4624</th>\n",
       "      <td>265</td>\n",
       "      <td>IAKVALKAL</td>\n",
       "      <td>-</td>\n",
       "      <td>-</td>\n",
       "      <td>NaN</td>\n",
       "      <td>23.60</td>\n",
       "      <td>9</td>\n",
       "    </tr>\n",
       "    <tr>\n",
       "      <th>4659</th>\n",
       "      <td>825</td>\n",
       "      <td>INLKAIAALAKKLLG</td>\n",
       "      <td>-</td>\n",
       "      <td>-</td>\n",
       "      <td>NaN</td>\n",
       "      <td>6.00</td>\n",
       "      <td>15</td>\n",
       "    </tr>\n",
       "  </tbody>\n",
       "</table>\n",
       "<p>2312 rows × 7 columns</p>\n",
       "</div>\n",
       "      <button class=\"colab-df-convert\" onclick=\"convertToInteractive('df-ab0c18c3-a7f4-4e20-89fb-c0e6f13da312')\"\n",
       "              title=\"Convert this dataframe to an interactive table.\"\n",
       "              style=\"display:none;\">\n",
       "        \n",
       "  <svg xmlns=\"http://www.w3.org/2000/svg\" height=\"24px\"viewBox=\"0 0 24 24\"\n",
       "       width=\"24px\">\n",
       "    <path d=\"M0 0h24v24H0V0z\" fill=\"none\"/>\n",
       "    <path d=\"M18.56 5.44l.94 2.06.94-2.06 2.06-.94-2.06-.94-.94-2.06-.94 2.06-2.06.94zm-11 1L8.5 8.5l.94-2.06 2.06-.94-2.06-.94L8.5 2.5l-.94 2.06-2.06.94zm10 10l.94 2.06.94-2.06 2.06-.94-2.06-.94-.94-2.06-.94 2.06-2.06.94z\"/><path d=\"M17.41 7.96l-1.37-1.37c-.4-.4-.92-.59-1.43-.59-.52 0-1.04.2-1.43.59L10.3 9.45l-7.72 7.72c-.78.78-.78 2.05 0 2.83L4 21.41c.39.39.9.59 1.41.59.51 0 1.02-.2 1.41-.59l7.78-7.78 2.81-2.81c.8-.78.8-2.07 0-2.86zM5.41 20L4 18.59l7.72-7.72 1.47 1.35L5.41 20z\"/>\n",
       "  </svg>\n",
       "      </button>\n",
       "      \n",
       "  <style>\n",
       "    .colab-df-container {\n",
       "      display:flex;\n",
       "      flex-wrap:wrap;\n",
       "      gap: 12px;\n",
       "    }\n",
       "\n",
       "    .colab-df-convert {\n",
       "      background-color: #E8F0FE;\n",
       "      border: none;\n",
       "      border-radius: 50%;\n",
       "      cursor: pointer;\n",
       "      display: none;\n",
       "      fill: #1967D2;\n",
       "      height: 32px;\n",
       "      padding: 0 0 0 0;\n",
       "      width: 32px;\n",
       "    }\n",
       "\n",
       "    .colab-df-convert:hover {\n",
       "      background-color: #E2EBFA;\n",
       "      box-shadow: 0px 1px 2px rgba(60, 64, 67, 0.3), 0px 1px 3px 1px rgba(60, 64, 67, 0.15);\n",
       "      fill: #174EA6;\n",
       "    }\n",
       "\n",
       "    [theme=dark] .colab-df-convert {\n",
       "      background-color: #3B4455;\n",
       "      fill: #D2E3FC;\n",
       "    }\n",
       "\n",
       "    [theme=dark] .colab-df-convert:hover {\n",
       "      background-color: #434B5C;\n",
       "      box-shadow: 0px 1px 3px 1px rgba(0, 0, 0, 0.15);\n",
       "      filter: drop-shadow(0px 1px 2px rgba(0, 0, 0, 0.3));\n",
       "      fill: #FFFFFF;\n",
       "    }\n",
       "  </style>\n",
       "\n",
       "      <script>\n",
       "        const buttonEl =\n",
       "          document.querySelector('#df-ab0c18c3-a7f4-4e20-89fb-c0e6f13da312 button.colab-df-convert');\n",
       "        buttonEl.style.display =\n",
       "          google.colab.kernel.accessAllowed ? 'block' : 'none';\n",
       "\n",
       "        async function convertToInteractive(key) {\n",
       "          const element = document.querySelector('#df-ab0c18c3-a7f4-4e20-89fb-c0e6f13da312');\n",
       "          const dataTable =\n",
       "            await google.colab.kernel.invokeFunction('convertToInteractive',\n",
       "                                                     [key], {});\n",
       "          if (!dataTable) return;\n",
       "\n",
       "          const docLinkHtml = 'Like what you see? Visit the ' +\n",
       "            '<a target=\"_blank\" href=https://colab.research.google.com/notebooks/data_table.ipynb>data table notebook</a>'\n",
       "            + ' to learn more about interactive tables.';\n",
       "          element.innerHTML = '';\n",
       "          dataTable['output_type'] = 'display_data';\n",
       "          await google.colab.output.renderOutput(dataTable, element);\n",
       "          const docLink = document.createElement('div');\n",
       "          docLink.innerHTML = docLinkHtml;\n",
       "          element.appendChild(docLink);\n",
       "        }\n",
       "      </script>\n",
       "    </div>\n",
       "  </div>\n",
       "  "
      ]
     },
     "metadata": {},
     "execution_count": 13
    }
   ]
  },
  {
   "cell_type": "code",
   "source": [
    "df[\"e_coli_atcc\"].describe()"
   ],
   "metadata": {
    "colab": {
     "base_uri": "https://localhost:8080/"
    },
    "id": "YWx-Rn3tT6Ey",
    "outputId": "3226e2df-8274-4fe1-ef14-9a000f886a90"
   },
   "execution_count": null,
   "outputs": [
    {
     "output_type": "execute_result",
     "data": {
      "text/plain": [
       "count     2312.000000\n",
       "mean        64.142202\n",
       "std        782.647575\n",
       "min          0.005000\n",
       "25%          4.000000\n",
       "50%         10.494450\n",
       "75%         29.164176\n",
       "max      34353.012973\n",
       "Name: e_coli_atcc, dtype: float64"
      ]
     },
     "metadata": {},
     "execution_count": 14
    }
   ]
  },
  {
   "cell_type": "code",
   "execution_count": null,
   "metadata": {
    "colab": {
     "base_uri": "https://localhost:8080/",
     "height": 551
    },
    "id": "EqGId14pMMK1",
    "outputId": "be58bd93-84a0-4d70-ca65-6ccbfb3c6248"
   },
   "outputs": [
    {
     "output_type": "execute_result",
     "data": {
      "text/plain": [
       "      Unnamed: 0              sequence         nTerminus         cTerminus  \\\n",
       "4              6          KAaaKWAaKaAK               C16               AMD   \n",
       "8             13          KLllKWLlKlLK               NaN               AMD   \n",
       "11            17  GLRKRLRKFRNKIKEKLKKI               NaN               NaN   \n",
       "31            39  GLRKALRKFRNKIKEALKKI               NaN               NaN   \n",
       "32            40  GLRKRLRKARNKIKEKLKKI               NaN               NaN   \n",
       "...          ...                   ...               ...               ...   \n",
       "4359         117            RRFFFRFRRF  Not included yet  Not included yet   \n",
       "4360         118            RRIIIRWRRI  Not included yet  Not included yet   \n",
       "4361         119                RRWWWR  Not included yet  Not included yet   \n",
       "4624         265             IAKVALKAL                 -                 -   \n",
       "4659         825       INLKAIAALAKKLLG                 -                 -   \n",
       "\n",
       "      e_coli  e_coli_atcc  seqLength  \n",
       "4        NaN         6.25         12  \n",
       "8        NaN        15.00         12  \n",
       "11       NaN         4.00         20  \n",
       "31       NaN         2.00         20  \n",
       "32       NaN         4.00         20  \n",
       "...      ...          ...        ...  \n",
       "4359   15.00        22.50         10  \n",
       "4360    3.75         5.63         10  \n",
       "4361   22.50        22.50          6  \n",
       "4624     NaN        23.60          9  \n",
       "4659     NaN         6.00         15  \n",
       "\n",
       "[1650 rows x 7 columns]"
      ],
      "text/html": [
       "\n",
       "  <div id=\"df-b09ec1c1-5f3d-4439-9857-3f6d2ba4819e\">\n",
       "    <div class=\"colab-df-container\">\n",
       "      <div>\n",
       "<style scoped>\n",
       "    .dataframe tbody tr th:only-of-type {\n",
       "        vertical-align: middle;\n",
       "    }\n",
       "\n",
       "    .dataframe tbody tr th {\n",
       "        vertical-align: top;\n",
       "    }\n",
       "\n",
       "    .dataframe thead th {\n",
       "        text-align: right;\n",
       "    }\n",
       "</style>\n",
       "<table border=\"1\" class=\"dataframe\">\n",
       "  <thead>\n",
       "    <tr style=\"text-align: right;\">\n",
       "      <th></th>\n",
       "      <th>Unnamed: 0</th>\n",
       "      <th>sequence</th>\n",
       "      <th>nTerminus</th>\n",
       "      <th>cTerminus</th>\n",
       "      <th>e_coli</th>\n",
       "      <th>e_coli_atcc</th>\n",
       "      <th>seqLength</th>\n",
       "    </tr>\n",
       "  </thead>\n",
       "  <tbody>\n",
       "    <tr>\n",
       "      <th>4</th>\n",
       "      <td>6</td>\n",
       "      <td>KAaaKWAaKaAK</td>\n",
       "      <td>C16</td>\n",
       "      <td>AMD</td>\n",
       "      <td>NaN</td>\n",
       "      <td>6.25</td>\n",
       "      <td>12</td>\n",
       "    </tr>\n",
       "    <tr>\n",
       "      <th>8</th>\n",
       "      <td>13</td>\n",
       "      <td>KLllKWLlKlLK</td>\n",
       "      <td>NaN</td>\n",
       "      <td>AMD</td>\n",
       "      <td>NaN</td>\n",
       "      <td>15.00</td>\n",
       "      <td>12</td>\n",
       "    </tr>\n",
       "    <tr>\n",
       "      <th>11</th>\n",
       "      <td>17</td>\n",
       "      <td>GLRKRLRKFRNKIKEKLKKI</td>\n",
       "      <td>NaN</td>\n",
       "      <td>NaN</td>\n",
       "      <td>NaN</td>\n",
       "      <td>4.00</td>\n",
       "      <td>20</td>\n",
       "    </tr>\n",
       "    <tr>\n",
       "      <th>31</th>\n",
       "      <td>39</td>\n",
       "      <td>GLRKALRKFRNKIKEALKKI</td>\n",
       "      <td>NaN</td>\n",
       "      <td>NaN</td>\n",
       "      <td>NaN</td>\n",
       "      <td>2.00</td>\n",
       "      <td>20</td>\n",
       "    </tr>\n",
       "    <tr>\n",
       "      <th>32</th>\n",
       "      <td>40</td>\n",
       "      <td>GLRKRLRKARNKIKEKLKKI</td>\n",
       "      <td>NaN</td>\n",
       "      <td>NaN</td>\n",
       "      <td>NaN</td>\n",
       "      <td>4.00</td>\n",
       "      <td>20</td>\n",
       "    </tr>\n",
       "    <tr>\n",
       "      <th>...</th>\n",
       "      <td>...</td>\n",
       "      <td>...</td>\n",
       "      <td>...</td>\n",
       "      <td>...</td>\n",
       "      <td>...</td>\n",
       "      <td>...</td>\n",
       "      <td>...</td>\n",
       "    </tr>\n",
       "    <tr>\n",
       "      <th>4359</th>\n",
       "      <td>117</td>\n",
       "      <td>RRFFFRFRRF</td>\n",
       "      <td>Not included yet</td>\n",
       "      <td>Not included yet</td>\n",
       "      <td>15.00</td>\n",
       "      <td>22.50</td>\n",
       "      <td>10</td>\n",
       "    </tr>\n",
       "    <tr>\n",
       "      <th>4360</th>\n",
       "      <td>118</td>\n",
       "      <td>RRIIIRWRRI</td>\n",
       "      <td>Not included yet</td>\n",
       "      <td>Not included yet</td>\n",
       "      <td>3.75</td>\n",
       "      <td>5.63</td>\n",
       "      <td>10</td>\n",
       "    </tr>\n",
       "    <tr>\n",
       "      <th>4361</th>\n",
       "      <td>119</td>\n",
       "      <td>RRWWWR</td>\n",
       "      <td>Not included yet</td>\n",
       "      <td>Not included yet</td>\n",
       "      <td>22.50</td>\n",
       "      <td>22.50</td>\n",
       "      <td>6</td>\n",
       "    </tr>\n",
       "    <tr>\n",
       "      <th>4624</th>\n",
       "      <td>265</td>\n",
       "      <td>IAKVALKAL</td>\n",
       "      <td>-</td>\n",
       "      <td>-</td>\n",
       "      <td>NaN</td>\n",
       "      <td>23.60</td>\n",
       "      <td>9</td>\n",
       "    </tr>\n",
       "    <tr>\n",
       "      <th>4659</th>\n",
       "      <td>825</td>\n",
       "      <td>INLKAIAALAKKLLG</td>\n",
       "      <td>-</td>\n",
       "      <td>-</td>\n",
       "      <td>NaN</td>\n",
       "      <td>6.00</td>\n",
       "      <td>15</td>\n",
       "    </tr>\n",
       "  </tbody>\n",
       "</table>\n",
       "<p>1650 rows × 7 columns</p>\n",
       "</div>\n",
       "      <button class=\"colab-df-convert\" onclick=\"convertToInteractive('df-b09ec1c1-5f3d-4439-9857-3f6d2ba4819e')\"\n",
       "              title=\"Convert this dataframe to an interactive table.\"\n",
       "              style=\"display:none;\">\n",
       "        \n",
       "  <svg xmlns=\"http://www.w3.org/2000/svg\" height=\"24px\"viewBox=\"0 0 24 24\"\n",
       "       width=\"24px\">\n",
       "    <path d=\"M0 0h24v24H0V0z\" fill=\"none\"/>\n",
       "    <path d=\"M18.56 5.44l.94 2.06.94-2.06 2.06-.94-2.06-.94-.94-2.06-.94 2.06-2.06.94zm-11 1L8.5 8.5l.94-2.06 2.06-.94-2.06-.94L8.5 2.5l-.94 2.06-2.06.94zm10 10l.94 2.06.94-2.06 2.06-.94-2.06-.94-.94-2.06-.94 2.06-2.06.94z\"/><path d=\"M17.41 7.96l-1.37-1.37c-.4-.4-.92-.59-1.43-.59-.52 0-1.04.2-1.43.59L10.3 9.45l-7.72 7.72c-.78.78-.78 2.05 0 2.83L4 21.41c.39.39.9.59 1.41.59.51 0 1.02-.2 1.41-.59l7.78-7.78 2.81-2.81c.8-.78.8-2.07 0-2.86zM5.41 20L4 18.59l7.72-7.72 1.47 1.35L5.41 20z\"/>\n",
       "  </svg>\n",
       "      </button>\n",
       "      \n",
       "  <style>\n",
       "    .colab-df-container {\n",
       "      display:flex;\n",
       "      flex-wrap:wrap;\n",
       "      gap: 12px;\n",
       "    }\n",
       "\n",
       "    .colab-df-convert {\n",
       "      background-color: #E8F0FE;\n",
       "      border: none;\n",
       "      border-radius: 50%;\n",
       "      cursor: pointer;\n",
       "      display: none;\n",
       "      fill: #1967D2;\n",
       "      height: 32px;\n",
       "      padding: 0 0 0 0;\n",
       "      width: 32px;\n",
       "    }\n",
       "\n",
       "    .colab-df-convert:hover {\n",
       "      background-color: #E2EBFA;\n",
       "      box-shadow: 0px 1px 2px rgba(60, 64, 67, 0.3), 0px 1px 3px 1px rgba(60, 64, 67, 0.15);\n",
       "      fill: #174EA6;\n",
       "    }\n",
       "\n",
       "    [theme=dark] .colab-df-convert {\n",
       "      background-color: #3B4455;\n",
       "      fill: #D2E3FC;\n",
       "    }\n",
       "\n",
       "    [theme=dark] .colab-df-convert:hover {\n",
       "      background-color: #434B5C;\n",
       "      box-shadow: 0px 1px 3px 1px rgba(0, 0, 0, 0.15);\n",
       "      filter: drop-shadow(0px 1px 2px rgba(0, 0, 0, 0.3));\n",
       "      fill: #FFFFFF;\n",
       "    }\n",
       "  </style>\n",
       "\n",
       "      <script>\n",
       "        const buttonEl =\n",
       "          document.querySelector('#df-b09ec1c1-5f3d-4439-9857-3f6d2ba4819e button.colab-df-convert');\n",
       "        buttonEl.style.display =\n",
       "          google.colab.kernel.accessAllowed ? 'block' : 'none';\n",
       "\n",
       "        async function convertToInteractive(key) {\n",
       "          const element = document.querySelector('#df-b09ec1c1-5f3d-4439-9857-3f6d2ba4819e');\n",
       "          const dataTable =\n",
       "            await google.colab.kernel.invokeFunction('convertToInteractive',\n",
       "                                                     [key], {});\n",
       "          if (!dataTable) return;\n",
       "\n",
       "          const docLinkHtml = 'Like what you see? Visit the ' +\n",
       "            '<a target=\"_blank\" href=https://colab.research.google.com/notebooks/data_table.ipynb>data table notebook</a>'\n",
       "            + ' to learn more about interactive tables.';\n",
       "          element.innerHTML = '';\n",
       "          dataTable['output_type'] = 'display_data';\n",
       "          await google.colab.output.renderOutput(dataTable, element);\n",
       "          const docLink = document.createElement('div');\n",
       "          docLink.innerHTML = docLinkHtml;\n",
       "          element.appendChild(docLink);\n",
       "        }\n",
       "      </script>\n",
       "    </div>\n",
       "  </div>\n",
       "  "
      ]
     },
     "metadata": {},
     "execution_count": 15
    }
   ],
   "source": [
    "df = df.loc[((df.e_coli_atcc > 0) & (df.e_coli_atcc < MIC_cutoff) )]\n",
    "df"
   ]
  },
  {
   "cell_type": "code",
   "execution_count": null,
   "metadata": {
    "colab": {
     "base_uri": "https://localhost:8080/",
     "height": 419
    },
    "id": "JjQFJXsfw-7G",
    "outputId": "8a800eaf-9ada-42da-b18e-1a7a09dd273a"
   },
   "outputs": [
    {
     "output_type": "execute_result",
     "data": {
      "text/plain": [
       "      Unnamed: 0   sequence  nTerminus  cTerminus  e_coli_atcc  pseudomonas\n",
       "0         900001        GEP        NaN        NaN       1000.0         1000\n",
       "1         900002       MGHP        NaN        NaN       1000.0         1000\n",
       "2         900003       GTGG        NaN        NaN       1000.0         1000\n",
       "3         900004       SVTP        NaN        NaN       1000.0         1000\n",
       "4         900005      MFSPQ        NaN        NaN       1000.0         1000\n",
       "...          ...        ...        ...        ...          ...          ...\n",
       "1256      901257     RPWPPR        NaN        NaN       1001.0         1001\n",
       "1257      901258    WKPLPPR        NaN        NaN       1001.0         1001\n",
       "1258      901259    FKPLPPH        NaN        NaN       1001.0         1001\n",
       "1259      901260   RPPWRPPW        NaN        NaN       1001.0         1001\n",
       "1260      901261  RPRRPRLPW        NaN        NaN       1001.0         1001\n",
       "\n",
       "[1261 rows x 6 columns]"
      ],
      "text/html": [
       "\n",
       "  <div id=\"df-63310e51-9b36-4cbf-82ed-69049ed558ed\">\n",
       "    <div class=\"colab-df-container\">\n",
       "      <div>\n",
       "<style scoped>\n",
       "    .dataframe tbody tr th:only-of-type {\n",
       "        vertical-align: middle;\n",
       "    }\n",
       "\n",
       "    .dataframe tbody tr th {\n",
       "        vertical-align: top;\n",
       "    }\n",
       "\n",
       "    .dataframe thead th {\n",
       "        text-align: right;\n",
       "    }\n",
       "</style>\n",
       "<table border=\"1\" class=\"dataframe\">\n",
       "  <thead>\n",
       "    <tr style=\"text-align: right;\">\n",
       "      <th></th>\n",
       "      <th>Unnamed: 0</th>\n",
       "      <th>sequence</th>\n",
       "      <th>nTerminus</th>\n",
       "      <th>cTerminus</th>\n",
       "      <th>e_coli_atcc</th>\n",
       "      <th>pseudomonas</th>\n",
       "    </tr>\n",
       "  </thead>\n",
       "  <tbody>\n",
       "    <tr>\n",
       "      <th>0</th>\n",
       "      <td>900001</td>\n",
       "      <td>GEP</td>\n",
       "      <td>NaN</td>\n",
       "      <td>NaN</td>\n",
       "      <td>1000.0</td>\n",
       "      <td>1000</td>\n",
       "    </tr>\n",
       "    <tr>\n",
       "      <th>1</th>\n",
       "      <td>900002</td>\n",
       "      <td>MGHP</td>\n",
       "      <td>NaN</td>\n",
       "      <td>NaN</td>\n",
       "      <td>1000.0</td>\n",
       "      <td>1000</td>\n",
       "    </tr>\n",
       "    <tr>\n",
       "      <th>2</th>\n",
       "      <td>900003</td>\n",
       "      <td>GTGG</td>\n",
       "      <td>NaN</td>\n",
       "      <td>NaN</td>\n",
       "      <td>1000.0</td>\n",
       "      <td>1000</td>\n",
       "    </tr>\n",
       "    <tr>\n",
       "      <th>3</th>\n",
       "      <td>900004</td>\n",
       "      <td>SVTP</td>\n",
       "      <td>NaN</td>\n",
       "      <td>NaN</td>\n",
       "      <td>1000.0</td>\n",
       "      <td>1000</td>\n",
       "    </tr>\n",
       "    <tr>\n",
       "      <th>4</th>\n",
       "      <td>900005</td>\n",
       "      <td>MFSPQ</td>\n",
       "      <td>NaN</td>\n",
       "      <td>NaN</td>\n",
       "      <td>1000.0</td>\n",
       "      <td>1000</td>\n",
       "    </tr>\n",
       "    <tr>\n",
       "      <th>...</th>\n",
       "      <td>...</td>\n",
       "      <td>...</td>\n",
       "      <td>...</td>\n",
       "      <td>...</td>\n",
       "      <td>...</td>\n",
       "      <td>...</td>\n",
       "    </tr>\n",
       "    <tr>\n",
       "      <th>1256</th>\n",
       "      <td>901257</td>\n",
       "      <td>RPWPPR</td>\n",
       "      <td>NaN</td>\n",
       "      <td>NaN</td>\n",
       "      <td>1001.0</td>\n",
       "      <td>1001</td>\n",
       "    </tr>\n",
       "    <tr>\n",
       "      <th>1257</th>\n",
       "      <td>901258</td>\n",
       "      <td>WKPLPPR</td>\n",
       "      <td>NaN</td>\n",
       "      <td>NaN</td>\n",
       "      <td>1001.0</td>\n",
       "      <td>1001</td>\n",
       "    </tr>\n",
       "    <tr>\n",
       "      <th>1258</th>\n",
       "      <td>901259</td>\n",
       "      <td>FKPLPPH</td>\n",
       "      <td>NaN</td>\n",
       "      <td>NaN</td>\n",
       "      <td>1001.0</td>\n",
       "      <td>1001</td>\n",
       "    </tr>\n",
       "    <tr>\n",
       "      <th>1259</th>\n",
       "      <td>901260</td>\n",
       "      <td>RPPWRPPW</td>\n",
       "      <td>NaN</td>\n",
       "      <td>NaN</td>\n",
       "      <td>1001.0</td>\n",
       "      <td>1001</td>\n",
       "    </tr>\n",
       "    <tr>\n",
       "      <th>1260</th>\n",
       "      <td>901261</td>\n",
       "      <td>RPRRPRLPW</td>\n",
       "      <td>NaN</td>\n",
       "      <td>NaN</td>\n",
       "      <td>1001.0</td>\n",
       "      <td>1001</td>\n",
       "    </tr>\n",
       "  </tbody>\n",
       "</table>\n",
       "<p>1261 rows × 6 columns</p>\n",
       "</div>\n",
       "      <button class=\"colab-df-convert\" onclick=\"convertToInteractive('df-63310e51-9b36-4cbf-82ed-69049ed558ed')\"\n",
       "              title=\"Convert this dataframe to an interactive table.\"\n",
       "              style=\"display:none;\">\n",
       "        \n",
       "  <svg xmlns=\"http://www.w3.org/2000/svg\" height=\"24px\"viewBox=\"0 0 24 24\"\n",
       "       width=\"24px\">\n",
       "    <path d=\"M0 0h24v24H0V0z\" fill=\"none\"/>\n",
       "    <path d=\"M18.56 5.44l.94 2.06.94-2.06 2.06-.94-2.06-.94-.94-2.06-.94 2.06-2.06.94zm-11 1L8.5 8.5l.94-2.06 2.06-.94-2.06-.94L8.5 2.5l-.94 2.06-2.06.94zm10 10l.94 2.06.94-2.06 2.06-.94-2.06-.94-.94-2.06-.94 2.06-2.06.94z\"/><path d=\"M17.41 7.96l-1.37-1.37c-.4-.4-.92-.59-1.43-.59-.52 0-1.04.2-1.43.59L10.3 9.45l-7.72 7.72c-.78.78-.78 2.05 0 2.83L4 21.41c.39.39.9.59 1.41.59.51 0 1.02-.2 1.41-.59l7.78-7.78 2.81-2.81c.8-.78.8-2.07 0-2.86zM5.41 20L4 18.59l7.72-7.72 1.47 1.35L5.41 20z\"/>\n",
       "  </svg>\n",
       "      </button>\n",
       "      \n",
       "  <style>\n",
       "    .colab-df-container {\n",
       "      display:flex;\n",
       "      flex-wrap:wrap;\n",
       "      gap: 12px;\n",
       "    }\n",
       "\n",
       "    .colab-df-convert {\n",
       "      background-color: #E8F0FE;\n",
       "      border: none;\n",
       "      border-radius: 50%;\n",
       "      cursor: pointer;\n",
       "      display: none;\n",
       "      fill: #1967D2;\n",
       "      height: 32px;\n",
       "      padding: 0 0 0 0;\n",
       "      width: 32px;\n",
       "    }\n",
       "\n",
       "    .colab-df-convert:hover {\n",
       "      background-color: #E2EBFA;\n",
       "      box-shadow: 0px 1px 2px rgba(60, 64, 67, 0.3), 0px 1px 3px 1px rgba(60, 64, 67, 0.15);\n",
       "      fill: #174EA6;\n",
       "    }\n",
       "\n",
       "    [theme=dark] .colab-df-convert {\n",
       "      background-color: #3B4455;\n",
       "      fill: #D2E3FC;\n",
       "    }\n",
       "\n",
       "    [theme=dark] .colab-df-convert:hover {\n",
       "      background-color: #434B5C;\n",
       "      box-shadow: 0px 1px 3px 1px rgba(0, 0, 0, 0.15);\n",
       "      filter: drop-shadow(0px 1px 2px rgba(0, 0, 0, 0.3));\n",
       "      fill: #FFFFFF;\n",
       "    }\n",
       "  </style>\n",
       "\n",
       "      <script>\n",
       "        const buttonEl =\n",
       "          document.querySelector('#df-63310e51-9b36-4cbf-82ed-69049ed558ed button.colab-df-convert');\n",
       "        buttonEl.style.display =\n",
       "          google.colab.kernel.accessAllowed ? 'block' : 'none';\n",
       "\n",
       "        async function convertToInteractive(key) {\n",
       "          const element = document.querySelector('#df-63310e51-9b36-4cbf-82ed-69049ed558ed');\n",
       "          const dataTable =\n",
       "            await google.colab.kernel.invokeFunction('convertToInteractive',\n",
       "                                                     [key], {});\n",
       "          if (!dataTable) return;\n",
       "\n",
       "          const docLinkHtml = 'Like what you see? Visit the ' +\n",
       "            '<a target=\"_blank\" href=https://colab.research.google.com/notebooks/data_table.ipynb>data table notebook</a>'\n",
       "            + ' to learn more about interactive tables.';\n",
       "          element.innerHTML = '';\n",
       "          dataTable['output_type'] = 'display_data';\n",
       "          await google.colab.output.renderOutput(dataTable, element);\n",
       "          const docLink = document.createElement('div');\n",
       "          docLink.innerHTML = docLinkHtml;\n",
       "          element.appendChild(docLink);\n",
       "        }\n",
       "      </script>\n",
       "    </div>\n",
       "  </div>\n",
       "  "
      ]
     },
     "metadata": {},
     "execution_count": 16
    }
   ],
   "source": [
    "# add non-amp sequnces to dataset to increase the number of negative samples\n",
    "nonAMP = pd.read_csv('/datasets/non_amp_dataset_and_not_active.csv');\n",
    "nonAMP = nonAMP.rename(columns={\"e_coli\": \"e_coli_atcc\"})\n",
    "nonAMP['e_coli_atcc'] = nonAMP['e_coli_atcc'].astype(float)\n",
    "nonAMP"
   ]
  },
  {
   "cell_type": "code",
   "execution_count": null,
   "metadata": {
    "colab": {
     "base_uri": "https://localhost:8080/",
     "height": 500
    },
    "id": "_TPi-zSExXIY",
    "outputId": "f92f8c65-73eb-4c2f-9c1d-fb87d8a7de98"
   },
   "outputs": [
    {
     "output_type": "execute_result",
     "data": {
      "text/plain": [
       "      Unnamed: 0              sequence nTerminus cTerminus  e_coli  \\\n",
       "4              6          KAaaKWAaKaAK       C16       AMD     NaN   \n",
       "8             13          KLllKWLlKlLK       NaN       AMD     NaN   \n",
       "11            17  GLRKRLRKFRNKIKEKLKKI       NaN       NaN     NaN   \n",
       "31            39  GLRKALRKFRNKIKEALKKI       NaN       NaN     NaN   \n",
       "32            40  GLRKRLRKARNKIKEKLKKI       NaN       NaN     NaN   \n",
       "...          ...                   ...       ...       ...     ...   \n",
       "1256      901257                RPWPPR       NaN       NaN     NaN   \n",
       "1257      901258               WKPLPPR       NaN       NaN     NaN   \n",
       "1258      901259               FKPLPPH       NaN       NaN     NaN   \n",
       "1259      901260              RPPWRPPW       NaN       NaN     NaN   \n",
       "1260      901261             RPRRPRLPW       NaN       NaN     NaN   \n",
       "\n",
       "      e_coli_atcc  seqLength  pseudomonas  \n",
       "4            6.25       12.0          NaN  \n",
       "8           15.00       12.0          NaN  \n",
       "11           4.00       20.0          NaN  \n",
       "31           2.00       20.0          NaN  \n",
       "32           4.00       20.0          NaN  \n",
       "...           ...        ...          ...  \n",
       "1256      1001.00        NaN       1001.0  \n",
       "1257      1001.00        NaN       1001.0  \n",
       "1258      1001.00        NaN       1001.0  \n",
       "1259      1001.00        NaN       1001.0  \n",
       "1260      1001.00        NaN       1001.0  \n",
       "\n",
       "[2911 rows x 8 columns]"
      ],
      "text/html": [
       "\n",
       "  <div id=\"df-2b79b931-4b62-4001-911a-232b6005ad8f\">\n",
       "    <div class=\"colab-df-container\">\n",
       "      <div>\n",
       "<style scoped>\n",
       "    .dataframe tbody tr th:only-of-type {\n",
       "        vertical-align: middle;\n",
       "    }\n",
       "\n",
       "    .dataframe tbody tr th {\n",
       "        vertical-align: top;\n",
       "    }\n",
       "\n",
       "    .dataframe thead th {\n",
       "        text-align: right;\n",
       "    }\n",
       "</style>\n",
       "<table border=\"1\" class=\"dataframe\">\n",
       "  <thead>\n",
       "    <tr style=\"text-align: right;\">\n",
       "      <th></th>\n",
       "      <th>Unnamed: 0</th>\n",
       "      <th>sequence</th>\n",
       "      <th>nTerminus</th>\n",
       "      <th>cTerminus</th>\n",
       "      <th>e_coli</th>\n",
       "      <th>e_coli_atcc</th>\n",
       "      <th>seqLength</th>\n",
       "      <th>pseudomonas</th>\n",
       "    </tr>\n",
       "  </thead>\n",
       "  <tbody>\n",
       "    <tr>\n",
       "      <th>4</th>\n",
       "      <td>6</td>\n",
       "      <td>KAaaKWAaKaAK</td>\n",
       "      <td>C16</td>\n",
       "      <td>AMD</td>\n",
       "      <td>NaN</td>\n",
       "      <td>6.25</td>\n",
       "      <td>12.0</td>\n",
       "      <td>NaN</td>\n",
       "    </tr>\n",
       "    <tr>\n",
       "      <th>8</th>\n",
       "      <td>13</td>\n",
       "      <td>KLllKWLlKlLK</td>\n",
       "      <td>NaN</td>\n",
       "      <td>AMD</td>\n",
       "      <td>NaN</td>\n",
       "      <td>15.00</td>\n",
       "      <td>12.0</td>\n",
       "      <td>NaN</td>\n",
       "    </tr>\n",
       "    <tr>\n",
       "      <th>11</th>\n",
       "      <td>17</td>\n",
       "      <td>GLRKRLRKFRNKIKEKLKKI</td>\n",
       "      <td>NaN</td>\n",
       "      <td>NaN</td>\n",
       "      <td>NaN</td>\n",
       "      <td>4.00</td>\n",
       "      <td>20.0</td>\n",
       "      <td>NaN</td>\n",
       "    </tr>\n",
       "    <tr>\n",
       "      <th>31</th>\n",
       "      <td>39</td>\n",
       "      <td>GLRKALRKFRNKIKEALKKI</td>\n",
       "      <td>NaN</td>\n",
       "      <td>NaN</td>\n",
       "      <td>NaN</td>\n",
       "      <td>2.00</td>\n",
       "      <td>20.0</td>\n",
       "      <td>NaN</td>\n",
       "    </tr>\n",
       "    <tr>\n",
       "      <th>32</th>\n",
       "      <td>40</td>\n",
       "      <td>GLRKRLRKARNKIKEKLKKI</td>\n",
       "      <td>NaN</td>\n",
       "      <td>NaN</td>\n",
       "      <td>NaN</td>\n",
       "      <td>4.00</td>\n",
       "      <td>20.0</td>\n",
       "      <td>NaN</td>\n",
       "    </tr>\n",
       "    <tr>\n",
       "      <th>...</th>\n",
       "      <td>...</td>\n",
       "      <td>...</td>\n",
       "      <td>...</td>\n",
       "      <td>...</td>\n",
       "      <td>...</td>\n",
       "      <td>...</td>\n",
       "      <td>...</td>\n",
       "      <td>...</td>\n",
       "    </tr>\n",
       "    <tr>\n",
       "      <th>1256</th>\n",
       "      <td>901257</td>\n",
       "      <td>RPWPPR</td>\n",
       "      <td>NaN</td>\n",
       "      <td>NaN</td>\n",
       "      <td>NaN</td>\n",
       "      <td>1001.00</td>\n",
       "      <td>NaN</td>\n",
       "      <td>1001.0</td>\n",
       "    </tr>\n",
       "    <tr>\n",
       "      <th>1257</th>\n",
       "      <td>901258</td>\n",
       "      <td>WKPLPPR</td>\n",
       "      <td>NaN</td>\n",
       "      <td>NaN</td>\n",
       "      <td>NaN</td>\n",
       "      <td>1001.00</td>\n",
       "      <td>NaN</td>\n",
       "      <td>1001.0</td>\n",
       "    </tr>\n",
       "    <tr>\n",
       "      <th>1258</th>\n",
       "      <td>901259</td>\n",
       "      <td>FKPLPPH</td>\n",
       "      <td>NaN</td>\n",
       "      <td>NaN</td>\n",
       "      <td>NaN</td>\n",
       "      <td>1001.00</td>\n",
       "      <td>NaN</td>\n",
       "      <td>1001.0</td>\n",
       "    </tr>\n",
       "    <tr>\n",
       "      <th>1259</th>\n",
       "      <td>901260</td>\n",
       "      <td>RPPWRPPW</td>\n",
       "      <td>NaN</td>\n",
       "      <td>NaN</td>\n",
       "      <td>NaN</td>\n",
       "      <td>1001.00</td>\n",
       "      <td>NaN</td>\n",
       "      <td>1001.0</td>\n",
       "    </tr>\n",
       "    <tr>\n",
       "      <th>1260</th>\n",
       "      <td>901261</td>\n",
       "      <td>RPRRPRLPW</td>\n",
       "      <td>NaN</td>\n",
       "      <td>NaN</td>\n",
       "      <td>NaN</td>\n",
       "      <td>1001.00</td>\n",
       "      <td>NaN</td>\n",
       "      <td>1001.0</td>\n",
       "    </tr>\n",
       "  </tbody>\n",
       "</table>\n",
       "<p>2911 rows × 8 columns</p>\n",
       "</div>\n",
       "      <button class=\"colab-df-convert\" onclick=\"convertToInteractive('df-2b79b931-4b62-4001-911a-232b6005ad8f')\"\n",
       "              title=\"Convert this dataframe to an interactive table.\"\n",
       "              style=\"display:none;\">\n",
       "        \n",
       "  <svg xmlns=\"http://www.w3.org/2000/svg\" height=\"24px\"viewBox=\"0 0 24 24\"\n",
       "       width=\"24px\">\n",
       "    <path d=\"M0 0h24v24H0V0z\" fill=\"none\"/>\n",
       "    <path d=\"M18.56 5.44l.94 2.06.94-2.06 2.06-.94-2.06-.94-.94-2.06-.94 2.06-2.06.94zm-11 1L8.5 8.5l.94-2.06 2.06-.94-2.06-.94L8.5 2.5l-.94 2.06-2.06.94zm10 10l.94 2.06.94-2.06 2.06-.94-2.06-.94-.94-2.06-.94 2.06-2.06.94z\"/><path d=\"M17.41 7.96l-1.37-1.37c-.4-.4-.92-.59-1.43-.59-.52 0-1.04.2-1.43.59L10.3 9.45l-7.72 7.72c-.78.78-.78 2.05 0 2.83L4 21.41c.39.39.9.59 1.41.59.51 0 1.02-.2 1.41-.59l7.78-7.78 2.81-2.81c.8-.78.8-2.07 0-2.86zM5.41 20L4 18.59l7.72-7.72 1.47 1.35L5.41 20z\"/>\n",
       "  </svg>\n",
       "      </button>\n",
       "      \n",
       "  <style>\n",
       "    .colab-df-container {\n",
       "      display:flex;\n",
       "      flex-wrap:wrap;\n",
       "      gap: 12px;\n",
       "    }\n",
       "\n",
       "    .colab-df-convert {\n",
       "      background-color: #E8F0FE;\n",
       "      border: none;\n",
       "      border-radius: 50%;\n",
       "      cursor: pointer;\n",
       "      display: none;\n",
       "      fill: #1967D2;\n",
       "      height: 32px;\n",
       "      padding: 0 0 0 0;\n",
       "      width: 32px;\n",
       "    }\n",
       "\n",
       "    .colab-df-convert:hover {\n",
       "      background-color: #E2EBFA;\n",
       "      box-shadow: 0px 1px 2px rgba(60, 64, 67, 0.3), 0px 1px 3px 1px rgba(60, 64, 67, 0.15);\n",
       "      fill: #174EA6;\n",
       "    }\n",
       "\n",
       "    [theme=dark] .colab-df-convert {\n",
       "      background-color: #3B4455;\n",
       "      fill: #D2E3FC;\n",
       "    }\n",
       "\n",
       "    [theme=dark] .colab-df-convert:hover {\n",
       "      background-color: #434B5C;\n",
       "      box-shadow: 0px 1px 3px 1px rgba(0, 0, 0, 0.15);\n",
       "      filter: drop-shadow(0px 1px 2px rgba(0, 0, 0, 0.3));\n",
       "      fill: #FFFFFF;\n",
       "    }\n",
       "  </style>\n",
       "\n",
       "      <script>\n",
       "        const buttonEl =\n",
       "          document.querySelector('#df-2b79b931-4b62-4001-911a-232b6005ad8f button.colab-df-convert');\n",
       "        buttonEl.style.display =\n",
       "          google.colab.kernel.accessAllowed ? 'block' : 'none';\n",
       "\n",
       "        async function convertToInteractive(key) {\n",
       "          const element = document.querySelector('#df-2b79b931-4b62-4001-911a-232b6005ad8f');\n",
       "          const dataTable =\n",
       "            await google.colab.kernel.invokeFunction('convertToInteractive',\n",
       "                                                     [key], {});\n",
       "          if (!dataTable) return;\n",
       "\n",
       "          const docLinkHtml = 'Like what you see? Visit the ' +\n",
       "            '<a target=\"_blank\" href=https://colab.research.google.com/notebooks/data_table.ipynb>data table notebook</a>'\n",
       "            + ' to learn more about interactive tables.';\n",
       "          element.innerHTML = '';\n",
       "          dataTable['output_type'] = 'display_data';\n",
       "          await google.colab.output.renderOutput(dataTable, element);\n",
       "          const docLink = document.createElement('div');\n",
       "          docLink.innerHTML = docLinkHtml;\n",
       "          element.appendChild(docLink);\n",
       "        }\n",
       "      </script>\n",
       "    </div>\n",
       "  </div>\n",
       "  "
      ]
     },
     "metadata": {},
     "execution_count": 17
    }
   ],
   "source": [
    "frames = [df, nonAMP]\n",
    "df = pd.concat(frames)\n",
    "df"
   ]
  },
  {
   "cell_type": "code",
   "source": [
    "df['e_coli_atcc'].fillna(2000.0, inplace=True)"
   ],
   "metadata": {
    "id": "facnuLklUJ46"
   },
   "execution_count": null,
   "outputs": []
  },
  {
   "cell_type": "code",
   "execution_count": null,
   "metadata": {
    "id": "EAxcZD7fv_Kt"
   },
   "outputs": [],
   "source": [
    "df['e_isActive'] =  np.where(df['e_coli_atcc'] <= MIC_cutoff , True, False)"
   ]
  },
  {
   "cell_type": "code",
   "execution_count": null,
   "metadata": {
    "id": "wsuiX4inCo1s"
   },
   "outputs": [],
   "source": [
    "df = df.sort_values(by=['e_coli_atcc'], ascending=[True])"
   ]
  },
  {
   "cell_type": "code",
   "source": [
    "df = df.drop_duplicates(subset='sequence', keep=\"first\")"
   ],
   "metadata": {
    "id": "XedIu2XTLFYS"
   },
   "execution_count": null,
   "outputs": []
  },
  {
   "cell_type": "code",
   "execution_count": null,
   "metadata": {
    "colab": {
     "base_uri": "https://localhost:8080/",
     "height": 204
    },
    "id": "sxx5VunIq11z",
    "outputId": "3a634c86-00be-48ca-886b-5c618952ebe5"
   },
   "outputs": [
    {
     "output_type": "execute_result",
     "data": {
      "text/plain": [
       "                 sequence  e_isActive\n",
       "58    CVKVSVKVGSGVKVSVKVC        True\n",
       "57    CVKVKVKVGSGVKVKVKVC        True\n",
       "2654    KWCFRVCYRGICYRRCA        True\n",
       "60    CVKVQVKVGSGVKVQVKVC        True\n",
       "2637    AWCFRVCYRGICYRRCR        True"
      ],
      "text/html": [
       "\n",
       "  <div id=\"df-54c312ad-7bc1-4b05-bb50-e93c55de2055\">\n",
       "    <div class=\"colab-df-container\">\n",
       "      <div>\n",
       "<style scoped>\n",
       "    .dataframe tbody tr th:only-of-type {\n",
       "        vertical-align: middle;\n",
       "    }\n",
       "\n",
       "    .dataframe tbody tr th {\n",
       "        vertical-align: top;\n",
       "    }\n",
       "\n",
       "    .dataframe thead th {\n",
       "        text-align: right;\n",
       "    }\n",
       "</style>\n",
       "<table border=\"1\" class=\"dataframe\">\n",
       "  <thead>\n",
       "    <tr style=\"text-align: right;\">\n",
       "      <th></th>\n",
       "      <th>sequence</th>\n",
       "      <th>e_isActive</th>\n",
       "    </tr>\n",
       "  </thead>\n",
       "  <tbody>\n",
       "    <tr>\n",
       "      <th>58</th>\n",
       "      <td>CVKVSVKVGSGVKVSVKVC</td>\n",
       "      <td>True</td>\n",
       "    </tr>\n",
       "    <tr>\n",
       "      <th>57</th>\n",
       "      <td>CVKVKVKVGSGVKVKVKVC</td>\n",
       "      <td>True</td>\n",
       "    </tr>\n",
       "    <tr>\n",
       "      <th>2654</th>\n",
       "      <td>KWCFRVCYRGICYRRCA</td>\n",
       "      <td>True</td>\n",
       "    </tr>\n",
       "    <tr>\n",
       "      <th>60</th>\n",
       "      <td>CVKVQVKVGSGVKVQVKVC</td>\n",
       "      <td>True</td>\n",
       "    </tr>\n",
       "    <tr>\n",
       "      <th>2637</th>\n",
       "      <td>AWCFRVCYRGICYRRCR</td>\n",
       "      <td>True</td>\n",
       "    </tr>\n",
       "  </tbody>\n",
       "</table>\n",
       "</div>\n",
       "      <button class=\"colab-df-convert\" onclick=\"convertToInteractive('df-54c312ad-7bc1-4b05-bb50-e93c55de2055')\"\n",
       "              title=\"Convert this dataframe to an interactive table.\"\n",
       "              style=\"display:none;\">\n",
       "        \n",
       "  <svg xmlns=\"http://www.w3.org/2000/svg\" height=\"24px\"viewBox=\"0 0 24 24\"\n",
       "       width=\"24px\">\n",
       "    <path d=\"M0 0h24v24H0V0z\" fill=\"none\"/>\n",
       "    <path d=\"M18.56 5.44l.94 2.06.94-2.06 2.06-.94-2.06-.94-.94-2.06-.94 2.06-2.06.94zm-11 1L8.5 8.5l.94-2.06 2.06-.94-2.06-.94L8.5 2.5l-.94 2.06-2.06.94zm10 10l.94 2.06.94-2.06 2.06-.94-2.06-.94-.94-2.06-.94 2.06-2.06.94z\"/><path d=\"M17.41 7.96l-1.37-1.37c-.4-.4-.92-.59-1.43-.59-.52 0-1.04.2-1.43.59L10.3 9.45l-7.72 7.72c-.78.78-.78 2.05 0 2.83L4 21.41c.39.39.9.59 1.41.59.51 0 1.02-.2 1.41-.59l7.78-7.78 2.81-2.81c.8-.78.8-2.07 0-2.86zM5.41 20L4 18.59l7.72-7.72 1.47 1.35L5.41 20z\"/>\n",
       "  </svg>\n",
       "      </button>\n",
       "      \n",
       "  <style>\n",
       "    .colab-df-container {\n",
       "      display:flex;\n",
       "      flex-wrap:wrap;\n",
       "      gap: 12px;\n",
       "    }\n",
       "\n",
       "    .colab-df-convert {\n",
       "      background-color: #E8F0FE;\n",
       "      border: none;\n",
       "      border-radius: 50%;\n",
       "      cursor: pointer;\n",
       "      display: none;\n",
       "      fill: #1967D2;\n",
       "      height: 32px;\n",
       "      padding: 0 0 0 0;\n",
       "      width: 32px;\n",
       "    }\n",
       "\n",
       "    .colab-df-convert:hover {\n",
       "      background-color: #E2EBFA;\n",
       "      box-shadow: 0px 1px 2px rgba(60, 64, 67, 0.3), 0px 1px 3px 1px rgba(60, 64, 67, 0.15);\n",
       "      fill: #174EA6;\n",
       "    }\n",
       "\n",
       "    [theme=dark] .colab-df-convert {\n",
       "      background-color: #3B4455;\n",
       "      fill: #D2E3FC;\n",
       "    }\n",
       "\n",
       "    [theme=dark] .colab-df-convert:hover {\n",
       "      background-color: #434B5C;\n",
       "      box-shadow: 0px 1px 3px 1px rgba(0, 0, 0, 0.15);\n",
       "      filter: drop-shadow(0px 1px 2px rgba(0, 0, 0, 0.3));\n",
       "      fill: #FFFFFF;\n",
       "    }\n",
       "  </style>\n",
       "\n",
       "      <script>\n",
       "        const buttonEl =\n",
       "          document.querySelector('#df-54c312ad-7bc1-4b05-bb50-e93c55de2055 button.colab-df-convert');\n",
       "        buttonEl.style.display =\n",
       "          google.colab.kernel.accessAllowed ? 'block' : 'none';\n",
       "\n",
       "        async function convertToInteractive(key) {\n",
       "          const element = document.querySelector('#df-54c312ad-7bc1-4b05-bb50-e93c55de2055');\n",
       "          const dataTable =\n",
       "            await google.colab.kernel.invokeFunction('convertToInteractive',\n",
       "                                                     [key], {});\n",
       "          if (!dataTable) return;\n",
       "\n",
       "          const docLinkHtml = 'Like what you see? Visit the ' +\n",
       "            '<a target=\"_blank\" href=https://colab.research.google.com/notebooks/data_table.ipynb>data table notebook</a>'\n",
       "            + ' to learn more about interactive tables.';\n",
       "          element.innerHTML = '';\n",
       "          dataTable['output_type'] = 'display_data';\n",
       "          await google.colab.output.renderOutput(dataTable, element);\n",
       "          const docLink = document.createElement('div');\n",
       "          docLink.innerHTML = docLinkHtml;\n",
       "          element.appendChild(docLink);\n",
       "        }\n",
       "      </script>\n",
       "    </div>\n",
       "  </div>\n",
       "  "
      ]
     },
     "metadata": {},
     "execution_count": 22
    }
   ],
   "source": [
    "df = df[['sequence', 'e_isActive']]\n",
    "df.head()"
   ]
  },
  {
   "cell_type": "code",
   "execution_count": null,
   "metadata": {
    "colab": {
     "base_uri": "https://localhost:8080/"
    },
    "id": "tsSoI1OBOHXh",
    "outputId": "daae9671-797e-400b-a89d-b9f24ec61ee8"
   },
   "outputs": [
    {
     "output_type": "execute_result",
     "data": {
      "text/plain": [
       "20"
      ]
     },
     "metadata": {},
     "execution_count": 23
    }
   ],
   "source": [
    "df.sequence.map(lambda x: len(x)).max()"
   ]
  },
  {
   "cell_type": "code",
   "execution_count": null,
   "metadata": {
    "colab": {
     "base_uri": "https://localhost:8080/",
     "height": 111
    },
    "id": "Or5fsvQci2PX",
    "outputId": "a263055b-c20d-44fa-c232-817b2acb402a"
   },
   "outputs": [
    {
     "output_type": "execute_result",
     "data": {
      "text/plain": [
       "   e_isActive  counts\n",
       "0       False    1258\n",
       "1        True    1533"
      ],
      "text/html": [
       "\n",
       "  <div id=\"df-557be4bd-6334-4f18-b6a9-ebf0e60cb325\">\n",
       "    <div class=\"colab-df-container\">\n",
       "      <div>\n",
       "<style scoped>\n",
       "    .dataframe tbody tr th:only-of-type {\n",
       "        vertical-align: middle;\n",
       "    }\n",
       "\n",
       "    .dataframe tbody tr th {\n",
       "        vertical-align: top;\n",
       "    }\n",
       "\n",
       "    .dataframe thead th {\n",
       "        text-align: right;\n",
       "    }\n",
       "</style>\n",
       "<table border=\"1\" class=\"dataframe\">\n",
       "  <thead>\n",
       "    <tr style=\"text-align: right;\">\n",
       "      <th></th>\n",
       "      <th>e_isActive</th>\n",
       "      <th>counts</th>\n",
       "    </tr>\n",
       "  </thead>\n",
       "  <tbody>\n",
       "    <tr>\n",
       "      <th>0</th>\n",
       "      <td>False</td>\n",
       "      <td>1258</td>\n",
       "    </tr>\n",
       "    <tr>\n",
       "      <th>1</th>\n",
       "      <td>True</td>\n",
       "      <td>1533</td>\n",
       "    </tr>\n",
       "  </tbody>\n",
       "</table>\n",
       "</div>\n",
       "      <button class=\"colab-df-convert\" onclick=\"convertToInteractive('df-557be4bd-6334-4f18-b6a9-ebf0e60cb325')\"\n",
       "              title=\"Convert this dataframe to an interactive table.\"\n",
       "              style=\"display:none;\">\n",
       "        \n",
       "  <svg xmlns=\"http://www.w3.org/2000/svg\" height=\"24px\"viewBox=\"0 0 24 24\"\n",
       "       width=\"24px\">\n",
       "    <path d=\"M0 0h24v24H0V0z\" fill=\"none\"/>\n",
       "    <path d=\"M18.56 5.44l.94 2.06.94-2.06 2.06-.94-2.06-.94-.94-2.06-.94 2.06-2.06.94zm-11 1L8.5 8.5l.94-2.06 2.06-.94-2.06-.94L8.5 2.5l-.94 2.06-2.06.94zm10 10l.94 2.06.94-2.06 2.06-.94-2.06-.94-.94-2.06-.94 2.06-2.06.94z\"/><path d=\"M17.41 7.96l-1.37-1.37c-.4-.4-.92-.59-1.43-.59-.52 0-1.04.2-1.43.59L10.3 9.45l-7.72 7.72c-.78.78-.78 2.05 0 2.83L4 21.41c.39.39.9.59 1.41.59.51 0 1.02-.2 1.41-.59l7.78-7.78 2.81-2.81c.8-.78.8-2.07 0-2.86zM5.41 20L4 18.59l7.72-7.72 1.47 1.35L5.41 20z\"/>\n",
       "  </svg>\n",
       "      </button>\n",
       "      \n",
       "  <style>\n",
       "    .colab-df-container {\n",
       "      display:flex;\n",
       "      flex-wrap:wrap;\n",
       "      gap: 12px;\n",
       "    }\n",
       "\n",
       "    .colab-df-convert {\n",
       "      background-color: #E8F0FE;\n",
       "      border: none;\n",
       "      border-radius: 50%;\n",
       "      cursor: pointer;\n",
       "      display: none;\n",
       "      fill: #1967D2;\n",
       "      height: 32px;\n",
       "      padding: 0 0 0 0;\n",
       "      width: 32px;\n",
       "    }\n",
       "\n",
       "    .colab-df-convert:hover {\n",
       "      background-color: #E2EBFA;\n",
       "      box-shadow: 0px 1px 2px rgba(60, 64, 67, 0.3), 0px 1px 3px 1px rgba(60, 64, 67, 0.15);\n",
       "      fill: #174EA6;\n",
       "    }\n",
       "\n",
       "    [theme=dark] .colab-df-convert {\n",
       "      background-color: #3B4455;\n",
       "      fill: #D2E3FC;\n",
       "    }\n",
       "\n",
       "    [theme=dark] .colab-df-convert:hover {\n",
       "      background-color: #434B5C;\n",
       "      box-shadow: 0px 1px 3px 1px rgba(0, 0, 0, 0.15);\n",
       "      filter: drop-shadow(0px 1px 2px rgba(0, 0, 0, 0.3));\n",
       "      fill: #FFFFFF;\n",
       "    }\n",
       "  </style>\n",
       "\n",
       "      <script>\n",
       "        const buttonEl =\n",
       "          document.querySelector('#df-557be4bd-6334-4f18-b6a9-ebf0e60cb325 button.colab-df-convert');\n",
       "        buttonEl.style.display =\n",
       "          google.colab.kernel.accessAllowed ? 'block' : 'none';\n",
       "\n",
       "        async function convertToInteractive(key) {\n",
       "          const element = document.querySelector('#df-557be4bd-6334-4f18-b6a9-ebf0e60cb325');\n",
       "          const dataTable =\n",
       "            await google.colab.kernel.invokeFunction('convertToInteractive',\n",
       "                                                     [key], {});\n",
       "          if (!dataTable) return;\n",
       "\n",
       "          const docLinkHtml = 'Like what you see? Visit the ' +\n",
       "            '<a target=\"_blank\" href=https://colab.research.google.com/notebooks/data_table.ipynb>data table notebook</a>'\n",
       "            + ' to learn more about interactive tables.';\n",
       "          element.innerHTML = '';\n",
       "          dataTable['output_type'] = 'display_data';\n",
       "          await google.colab.output.renderOutput(dataTable, element);\n",
       "          const docLink = document.createElement('div');\n",
       "          docLink.innerHTML = docLinkHtml;\n",
       "          element.appendChild(docLink);\n",
       "        }\n",
       "      </script>\n",
       "    </div>\n",
       "  </div>\n",
       "  "
      ]
     },
     "metadata": {},
     "execution_count": 24
    }
   ],
   "source": [
    "# statistics about AMPs positive and negative samples\n",
    "groupActivityStatistic = df.groupby(['e_isActive']).size().reset_index(name='counts')\n",
    "groupActivityStatistic"
   ]
  },
  {
   "cell_type": "code",
   "source": [
    "df.to_csv('/content/sample_data/ecoli_atcc_v1_dataset.csv')"
   ],
   "metadata": {
    "id": "516UkzxnQgSy"
   },
   "execution_count": null,
   "outputs": []
  },
  {
   "cell_type": "code",
   "execution_count": null,
   "metadata": {
    "id": "4zAbC2ctDFda"
   },
   "outputs": [],
   "source": [
    "# Split dataset into training (4/5) and test (1/5) sets; out of every 5 sequences, grab the 3rd for the test set\n",
    "# Dataset will already be sorted by MIC primarily (meaning negative controls are at the bottom) and sequence length secondarily in Excel\n",
    "included_sequences = df['sequence'].to_list()\n",
    "included_MICs = df['e_isActive'].to_list()\n",
    "\n",
    "training_sequences = df['sequence'].to_list()\n",
    "del training_sequences[2::5]\n",
    "test_sequences = included_sequences[2::5] # Grabs the 3rd sequence every 5 steps\n",
    "training_MICs = df['e_isActive'].to_list()\n",
    "del training_MICs[2::5]\n",
    "test_MICs = included_MICs[2::5]"
   ]
  },
  {
   "cell_type": "code",
   "execution_count": null,
   "metadata": {
    "id": "6WYoBwzXKFBq"
   },
   "outputs": [],
   "source": [
    "# Zip corresponding sequences and labels together\n",
    "training_set = list(zip(training_sequences, training_MICs))\n",
    "test_set = list(zip(test_sequences, test_MICs))"
   ]
  },
  {
   "cell_type": "code",
   "execution_count": null,
   "metadata": {
    "colab": {
     "base_uri": "https://localhost:8080/"
    },
    "id": "9z3MR3vwVRo1",
    "outputId": "1d946559-582e-4d09-b5d4-cf3cfdb0894e"
   },
   "outputs": [
    {
     "output_type": "execute_result",
     "data": {
      "text/plain": [
       "2233"
      ]
     },
     "metadata": {},
     "execution_count": 27
    }
   ],
   "source": [
    "len(training_set)"
   ]
  },
  {
   "cell_type": "code",
   "execution_count": null,
   "metadata": {
    "colab": {
     "base_uri": "https://localhost:8080/"
    },
    "id": "M2ATzjvFrvvU",
    "outputId": "b964424d-ec49-4c4a-afe2-0d57e995d880"
   },
   "outputs": [
    {
     "output_type": "execute_result",
     "data": {
      "text/plain": [
       "Counter({True: 1226, False: 1007})"
      ]
     },
     "metadata": {},
     "execution_count": 28
    }
   ],
   "source": [
    "from collections import Counter\n",
    "Counter(elem[1] for elem in training_set)"
   ]
  },
  {
   "cell_type": "code",
   "execution_count": null,
   "metadata": {
    "colab": {
     "base_uri": "https://localhost:8080/"
    },
    "id": "ns-WzIcm26YV",
    "outputId": "01cfc1c3-08f4-4a3f-e171-ddb1928ad690"
   },
   "outputs": [
    {
     "output_type": "execute_result",
     "data": {
      "text/plain": [
       "558"
      ]
     },
     "metadata": {},
     "execution_count": 29
    }
   ],
   "source": [
    "len(test_set)"
   ]
  },
  {
   "cell_type": "code",
   "execution_count": null,
   "metadata": {
    "colab": {
     "base_uri": "https://localhost:8080/"
    },
    "id": "6gsMV5lcsglV",
    "outputId": "6b7ae595-b41b-4827-cb4e-ca8301da053a"
   },
   "outputs": [
    {
     "output_type": "execute_result",
     "data": {
      "text/plain": [
       "Counter({True: 307, False: 251})"
      ]
     },
     "metadata": {},
     "execution_count": 30
    }
   ],
   "source": [
    "Counter(elem[1] for elem in test_set)"
   ]
  },
  {
   "cell_type": "code",
   "execution_count": null,
   "metadata": {
    "id": "Sutr7mHqKM0O"
   },
   "outputs": [],
   "source": [
    "# Shuffle sequences and labels, with corresponding sequences and labels kept together\n",
    "# Split the sequences and labels in training_set and test_set into separate lists again\n",
    "random.seed(16)\n",
    "random.shuffle(training_set)\n",
    "training_sequences, training_MICs = zip(*training_set)\n",
    "random.shuffle(test_set)\n",
    "test_sequences, test_MICs = zip(*test_set)"
   ]
  },
  {
   "cell_type": "code",
   "execution_count": null,
   "metadata": {
    "id": "LT-y-FUOtBBt"
   },
   "outputs": [],
   "source": [
    "# Function for zero-padding the sequences\n",
    "def padding(sequences):\n",
    "    padded_sequences = []\n",
    "    for i in range(0, len(sequences)):\n",
    "        if len(sequences[i]) == maxlength:\n",
    "            padded_sequences.append(sequences[i])\n",
    "        else:\n",
    "            padded_sequences.append(sequences[i] + \"0\" * (maxlength - len(sequences[i])))\n",
    "    return padded_sequences"
   ]
  },
  {
   "cell_type": "code",
   "execution_count": null,
   "metadata": {
    "id": "_4XGktqmuQKB"
   },
   "outputs": [],
   "source": [
    "# Pad the training sequences and test sequences\n",
    "padded_training_sequences = padding(training_sequences)\n",
    "padded_test_sequences = padding(test_sequences)"
   ]
  },
  {
   "cell_type": "code",
   "execution_count": null,
   "metadata": {
    "id": "sgwAOYXEui8w"
   },
   "outputs": [],
   "source": [
    "# Mapping of unique characters to integers\n",
    "chars = ['A', 'D', 'E', 'F', 'G', 'H', 'I', 'K', 'L', 'M', 'N', 'P', 'Q', 'R', 'S', 'T', 'V', 'W', 'Y', '0']\n",
    "token_index = dict(zip(chars, range(0, 20)))"
   ]
  },
  {
   "cell_type": "code",
   "execution_count": null,
   "metadata": {
    "id": "RQoi_wq7uloE"
   },
   "outputs": [],
   "source": [
    "# Function for one-hot encoding sequences into binary arrays\n",
    "def one_hot_encode(sequences):\n",
    "    x = np.zeros((len(sequences), maxlength, len(chars))) \n",
    "    for i, sequence in enumerate(sequences): \n",
    "        for j, char in enumerate(sequence[0 : 20]): \n",
    "            index = token_index.get(char) \n",
    "            x[i, j, index] = 1 \n",
    "    return x"
   ]
  },
  {
   "cell_type": "code",
   "execution_count": null,
   "metadata": {
    "colab": {
     "base_uri": "https://localhost:8080/"
    },
    "id": "xJE1_j7EuoXU",
    "outputId": "f2acdd82-730f-469b-f8d9-0971d439d14b"
   },
   "outputs": [
    {
     "output_type": "stream",
     "name": "stdout",
     "text": [
      "One-hot encoding the sequences...\n"
     ]
    }
   ],
   "source": [
    "# One-hot encode training and test sequences\n",
    "print('One-hot encoding the sequences...')\n",
    "# x_train list contains one-hot encoded versions of the 20 residues of each training sequence\n",
    "x_train = one_hot_encode(padded_training_sequences) \n",
    "# x_test list contains one-hot encoded versions of the 20 residues of each test sequence\n",
    "x_test = one_hot_encode(padded_test_sequences) "
   ]
  },
  {
   "cell_type": "code",
   "execution_count": null,
   "metadata": {
    "colab": {
     "base_uri": "https://localhost:8080/"
    },
    "id": "5Fcz3eMrxqQg",
    "outputId": "a07b0ae6-88c4-437a-859f-d9d07ef92145"
   },
   "outputs": [
    {
     "output_type": "execute_result",
     "data": {
      "text/plain": [
       "2233"
      ]
     },
     "metadata": {},
     "execution_count": 38
    }
   ],
   "source": [
    "len(x_train)"
   ]
  },
  {
   "cell_type": "code",
   "execution_count": null,
   "metadata": {
    "id": "zTMkzvTOuxT-"
   },
   "outputs": [],
   "source": [
    "# Vectorize labels\n",
    "y_train = np.asarray(training_MICs).astype('float64')\n",
    "y_test = np.asarray(test_MICs).astype('float64')"
   ]
  },
  {
   "cell_type": "code",
   "execution_count": null,
   "metadata": {
    "colab": {
     "base_uri": "https://localhost:8080/"
    },
    "id": "UFAh6rNVxzho",
    "outputId": "cb747534-07c5-4dff-9ed3-7859683e3cc6"
   },
   "outputs": [
    {
     "output_type": "execute_result",
     "data": {
      "text/plain": [
       "2233"
      ]
     },
     "metadata": {},
     "execution_count": 40
    }
   ],
   "source": [
    "len(y_train)"
   ]
  },
  {
   "cell_type": "code",
   "execution_count": null,
   "metadata": {
    "colab": {
     "base_uri": "https://localhost:8080/"
    },
    "id": "AIC3SrxSEhGV",
    "outputId": "bdecb52e-fc82-4dbd-fbc8-2f9bc477f2c3"
   },
   "outputs": [
    {
     "output_type": "execute_result",
     "data": {
      "text/plain": [
       "558"
      ]
     },
     "metadata": {},
     "execution_count": 41
    }
   ],
   "source": [
    "len(x_test)"
   ]
  },
  {
   "cell_type": "markdown",
   "metadata": {
    "id": "vNSP7FHuvAxC"
   },
   "source": [
    "### Preparing The Model"
   ]
  },
  {
   "cell_type": "code",
   "execution_count": null,
   "metadata": {
    "id": "Gs1D5t3Xu_2r"
   },
   "outputs": [],
   "source": [
    "METRICS = [\n",
    "      keras.metrics.TruePositives(name='tp'),\n",
    "      keras.metrics.FalsePositives(name='fp'),\n",
    "      keras.metrics.TrueNegatives(name='tn'),\n",
    "      keras.metrics.FalseNegatives(name='fn'), \n",
    "      keras.metrics.BinaryAccuracy(name='accuracy'),\n",
    "      keras.metrics.Precision(name='precision'),\n",
    "      keras.metrics.Recall(name='recall'),\n",
    "      keras.metrics.AUC(name='auc'),\n",
    "      keras.metrics.AUC(name='prc', curve='PR'), # precision-recall curve\n",
    "]\n",
    "\n",
    "# Callbacks (checkpoints to save model weights each time it improves, stops training when there is no improvement)\n",
    "callbacks = [keras.callbacks.EarlyStopping(monitor = 'acc', patience = 5, mode = 'max'), \n",
    "             keras.callbacks.ModelCheckpoint(filepath = '/content/sample_data/cnn_lstm_att_ecoli_atcc_classification_model_v1.h5', monitor = 'acc', \n",
    "                                             verbose = 0, save_best_only = True, mode = 'max')]"
   ]
  },
  {
   "cell_type": "code",
   "execution_count": null,
   "metadata": {
    "id": "j_FdrY14vG2r"
   },
   "outputs": [],
   "source": [
    "\n",
    "# Function that builds model\n",
    "def build_model(hp):\n",
    "    model = tf.keras.models.Sequential() # Sequential model\n",
    "    # Tune the number of units in the LSTM layer; picks an optimal value between 32-512\n",
    "    hp_units = hp.Int('units', min_value = 32, max_value = 512, step = 32)\n",
    "    # Add CNN layer\n",
    "    model.add(layers.Conv1D(filters=32, kernel_size=3, padding='same', activation='relu',input_shape=(maxlength, len(chars))))\n",
    "    model.add(layers.MaxPooling1D(pool_size=2))\n",
    "    # Add a bidirectional LSTM layer\n",
    "    model.add(layers.Bidirectional(layers.LSTM(hp_units, return_sequences = True), input_shape = (maxlength, len(chars))))\n",
    "    model.add(layers.Bidirectional(layers.LSTM(hp_units, return_sequences = True), input_shape = (maxlength, len(chars))))\n",
    "    model.add(SeqSelfAttention(attention_activation='softmax'))\n",
    "    # Picks an optimal value of dropout between\n",
    "    hp_dropout = hp.Float('dropout', min_value = 0.2, max_value = 0.7, step = 0.1)\n",
    "    model.add(layers.Dropout(hp_dropout)) # Adds a Dropout layer\n",
    "    model.add(layers.Flatten())\n",
    "    model.add(layers.Dense(1, activation = 'sigmoid')) # Sigmoid last-layer activation\n",
    "    # Tune the learning rate; picks an optimal value from the different learning rates  [1e-1, 1e-2, 2e-2, 3e-2, 1e-3, 1e-4]\n",
    "    hp_learning_rate = hp.Choice('learning_rate', values = [1e-1, 1e-2, 2e-2, 3e-2, 1e-3, 1e-4])\n",
    "    model.compile(loss = 'binary_crossentropy', optimizer = keras.optimizers.RMSprop(hp_learning_rate), metrics = ['acc'])\n",
    "    # Saving the weights of the model before training start, so we can reset the weights if needed\n",
    "    model.save_weights('/content/sample_data/initial_cnn_lstm_att_ecoli_atcc_classification_model_v1.h5') \n",
    "    return model"
   ]
  },
  {
   "cell_type": "code",
   "execution_count": null,
   "metadata": {
    "id": "aWOxmmeEvLoX"
   },
   "outputs": [],
   "source": [
    "# Subclassing keras tuner to support cross-validation\n",
    "class tuner_crossvalidation(kt.engine.tuner.Tuner):\n",
    "    def run_trial(self, trial, x_train, y_train, batch_size = batch_size, epochs = epochs, callbacks = callbacks):\n",
    "        val_accuracies = []\n",
    "        for train_indices, test_indices in crossvalidation.split(x_train):\n",
    "            x_cvtrain, x_cvtest = x_train[train_indices], x_train[test_indices]\n",
    "            y_cvtrain, y_cvtest = y_train[train_indices], y_train[test_indices]\n",
    "            model = self.hypermodel.build(trial.hyperparameters)\n",
    "            model.fit(x_cvtrain, y_cvtrain, batch_size = batch_size, epochs = epochs, callbacks = callbacks)\n",
    "            val_accuracies.append(model.evaluate(x_cvtest, y_cvtest))\n",
    "        self.oracle.update_trial(trial.trial_id, {'val_acc': np.mean(val_accuracies)})\n",
    "        self.save_model(trial.trial_id, model)"
   ]
  },
  {
   "cell_type": "code",
   "execution_count": null,
   "metadata": {
    "id": "9Ou4qqzaTRYQ"
   },
   "outputs": [],
   "source": [
    "tuner = tuner_crossvalidation(hypermodel = build_model, \n",
    "                              oracle = kt.oracles.BayesianOptimization(objective = 'val_acc', max_trials = 11))"
   ]
  },
  {
   "cell_type": "code",
   "execution_count": null,
   "metadata": {
    "colab": {
     "base_uri": "https://localhost:8080/"
    },
    "id": "J2nABy4wvN3S",
    "outputId": "72108ebe-6b8a-49eb-8e38-5fd22c332766"
   },
   "outputs": [
    {
     "output_type": "stream",
     "name": "stdout",
     "text": [
      "Search space summary\n",
      "Default search space size: 3\n",
      "units (Int)\n",
      "{'default': None, 'conditions': [], 'min_value': 32, 'max_value': 512, 'step': 32, 'sampling': None}\n",
      "dropout (Float)\n",
      "{'default': 0.2, 'conditions': [], 'min_value': 0.2, 'max_value': 0.7, 'step': 0.1, 'sampling': None}\n",
      "learning_rate (Choice)\n",
      "{'default': 0.003, 'conditions': [], 'values': [0.003], 'ordered': True}\n"
     ]
    }
   ],
   "source": [
    "# Show search space summary\n",
    "tuner.search_space_summary()"
   ]
  },
  {
   "cell_type": "markdown",
   "metadata": {
    "id": "8b7YIAQFvRcs"
   },
   "source": [
    "### Find Best Tuning Params"
   ]
  },
  {
   "cell_type": "code",
   "execution_count": null,
   "metadata": {
    "colab": {
     "base_uri": "https://localhost:8080/"
    },
    "id": "xyCCUsSKvSbV",
    "outputId": "31ffb9de-78a2-4215-9a45-2d9ea180f8bb"
   },
   "outputs": [
    {
     "output_type": "stream",
     "name": "stdout",
     "text": [
      "Trial 11 Complete [00h 02m 41s]\n",
      "val_acc: 0.7024847000837326\n",
      "\n",
      "Best val_acc So Far: 0.7555066138505936\n",
      "Total elapsed time: 00h 36m 12s\n"
     ]
    }
   ],
   "source": [
    "# Run the hyperparameter search\n",
    "tuner.search(x_train, y_train, batch_size = batch_size, epochs = epochs, callbacks = callbacks)\n",
    "best_model = tuner.get_best_models()[0]"
   ]
  },
  {
   "cell_type": "code",
   "execution_count": null,
   "metadata": {
    "colab": {
     "base_uri": "https://localhost:8080/"
    },
    "id": "wsuURtxivWFs",
    "outputId": "0e860a7b-569c-4ec7-97e8-917f08d6faf5"
   },
   "outputs": [
    {
     "output_type": "stream",
     "name": "stdout",
     "text": [
      "\n",
      "Completed hyperparameter search. The optimal number of units in the LSTM\n",
      "layer is 512. The optimal dropout for the dropout layer is 0.7000000000000002.\n",
      "The optimal learning rate for the optimizer is 0.003. \n",
      "\n"
     ]
    }
   ],
   "source": [
    "# Get the best hyperparameters\n",
    "best_hps = tuner.get_best_hyperparameters(num_trials = 1)[0]\n",
    "\n",
    "print(f\"\"\"\n",
    "Completed hyperparameter search. The optimal number of units in the LSTM\n",
    "layer is {best_hps.get('units')}. The optimal dropout for the dropout layer is {best_hps.get('dropout')}.\n",
    "The optimal learning rate for the optimizer is {best_hps.get('learning_rate')}. \n",
    "\"\"\")"
   ]
  },
  {
   "cell_type": "markdown",
   "metadata": {
    "id": "53B4HCrNvc-_"
   },
   "source": [
    "### Training The Model"
   ]
  },
  {
   "cell_type": "code",
   "execution_count": null,
   "metadata": {
    "id": "EpYbbFKNvdmQ"
   },
   "outputs": [],
   "source": [
    "# Function for plotting the accuracy\n",
    "def plot_acc():\n",
    "    acc = history.history['acc']\n",
    "    epochs = range(1, len(acc) + 1)\n",
    "    plt.figure(1)\n",
    "    plt.plot(epochs, acc, 'b-', label = 'Training accuracy')\n",
    "    plt.title('Training accuracy')\n",
    "    plt.xlabel('Epochs')\n",
    "    plt.ylabel('Accuracy')\n",
    "    plt.show()  "
   ]
  },
  {
   "cell_type": "code",
   "execution_count": null,
   "metadata": {
    "id": "nC3SXdo-vgnu",
    "colab": {
     "base_uri": "https://localhost:8080/"
    },
    "outputId": "97d6d26f-7099-4606-9902-fd7b9e61c688"
   },
   "outputs": [
    {
     "output_type": "stream",
     "name": "stdout",
     "text": [
      "Epoch 1/500\n",
      "70/70 [==============================] - 12s 25ms/step - loss: 1.5777 - acc: 0.5208\n",
      "Epoch 2/500\n",
      "70/70 [==============================] - 1s 17ms/step - loss: 0.3544 - acc: 0.8728\n",
      "Epoch 3/500\n",
      "70/70 [==============================] - 1s 17ms/step - loss: 0.2649 - acc: 0.9136\n",
      "Epoch 4/500\n",
      "70/70 [==============================] - 1s 17ms/step - loss: 0.2094 - acc: 0.9279\n",
      "Epoch 5/500\n",
      "70/70 [==============================] - 1s 17ms/step - loss: 0.1878 - acc: 0.9324\n",
      "Epoch 6/500\n",
      "70/70 [==============================] - 1s 17ms/step - loss: 0.1728 - acc: 0.9409\n",
      "Epoch 7/500\n",
      "70/70 [==============================] - 1s 16ms/step - loss: 0.1986 - acc: 0.9507\n",
      "Epoch 8/500\n",
      "70/70 [==============================] - 1s 17ms/step - loss: 0.1322 - acc: 0.9561\n",
      "Epoch 9/500\n",
      "70/70 [==============================] - 1s 17ms/step - loss: 0.1623 - acc: 0.9579\n",
      "Epoch 10/500\n",
      "70/70 [==============================] - 1s 17ms/step - loss: 0.1914 - acc: 0.9557\n",
      "Epoch 11/500\n",
      "70/70 [==============================] - 1s 17ms/step - loss: 0.1169 - acc: 0.9655\n",
      "Epoch 12/500\n",
      "70/70 [==============================] - 1s 17ms/step - loss: 0.2037 - acc: 0.9610\n",
      "Epoch 13/500\n",
      "70/70 [==============================] - 1s 17ms/step - loss: 0.1026 - acc: 0.9678\n",
      "Epoch 14/500\n",
      "70/70 [==============================] - 1s 17ms/step - loss: 0.0846 - acc: 0.9749\n",
      "Epoch 15/500\n",
      "70/70 [==============================] - 1s 17ms/step - loss: 0.1334 - acc: 0.9731\n",
      "Epoch 16/500\n",
      "70/70 [==============================] - 1s 17ms/step - loss: 0.0862 - acc: 0.9722\n",
      "Epoch 17/500\n",
      "70/70 [==============================] - 1s 17ms/step - loss: 0.0724 - acc: 0.9825\n",
      "Epoch 18/500\n",
      "70/70 [==============================] - 1s 17ms/step - loss: 0.0659 - acc: 0.9839\n",
      "Epoch 19/500\n",
      "70/70 [==============================] - 1s 17ms/step - loss: 0.1092 - acc: 0.9772\n",
      "Epoch 20/500\n",
      "70/70 [==============================] - 1s 17ms/step - loss: 0.0787 - acc: 0.9785\n",
      "Epoch 21/500\n",
      "70/70 [==============================] - 1s 17ms/step - loss: 0.0546 - acc: 0.9861\n",
      "Epoch 22/500\n",
      "70/70 [==============================] - 1s 17ms/step - loss: 0.0725 - acc: 0.9812\n",
      "Epoch 23/500\n",
      "70/70 [==============================] - 1s 17ms/step - loss: 0.0441 - acc: 0.9857\n",
      "Epoch 24/500\n",
      "70/70 [==============================] - 1s 17ms/step - loss: 0.0741 - acc: 0.9857\n",
      "Epoch 25/500\n",
      "70/70 [==============================] - 1s 17ms/step - loss: 0.0372 - acc: 0.9884\n",
      "Epoch 26/500\n",
      "70/70 [==============================] - 1s 17ms/step - loss: 0.0775 - acc: 0.9888\n",
      "Epoch 27/500\n",
      "70/70 [==============================] - 1s 17ms/step - loss: 0.0515 - acc: 0.9848\n",
      "Epoch 28/500\n",
      "70/70 [==============================] - 1s 17ms/step - loss: 0.0558 - acc: 0.9884\n",
      "Epoch 29/500\n",
      "70/70 [==============================] - 1s 18ms/step - loss: 0.0290 - acc: 0.9915\n",
      "Epoch 30/500\n",
      "70/70 [==============================] - 1s 19ms/step - loss: 0.0882 - acc: 0.9866\n",
      "Epoch 31/500\n",
      "70/70 [==============================] - 1s 18ms/step - loss: 0.0425 - acc: 0.9924\n",
      "Epoch 32/500\n",
      "70/70 [==============================] - 1s 17ms/step - loss: 0.0489 - acc: 0.9897\n",
      "Epoch 33/500\n",
      "70/70 [==============================] - 1s 17ms/step - loss: 0.0455 - acc: 0.9946\n",
      "Epoch 34/500\n",
      "70/70 [==============================] - 1s 17ms/step - loss: 0.0250 - acc: 0.9960\n",
      "Epoch 35/500\n",
      "70/70 [==============================] - 1s 17ms/step - loss: 0.0459 - acc: 0.9919\n",
      "Epoch 36/500\n",
      "70/70 [==============================] - 1s 16ms/step - loss: 0.0410 - acc: 0.9933\n",
      "Epoch 37/500\n",
      "70/70 [==============================] - 1s 17ms/step - loss: 0.0345 - acc: 0.9955\n",
      "Epoch 38/500\n",
      "70/70 [==============================] - 1s 17ms/step - loss: 0.0255 - acc: 0.9937\n",
      "Epoch 39/500\n",
      "70/70 [==============================] - 1s 16ms/step - loss: 0.0378 - acc: 0.9937\n"
     ]
    }
   ],
   "source": [
    "# Build and train the model with most optimal hyperparameters on all training sequences; plotting the loss and accuracy\n",
    "model = tuner.hypermodel.build(best_hps)\n",
    "history = model.fit(x_train, y_train, batch_size = batch_size, epochs = epochs, callbacks = callbacks)"
   ]
  },
  {
   "cell_type": "code",
   "execution_count": null,
   "metadata": {
    "id": "tXdvQkWwvlJQ",
    "colab": {
     "base_uri": "https://localhost:8080/",
     "height": 295
    },
    "outputId": "cd389307-cc9f-4c53-f3e0-d6d241cdb7a7"
   },
   "outputs": [
    {
     "output_type": "display_data",
     "data": {
      "text/plain": [
       "<Figure size 432x288 with 1 Axes>"
      ],
      "image/png": "[encoded data removed]"
     },
     "metadata": {
      "needs_background": "light"
     }
    }
   ],
   "source": [
    "# Plots figure of accuracy\n",
    "plot = plot_acc()"
   ]
  },
  {
   "cell_type": "markdown",
   "metadata": {
    "id": "KMMJE6RAvnth"
   },
   "source": [
    "### Evaluatation"
   ]
  },
  {
   "cell_type": "code",
   "execution_count": null,
   "metadata": {
    "id": "0-iFBgmovoZD",
    "colab": {
     "base_uri": "https://localhost:8080/"
    },
    "outputId": "7cc379bf-ed41-48e0-f207-1ef76294c668"
   },
   "outputs": [
    {
     "output_type": "stream",
     "name": "stdout",
     "text": [
      "18/18 [==============================] - 2s 12ms/step - loss: 0.3259 - acc: 0.9677\n",
      "Test score (loss value, validation accuracy):  [0.32594364881515503, 0.9677419066429138]\n"
     ]
    }
   ],
   "source": [
    "# Evaluate optimised model on a never-seen before test set\n",
    "test_score = model.evaluate(x_test, y_test)\n",
    "print('Test score (loss value, validation accuracy): ', test_score)"
   ]
  },
  {
   "cell_type": "code",
   "execution_count": null,
   "metadata": {
    "id": "RPw-6-srvsMh"
   },
   "outputs": [],
   "source": [
    "# Load our best model\n",
    "model = load_model('/content/sample_data/cnn_lstm_att_ecoli_atcc_classification_model_v1.h5', custom_objects={\"SeqSelfAttention\": SeqSelfAttention})"
   ]
  },
  {
   "cell_type": "code",
   "execution_count": null,
   "metadata": {
    "id": "nNAWgXVOvs3r"
   },
   "outputs": [],
   "source": [
    "# Function for plotting the ROC and AUC\n",
    "def plot_roc_auc():\n",
    "    plt.figure(2)  \n",
    "    plt.plot([0, 1], [0, 1], 'g--') # plots the diagonal line where fpr = tpr\n",
    "    plt.plot(fpr, tpr, label = 'AUC = {:.3f}'.format(roc_auc))\n",
    "    plt.scatter(fpr[max_value], tpr[max_value], marker = 'o', color = 'red', label = 'Best decision boundary = {:.5f}'.format(best_threshold))\n",
    "    plt.title('ROC curve')\n",
    "    plt.xlabel('False positive rate')\n",
    "    plt.ylabel('True positive rate')\n",
    "    plt.legend(loc = 'best')\n",
    "    plt.show"
   ]
  },
  {
   "cell_type": "code",
   "execution_count": null,
   "metadata": {
    "id": "rLO3dSLXvzW0"
   },
   "outputs": [],
   "source": [
    "# Function for plotting the confusion matrix\n",
    "def plot_conf_matrix():\n",
    "    plt.figure(3)\n",
    "    plt.imshow(conf_matrix, cmap = plt.cm.Blues)\n",
    "    plt.title('Confusion matrix')\n",
    "    plt.xlabel('Predicted label', fontweight = 'bold')\n",
    "    plt.ylabel('True label', fontweight = 'bold')\n",
    "    labels = ['Non-antimicrobial', 'Antimicrobial']\n",
    "    plt.xticks([0, 1], labels)\n",
    "    plt.yticks([0, 1], labels, rotation = 90, va = 'center')\n",
    "    thresh = conf_matrix.max()/2\n",
    "    for i, j in itertools.product(range(conf_matrix.shape[0]), range(conf_matrix.shape[1])):\n",
    "         plt.text(j, i, conf_matrix[i, j], ha = 'center', color = 'white' if conf_matrix[i, j] > thresh else \"black\")\n",
    "    plt.colorbar()\n",
    "    plt.show()"
   ]
  },
  {
   "cell_type": "code",
   "execution_count": null,
   "metadata": {
    "id": "Dd80rWAsv1sg",
    "colab": {
     "base_uri": "https://localhost:8080/",
     "height": 312
    },
    "outputId": "627fe8ef-d65c-4d37-9678-bd57e849d5f1"
   },
   "outputs": [
    {
     "output_type": "stream",
     "name": "stdout",
     "text": [
      "Best threshold = 0.974473\n"
     ]
    },
    {
     "output_type": "display_data",
     "data": {
      "text/plain": [
       "<Figure size 432x288 with 1 Axes>"
      ],
      "image/png": "[encoded data removed]"
     },
     "metadata": {
      "needs_background": "light"
     }
    }
   ],
   "source": [
    "# Plot the ROC curve and AUC; determine decision boundary   \n",
    "y_pred = model.predict(x_test)\n",
    "fpr, tpr, thresholds = roc_curve(y_test, y_pred)\n",
    "roc_auc = auc(fpr, tpr)\n",
    "J = tpr - fpr # Using Youden's J statistic for calculation of best threshold\n",
    "max_value = np.argmax(J)\n",
    "best_threshold = thresholds[max_value]\n",
    "print('Best threshold = %f' % (best_threshold))\n",
    "plot2 = plot_roc_auc()"
   ]
  },
  {
   "cell_type": "code",
   "execution_count": null,
   "metadata": {
    "id": "sp4w_QTHwFAm",
    "colab": {
     "base_uri": "https://localhost:8080/",
     "height": 329
    },
    "outputId": "836603a7-38f4-4f82-bdbf-62b149eb8a1b"
   },
   "outputs": [
    {
     "output_type": "stream",
     "name": "stdout",
     "text": [
      "[[246   5]\n",
      " [ 14 293]]\n"
     ]
    },
    {
     "output_type": "display_data",
     "data": {
      "text/plain": [
       "<Figure size 432x288 with 2 Axes>"
      ],
      "image/png": "[encoded data removed]"
     },
     "metadata": {
      "needs_background": "light"
     }
    }
   ],
   "source": [
    "# Plot the confusion matrix\n",
    "for i in range(len(y_pred)):\n",
    "    if y_pred[i] >= best_threshold:\n",
    "        y_pred[i] = 1\n",
    "    else: y_pred[i] = 0\n",
    "conf_matrix = confusion_matrix(y_test, y_pred)\n",
    "print(conf_matrix)\n",
    "plot3 = plot_conf_matrix()"
   ]
  },
  {
   "cell_type": "code",
   "execution_count": null,
   "metadata": {
    "id": "CmfuXQBXLBnX",
    "colab": {
     "base_uri": "https://localhost:8080/"
    },
    "outputId": "06fa1f55-3ef9-449d-ad62-51f0473ce16b"
   },
   "outputs": [
    {
     "output_type": "stream",
     "name": "stdout",
     "text": [
      "              precision    recall  f1-score   support\n",
      "\n",
      "         0.0       0.95      0.98      0.96       251\n",
      "         1.0       0.98      0.95      0.97       307\n",
      "\n",
      "    accuracy                           0.97       558\n",
      "   macro avg       0.96      0.97      0.97       558\n",
      "weighted avg       0.97      0.97      0.97       558\n",
      "\n"
     ]
    }
   ],
   "source": [
    "from sklearn.metrics import classification_report\n",
    "print(classification_report(y_test, y_pred))"
   ]
  }
 ],
 "metadata": {
  "accelerator": "GPU",
  "colab": {
   "provenance": []
  },
  "kernelspec": {
   "display_name": "Python 3",
   "name": "python3"
  },
  "language_info": {
   "name": "python"
  }
 },
 "nbformat": 4,
 "nbformat_minor": 0
}
