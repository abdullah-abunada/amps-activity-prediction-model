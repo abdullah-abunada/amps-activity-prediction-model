{
 "cells": [
  {
   "cell_type": "markdown",
   "metadata": {
    "id": "PvWfbzr5jqQf"
   },
   "source": [
    "### Importing Libraries"
   ]
  },
  {
   "cell_type": "code",
   "source": [
    "from google.colab import drive\n",
    "drive.mount('/content/drive')"
   ],
   "metadata": {
    "colab": {
     "base_uri": "https://localhost:8080/"
    },
    "id": "XfiOI-eMEvi0",
    "outputId": "55953ae2-c727-406d-847c-8a6fcf1e43df"
   },
   "execution_count": null,
   "outputs": [
    {
     "output_type": "stream",
     "name": "stdout",
     "text": [
      "Mounted at /content/drive\n"
     ]
    }
   ]
  },
  {
   "cell_type": "code",
   "execution_count": null,
   "metadata": {
    "colab": {
     "base_uri": "https://localhost:8080/"
    },
    "id": "3yNakltmje5I",
    "outputId": "910dd97e-f516-49e7-ac72-e723fd61625a"
   },
   "outputs": [
    {
     "output_type": "stream",
     "name": "stdout",
     "text": [
      "Looking in indexes: https://pypi.org/simple, https://us-python.pkg.dev/colab-wheels/public/simple/\n",
      "Collecting keras-tuner==1.0.3\n",
      "  Downloading keras_tuner-1.0.3-py3-none-any.whl (96 kB)\n",
      "\u001B[K     |████████████████████████████████| 96 kB 3.7 MB/s \n",
      "\u001B[?25hRequirement already satisfied: scipy in /usr/local/lib/python3.7/dist-packages (from keras-tuner==1.0.3) (1.7.3)\n",
      "Requirement already satisfied: requests in /usr/local/lib/python3.7/dist-packages (from keras-tuner==1.0.3) (2.23.0)\n",
      "Requirement already satisfied: tensorboard in /usr/local/lib/python3.7/dist-packages (from keras-tuner==1.0.3) (2.8.0)\n",
      "Collecting kt-legacy\n",
      "  Downloading kt_legacy-1.0.4-py3-none-any.whl (9.6 kB)\n",
      "Requirement already satisfied: ipython in /usr/local/lib/python3.7/dist-packages (from keras-tuner==1.0.3) (7.9.0)\n",
      "Requirement already satisfied: packaging in /usr/local/lib/python3.7/dist-packages (from keras-tuner==1.0.3) (21.3)\n",
      "Requirement already satisfied: numpy in /usr/local/lib/python3.7/dist-packages (from keras-tuner==1.0.3) (1.21.6)\n",
      "Requirement already satisfied: traitlets>=4.2 in /usr/local/lib/python3.7/dist-packages (from ipython->keras-tuner==1.0.3) (5.1.1)\n",
      "Requirement already satisfied: pexpect in /usr/local/lib/python3.7/dist-packages (from ipython->keras-tuner==1.0.3) (4.8.0)\n",
      "Requirement already satisfied: setuptools>=18.5 in /usr/local/lib/python3.7/dist-packages (from ipython->keras-tuner==1.0.3) (57.4.0)\n",
      "Requirement already satisfied: decorator in /usr/local/lib/python3.7/dist-packages (from ipython->keras-tuner==1.0.3) (4.4.2)\n",
      "Requirement already satisfied: pygments in /usr/local/lib/python3.7/dist-packages (from ipython->keras-tuner==1.0.3) (2.6.1)\n",
      "Collecting jedi>=0.10\n",
      "  Downloading jedi-0.18.1-py2.py3-none-any.whl (1.6 MB)\n",
      "\u001B[K     |████████████████████████████████| 1.6 MB 29.3 MB/s \n",
      "\u001B[?25hRequirement already satisfied: prompt-toolkit<2.1.0,>=2.0.0 in /usr/local/lib/python3.7/dist-packages (from ipython->keras-tuner==1.0.3) (2.0.10)\n",
      "Requirement already satisfied: backcall in /usr/local/lib/python3.7/dist-packages (from ipython->keras-tuner==1.0.3) (0.2.0)\n",
      "Requirement already satisfied: pickleshare in /usr/local/lib/python3.7/dist-packages (from ipython->keras-tuner==1.0.3) (0.7.5)\n",
      "Requirement already satisfied: parso<0.9.0,>=0.8.0 in /usr/local/lib/python3.7/dist-packages (from jedi>=0.10->ipython->keras-tuner==1.0.3) (0.8.3)\n",
      "Requirement already satisfied: wcwidth in /usr/local/lib/python3.7/dist-packages (from prompt-toolkit<2.1.0,>=2.0.0->ipython->keras-tuner==1.0.3) (0.2.5)\n",
      "Requirement already satisfied: six>=1.9.0 in /usr/local/lib/python3.7/dist-packages (from prompt-toolkit<2.1.0,>=2.0.0->ipython->keras-tuner==1.0.3) (1.15.0)\n",
      "Requirement already satisfied: pyparsing!=3.0.5,>=2.0.2 in /usr/local/lib/python3.7/dist-packages (from packaging->keras-tuner==1.0.3) (3.0.9)\n",
      "Requirement already satisfied: ptyprocess>=0.5 in /usr/local/lib/python3.7/dist-packages (from pexpect->ipython->keras-tuner==1.0.3) (0.7.0)\n",
      "Requirement already satisfied: urllib3!=1.25.0,!=1.25.1,<1.26,>=1.21.1 in /usr/local/lib/python3.7/dist-packages (from requests->keras-tuner==1.0.3) (1.24.3)\n",
      "Requirement already satisfied: idna<3,>=2.5 in /usr/local/lib/python3.7/dist-packages (from requests->keras-tuner==1.0.3) (2.10)\n",
      "Requirement already satisfied: chardet<4,>=3.0.2 in /usr/local/lib/python3.7/dist-packages (from requests->keras-tuner==1.0.3) (3.0.4)\n",
      "Requirement already satisfied: certifi>=2017.4.17 in /usr/local/lib/python3.7/dist-packages (from requests->keras-tuner==1.0.3) (2022.6.15)\n",
      "Requirement already satisfied: tensorboard-data-server<0.7.0,>=0.6.0 in /usr/local/lib/python3.7/dist-packages (from tensorboard->keras-tuner==1.0.3) (0.6.1)\n",
      "Requirement already satisfied: tensorboard-plugin-wit>=1.6.0 in /usr/local/lib/python3.7/dist-packages (from tensorboard->keras-tuner==1.0.3) (1.8.1)\n",
      "Requirement already satisfied: wheel>=0.26 in /usr/local/lib/python3.7/dist-packages (from tensorboard->keras-tuner==1.0.3) (0.37.1)\n",
      "Requirement already satisfied: google-auth-oauthlib<0.5,>=0.4.1 in /usr/local/lib/python3.7/dist-packages (from tensorboard->keras-tuner==1.0.3) (0.4.6)\n",
      "Requirement already satisfied: absl-py>=0.4 in /usr/local/lib/python3.7/dist-packages (from tensorboard->keras-tuner==1.0.3) (1.2.0)\n",
      "Requirement already satisfied: markdown>=2.6.8 in /usr/local/lib/python3.7/dist-packages (from tensorboard->keras-tuner==1.0.3) (3.4.1)\n",
      "Requirement already satisfied: werkzeug>=0.11.15 in /usr/local/lib/python3.7/dist-packages (from tensorboard->keras-tuner==1.0.3) (1.0.1)\n",
      "Requirement already satisfied: protobuf>=3.6.0 in /usr/local/lib/python3.7/dist-packages (from tensorboard->keras-tuner==1.0.3) (3.17.3)\n",
      "Requirement already satisfied: grpcio>=1.24.3 in /usr/local/lib/python3.7/dist-packages (from tensorboard->keras-tuner==1.0.3) (1.47.0)\n",
      "Requirement already satisfied: google-auth<3,>=1.6.3 in /usr/local/lib/python3.7/dist-packages (from tensorboard->keras-tuner==1.0.3) (1.35.0)\n",
      "Requirement already satisfied: pyasn1-modules>=0.2.1 in /usr/local/lib/python3.7/dist-packages (from google-auth<3,>=1.6.3->tensorboard->keras-tuner==1.0.3) (0.2.8)\n",
      "Requirement already satisfied: cachetools<5.0,>=2.0.0 in /usr/local/lib/python3.7/dist-packages (from google-auth<3,>=1.6.3->tensorboard->keras-tuner==1.0.3) (4.2.4)\n",
      "Requirement already satisfied: rsa<5,>=3.1.4 in /usr/local/lib/python3.7/dist-packages (from google-auth<3,>=1.6.3->tensorboard->keras-tuner==1.0.3) (4.9)\n",
      "Requirement already satisfied: requests-oauthlib>=0.7.0 in /usr/local/lib/python3.7/dist-packages (from google-auth-oauthlib<0.5,>=0.4.1->tensorboard->keras-tuner==1.0.3) (1.3.1)\n",
      "Requirement already satisfied: importlib-metadata>=4.4 in /usr/local/lib/python3.7/dist-packages (from markdown>=2.6.8->tensorboard->keras-tuner==1.0.3) (4.12.0)\n",
      "Requirement already satisfied: typing-extensions>=3.6.4 in /usr/local/lib/python3.7/dist-packages (from importlib-metadata>=4.4->markdown>=2.6.8->tensorboard->keras-tuner==1.0.3) (4.1.1)\n",
      "Requirement already satisfied: zipp>=0.5 in /usr/local/lib/python3.7/dist-packages (from importlib-metadata>=4.4->markdown>=2.6.8->tensorboard->keras-tuner==1.0.3) (3.8.1)\n",
      "Requirement already satisfied: pyasn1<0.5.0,>=0.4.6 in /usr/local/lib/python3.7/dist-packages (from pyasn1-modules>=0.2.1->google-auth<3,>=1.6.3->tensorboard->keras-tuner==1.0.3) (0.4.8)\n",
      "Requirement already satisfied: oauthlib>=3.0.0 in /usr/local/lib/python3.7/dist-packages (from requests-oauthlib>=0.7.0->google-auth-oauthlib<0.5,>=0.4.1->tensorboard->keras-tuner==1.0.3) (3.2.0)\n",
      "Installing collected packages: jedi, kt-legacy, keras-tuner\n",
      "Successfully installed jedi-0.18.1 keras-tuner-1.0.3 kt-legacy-1.0.4\n"
     ]
    }
   ],
   "source": [
    "!pip install keras-tuner==1.0.3"
   ]
  },
  {
   "cell_type": "code",
   "execution_count": null,
   "metadata": {
    "colab": {
     "base_uri": "https://localhost:8080/"
    },
    "id": "ZpibH7SX_qH1",
    "outputId": "bcf57690-2647-42e7-8c20-3a09f0916901"
   },
   "outputs": [
    {
     "output_type": "stream",
     "name": "stdout",
     "text": [
      "Looking in indexes: https://pypi.org/simple, https://us-python.pkg.dev/colab-wheels/public/simple/\n",
      "Collecting keras-self-attention\n",
      "  Downloading keras-self-attention-0.51.0.tar.gz (11 kB)\n",
      "Requirement already satisfied: numpy in /usr/local/lib/python3.7/dist-packages (from keras-self-attention) (1.21.6)\n",
      "Building wheels for collected packages: keras-self-attention\n",
      "  Building wheel for keras-self-attention (setup.py) ... \u001B[?25l\u001B[?25hdone\n",
      "  Created wheel for keras-self-attention: filename=keras_self_attention-0.51.0-py3-none-any.whl size=18912 sha256=2e726302b80353a48dd69db0312387553878d32224a68cd56a60421ef4ad680a\n",
      "  Stored in directory: /root/.cache/pip/wheels/95/b1/a8/5ee00cc137940b2f6fa198212e8f45d813d0e0d9c3a04035a3\n",
      "Successfully built keras-self-attention\n",
      "Installing collected packages: keras-self-attention\n",
      "Successfully installed keras-self-attention-0.51.0\n"
     ]
    }
   ],
   "source": [
    "!pip install keras-self-attention"
   ]
  },
  {
   "cell_type": "code",
   "execution_count": null,
   "metadata": {
    "id": "wwjYAdhNjrdQ"
   },
   "outputs": [],
   "source": [
    "import keras_tuner as kt \n",
    "import tensorflow as tf\n",
    "import numpy as np\n",
    "import matplotlib.pyplot as plt\n",
    "import pandas as pd\n",
    "import random\n",
    "import itertools\n",
    "import operator\n",
    "from tensorflow import keras\n",
    "from tensorflow.keras import layers\n",
    "from tensorflow.keras.models import load_model\n",
    "from pathlib import Path\n",
    "from sklearn.model_selection import KFold\n",
    "from sklearn.utils import resample\n",
    "from sklearn.metrics import roc_curve, auc, confusion_matrix\n",
    "import seaborn as sns\n",
    "from keras.layers import Layer\n",
    "from keras_self_attention import SeqSelfAttention\n",
    "import keras.backend as K\n",
    "from collections import Counter\n",
    "import itertools\n",
    "import operator"
   ]
  },
  {
   "cell_type": "markdown",
   "metadata": {
    "id": "shDLaG5vjxjO"
   },
   "source": [
    "### Init Parameters"
   ]
  },
  {
   "cell_type": "code",
   "execution_count": null,
   "metadata": {
    "id": "eWZUx58zjwzF"
   },
   "outputs": [],
   "source": [
    "maxlength = 20 # Maximum length of each sequence\n",
    "crossvalidation = KFold(5) # k-fold cross-validation\n",
    "epochs = 500 # Number of epochs\n",
    "batch_size = 32 # Batch size\n",
    "imbalanced = False # Turn off if dataset is not unbalanced\n",
    "MIC_cutoff = 35"
   ]
  },
  {
   "cell_type": "code",
   "execution_count": null,
   "metadata": {
    "colab": {
     "base_uri": "https://localhost:8080/"
    },
    "id": "zkP6kDh8j3Dh",
    "outputId": "6cae82e1-5a0f-48a0-bded-a749b70fe881"
   },
   "outputs": [
    {
     "output_type": "stream",
     "name": "stdout",
     "text": [
      "Number of sequences: 2833\n"
     ]
    }
   ],
   "source": [
    "# Transforming csv file into pandas dataframe, then transferring sequences and MICs to separate lists\n",
    "classification_sequences = pd.read_csv('/datasets/pseudomonas/activity_pseudomonas_strains_dataset_v1.csv');\n",
    "amps_sequences = classification_sequences['sequence'].to_list()\n",
    "print('Number of sequences:', len(amps_sequences)) # Displays the number of total sequences"
   ]
  },
  {
   "cell_type": "code",
   "execution_count": null,
   "metadata": {
    "id": "KTh6Gu3xRu9B"
   },
   "outputs": [],
   "source": [
    "classification_sequences['seqLength'] = classification_sequences['sequence'].map(lambda x: len(str(x)))"
   ]
  },
  {
   "cell_type": "code",
   "execution_count": null,
   "metadata": {
    "colab": {
     "base_uri": "https://localhost:8080/"
    },
    "id": "sMWHHZnJSXTY",
    "outputId": "4ff12c67-db46-437c-bce3-fac7278e2836"
   },
   "outputs": [
    {
     "output_type": "execute_result",
     "data": {
      "text/plain": [
       "count    2833.000000\n",
       "mean       18.596894\n",
       "std         9.960261\n",
       "min         2.000000\n",
       "25%        12.000000\n",
       "50%        16.000000\n",
       "75%        23.000000\n",
       "max       128.000000\n",
       "Name: seqLength, dtype: float64"
      ]
     },
     "metadata": {},
     "execution_count": 8
    }
   ],
   "source": [
    "classification_sequences[\"seqLength\"].describe()"
   ]
  },
  {
   "cell_type": "code",
   "execution_count": null,
   "metadata": {
    "colab": {
     "base_uri": "https://localhost:8080/",
     "height": 460
    },
    "id": "knYIkMuFSsx-",
    "outputId": "0bca6acd-4520-496b-c44c-d59309236eb7"
   },
   "outputs": [
    {
     "output_type": "execute_result",
     "data": {
      "text/plain": [
       "Text(0.5, 0.98, 'Sequance Lenght distribution')"
      ]
     },
     "metadata": {},
     "execution_count": 9
    },
    {
     "output_type": "display_data",
     "data": {
      "text/plain": [
       "<Figure size 432x432 with 3 Axes>"
      ],
      "image/png": "[encoded data removed]"
     },
     "metadata": {
      "needs_background": "light"
     }
    }
   ],
   "source": [
    "# statistics about amps sequences lenght\n",
    "seqlenghtStatistic = classification_sequences.groupby(['seqLength']).size().reset_index(name='counts')\n",
    "seqlenghtStatistic\n",
    "x_len = seqlenghtStatistic['seqLength']\n",
    "y_count = seqlenghtStatistic['counts']\n",
    "\n",
    "sns.jointplot(x=x_len, y=y_count,\n",
    "              kind='hex', xlim=(1,190), ylim=(0,1500))\n",
    "plt.suptitle(\"Sequance Lenght distribution\")"
   ]
  },
  {
   "cell_type": "code",
   "execution_count": null,
   "metadata": {
    "colab": {
     "base_uri": "https://localhost:8080/",
     "height": 419
    },
    "id": "Hf6rn8p1hmQw",
    "outputId": "4476fc4a-2c0a-45e3-8f0f-c3ff5bc0b177"
   },
   "outputs": [
    {
     "output_type": "execute_result",
     "data": {
      "text/plain": [
       "      Unnamed: 0             sequence nTerminus cTerminus  pseudomonas  \\\n",
       "4              5         KAaaKWAaKaAK       C16       AMD          NaN   \n",
       "5              6                 KLlK       C16       AMD          NaN   \n",
       "6              9         kGGGkWGGkGGk       C16       AMD          NaN   \n",
       "7             12         KLllKWLlKlLK       NaN       AMD          NaN   \n",
       "9             15   KLALKLALKAWKAALKLA       NaN       AMD         15.6   \n",
       "...          ...                  ...       ...       ...          ...   \n",
       "2800          49  GFGPAFHSVSNFAKKHKTA         -         -          0.5   \n",
       "2801          50  GIGGKPVQTAFVDNDGIYD         -         -          3.5   \n",
       "2802          52  GTPGFQTPDARVISRFGFN         -         -         30.0   \n",
       "2803          54  KWKLFKKILLKFLHLAKLF         -         -          3.0   \n",
       "2804          56  SSGWVCTLTIECGTVICAC         -         -        200.0   \n",
       "\n",
       "      pseudomonas_atcc  seqLength  \n",
       "4                 6.25         12  \n",
       "5               100.00          4  \n",
       "6                 6.25         12  \n",
       "7                 7.50         12  \n",
       "9                  NaN         18  \n",
       "...                ...        ...  \n",
       "2800               NaN         19  \n",
       "2801               NaN         19  \n",
       "2802               NaN         19  \n",
       "2803               NaN         19  \n",
       "2804               NaN         19  \n",
       "\n",
       "[1895 rows x 7 columns]"
      ],
      "text/html": [
       "\n",
       "  <div id=\"df-7d958429-4c41-4568-9812-d03f69dd2cd7\">\n",
       "    <div class=\"colab-df-container\">\n",
       "      <div>\n",
       "<style scoped>\n",
       "    .dataframe tbody tr th:only-of-type {\n",
       "        vertical-align: middle;\n",
       "    }\n",
       "\n",
       "    .dataframe tbody tr th {\n",
       "        vertical-align: top;\n",
       "    }\n",
       "\n",
       "    .dataframe thead th {\n",
       "        text-align: right;\n",
       "    }\n",
       "</style>\n",
       "<table border=\"1\" class=\"dataframe\">\n",
       "  <thead>\n",
       "    <tr style=\"text-align: right;\">\n",
       "      <th></th>\n",
       "      <th>Unnamed: 0</th>\n",
       "      <th>sequence</th>\n",
       "      <th>nTerminus</th>\n",
       "      <th>cTerminus</th>\n",
       "      <th>pseudomonas</th>\n",
       "      <th>pseudomonas_atcc</th>\n",
       "      <th>seqLength</th>\n",
       "    </tr>\n",
       "  </thead>\n",
       "  <tbody>\n",
       "    <tr>\n",
       "      <th>4</th>\n",
       "      <td>5</td>\n",
       "      <td>KAaaKWAaKaAK</td>\n",
       "      <td>C16</td>\n",
       "      <td>AMD</td>\n",
       "      <td>NaN</td>\n",
       "      <td>6.25</td>\n",
       "      <td>12</td>\n",
       "    </tr>\n",
       "    <tr>\n",
       "      <th>5</th>\n",
       "      <td>6</td>\n",
       "      <td>KLlK</td>\n",
       "      <td>C16</td>\n",
       "      <td>AMD</td>\n",
       "      <td>NaN</td>\n",
       "      <td>100.00</td>\n",
       "      <td>4</td>\n",
       "    </tr>\n",
       "    <tr>\n",
       "      <th>6</th>\n",
       "      <td>9</td>\n",
       "      <td>kGGGkWGGkGGk</td>\n",
       "      <td>C16</td>\n",
       "      <td>AMD</td>\n",
       "      <td>NaN</td>\n",
       "      <td>6.25</td>\n",
       "      <td>12</td>\n",
       "    </tr>\n",
       "    <tr>\n",
       "      <th>7</th>\n",
       "      <td>12</td>\n",
       "      <td>KLllKWLlKlLK</td>\n",
       "      <td>NaN</td>\n",
       "      <td>AMD</td>\n",
       "      <td>NaN</td>\n",
       "      <td>7.50</td>\n",
       "      <td>12</td>\n",
       "    </tr>\n",
       "    <tr>\n",
       "      <th>9</th>\n",
       "      <td>15</td>\n",
       "      <td>KLALKLALKAWKAALKLA</td>\n",
       "      <td>NaN</td>\n",
       "      <td>AMD</td>\n",
       "      <td>15.6</td>\n",
       "      <td>NaN</td>\n",
       "      <td>18</td>\n",
       "    </tr>\n",
       "    <tr>\n",
       "      <th>...</th>\n",
       "      <td>...</td>\n",
       "      <td>...</td>\n",
       "      <td>...</td>\n",
       "      <td>...</td>\n",
       "      <td>...</td>\n",
       "      <td>...</td>\n",
       "      <td>...</td>\n",
       "    </tr>\n",
       "    <tr>\n",
       "      <th>2800</th>\n",
       "      <td>49</td>\n",
       "      <td>GFGPAFHSVSNFAKKHKTA</td>\n",
       "      <td>-</td>\n",
       "      <td>-</td>\n",
       "      <td>0.5</td>\n",
       "      <td>NaN</td>\n",
       "      <td>19</td>\n",
       "    </tr>\n",
       "    <tr>\n",
       "      <th>2801</th>\n",
       "      <td>50</td>\n",
       "      <td>GIGGKPVQTAFVDNDGIYD</td>\n",
       "      <td>-</td>\n",
       "      <td>-</td>\n",
       "      <td>3.5</td>\n",
       "      <td>NaN</td>\n",
       "      <td>19</td>\n",
       "    </tr>\n",
       "    <tr>\n",
       "      <th>2802</th>\n",
       "      <td>52</td>\n",
       "      <td>GTPGFQTPDARVISRFGFN</td>\n",
       "      <td>-</td>\n",
       "      <td>-</td>\n",
       "      <td>30.0</td>\n",
       "      <td>NaN</td>\n",
       "      <td>19</td>\n",
       "    </tr>\n",
       "    <tr>\n",
       "      <th>2803</th>\n",
       "      <td>54</td>\n",
       "      <td>KWKLFKKILLKFLHLAKLF</td>\n",
       "      <td>-</td>\n",
       "      <td>-</td>\n",
       "      <td>3.0</td>\n",
       "      <td>NaN</td>\n",
       "      <td>19</td>\n",
       "    </tr>\n",
       "    <tr>\n",
       "      <th>2804</th>\n",
       "      <td>56</td>\n",
       "      <td>SSGWVCTLTIECGTVICAC</td>\n",
       "      <td>-</td>\n",
       "      <td>-</td>\n",
       "      <td>200.0</td>\n",
       "      <td>NaN</td>\n",
       "      <td>19</td>\n",
       "    </tr>\n",
       "  </tbody>\n",
       "</table>\n",
       "<p>1895 rows × 7 columns</p>\n",
       "</div>\n",
       "      <button class=\"colab-df-convert\" onclick=\"convertToInteractive('df-7d958429-4c41-4568-9812-d03f69dd2cd7')\"\n",
       "              title=\"Convert this dataframe to an interactive table.\"\n",
       "              style=\"display:none;\">\n",
       "        \n",
       "  <svg xmlns=\"http://www.w3.org/2000/svg\" height=\"24px\"viewBox=\"0 0 24 24\"\n",
       "       width=\"24px\">\n",
       "    <path d=\"M0 0h24v24H0V0z\" fill=\"none\"/>\n",
       "    <path d=\"M18.56 5.44l.94 2.06.94-2.06 2.06-.94-2.06-.94-.94-2.06-.94 2.06-2.06.94zm-11 1L8.5 8.5l.94-2.06 2.06-.94-2.06-.94L8.5 2.5l-.94 2.06-2.06.94zm10 10l.94 2.06.94-2.06 2.06-.94-2.06-.94-.94-2.06-.94 2.06-2.06.94z\"/><path d=\"M17.41 7.96l-1.37-1.37c-.4-.4-.92-.59-1.43-.59-.52 0-1.04.2-1.43.59L10.3 9.45l-7.72 7.72c-.78.78-.78 2.05 0 2.83L4 21.41c.39.39.9.59 1.41.59.51 0 1.02-.2 1.41-.59l7.78-7.78 2.81-2.81c.8-.78.8-2.07 0-2.86zM5.41 20L4 18.59l7.72-7.72 1.47 1.35L5.41 20z\"/>\n",
       "  </svg>\n",
       "      </button>\n",
       "      \n",
       "  <style>\n",
       "    .colab-df-container {\n",
       "      display:flex;\n",
       "      flex-wrap:wrap;\n",
       "      gap: 12px;\n",
       "    }\n",
       "\n",
       "    .colab-df-convert {\n",
       "      background-color: #E8F0FE;\n",
       "      border: none;\n",
       "      border-radius: 50%;\n",
       "      cursor: pointer;\n",
       "      display: none;\n",
       "      fill: #1967D2;\n",
       "      height: 32px;\n",
       "      padding: 0 0 0 0;\n",
       "      width: 32px;\n",
       "    }\n",
       "\n",
       "    .colab-df-convert:hover {\n",
       "      background-color: #E2EBFA;\n",
       "      box-shadow: 0px 1px 2px rgba(60, 64, 67, 0.3), 0px 1px 3px 1px rgba(60, 64, 67, 0.15);\n",
       "      fill: #174EA6;\n",
       "    }\n",
       "\n",
       "    [theme=dark] .colab-df-convert {\n",
       "      background-color: #3B4455;\n",
       "      fill: #D2E3FC;\n",
       "    }\n",
       "\n",
       "    [theme=dark] .colab-df-convert:hover {\n",
       "      background-color: #434B5C;\n",
       "      box-shadow: 0px 1px 3px 1px rgba(0, 0, 0, 0.15);\n",
       "      filter: drop-shadow(0px 1px 2px rgba(0, 0, 0, 0.3));\n",
       "      fill: #FFFFFF;\n",
       "    }\n",
       "  </style>\n",
       "\n",
       "      <script>\n",
       "        const buttonEl =\n",
       "          document.querySelector('#df-7d958429-4c41-4568-9812-d03f69dd2cd7 button.colab-df-convert');\n",
       "        buttonEl.style.display =\n",
       "          google.colab.kernel.accessAllowed ? 'block' : 'none';\n",
       "\n",
       "        async function convertToInteractive(key) {\n",
       "          const element = document.querySelector('#df-7d958429-4c41-4568-9812-d03f69dd2cd7');\n",
       "          const dataTable =\n",
       "            await google.colab.kernel.invokeFunction('convertToInteractive',\n",
       "                                                     [key], {});\n",
       "          if (!dataTable) return;\n",
       "\n",
       "          const docLinkHtml = 'Like what you see? Visit the ' +\n",
       "            '<a target=\"_blank\" href=https://colab.research.google.com/notebooks/data_table.ipynb>data table notebook</a>'\n",
       "            + ' to learn more about interactive tables.';\n",
       "          element.innerHTML = '';\n",
       "          dataTable['output_type'] = 'display_data';\n",
       "          await google.colab.output.renderOutput(dataTable, element);\n",
       "          const docLink = document.createElement('div');\n",
       "          docLink.innerHTML = docLinkHtml;\n",
       "          element.appendChild(docLink);\n",
       "        }\n",
       "      </script>\n",
       "    </div>\n",
       "  </div>\n",
       "  "
      ]
     },
     "metadata": {},
     "execution_count": 10
    }
   ],
   "source": [
    "df = classification_sequences.drop(classification_sequences[classification_sequences['sequence'].str.len() > maxlength].index)\n",
    "df"
   ]
  },
  {
   "cell_type": "code",
   "source": [
    "no_df = df.loc[df['pseudomonas_atcc'].isnull()]\n",
    "no_df"
   ],
   "metadata": {
    "colab": {
     "base_uri": "https://localhost:8080/",
     "height": 419
    },
    "id": "D-L6OMuNa3y9",
    "outputId": "4dc1f689-1fbd-40d2-ace5-4c45642ef2a6"
   },
   "execution_count": null,
   "outputs": [
    {
     "output_type": "execute_result",
     "data": {
      "text/plain": [
       "      Unnamed: 0             sequence nTerminus cTerminus  pseudomonas  \\\n",
       "9             15   KLALKLALKAWKAALKLA       NaN       AMD    15.600000   \n",
       "11            17     ALWKTLLKKVLKAAAK       NaN       AMD     2.526436   \n",
       "12            18        ALWKTLLKKVLKA       NaN       AMD     5.956335   \n",
       "13            19   KLALKAALKAWKAAAKLA       NaN       AMD    45.000000   \n",
       "14            21   KAIAKSILKWIKSIAKAI       NaN       AMD    11.200000   \n",
       "...          ...                  ...       ...       ...          ...   \n",
       "2800          49  GFGPAFHSVSNFAKKHKTA         -         -     0.500000   \n",
       "2801          50  GIGGKPVQTAFVDNDGIYD         -         -     3.500000   \n",
       "2802          52  GTPGFQTPDARVISRFGFN         -         -    30.000000   \n",
       "2803          54  KWKLFKKILLKFLHLAKLF         -         -     3.000000   \n",
       "2804          56  SSGWVCTLTIECGTVICAC         -         -   200.000000   \n",
       "\n",
       "      pseudomonas_atcc  seqLength  \n",
       "9                  NaN         18  \n",
       "11                 NaN         16  \n",
       "12                 NaN         13  \n",
       "13                 NaN         18  \n",
       "14                 NaN         18  \n",
       "...                ...        ...  \n",
       "2800               NaN         19  \n",
       "2801               NaN         19  \n",
       "2802               NaN         19  \n",
       "2803               NaN         19  \n",
       "2804               NaN         19  \n",
       "\n",
       "[493 rows x 7 columns]"
      ],
      "text/html": [
       "\n",
       "  <div id=\"df-9ea9d033-b7b6-4f34-a4ac-a9c8c4f5063b\">\n",
       "    <div class=\"colab-df-container\">\n",
       "      <div>\n",
       "<style scoped>\n",
       "    .dataframe tbody tr th:only-of-type {\n",
       "        vertical-align: middle;\n",
       "    }\n",
       "\n",
       "    .dataframe tbody tr th {\n",
       "        vertical-align: top;\n",
       "    }\n",
       "\n",
       "    .dataframe thead th {\n",
       "        text-align: right;\n",
       "    }\n",
       "</style>\n",
       "<table border=\"1\" class=\"dataframe\">\n",
       "  <thead>\n",
       "    <tr style=\"text-align: right;\">\n",
       "      <th></th>\n",
       "      <th>Unnamed: 0</th>\n",
       "      <th>sequence</th>\n",
       "      <th>nTerminus</th>\n",
       "      <th>cTerminus</th>\n",
       "      <th>pseudomonas</th>\n",
       "      <th>pseudomonas_atcc</th>\n",
       "      <th>seqLength</th>\n",
       "    </tr>\n",
       "  </thead>\n",
       "  <tbody>\n",
       "    <tr>\n",
       "      <th>9</th>\n",
       "      <td>15</td>\n",
       "      <td>KLALKLALKAWKAALKLA</td>\n",
       "      <td>NaN</td>\n",
       "      <td>AMD</td>\n",
       "      <td>15.600000</td>\n",
       "      <td>NaN</td>\n",
       "      <td>18</td>\n",
       "    </tr>\n",
       "    <tr>\n",
       "      <th>11</th>\n",
       "      <td>17</td>\n",
       "      <td>ALWKTLLKKVLKAAAK</td>\n",
       "      <td>NaN</td>\n",
       "      <td>AMD</td>\n",
       "      <td>2.526436</td>\n",
       "      <td>NaN</td>\n",
       "      <td>16</td>\n",
       "    </tr>\n",
       "    <tr>\n",
       "      <th>12</th>\n",
       "      <td>18</td>\n",
       "      <td>ALWKTLLKKVLKA</td>\n",
       "      <td>NaN</td>\n",
       "      <td>AMD</td>\n",
       "      <td>5.956335</td>\n",
       "      <td>NaN</td>\n",
       "      <td>13</td>\n",
       "    </tr>\n",
       "    <tr>\n",
       "      <th>13</th>\n",
       "      <td>19</td>\n",
       "      <td>KLALKAALKAWKAAAKLA</td>\n",
       "      <td>NaN</td>\n",
       "      <td>AMD</td>\n",
       "      <td>45.000000</td>\n",
       "      <td>NaN</td>\n",
       "      <td>18</td>\n",
       "    </tr>\n",
       "    <tr>\n",
       "      <th>14</th>\n",
       "      <td>21</td>\n",
       "      <td>KAIAKSILKWIKSIAKAI</td>\n",
       "      <td>NaN</td>\n",
       "      <td>AMD</td>\n",
       "      <td>11.200000</td>\n",
       "      <td>NaN</td>\n",
       "      <td>18</td>\n",
       "    </tr>\n",
       "    <tr>\n",
       "      <th>...</th>\n",
       "      <td>...</td>\n",
       "      <td>...</td>\n",
       "      <td>...</td>\n",
       "      <td>...</td>\n",
       "      <td>...</td>\n",
       "      <td>...</td>\n",
       "      <td>...</td>\n",
       "    </tr>\n",
       "    <tr>\n",
       "      <th>2800</th>\n",
       "      <td>49</td>\n",
       "      <td>GFGPAFHSVSNFAKKHKTA</td>\n",
       "      <td>-</td>\n",
       "      <td>-</td>\n",
       "      <td>0.500000</td>\n",
       "      <td>NaN</td>\n",
       "      <td>19</td>\n",
       "    </tr>\n",
       "    <tr>\n",
       "      <th>2801</th>\n",
       "      <td>50</td>\n",
       "      <td>GIGGKPVQTAFVDNDGIYD</td>\n",
       "      <td>-</td>\n",
       "      <td>-</td>\n",
       "      <td>3.500000</td>\n",
       "      <td>NaN</td>\n",
       "      <td>19</td>\n",
       "    </tr>\n",
       "    <tr>\n",
       "      <th>2802</th>\n",
       "      <td>52</td>\n",
       "      <td>GTPGFQTPDARVISRFGFN</td>\n",
       "      <td>-</td>\n",
       "      <td>-</td>\n",
       "      <td>30.000000</td>\n",
       "      <td>NaN</td>\n",
       "      <td>19</td>\n",
       "    </tr>\n",
       "    <tr>\n",
       "      <th>2803</th>\n",
       "      <td>54</td>\n",
       "      <td>KWKLFKKILLKFLHLAKLF</td>\n",
       "      <td>-</td>\n",
       "      <td>-</td>\n",
       "      <td>3.000000</td>\n",
       "      <td>NaN</td>\n",
       "      <td>19</td>\n",
       "    </tr>\n",
       "    <tr>\n",
       "      <th>2804</th>\n",
       "      <td>56</td>\n",
       "      <td>SSGWVCTLTIECGTVICAC</td>\n",
       "      <td>-</td>\n",
       "      <td>-</td>\n",
       "      <td>200.000000</td>\n",
       "      <td>NaN</td>\n",
       "      <td>19</td>\n",
       "    </tr>\n",
       "  </tbody>\n",
       "</table>\n",
       "<p>493 rows × 7 columns</p>\n",
       "</div>\n",
       "      <button class=\"colab-df-convert\" onclick=\"convertToInteractive('df-9ea9d033-b7b6-4f34-a4ac-a9c8c4f5063b')\"\n",
       "              title=\"Convert this dataframe to an interactive table.\"\n",
       "              style=\"display:none;\">\n",
       "        \n",
       "  <svg xmlns=\"http://www.w3.org/2000/svg\" height=\"24px\"viewBox=\"0 0 24 24\"\n",
       "       width=\"24px\">\n",
       "    <path d=\"M0 0h24v24H0V0z\" fill=\"none\"/>\n",
       "    <path d=\"M18.56 5.44l.94 2.06.94-2.06 2.06-.94-2.06-.94-.94-2.06-.94 2.06-2.06.94zm-11 1L8.5 8.5l.94-2.06 2.06-.94-2.06-.94L8.5 2.5l-.94 2.06-2.06.94zm10 10l.94 2.06.94-2.06 2.06-.94-2.06-.94-.94-2.06-.94 2.06-2.06.94z\"/><path d=\"M17.41 7.96l-1.37-1.37c-.4-.4-.92-.59-1.43-.59-.52 0-1.04.2-1.43.59L10.3 9.45l-7.72 7.72c-.78.78-.78 2.05 0 2.83L4 21.41c.39.39.9.59 1.41.59.51 0 1.02-.2 1.41-.59l7.78-7.78 2.81-2.81c.8-.78.8-2.07 0-2.86zM5.41 20L4 18.59l7.72-7.72 1.47 1.35L5.41 20z\"/>\n",
       "  </svg>\n",
       "      </button>\n",
       "      \n",
       "  <style>\n",
       "    .colab-df-container {\n",
       "      display:flex;\n",
       "      flex-wrap:wrap;\n",
       "      gap: 12px;\n",
       "    }\n",
       "\n",
       "    .colab-df-convert {\n",
       "      background-color: #E8F0FE;\n",
       "      border: none;\n",
       "      border-radius: 50%;\n",
       "      cursor: pointer;\n",
       "      display: none;\n",
       "      fill: #1967D2;\n",
       "      height: 32px;\n",
       "      padding: 0 0 0 0;\n",
       "      width: 32px;\n",
       "    }\n",
       "\n",
       "    .colab-df-convert:hover {\n",
       "      background-color: #E2EBFA;\n",
       "      box-shadow: 0px 1px 2px rgba(60, 64, 67, 0.3), 0px 1px 3px 1px rgba(60, 64, 67, 0.15);\n",
       "      fill: #174EA6;\n",
       "    }\n",
       "\n",
       "    [theme=dark] .colab-df-convert {\n",
       "      background-color: #3B4455;\n",
       "      fill: #D2E3FC;\n",
       "    }\n",
       "\n",
       "    [theme=dark] .colab-df-convert:hover {\n",
       "      background-color: #434B5C;\n",
       "      box-shadow: 0px 1px 3px 1px rgba(0, 0, 0, 0.15);\n",
       "      filter: drop-shadow(0px 1px 2px rgba(0, 0, 0, 0.3));\n",
       "      fill: #FFFFFF;\n",
       "    }\n",
       "  </style>\n",
       "\n",
       "      <script>\n",
       "        const buttonEl =\n",
       "          document.querySelector('#df-9ea9d033-b7b6-4f34-a4ac-a9c8c4f5063b button.colab-df-convert');\n",
       "        buttonEl.style.display =\n",
       "          google.colab.kernel.accessAllowed ? 'block' : 'none';\n",
       "\n",
       "        async function convertToInteractive(key) {\n",
       "          const element = document.querySelector('#df-9ea9d033-b7b6-4f34-a4ac-a9c8c4f5063b');\n",
       "          const dataTable =\n",
       "            await google.colab.kernel.invokeFunction('convertToInteractive',\n",
       "                                                     [key], {});\n",
       "          if (!dataTable) return;\n",
       "\n",
       "          const docLinkHtml = 'Like what you see? Visit the ' +\n",
       "            '<a target=\"_blank\" href=https://colab.research.google.com/notebooks/data_table.ipynb>data table notebook</a>'\n",
       "            + ' to learn more about interactive tables.';\n",
       "          element.innerHTML = '';\n",
       "          dataTable['output_type'] = 'display_data';\n",
       "          await google.colab.output.renderOutput(dataTable, element);\n",
       "          const docLink = document.createElement('div');\n",
       "          docLink.innerHTML = docLinkHtml;\n",
       "          element.appendChild(docLink);\n",
       "        }\n",
       "      </script>\n",
       "    </div>\n",
       "  </div>\n",
       "  "
      ]
     },
     "metadata": {},
     "execution_count": 11
    }
   ]
  },
  {
   "cell_type": "code",
   "source": [
    "df.dropna(subset=['pseudomonas_atcc'], inplace= True)\n",
    "df"
   ],
   "metadata": {
    "colab": {
     "base_uri": "https://localhost:8080/",
     "height": 419
    },
    "id": "Tp0C-Ffb1awE",
    "outputId": "bc716a03-54c9-4f87-8c97-553cc8d16f87"
   },
   "execution_count": null,
   "outputs": [
    {
     "output_type": "execute_result",
     "data": {
      "text/plain": [
       "      Unnamed: 0              sequence nTerminus cTerminus  pseudomonas  \\\n",
       "4              5          KAaaKWAaKaAK       C16       AMD          NaN   \n",
       "5              6                  KLlK       C16       AMD          NaN   \n",
       "6              9          kGGGkWGGkGGk       C16       AMD          NaN   \n",
       "7             12          KLllKWLlKlLK       NaN       AMD          NaN   \n",
       "10            16  GLRKRLRKFRNKIKEKLKKI       NaN       NaN          NaN   \n",
       "...          ...                   ...       ...       ...          ...   \n",
       "2714         128          ILKKLLKGVKSI      Free       AMD          NaN   \n",
       "2715         129          ILKKLLKKVKSI      Free       AMD          NaN   \n",
       "2716         130          ILKKLLKKVKKI      Free       AMD          NaN   \n",
       "2780          24             FFLSRIFGK         -         -          NaN   \n",
       "2782          79          TWLKKRRWKKAK         -         -          NaN   \n",
       "\n",
       "      pseudomonas_atcc  seqLength  \n",
       "4                 6.25         12  \n",
       "5               100.00          4  \n",
       "6                 6.25         12  \n",
       "7                 7.50         12  \n",
       "10                0.50         20  \n",
       "...                ...        ...  \n",
       "2714              3.13         12  \n",
       "2715              1.56         12  \n",
       "2716              1.56         12  \n",
       "2780            200.00          9  \n",
       "2782              0.01         12  \n",
       "\n",
       "[1402 rows x 7 columns]"
      ],
      "text/html": [
       "\n",
       "  <div id=\"df-85deb9ed-da37-45e0-a930-fe41c48c79bd\">\n",
       "    <div class=\"colab-df-container\">\n",
       "      <div>\n",
       "<style scoped>\n",
       "    .dataframe tbody tr th:only-of-type {\n",
       "        vertical-align: middle;\n",
       "    }\n",
       "\n",
       "    .dataframe tbody tr th {\n",
       "        vertical-align: top;\n",
       "    }\n",
       "\n",
       "    .dataframe thead th {\n",
       "        text-align: right;\n",
       "    }\n",
       "</style>\n",
       "<table border=\"1\" class=\"dataframe\">\n",
       "  <thead>\n",
       "    <tr style=\"text-align: right;\">\n",
       "      <th></th>\n",
       "      <th>Unnamed: 0</th>\n",
       "      <th>sequence</th>\n",
       "      <th>nTerminus</th>\n",
       "      <th>cTerminus</th>\n",
       "      <th>pseudomonas</th>\n",
       "      <th>pseudomonas_atcc</th>\n",
       "      <th>seqLength</th>\n",
       "    </tr>\n",
       "  </thead>\n",
       "  <tbody>\n",
       "    <tr>\n",
       "      <th>4</th>\n",
       "      <td>5</td>\n",
       "      <td>KAaaKWAaKaAK</td>\n",
       "      <td>C16</td>\n",
       "      <td>AMD</td>\n",
       "      <td>NaN</td>\n",
       "      <td>6.25</td>\n",
       "      <td>12</td>\n",
       "    </tr>\n",
       "    <tr>\n",
       "      <th>5</th>\n",
       "      <td>6</td>\n",
       "      <td>KLlK</td>\n",
       "      <td>C16</td>\n",
       "      <td>AMD</td>\n",
       "      <td>NaN</td>\n",
       "      <td>100.00</td>\n",
       "      <td>4</td>\n",
       "    </tr>\n",
       "    <tr>\n",
       "      <th>6</th>\n",
       "      <td>9</td>\n",
       "      <td>kGGGkWGGkGGk</td>\n",
       "      <td>C16</td>\n",
       "      <td>AMD</td>\n",
       "      <td>NaN</td>\n",
       "      <td>6.25</td>\n",
       "      <td>12</td>\n",
       "    </tr>\n",
       "    <tr>\n",
       "      <th>7</th>\n",
       "      <td>12</td>\n",
       "      <td>KLllKWLlKlLK</td>\n",
       "      <td>NaN</td>\n",
       "      <td>AMD</td>\n",
       "      <td>NaN</td>\n",
       "      <td>7.50</td>\n",
       "      <td>12</td>\n",
       "    </tr>\n",
       "    <tr>\n",
       "      <th>10</th>\n",
       "      <td>16</td>\n",
       "      <td>GLRKRLRKFRNKIKEKLKKI</td>\n",
       "      <td>NaN</td>\n",
       "      <td>NaN</td>\n",
       "      <td>NaN</td>\n",
       "      <td>0.50</td>\n",
       "      <td>20</td>\n",
       "    </tr>\n",
       "    <tr>\n",
       "      <th>...</th>\n",
       "      <td>...</td>\n",
       "      <td>...</td>\n",
       "      <td>...</td>\n",
       "      <td>...</td>\n",
       "      <td>...</td>\n",
       "      <td>...</td>\n",
       "      <td>...</td>\n",
       "    </tr>\n",
       "    <tr>\n",
       "      <th>2714</th>\n",
       "      <td>128</td>\n",
       "      <td>ILKKLLKGVKSI</td>\n",
       "      <td>Free</td>\n",
       "      <td>AMD</td>\n",
       "      <td>NaN</td>\n",
       "      <td>3.13</td>\n",
       "      <td>12</td>\n",
       "    </tr>\n",
       "    <tr>\n",
       "      <th>2715</th>\n",
       "      <td>129</td>\n",
       "      <td>ILKKLLKKVKSI</td>\n",
       "      <td>Free</td>\n",
       "      <td>AMD</td>\n",
       "      <td>NaN</td>\n",
       "      <td>1.56</td>\n",
       "      <td>12</td>\n",
       "    </tr>\n",
       "    <tr>\n",
       "      <th>2716</th>\n",
       "      <td>130</td>\n",
       "      <td>ILKKLLKKVKKI</td>\n",
       "      <td>Free</td>\n",
       "      <td>AMD</td>\n",
       "      <td>NaN</td>\n",
       "      <td>1.56</td>\n",
       "      <td>12</td>\n",
       "    </tr>\n",
       "    <tr>\n",
       "      <th>2780</th>\n",
       "      <td>24</td>\n",
       "      <td>FFLSRIFGK</td>\n",
       "      <td>-</td>\n",
       "      <td>-</td>\n",
       "      <td>NaN</td>\n",
       "      <td>200.00</td>\n",
       "      <td>9</td>\n",
       "    </tr>\n",
       "    <tr>\n",
       "      <th>2782</th>\n",
       "      <td>79</td>\n",
       "      <td>TWLKKRRWKKAK</td>\n",
       "      <td>-</td>\n",
       "      <td>-</td>\n",
       "      <td>NaN</td>\n",
       "      <td>0.01</td>\n",
       "      <td>12</td>\n",
       "    </tr>\n",
       "  </tbody>\n",
       "</table>\n",
       "<p>1402 rows × 7 columns</p>\n",
       "</div>\n",
       "      <button class=\"colab-df-convert\" onclick=\"convertToInteractive('df-85deb9ed-da37-45e0-a930-fe41c48c79bd')\"\n",
       "              title=\"Convert this dataframe to an interactive table.\"\n",
       "              style=\"display:none;\">\n",
       "        \n",
       "  <svg xmlns=\"http://www.w3.org/2000/svg\" height=\"24px\"viewBox=\"0 0 24 24\"\n",
       "       width=\"24px\">\n",
       "    <path d=\"M0 0h24v24H0V0z\" fill=\"none\"/>\n",
       "    <path d=\"M18.56 5.44l.94 2.06.94-2.06 2.06-.94-2.06-.94-.94-2.06-.94 2.06-2.06.94zm-11 1L8.5 8.5l.94-2.06 2.06-.94-2.06-.94L8.5 2.5l-.94 2.06-2.06.94zm10 10l.94 2.06.94-2.06 2.06-.94-2.06-.94-.94-2.06-.94 2.06-2.06.94z\"/><path d=\"M17.41 7.96l-1.37-1.37c-.4-.4-.92-.59-1.43-.59-.52 0-1.04.2-1.43.59L10.3 9.45l-7.72 7.72c-.78.78-.78 2.05 0 2.83L4 21.41c.39.39.9.59 1.41.59.51 0 1.02-.2 1.41-.59l7.78-7.78 2.81-2.81c.8-.78.8-2.07 0-2.86zM5.41 20L4 18.59l7.72-7.72 1.47 1.35L5.41 20z\"/>\n",
       "  </svg>\n",
       "      </button>\n",
       "      \n",
       "  <style>\n",
       "    .colab-df-container {\n",
       "      display:flex;\n",
       "      flex-wrap:wrap;\n",
       "      gap: 12px;\n",
       "    }\n",
       "\n",
       "    .colab-df-convert {\n",
       "      background-color: #E8F0FE;\n",
       "      border: none;\n",
       "      border-radius: 50%;\n",
       "      cursor: pointer;\n",
       "      display: none;\n",
       "      fill: #1967D2;\n",
       "      height: 32px;\n",
       "      padding: 0 0 0 0;\n",
       "      width: 32px;\n",
       "    }\n",
       "\n",
       "    .colab-df-convert:hover {\n",
       "      background-color: #E2EBFA;\n",
       "      box-shadow: 0px 1px 2px rgba(60, 64, 67, 0.3), 0px 1px 3px 1px rgba(60, 64, 67, 0.15);\n",
       "      fill: #174EA6;\n",
       "    }\n",
       "\n",
       "    [theme=dark] .colab-df-convert {\n",
       "      background-color: #3B4455;\n",
       "      fill: #D2E3FC;\n",
       "    }\n",
       "\n",
       "    [theme=dark] .colab-df-convert:hover {\n",
       "      background-color: #434B5C;\n",
       "      box-shadow: 0px 1px 3px 1px rgba(0, 0, 0, 0.15);\n",
       "      filter: drop-shadow(0px 1px 2px rgba(0, 0, 0, 0.3));\n",
       "      fill: #FFFFFF;\n",
       "    }\n",
       "  </style>\n",
       "\n",
       "      <script>\n",
       "        const buttonEl =\n",
       "          document.querySelector('#df-85deb9ed-da37-45e0-a930-fe41c48c79bd button.colab-df-convert');\n",
       "        buttonEl.style.display =\n",
       "          google.colab.kernel.accessAllowed ? 'block' : 'none';\n",
       "\n",
       "        async function convertToInteractive(key) {\n",
       "          const element = document.querySelector('#df-85deb9ed-da37-45e0-a930-fe41c48c79bd');\n",
       "          const dataTable =\n",
       "            await google.colab.kernel.invokeFunction('convertToInteractive',\n",
       "                                                     [key], {});\n",
       "          if (!dataTable) return;\n",
       "\n",
       "          const docLinkHtml = 'Like what you see? Visit the ' +\n",
       "            '<a target=\"_blank\" href=https://colab.research.google.com/notebooks/data_table.ipynb>data table notebook</a>'\n",
       "            + ' to learn more about interactive tables.';\n",
       "          element.innerHTML = '';\n",
       "          dataTable['output_type'] = 'display_data';\n",
       "          await google.colab.output.renderOutput(dataTable, element);\n",
       "          const docLink = document.createElement('div');\n",
       "          docLink.innerHTML = docLinkHtml;\n",
       "          element.appendChild(docLink);\n",
       "        }\n",
       "      </script>\n",
       "    </div>\n",
       "  </div>\n",
       "  "
      ]
     },
     "metadata": {},
     "execution_count": 12
    }
   ]
  },
  {
   "cell_type": "code",
   "source": [
    "df[\"pseudomonas_atcc\"].describe()"
   ],
   "metadata": {
    "colab": {
     "base_uri": "https://localhost:8080/"
    },
    "id": "YWx-Rn3tT6Ey",
    "outputId": "32c39532-3782-4e79-ca6d-d979ad30b4df"
   },
   "execution_count": null,
   "outputs": [
    {
     "output_type": "execute_result",
     "data": {
      "text/plain": [
       "count    1402.000000\n",
       "mean       37.979302\n",
       "std       102.500460\n",
       "min         0.004000\n",
       "25%         4.947829\n",
       "50%        11.857243\n",
       "75%        32.000000\n",
       "max      1545.791253\n",
       "Name: pseudomonas_atcc, dtype: float64"
      ]
     },
     "metadata": {},
     "execution_count": 13
    }
   ]
  },
  {
   "cell_type": "code",
   "execution_count": null,
   "metadata": {
    "colab": {
     "base_uri": "https://localhost:8080/",
     "height": 419
    },
    "id": "EqGId14pMMK1",
    "outputId": "e00a7d01-d406-4bd8-d1e4-6f2faf267bb8"
   },
   "outputs": [
    {
     "output_type": "execute_result",
     "data": {
      "text/plain": [
       "      Unnamed: 0              sequence         nTerminus         cTerminus  \\\n",
       "4              5          KAaaKWAaKaAK               C16               AMD   \n",
       "6              9          kGGGkWGGkGGk               C16               AMD   \n",
       "7             12          KLllKWLlKlLK               NaN               AMD   \n",
       "10            16  GLRKRLRKFRNKIKEKLKKI               NaN               NaN   \n",
       "27            38  GLRKALRKFRNKIKEALKKI               NaN               NaN   \n",
       "...          ...                   ...               ...               ...   \n",
       "2610          24        FDVMGIIKKIAGAL  Not included yet  Not included yet   \n",
       "2714         128          ILKKLLKGVKSI              Free               AMD   \n",
       "2715         129          ILKKLLKKVKSI              Free               AMD   \n",
       "2716         130          ILKKLLKKVKKI              Free               AMD   \n",
       "2782          79          TWLKKRRWKKAK                 -                 -   \n",
       "\n",
       "      pseudomonas  pseudomonas_atcc  seqLength  \n",
       "4             NaN              6.25         12  \n",
       "6             NaN              6.25         12  \n",
       "7             NaN              7.50         12  \n",
       "10            NaN              0.50         20  \n",
       "27            NaN              2.00         20  \n",
       "...           ...               ...        ...  \n",
       "2610          NaN             30.00         14  \n",
       "2714          NaN              3.13         12  \n",
       "2715          NaN              1.56         12  \n",
       "2716          NaN              1.56         12  \n",
       "2782          NaN              0.01         12  \n",
       "\n",
       "[1086 rows x 7 columns]"
      ],
      "text/html": [
       "\n",
       "  <div id=\"df-54d2e080-6fb5-4677-b0cf-d923919767d4\">\n",
       "    <div class=\"colab-df-container\">\n",
       "      <div>\n",
       "<style scoped>\n",
       "    .dataframe tbody tr th:only-of-type {\n",
       "        vertical-align: middle;\n",
       "    }\n",
       "\n",
       "    .dataframe tbody tr th {\n",
       "        vertical-align: top;\n",
       "    }\n",
       "\n",
       "    .dataframe thead th {\n",
       "        text-align: right;\n",
       "    }\n",
       "</style>\n",
       "<table border=\"1\" class=\"dataframe\">\n",
       "  <thead>\n",
       "    <tr style=\"text-align: right;\">\n",
       "      <th></th>\n",
       "      <th>Unnamed: 0</th>\n",
       "      <th>sequence</th>\n",
       "      <th>nTerminus</th>\n",
       "      <th>cTerminus</th>\n",
       "      <th>pseudomonas</th>\n",
       "      <th>pseudomonas_atcc</th>\n",
       "      <th>seqLength</th>\n",
       "    </tr>\n",
       "  </thead>\n",
       "  <tbody>\n",
       "    <tr>\n",
       "      <th>4</th>\n",
       "      <td>5</td>\n",
       "      <td>KAaaKWAaKaAK</td>\n",
       "      <td>C16</td>\n",
       "      <td>AMD</td>\n",
       "      <td>NaN</td>\n",
       "      <td>6.25</td>\n",
       "      <td>12</td>\n",
       "    </tr>\n",
       "    <tr>\n",
       "      <th>6</th>\n",
       "      <td>9</td>\n",
       "      <td>kGGGkWGGkGGk</td>\n",
       "      <td>C16</td>\n",
       "      <td>AMD</td>\n",
       "      <td>NaN</td>\n",
       "      <td>6.25</td>\n",
       "      <td>12</td>\n",
       "    </tr>\n",
       "    <tr>\n",
       "      <th>7</th>\n",
       "      <td>12</td>\n",
       "      <td>KLllKWLlKlLK</td>\n",
       "      <td>NaN</td>\n",
       "      <td>AMD</td>\n",
       "      <td>NaN</td>\n",
       "      <td>7.50</td>\n",
       "      <td>12</td>\n",
       "    </tr>\n",
       "    <tr>\n",
       "      <th>10</th>\n",
       "      <td>16</td>\n",
       "      <td>GLRKRLRKFRNKIKEKLKKI</td>\n",
       "      <td>NaN</td>\n",
       "      <td>NaN</td>\n",
       "      <td>NaN</td>\n",
       "      <td>0.50</td>\n",
       "      <td>20</td>\n",
       "    </tr>\n",
       "    <tr>\n",
       "      <th>27</th>\n",
       "      <td>38</td>\n",
       "      <td>GLRKALRKFRNKIKEALKKI</td>\n",
       "      <td>NaN</td>\n",
       "      <td>NaN</td>\n",
       "      <td>NaN</td>\n",
       "      <td>2.00</td>\n",
       "      <td>20</td>\n",
       "    </tr>\n",
       "    <tr>\n",
       "      <th>...</th>\n",
       "      <td>...</td>\n",
       "      <td>...</td>\n",
       "      <td>...</td>\n",
       "      <td>...</td>\n",
       "      <td>...</td>\n",
       "      <td>...</td>\n",
       "      <td>...</td>\n",
       "    </tr>\n",
       "    <tr>\n",
       "      <th>2610</th>\n",
       "      <td>24</td>\n",
       "      <td>FDVMGIIKKIAGAL</td>\n",
       "      <td>Not included yet</td>\n",
       "      <td>Not included yet</td>\n",
       "      <td>NaN</td>\n",
       "      <td>30.00</td>\n",
       "      <td>14</td>\n",
       "    </tr>\n",
       "    <tr>\n",
       "      <th>2714</th>\n",
       "      <td>128</td>\n",
       "      <td>ILKKLLKGVKSI</td>\n",
       "      <td>Free</td>\n",
       "      <td>AMD</td>\n",
       "      <td>NaN</td>\n",
       "      <td>3.13</td>\n",
       "      <td>12</td>\n",
       "    </tr>\n",
       "    <tr>\n",
       "      <th>2715</th>\n",
       "      <td>129</td>\n",
       "      <td>ILKKLLKKVKSI</td>\n",
       "      <td>Free</td>\n",
       "      <td>AMD</td>\n",
       "      <td>NaN</td>\n",
       "      <td>1.56</td>\n",
       "      <td>12</td>\n",
       "    </tr>\n",
       "    <tr>\n",
       "      <th>2716</th>\n",
       "      <td>130</td>\n",
       "      <td>ILKKLLKKVKKI</td>\n",
       "      <td>Free</td>\n",
       "      <td>AMD</td>\n",
       "      <td>NaN</td>\n",
       "      <td>1.56</td>\n",
       "      <td>12</td>\n",
       "    </tr>\n",
       "    <tr>\n",
       "      <th>2782</th>\n",
       "      <td>79</td>\n",
       "      <td>TWLKKRRWKKAK</td>\n",
       "      <td>-</td>\n",
       "      <td>-</td>\n",
       "      <td>NaN</td>\n",
       "      <td>0.01</td>\n",
       "      <td>12</td>\n",
       "    </tr>\n",
       "  </tbody>\n",
       "</table>\n",
       "<p>1086 rows × 7 columns</p>\n",
       "</div>\n",
       "      <button class=\"colab-df-convert\" onclick=\"convertToInteractive('df-54d2e080-6fb5-4677-b0cf-d923919767d4')\"\n",
       "              title=\"Convert this dataframe to an interactive table.\"\n",
       "              style=\"display:none;\">\n",
       "        \n",
       "  <svg xmlns=\"http://www.w3.org/2000/svg\" height=\"24px\"viewBox=\"0 0 24 24\"\n",
       "       width=\"24px\">\n",
       "    <path d=\"M0 0h24v24H0V0z\" fill=\"none\"/>\n",
       "    <path d=\"M18.56 5.44l.94 2.06.94-2.06 2.06-.94-2.06-.94-.94-2.06-.94 2.06-2.06.94zm-11 1L8.5 8.5l.94-2.06 2.06-.94-2.06-.94L8.5 2.5l-.94 2.06-2.06.94zm10 10l.94 2.06.94-2.06 2.06-.94-2.06-.94-.94-2.06-.94 2.06-2.06.94z\"/><path d=\"M17.41 7.96l-1.37-1.37c-.4-.4-.92-.59-1.43-.59-.52 0-1.04.2-1.43.59L10.3 9.45l-7.72 7.72c-.78.78-.78 2.05 0 2.83L4 21.41c.39.39.9.59 1.41.59.51 0 1.02-.2 1.41-.59l7.78-7.78 2.81-2.81c.8-.78.8-2.07 0-2.86zM5.41 20L4 18.59l7.72-7.72 1.47 1.35L5.41 20z\"/>\n",
       "  </svg>\n",
       "      </button>\n",
       "      \n",
       "  <style>\n",
       "    .colab-df-container {\n",
       "      display:flex;\n",
       "      flex-wrap:wrap;\n",
       "      gap: 12px;\n",
       "    }\n",
       "\n",
       "    .colab-df-convert {\n",
       "      background-color: #E8F0FE;\n",
       "      border: none;\n",
       "      border-radius: 50%;\n",
       "      cursor: pointer;\n",
       "      display: none;\n",
       "      fill: #1967D2;\n",
       "      height: 32px;\n",
       "      padding: 0 0 0 0;\n",
       "      width: 32px;\n",
       "    }\n",
       "\n",
       "    .colab-df-convert:hover {\n",
       "      background-color: #E2EBFA;\n",
       "      box-shadow: 0px 1px 2px rgba(60, 64, 67, 0.3), 0px 1px 3px 1px rgba(60, 64, 67, 0.15);\n",
       "      fill: #174EA6;\n",
       "    }\n",
       "\n",
       "    [theme=dark] .colab-df-convert {\n",
       "      background-color: #3B4455;\n",
       "      fill: #D2E3FC;\n",
       "    }\n",
       "\n",
       "    [theme=dark] .colab-df-convert:hover {\n",
       "      background-color: #434B5C;\n",
       "      box-shadow: 0px 1px 3px 1px rgba(0, 0, 0, 0.15);\n",
       "      filter: drop-shadow(0px 1px 2px rgba(0, 0, 0, 0.3));\n",
       "      fill: #FFFFFF;\n",
       "    }\n",
       "  </style>\n",
       "\n",
       "      <script>\n",
       "        const buttonEl =\n",
       "          document.querySelector('#df-54d2e080-6fb5-4677-b0cf-d923919767d4 button.colab-df-convert');\n",
       "        buttonEl.style.display =\n",
       "          google.colab.kernel.accessAllowed ? 'block' : 'none';\n",
       "\n",
       "        async function convertToInteractive(key) {\n",
       "          const element = document.querySelector('#df-54d2e080-6fb5-4677-b0cf-d923919767d4');\n",
       "          const dataTable =\n",
       "            await google.colab.kernel.invokeFunction('convertToInteractive',\n",
       "                                                     [key], {});\n",
       "          if (!dataTable) return;\n",
       "\n",
       "          const docLinkHtml = 'Like what you see? Visit the ' +\n",
       "            '<a target=\"_blank\" href=https://colab.research.google.com/notebooks/data_table.ipynb>data table notebook</a>'\n",
       "            + ' to learn more about interactive tables.';\n",
       "          element.innerHTML = '';\n",
       "          dataTable['output_type'] = 'display_data';\n",
       "          await google.colab.output.renderOutput(dataTable, element);\n",
       "          const docLink = document.createElement('div');\n",
       "          docLink.innerHTML = docLinkHtml;\n",
       "          element.appendChild(docLink);\n",
       "        }\n",
       "      </script>\n",
       "    </div>\n",
       "  </div>\n",
       "  "
      ]
     },
     "metadata": {},
     "execution_count": 14
    }
   ],
   "source": [
    "df = df.loc[((df.pseudomonas_atcc > 0) & (df.pseudomonas_atcc < MIC_cutoff) )]\n",
    "df"
   ]
  },
  {
   "cell_type": "code",
   "execution_count": null,
   "metadata": {
    "colab": {
     "base_uri": "https://localhost:8080/",
     "height": 419
    },
    "id": "JjQFJXsfw-7G",
    "outputId": "1297ce98-807d-4b0e-bc2d-3ff47d2af72b"
   },
   "outputs": [
    {
     "output_type": "execute_result",
     "data": {
      "text/plain": [
       "      Unnamed: 0              sequence  nTerminus  cTerminus  pseudomonas  \\\n",
       "0         900001                   GEP        NaN        NaN         1000   \n",
       "1         900002                  MGHP        NaN        NaN         1000   \n",
       "2         900003                  GTGG        NaN        NaN         1000   \n",
       "3         900004                  SVTP        NaN        NaN         1000   \n",
       "4         900005                 MFSPQ        NaN        NaN         1000   \n",
       "...          ...                   ...        ...        ...          ...   \n",
       "1137      901138         VKLVyPLKVKLyP        NaN        NaN            0   \n",
       "1138      901139       VKLVKyPKLKVKLyP        NaN        NaN            0   \n",
       "1139      901140                  KKKK        NaN        NaN            0   \n",
       "1140      901141  HLRRINKLLTRIGLYRHAFG        NaN        NaN            0   \n",
       "1141      901142    RRWWRFPPPRFPPRFPPP        NaN        NaN            0   \n",
       "\n",
       "      pseudomonas_atcc  \n",
       "0               1000.0  \n",
       "1               1000.0  \n",
       "2               1000.0  \n",
       "3               1000.0  \n",
       "4               1000.0  \n",
       "...                ...  \n",
       "1137            1001.0  \n",
       "1138            1001.0  \n",
       "1139            1001.0  \n",
       "1140            1001.0  \n",
       "1141            1001.0  \n",
       "\n",
       "[1129 rows x 6 columns]"
      ],
      "text/html": [
       "\n",
       "  <div id=\"df-786917ce-ad4d-4f5f-b923-b25b371b34b4\">\n",
       "    <div class=\"colab-df-container\">\n",
       "      <div>\n",
       "<style scoped>\n",
       "    .dataframe tbody tr th:only-of-type {\n",
       "        vertical-align: middle;\n",
       "    }\n",
       "\n",
       "    .dataframe tbody tr th {\n",
       "        vertical-align: top;\n",
       "    }\n",
       "\n",
       "    .dataframe thead th {\n",
       "        text-align: right;\n",
       "    }\n",
       "</style>\n",
       "<table border=\"1\" class=\"dataframe\">\n",
       "  <thead>\n",
       "    <tr style=\"text-align: right;\">\n",
       "      <th></th>\n",
       "      <th>Unnamed: 0</th>\n",
       "      <th>sequence</th>\n",
       "      <th>nTerminus</th>\n",
       "      <th>cTerminus</th>\n",
       "      <th>pseudomonas</th>\n",
       "      <th>pseudomonas_atcc</th>\n",
       "    </tr>\n",
       "  </thead>\n",
       "  <tbody>\n",
       "    <tr>\n",
       "      <th>0</th>\n",
       "      <td>900001</td>\n",
       "      <td>GEP</td>\n",
       "      <td>NaN</td>\n",
       "      <td>NaN</td>\n",
       "      <td>1000</td>\n",
       "      <td>1000.0</td>\n",
       "    </tr>\n",
       "    <tr>\n",
       "      <th>1</th>\n",
       "      <td>900002</td>\n",
       "      <td>MGHP</td>\n",
       "      <td>NaN</td>\n",
       "      <td>NaN</td>\n",
       "      <td>1000</td>\n",
       "      <td>1000.0</td>\n",
       "    </tr>\n",
       "    <tr>\n",
       "      <th>2</th>\n",
       "      <td>900003</td>\n",
       "      <td>GTGG</td>\n",
       "      <td>NaN</td>\n",
       "      <td>NaN</td>\n",
       "      <td>1000</td>\n",
       "      <td>1000.0</td>\n",
       "    </tr>\n",
       "    <tr>\n",
       "      <th>3</th>\n",
       "      <td>900004</td>\n",
       "      <td>SVTP</td>\n",
       "      <td>NaN</td>\n",
       "      <td>NaN</td>\n",
       "      <td>1000</td>\n",
       "      <td>1000.0</td>\n",
       "    </tr>\n",
       "    <tr>\n",
       "      <th>4</th>\n",
       "      <td>900005</td>\n",
       "      <td>MFSPQ</td>\n",
       "      <td>NaN</td>\n",
       "      <td>NaN</td>\n",
       "      <td>1000</td>\n",
       "      <td>1000.0</td>\n",
       "    </tr>\n",
       "    <tr>\n",
       "      <th>...</th>\n",
       "      <td>...</td>\n",
       "      <td>...</td>\n",
       "      <td>...</td>\n",
       "      <td>...</td>\n",
       "      <td>...</td>\n",
       "      <td>...</td>\n",
       "    </tr>\n",
       "    <tr>\n",
       "      <th>1137</th>\n",
       "      <td>901138</td>\n",
       "      <td>VKLVyPLKVKLyP</td>\n",
       "      <td>NaN</td>\n",
       "      <td>NaN</td>\n",
       "      <td>0</td>\n",
       "      <td>1001.0</td>\n",
       "    </tr>\n",
       "    <tr>\n",
       "      <th>1138</th>\n",
       "      <td>901139</td>\n",
       "      <td>VKLVKyPKLKVKLyP</td>\n",
       "      <td>NaN</td>\n",
       "      <td>NaN</td>\n",
       "      <td>0</td>\n",
       "      <td>1001.0</td>\n",
       "    </tr>\n",
       "    <tr>\n",
       "      <th>1139</th>\n",
       "      <td>901140</td>\n",
       "      <td>KKKK</td>\n",
       "      <td>NaN</td>\n",
       "      <td>NaN</td>\n",
       "      <td>0</td>\n",
       "      <td>1001.0</td>\n",
       "    </tr>\n",
       "    <tr>\n",
       "      <th>1140</th>\n",
       "      <td>901141</td>\n",
       "      <td>HLRRINKLLTRIGLYRHAFG</td>\n",
       "      <td>NaN</td>\n",
       "      <td>NaN</td>\n",
       "      <td>0</td>\n",
       "      <td>1001.0</td>\n",
       "    </tr>\n",
       "    <tr>\n",
       "      <th>1141</th>\n",
       "      <td>901142</td>\n",
       "      <td>RRWWRFPPPRFPPRFPPP</td>\n",
       "      <td>NaN</td>\n",
       "      <td>NaN</td>\n",
       "      <td>0</td>\n",
       "      <td>1001.0</td>\n",
       "    </tr>\n",
       "  </tbody>\n",
       "</table>\n",
       "<p>1129 rows × 6 columns</p>\n",
       "</div>\n",
       "      <button class=\"colab-df-convert\" onclick=\"convertToInteractive('df-786917ce-ad4d-4f5f-b923-b25b371b34b4')\"\n",
       "              title=\"Convert this dataframe to an interactive table.\"\n",
       "              style=\"display:none;\">\n",
       "        \n",
       "  <svg xmlns=\"http://www.w3.org/2000/svg\" height=\"24px\"viewBox=\"0 0 24 24\"\n",
       "       width=\"24px\">\n",
       "    <path d=\"M0 0h24v24H0V0z\" fill=\"none\"/>\n",
       "    <path d=\"M18.56 5.44l.94 2.06.94-2.06 2.06-.94-2.06-.94-.94-2.06-.94 2.06-2.06.94zm-11 1L8.5 8.5l.94-2.06 2.06-.94-2.06-.94L8.5 2.5l-.94 2.06-2.06.94zm10 10l.94 2.06.94-2.06 2.06-.94-2.06-.94-.94-2.06-.94 2.06-2.06.94z\"/><path d=\"M17.41 7.96l-1.37-1.37c-.4-.4-.92-.59-1.43-.59-.52 0-1.04.2-1.43.59L10.3 9.45l-7.72 7.72c-.78.78-.78 2.05 0 2.83L4 21.41c.39.39.9.59 1.41.59.51 0 1.02-.2 1.41-.59l7.78-7.78 2.81-2.81c.8-.78.8-2.07 0-2.86zM5.41 20L4 18.59l7.72-7.72 1.47 1.35L5.41 20z\"/>\n",
       "  </svg>\n",
       "      </button>\n",
       "      \n",
       "  <style>\n",
       "    .colab-df-container {\n",
       "      display:flex;\n",
       "      flex-wrap:wrap;\n",
       "      gap: 12px;\n",
       "    }\n",
       "\n",
       "    .colab-df-convert {\n",
       "      background-color: #E8F0FE;\n",
       "      border: none;\n",
       "      border-radius: 50%;\n",
       "      cursor: pointer;\n",
       "      display: none;\n",
       "      fill: #1967D2;\n",
       "      height: 32px;\n",
       "      padding: 0 0 0 0;\n",
       "      width: 32px;\n",
       "    }\n",
       "\n",
       "    .colab-df-convert:hover {\n",
       "      background-color: #E2EBFA;\n",
       "      box-shadow: 0px 1px 2px rgba(60, 64, 67, 0.3), 0px 1px 3px 1px rgba(60, 64, 67, 0.15);\n",
       "      fill: #174EA6;\n",
       "    }\n",
       "\n",
       "    [theme=dark] .colab-df-convert {\n",
       "      background-color: #3B4455;\n",
       "      fill: #D2E3FC;\n",
       "    }\n",
       "\n",
       "    [theme=dark] .colab-df-convert:hover {\n",
       "      background-color: #434B5C;\n",
       "      box-shadow: 0px 1px 3px 1px rgba(0, 0, 0, 0.15);\n",
       "      filter: drop-shadow(0px 1px 2px rgba(0, 0, 0, 0.3));\n",
       "      fill: #FFFFFF;\n",
       "    }\n",
       "  </style>\n",
       "\n",
       "      <script>\n",
       "        const buttonEl =\n",
       "          document.querySelector('#df-786917ce-ad4d-4f5f-b923-b25b371b34b4 button.colab-df-convert');\n",
       "        buttonEl.style.display =\n",
       "          google.colab.kernel.accessAllowed ? 'block' : 'none';\n",
       "\n",
       "        async function convertToInteractive(key) {\n",
       "          const element = document.querySelector('#df-786917ce-ad4d-4f5f-b923-b25b371b34b4');\n",
       "          const dataTable =\n",
       "            await google.colab.kernel.invokeFunction('convertToInteractive',\n",
       "                                                     [key], {});\n",
       "          if (!dataTable) return;\n",
       "\n",
       "          const docLinkHtml = 'Like what you see? Visit the ' +\n",
       "            '<a target=\"_blank\" href=https://colab.research.google.com/notebooks/data_table.ipynb>data table notebook</a>'\n",
       "            + ' to learn more about interactive tables.';\n",
       "          element.innerHTML = '';\n",
       "          dataTable['output_type'] = 'display_data';\n",
       "          await google.colab.output.renderOutput(dataTable, element);\n",
       "          const docLink = document.createElement('div');\n",
       "          docLink.innerHTML = docLinkHtml;\n",
       "          element.appendChild(docLink);\n",
       "        }\n",
       "      </script>\n",
       "    </div>\n",
       "  </div>\n",
       "  "
      ]
     },
     "metadata": {},
     "execution_count": 17
    }
   ],
   "source": [
    "# add non-amp sequnces to dataset to increse the number of negative samples\n",
    "nonAMP = pd.read_csv('/datasets/pes_non_amp_dataset_and_not_active_v2.csv');\n",
    "nonAMP = nonAMP.rename(columns={\"pseudomonas_atcc\": \"pseudomonas1\"})\n",
    "nonAMP = nonAMP.rename(columns={\"pseudomonas\": \"pseudomonas_atcc\"})\n",
    "nonAMP = nonAMP.rename(columns={\"pseudomonas1\": \"pseudomonas\"})\n",
    "nonAMP = nonAMP.loc[((nonAMP.pseudomonas_atcc >= 1000) )]\n",
    "nonAMP['pseudomonas_atcc'] = nonAMP['pseudomonas_atcc'].astype(float)\n",
    "nonAMP"
   ]
  },
  {
   "cell_type": "code",
   "source": [
    "nonAMP = nonAMP.sample(frac=0.891)\n",
    "nonAMP"
   ],
   "metadata": {
    "id": "LzFOVTetjEni",
    "colab": {
     "base_uri": "https://localhost:8080/",
     "height": 419
    },
    "outputId": "cf606045-07f8-4d05-9267-97930139ae6d"
   },
   "execution_count": null,
   "outputs": [
    {
     "output_type": "execute_result",
     "data": {
      "text/plain": [
       "      Unnamed: 0              sequence  nTerminus  cTerminus  pseudomonas  \\\n",
       "602       900603       ELGDNLKMKIQILLH        NaN        NaN         1000   \n",
       "299       900300          MTDFIFMVRDSS        NaN        NaN         1000   \n",
       "990       900991   TGRAGLFRVKGVEEHGEGD        NaN        NaN         1000   \n",
       "955       900956    MLVVETIRSGNRRRIWKS        NaN        NaN         1000   \n",
       "443       900444         MIFTPLDQLLDLL        NaN        NaN         1000   \n",
       "...          ...                   ...        ...        ...          ...   \n",
       "215       900216          QIANSRGLATPS        NaN        NaN         1000   \n",
       "774       900775      KESKKYSTVRAELKGG        NaN        NaN         1000   \n",
       "847       900848     MKILIARHVSTGLIYLF        NaN        NaN         1000   \n",
       "878       900879    TKLSGPSILSIELPELEF        NaN        NaN         1000   \n",
       "1046      901047  FMIMRGIPLRSGRWRKRFKM        NaN        NaN         1000   \n",
       "\n",
       "      pseudomonas_atcc  \n",
       "602             1000.0  \n",
       "299             1000.0  \n",
       "990             1000.0  \n",
       "955             1000.0  \n",
       "443             1000.0  \n",
       "...                ...  \n",
       "215             1000.0  \n",
       "774             1000.0  \n",
       "847             1000.0  \n",
       "878             1000.0  \n",
       "1046            1000.0  \n",
       "\n",
       "[1006 rows x 6 columns]"
      ],
      "text/html": [
       "\n",
       "  <div id=\"df-d17d9bf4-5716-4bd8-9032-6335e5d43d22\">\n",
       "    <div class=\"colab-df-container\">\n",
       "      <div>\n",
       "<style scoped>\n",
       "    .dataframe tbody tr th:only-of-type {\n",
       "        vertical-align: middle;\n",
       "    }\n",
       "\n",
       "    .dataframe tbody tr th {\n",
       "        vertical-align: top;\n",
       "    }\n",
       "\n",
       "    .dataframe thead th {\n",
       "        text-align: right;\n",
       "    }\n",
       "</style>\n",
       "<table border=\"1\" class=\"dataframe\">\n",
       "  <thead>\n",
       "    <tr style=\"text-align: right;\">\n",
       "      <th></th>\n",
       "      <th>Unnamed: 0</th>\n",
       "      <th>sequence</th>\n",
       "      <th>nTerminus</th>\n",
       "      <th>cTerminus</th>\n",
       "      <th>pseudomonas</th>\n",
       "      <th>pseudomonas_atcc</th>\n",
       "    </tr>\n",
       "  </thead>\n",
       "  <tbody>\n",
       "    <tr>\n",
       "      <th>602</th>\n",
       "      <td>900603</td>\n",
       "      <td>ELGDNLKMKIQILLH</td>\n",
       "      <td>NaN</td>\n",
       "      <td>NaN</td>\n",
       "      <td>1000</td>\n",
       "      <td>1000.0</td>\n",
       "    </tr>\n",
       "    <tr>\n",
       "      <th>299</th>\n",
       "      <td>900300</td>\n",
       "      <td>MTDFIFMVRDSS</td>\n",
       "      <td>NaN</td>\n",
       "      <td>NaN</td>\n",
       "      <td>1000</td>\n",
       "      <td>1000.0</td>\n",
       "    </tr>\n",
       "    <tr>\n",
       "      <th>990</th>\n",
       "      <td>900991</td>\n",
       "      <td>TGRAGLFRVKGVEEHGEGD</td>\n",
       "      <td>NaN</td>\n",
       "      <td>NaN</td>\n",
       "      <td>1000</td>\n",
       "      <td>1000.0</td>\n",
       "    </tr>\n",
       "    <tr>\n",
       "      <th>955</th>\n",
       "      <td>900956</td>\n",
       "      <td>MLVVETIRSGNRRRIWKS</td>\n",
       "      <td>NaN</td>\n",
       "      <td>NaN</td>\n",
       "      <td>1000</td>\n",
       "      <td>1000.0</td>\n",
       "    </tr>\n",
       "    <tr>\n",
       "      <th>443</th>\n",
       "      <td>900444</td>\n",
       "      <td>MIFTPLDQLLDLL</td>\n",
       "      <td>NaN</td>\n",
       "      <td>NaN</td>\n",
       "      <td>1000</td>\n",
       "      <td>1000.0</td>\n",
       "    </tr>\n",
       "    <tr>\n",
       "      <th>...</th>\n",
       "      <td>...</td>\n",
       "      <td>...</td>\n",
       "      <td>...</td>\n",
       "      <td>...</td>\n",
       "      <td>...</td>\n",
       "      <td>...</td>\n",
       "    </tr>\n",
       "    <tr>\n",
       "      <th>215</th>\n",
       "      <td>900216</td>\n",
       "      <td>QIANSRGLATPS</td>\n",
       "      <td>NaN</td>\n",
       "      <td>NaN</td>\n",
       "      <td>1000</td>\n",
       "      <td>1000.0</td>\n",
       "    </tr>\n",
       "    <tr>\n",
       "      <th>774</th>\n",
       "      <td>900775</td>\n",
       "      <td>KESKKYSTVRAELKGG</td>\n",
       "      <td>NaN</td>\n",
       "      <td>NaN</td>\n",
       "      <td>1000</td>\n",
       "      <td>1000.0</td>\n",
       "    </tr>\n",
       "    <tr>\n",
       "      <th>847</th>\n",
       "      <td>900848</td>\n",
       "      <td>MKILIARHVSTGLIYLF</td>\n",
       "      <td>NaN</td>\n",
       "      <td>NaN</td>\n",
       "      <td>1000</td>\n",
       "      <td>1000.0</td>\n",
       "    </tr>\n",
       "    <tr>\n",
       "      <th>878</th>\n",
       "      <td>900879</td>\n",
       "      <td>TKLSGPSILSIELPELEF</td>\n",
       "      <td>NaN</td>\n",
       "      <td>NaN</td>\n",
       "      <td>1000</td>\n",
       "      <td>1000.0</td>\n",
       "    </tr>\n",
       "    <tr>\n",
       "      <th>1046</th>\n",
       "      <td>901047</td>\n",
       "      <td>FMIMRGIPLRSGRWRKRFKM</td>\n",
       "      <td>NaN</td>\n",
       "      <td>NaN</td>\n",
       "      <td>1000</td>\n",
       "      <td>1000.0</td>\n",
       "    </tr>\n",
       "  </tbody>\n",
       "</table>\n",
       "<p>1006 rows × 6 columns</p>\n",
       "</div>\n",
       "      <button class=\"colab-df-convert\" onclick=\"convertToInteractive('df-d17d9bf4-5716-4bd8-9032-6335e5d43d22')\"\n",
       "              title=\"Convert this dataframe to an interactive table.\"\n",
       "              style=\"display:none;\">\n",
       "        \n",
       "  <svg xmlns=\"http://www.w3.org/2000/svg\" height=\"24px\"viewBox=\"0 0 24 24\"\n",
       "       width=\"24px\">\n",
       "    <path d=\"M0 0h24v24H0V0z\" fill=\"none\"/>\n",
       "    <path d=\"M18.56 5.44l.94 2.06.94-2.06 2.06-.94-2.06-.94-.94-2.06-.94 2.06-2.06.94zm-11 1L8.5 8.5l.94-2.06 2.06-.94-2.06-.94L8.5 2.5l-.94 2.06-2.06.94zm10 10l.94 2.06.94-2.06 2.06-.94-2.06-.94-.94-2.06-.94 2.06-2.06.94z\"/><path d=\"M17.41 7.96l-1.37-1.37c-.4-.4-.92-.59-1.43-.59-.52 0-1.04.2-1.43.59L10.3 9.45l-7.72 7.72c-.78.78-.78 2.05 0 2.83L4 21.41c.39.39.9.59 1.41.59.51 0 1.02-.2 1.41-.59l7.78-7.78 2.81-2.81c.8-.78.8-2.07 0-2.86zM5.41 20L4 18.59l7.72-7.72 1.47 1.35L5.41 20z\"/>\n",
       "  </svg>\n",
       "      </button>\n",
       "      \n",
       "  <style>\n",
       "    .colab-df-container {\n",
       "      display:flex;\n",
       "      flex-wrap:wrap;\n",
       "      gap: 12px;\n",
       "    }\n",
       "\n",
       "    .colab-df-convert {\n",
       "      background-color: #E8F0FE;\n",
       "      border: none;\n",
       "      border-radius: 50%;\n",
       "      cursor: pointer;\n",
       "      display: none;\n",
       "      fill: #1967D2;\n",
       "      height: 32px;\n",
       "      padding: 0 0 0 0;\n",
       "      width: 32px;\n",
       "    }\n",
       "\n",
       "    .colab-df-convert:hover {\n",
       "      background-color: #E2EBFA;\n",
       "      box-shadow: 0px 1px 2px rgba(60, 64, 67, 0.3), 0px 1px 3px 1px rgba(60, 64, 67, 0.15);\n",
       "      fill: #174EA6;\n",
       "    }\n",
       "\n",
       "    [theme=dark] .colab-df-convert {\n",
       "      background-color: #3B4455;\n",
       "      fill: #D2E3FC;\n",
       "    }\n",
       "\n",
       "    [theme=dark] .colab-df-convert:hover {\n",
       "      background-color: #434B5C;\n",
       "      box-shadow: 0px 1px 3px 1px rgba(0, 0, 0, 0.15);\n",
       "      filter: drop-shadow(0px 1px 2px rgba(0, 0, 0, 0.3));\n",
       "      fill: #FFFFFF;\n",
       "    }\n",
       "  </style>\n",
       "\n",
       "      <script>\n",
       "        const buttonEl =\n",
       "          document.querySelector('#df-d17d9bf4-5716-4bd8-9032-6335e5d43d22 button.colab-df-convert');\n",
       "        buttonEl.style.display =\n",
       "          google.colab.kernel.accessAllowed ? 'block' : 'none';\n",
       "\n",
       "        async function convertToInteractive(key) {\n",
       "          const element = document.querySelector('#df-d17d9bf4-5716-4bd8-9032-6335e5d43d22');\n",
       "          const dataTable =\n",
       "            await google.colab.kernel.invokeFunction('convertToInteractive',\n",
       "                                                     [key], {});\n",
       "          if (!dataTable) return;\n",
       "\n",
       "          const docLinkHtml = 'Like what you see? Visit the ' +\n",
       "            '<a target=\"_blank\" href=https://colab.research.google.com/notebooks/data_table.ipynb>data table notebook</a>'\n",
       "            + ' to learn more about interactive tables.';\n",
       "          element.innerHTML = '';\n",
       "          dataTable['output_type'] = 'display_data';\n",
       "          await google.colab.output.renderOutput(dataTable, element);\n",
       "          const docLink = document.createElement('div');\n",
       "          docLink.innerHTML = docLinkHtml;\n",
       "          element.appendChild(docLink);\n",
       "        }\n",
       "      </script>\n",
       "    </div>\n",
       "  </div>\n",
       "  "
      ]
     },
     "metadata": {},
     "execution_count": 18
    }
   ]
  },
  {
   "cell_type": "code",
   "execution_count": null,
   "metadata": {
    "colab": {
     "base_uri": "https://localhost:8080/",
     "height": 419
    },
    "id": "_TPi-zSExXIY",
    "outputId": "9916f081-dfa1-4a50-fc0f-819bbbf44b58"
   },
   "outputs": [
    {
     "output_type": "execute_result",
     "data": {
      "text/plain": [
       "      Unnamed: 0              sequence nTerminus cTerminus  pseudomonas  \\\n",
       "4              5          KAaaKWAaKaAK       C16       AMD          NaN   \n",
       "6              9          kGGGkWGGkGGk       C16       AMD          NaN   \n",
       "7             12          KLllKWLlKlLK       NaN       AMD          NaN   \n",
       "10            16  GLRKRLRKFRNKIKEKLKKI       NaN       NaN          NaN   \n",
       "27            38  GLRKALRKFRNKIKEALKKI       NaN       NaN          NaN   \n",
       "...          ...                   ...       ...       ...          ...   \n",
       "215       900216          QIANSRGLATPS       NaN       NaN       1000.0   \n",
       "774       900775      KESKKYSTVRAELKGG       NaN       NaN       1000.0   \n",
       "847       900848     MKILIARHVSTGLIYLF       NaN       NaN       1000.0   \n",
       "878       900879    TKLSGPSILSIELPELEF       NaN       NaN       1000.0   \n",
       "1046      901047  FMIMRGIPLRSGRWRKRFKM       NaN       NaN       1000.0   \n",
       "\n",
       "      pseudomonas_atcc  seqLength  \n",
       "4                 6.25       12.0  \n",
       "6                 6.25       12.0  \n",
       "7                 7.50       12.0  \n",
       "10                0.50       20.0  \n",
       "27                2.00       20.0  \n",
       "...                ...        ...  \n",
       "215            1000.00        NaN  \n",
       "774            1000.00        NaN  \n",
       "847            1000.00        NaN  \n",
       "878            1000.00        NaN  \n",
       "1046           1000.00        NaN  \n",
       "\n",
       "[2092 rows x 7 columns]"
      ],
      "text/html": [
       "\n",
       "  <div id=\"df-420282b1-3482-49fd-8811-72d8255f061f\">\n",
       "    <div class=\"colab-df-container\">\n",
       "      <div>\n",
       "<style scoped>\n",
       "    .dataframe tbody tr th:only-of-type {\n",
       "        vertical-align: middle;\n",
       "    }\n",
       "\n",
       "    .dataframe tbody tr th {\n",
       "        vertical-align: top;\n",
       "    }\n",
       "\n",
       "    .dataframe thead th {\n",
       "        text-align: right;\n",
       "    }\n",
       "</style>\n",
       "<table border=\"1\" class=\"dataframe\">\n",
       "  <thead>\n",
       "    <tr style=\"text-align: right;\">\n",
       "      <th></th>\n",
       "      <th>Unnamed: 0</th>\n",
       "      <th>sequence</th>\n",
       "      <th>nTerminus</th>\n",
       "      <th>cTerminus</th>\n",
       "      <th>pseudomonas</th>\n",
       "      <th>pseudomonas_atcc</th>\n",
       "      <th>seqLength</th>\n",
       "    </tr>\n",
       "  </thead>\n",
       "  <tbody>\n",
       "    <tr>\n",
       "      <th>4</th>\n",
       "      <td>5</td>\n",
       "      <td>KAaaKWAaKaAK</td>\n",
       "      <td>C16</td>\n",
       "      <td>AMD</td>\n",
       "      <td>NaN</td>\n",
       "      <td>6.25</td>\n",
       "      <td>12.0</td>\n",
       "    </tr>\n",
       "    <tr>\n",
       "      <th>6</th>\n",
       "      <td>9</td>\n",
       "      <td>kGGGkWGGkGGk</td>\n",
       "      <td>C16</td>\n",
       "      <td>AMD</td>\n",
       "      <td>NaN</td>\n",
       "      <td>6.25</td>\n",
       "      <td>12.0</td>\n",
       "    </tr>\n",
       "    <tr>\n",
       "      <th>7</th>\n",
       "      <td>12</td>\n",
       "      <td>KLllKWLlKlLK</td>\n",
       "      <td>NaN</td>\n",
       "      <td>AMD</td>\n",
       "      <td>NaN</td>\n",
       "      <td>7.50</td>\n",
       "      <td>12.0</td>\n",
       "    </tr>\n",
       "    <tr>\n",
       "      <th>10</th>\n",
       "      <td>16</td>\n",
       "      <td>GLRKRLRKFRNKIKEKLKKI</td>\n",
       "      <td>NaN</td>\n",
       "      <td>NaN</td>\n",
       "      <td>NaN</td>\n",
       "      <td>0.50</td>\n",
       "      <td>20.0</td>\n",
       "    </tr>\n",
       "    <tr>\n",
       "      <th>27</th>\n",
       "      <td>38</td>\n",
       "      <td>GLRKALRKFRNKIKEALKKI</td>\n",
       "      <td>NaN</td>\n",
       "      <td>NaN</td>\n",
       "      <td>NaN</td>\n",
       "      <td>2.00</td>\n",
       "      <td>20.0</td>\n",
       "    </tr>\n",
       "    <tr>\n",
       "      <th>...</th>\n",
       "      <td>...</td>\n",
       "      <td>...</td>\n",
       "      <td>...</td>\n",
       "      <td>...</td>\n",
       "      <td>...</td>\n",
       "      <td>...</td>\n",
       "      <td>...</td>\n",
       "    </tr>\n",
       "    <tr>\n",
       "      <th>215</th>\n",
       "      <td>900216</td>\n",
       "      <td>QIANSRGLATPS</td>\n",
       "      <td>NaN</td>\n",
       "      <td>NaN</td>\n",
       "      <td>1000.0</td>\n",
       "      <td>1000.00</td>\n",
       "      <td>NaN</td>\n",
       "    </tr>\n",
       "    <tr>\n",
       "      <th>774</th>\n",
       "      <td>900775</td>\n",
       "      <td>KESKKYSTVRAELKGG</td>\n",
       "      <td>NaN</td>\n",
       "      <td>NaN</td>\n",
       "      <td>1000.0</td>\n",
       "      <td>1000.00</td>\n",
       "      <td>NaN</td>\n",
       "    </tr>\n",
       "    <tr>\n",
       "      <th>847</th>\n",
       "      <td>900848</td>\n",
       "      <td>MKILIARHVSTGLIYLF</td>\n",
       "      <td>NaN</td>\n",
       "      <td>NaN</td>\n",
       "      <td>1000.0</td>\n",
       "      <td>1000.00</td>\n",
       "      <td>NaN</td>\n",
       "    </tr>\n",
       "    <tr>\n",
       "      <th>878</th>\n",
       "      <td>900879</td>\n",
       "      <td>TKLSGPSILSIELPELEF</td>\n",
       "      <td>NaN</td>\n",
       "      <td>NaN</td>\n",
       "      <td>1000.0</td>\n",
       "      <td>1000.00</td>\n",
       "      <td>NaN</td>\n",
       "    </tr>\n",
       "    <tr>\n",
       "      <th>1046</th>\n",
       "      <td>901047</td>\n",
       "      <td>FMIMRGIPLRSGRWRKRFKM</td>\n",
       "      <td>NaN</td>\n",
       "      <td>NaN</td>\n",
       "      <td>1000.0</td>\n",
       "      <td>1000.00</td>\n",
       "      <td>NaN</td>\n",
       "    </tr>\n",
       "  </tbody>\n",
       "</table>\n",
       "<p>2092 rows × 7 columns</p>\n",
       "</div>\n",
       "      <button class=\"colab-df-convert\" onclick=\"convertToInteractive('df-420282b1-3482-49fd-8811-72d8255f061f')\"\n",
       "              title=\"Convert this dataframe to an interactive table.\"\n",
       "              style=\"display:none;\">\n",
       "        \n",
       "  <svg xmlns=\"http://www.w3.org/2000/svg\" height=\"24px\"viewBox=\"0 0 24 24\"\n",
       "       width=\"24px\">\n",
       "    <path d=\"M0 0h24v24H0V0z\" fill=\"none\"/>\n",
       "    <path d=\"M18.56 5.44l.94 2.06.94-2.06 2.06-.94-2.06-.94-.94-2.06-.94 2.06-2.06.94zm-11 1L8.5 8.5l.94-2.06 2.06-.94-2.06-.94L8.5 2.5l-.94 2.06-2.06.94zm10 10l.94 2.06.94-2.06 2.06-.94-2.06-.94-.94-2.06-.94 2.06-2.06.94z\"/><path d=\"M17.41 7.96l-1.37-1.37c-.4-.4-.92-.59-1.43-.59-.52 0-1.04.2-1.43.59L10.3 9.45l-7.72 7.72c-.78.78-.78 2.05 0 2.83L4 21.41c.39.39.9.59 1.41.59.51 0 1.02-.2 1.41-.59l7.78-7.78 2.81-2.81c.8-.78.8-2.07 0-2.86zM5.41 20L4 18.59l7.72-7.72 1.47 1.35L5.41 20z\"/>\n",
       "  </svg>\n",
       "      </button>\n",
       "      \n",
       "  <style>\n",
       "    .colab-df-container {\n",
       "      display:flex;\n",
       "      flex-wrap:wrap;\n",
       "      gap: 12px;\n",
       "    }\n",
       "\n",
       "    .colab-df-convert {\n",
       "      background-color: #E8F0FE;\n",
       "      border: none;\n",
       "      border-radius: 50%;\n",
       "      cursor: pointer;\n",
       "      display: none;\n",
       "      fill: #1967D2;\n",
       "      height: 32px;\n",
       "      padding: 0 0 0 0;\n",
       "      width: 32px;\n",
       "    }\n",
       "\n",
       "    .colab-df-convert:hover {\n",
       "      background-color: #E2EBFA;\n",
       "      box-shadow: 0px 1px 2px rgba(60, 64, 67, 0.3), 0px 1px 3px 1px rgba(60, 64, 67, 0.15);\n",
       "      fill: #174EA6;\n",
       "    }\n",
       "\n",
       "    [theme=dark] .colab-df-convert {\n",
       "      background-color: #3B4455;\n",
       "      fill: #D2E3FC;\n",
       "    }\n",
       "\n",
       "    [theme=dark] .colab-df-convert:hover {\n",
       "      background-color: #434B5C;\n",
       "      box-shadow: 0px 1px 3px 1px rgba(0, 0, 0, 0.15);\n",
       "      filter: drop-shadow(0px 1px 2px rgba(0, 0, 0, 0.3));\n",
       "      fill: #FFFFFF;\n",
       "    }\n",
       "  </style>\n",
       "\n",
       "      <script>\n",
       "        const buttonEl =\n",
       "          document.querySelector('#df-420282b1-3482-49fd-8811-72d8255f061f button.colab-df-convert');\n",
       "        buttonEl.style.display =\n",
       "          google.colab.kernel.accessAllowed ? 'block' : 'none';\n",
       "\n",
       "        async function convertToInteractive(key) {\n",
       "          const element = document.querySelector('#df-420282b1-3482-49fd-8811-72d8255f061f');\n",
       "          const dataTable =\n",
       "            await google.colab.kernel.invokeFunction('convertToInteractive',\n",
       "                                                     [key], {});\n",
       "          if (!dataTable) return;\n",
       "\n",
       "          const docLinkHtml = 'Like what you see? Visit the ' +\n",
       "            '<a target=\"_blank\" href=https://colab.research.google.com/notebooks/data_table.ipynb>data table notebook</a>'\n",
       "            + ' to learn more about interactive tables.';\n",
       "          element.innerHTML = '';\n",
       "          dataTable['output_type'] = 'display_data';\n",
       "          await google.colab.output.renderOutput(dataTable, element);\n",
       "          const docLink = document.createElement('div');\n",
       "          docLink.innerHTML = docLinkHtml;\n",
       "          element.appendChild(docLink);\n",
       "        }\n",
       "      </script>\n",
       "    </div>\n",
       "  </div>\n",
       "  "
      ]
     },
     "metadata": {},
     "execution_count": 19
    }
   ],
   "source": [
    "frames = [df, nonAMP]\n",
    "df = pd.concat(frames)\n",
    "df"
   ]
  },
  {
   "cell_type": "code",
   "source": [
    "df['pseudomonas_atcc'].fillna(2000.0, inplace=True)"
   ],
   "metadata": {
    "id": "facnuLklUJ46"
   },
   "execution_count": null,
   "outputs": []
  },
  {
   "cell_type": "code",
   "execution_count": null,
   "metadata": {
    "id": "EAxcZD7fv_Kt"
   },
   "outputs": [],
   "source": [
    "df['e_isActive'] =  np.where(df['pseudomonas_atcc'] <= MIC_cutoff , True, False)"
   ]
  },
  {
   "cell_type": "code",
   "execution_count": null,
   "metadata": {
    "id": "wsuiX4inCo1s"
   },
   "outputs": [],
   "source": [
    "df = df.sort_values(by=['pseudomonas_atcc'], ascending=[True])"
   ]
  },
  {
   "cell_type": "code",
   "source": [
    "df = df.drop_duplicates(subset='sequence', keep=\"first\")"
   ],
   "metadata": {
    "id": "XedIu2XTLFYS"
   },
   "execution_count": null,
   "outputs": []
  },
  {
   "cell_type": "code",
   "execution_count": null,
   "metadata": {
    "colab": {
     "base_uri": "https://localhost:8080/",
     "height": 204
    },
    "id": "sxx5VunIq11z",
    "outputId": "4b05cbc6-2530-4a02-8d36-3d05fd0588fb"
   },
   "outputs": [
    {
     "output_type": "execute_result",
     "data": {
      "text/plain": [
       "               sequence  e_isActive\n",
       "83  CWKWKWKWGSGWKWKWKWC        True\n",
       "82  CFKFKFKFGSGFKFKFKFC        True\n",
       "81  CAKAKAKAGSGAKAKAKAC        True\n",
       "80  CVKVQVKVGSGVKVQVKVC        True\n",
       "79  CVKVRVKVGSGVKVRVKVC        True"
      ],
      "text/html": [
       "\n",
       "  <div id=\"df-c480d88d-fb66-49d3-91d5-d9af9db89181\">\n",
       "    <div class=\"colab-df-container\">\n",
       "      <div>\n",
       "<style scoped>\n",
       "    .dataframe tbody tr th:only-of-type {\n",
       "        vertical-align: middle;\n",
       "    }\n",
       "\n",
       "    .dataframe tbody tr th {\n",
       "        vertical-align: top;\n",
       "    }\n",
       "\n",
       "    .dataframe thead th {\n",
       "        text-align: right;\n",
       "    }\n",
       "</style>\n",
       "<table border=\"1\" class=\"dataframe\">\n",
       "  <thead>\n",
       "    <tr style=\"text-align: right;\">\n",
       "      <th></th>\n",
       "      <th>sequence</th>\n",
       "      <th>e_isActive</th>\n",
       "    </tr>\n",
       "  </thead>\n",
       "  <tbody>\n",
       "    <tr>\n",
       "      <th>83</th>\n",
       "      <td>CWKWKWKWGSGWKWKWKWC</td>\n",
       "      <td>True</td>\n",
       "    </tr>\n",
       "    <tr>\n",
       "      <th>82</th>\n",
       "      <td>CFKFKFKFGSGFKFKFKFC</td>\n",
       "      <td>True</td>\n",
       "    </tr>\n",
       "    <tr>\n",
       "      <th>81</th>\n",
       "      <td>CAKAKAKAGSGAKAKAKAC</td>\n",
       "      <td>True</td>\n",
       "    </tr>\n",
       "    <tr>\n",
       "      <th>80</th>\n",
       "      <td>CVKVQVKVGSGVKVQVKVC</td>\n",
       "      <td>True</td>\n",
       "    </tr>\n",
       "    <tr>\n",
       "      <th>79</th>\n",
       "      <td>CVKVRVKVGSGVKVRVKVC</td>\n",
       "      <td>True</td>\n",
       "    </tr>\n",
       "  </tbody>\n",
       "</table>\n",
       "</div>\n",
       "      <button class=\"colab-df-convert\" onclick=\"convertToInteractive('df-c480d88d-fb66-49d3-91d5-d9af9db89181')\"\n",
       "              title=\"Convert this dataframe to an interactive table.\"\n",
       "              style=\"display:none;\">\n",
       "        \n",
       "  <svg xmlns=\"http://www.w3.org/2000/svg\" height=\"24px\"viewBox=\"0 0 24 24\"\n",
       "       width=\"24px\">\n",
       "    <path d=\"M0 0h24v24H0V0z\" fill=\"none\"/>\n",
       "    <path d=\"M18.56 5.44l.94 2.06.94-2.06 2.06-.94-2.06-.94-.94-2.06-.94 2.06-2.06.94zm-11 1L8.5 8.5l.94-2.06 2.06-.94-2.06-.94L8.5 2.5l-.94 2.06-2.06.94zm10 10l.94 2.06.94-2.06 2.06-.94-2.06-.94-.94-2.06-.94 2.06-2.06.94z\"/><path d=\"M17.41 7.96l-1.37-1.37c-.4-.4-.92-.59-1.43-.59-.52 0-1.04.2-1.43.59L10.3 9.45l-7.72 7.72c-.78.78-.78 2.05 0 2.83L4 21.41c.39.39.9.59 1.41.59.51 0 1.02-.2 1.41-.59l7.78-7.78 2.81-2.81c.8-.78.8-2.07 0-2.86zM5.41 20L4 18.59l7.72-7.72 1.47 1.35L5.41 20z\"/>\n",
       "  </svg>\n",
       "      </button>\n",
       "      \n",
       "  <style>\n",
       "    .colab-df-container {\n",
       "      display:flex;\n",
       "      flex-wrap:wrap;\n",
       "      gap: 12px;\n",
       "    }\n",
       "\n",
       "    .colab-df-convert {\n",
       "      background-color: #E8F0FE;\n",
       "      border: none;\n",
       "      border-radius: 50%;\n",
       "      cursor: pointer;\n",
       "      display: none;\n",
       "      fill: #1967D2;\n",
       "      height: 32px;\n",
       "      padding: 0 0 0 0;\n",
       "      width: 32px;\n",
       "    }\n",
       "\n",
       "    .colab-df-convert:hover {\n",
       "      background-color: #E2EBFA;\n",
       "      box-shadow: 0px 1px 2px rgba(60, 64, 67, 0.3), 0px 1px 3px 1px rgba(60, 64, 67, 0.15);\n",
       "      fill: #174EA6;\n",
       "    }\n",
       "\n",
       "    [theme=dark] .colab-df-convert {\n",
       "      background-color: #3B4455;\n",
       "      fill: #D2E3FC;\n",
       "    }\n",
       "\n",
       "    [theme=dark] .colab-df-convert:hover {\n",
       "      background-color: #434B5C;\n",
       "      box-shadow: 0px 1px 3px 1px rgba(0, 0, 0, 0.15);\n",
       "      filter: drop-shadow(0px 1px 2px rgba(0, 0, 0, 0.3));\n",
       "      fill: #FFFFFF;\n",
       "    }\n",
       "  </style>\n",
       "\n",
       "      <script>\n",
       "        const buttonEl =\n",
       "          document.querySelector('#df-c480d88d-fb66-49d3-91d5-d9af9db89181 button.colab-df-convert');\n",
       "        buttonEl.style.display =\n",
       "          google.colab.kernel.accessAllowed ? 'block' : 'none';\n",
       "\n",
       "        async function convertToInteractive(key) {\n",
       "          const element = document.querySelector('#df-c480d88d-fb66-49d3-91d5-d9af9db89181');\n",
       "          const dataTable =\n",
       "            await google.colab.kernel.invokeFunction('convertToInteractive',\n",
       "                                                     [key], {});\n",
       "          if (!dataTable) return;\n",
       "\n",
       "          const docLinkHtml = 'Like what you see? Visit the ' +\n",
       "            '<a target=\"_blank\" href=https://colab.research.google.com/notebooks/data_table.ipynb>data table notebook</a>'\n",
       "            + ' to learn more about interactive tables.';\n",
       "          element.innerHTML = '';\n",
       "          dataTable['output_type'] = 'display_data';\n",
       "          await google.colab.output.renderOutput(dataTable, element);\n",
       "          const docLink = document.createElement('div');\n",
       "          docLink.innerHTML = docLinkHtml;\n",
       "          element.appendChild(docLink);\n",
       "        }\n",
       "      </script>\n",
       "    </div>\n",
       "  </div>\n",
       "  "
      ]
     },
     "metadata": {},
     "execution_count": 24
    }
   ],
   "source": [
    "df = df[['sequence', 'e_isActive']]\n",
    "df.head()"
   ]
  },
  {
   "cell_type": "code",
   "execution_count": null,
   "metadata": {
    "colab": {
     "base_uri": "https://localhost:8080/"
    },
    "id": "tsSoI1OBOHXh",
    "outputId": "dc557b3a-5a5c-4bb6-bdef-131ab82e6289"
   },
   "outputs": [
    {
     "output_type": "execute_result",
     "data": {
      "text/plain": [
       "20"
      ]
     },
     "metadata": {},
     "execution_count": 25
    }
   ],
   "source": [
    "df.sequence.map(lambda x: len(x)).max()"
   ]
  },
  {
   "cell_type": "code",
   "execution_count": null,
   "metadata": {
    "colab": {
     "base_uri": "https://localhost:8080/",
     "height": 111
    },
    "id": "Or5fsvQci2PX",
    "outputId": "45ce2d93-101f-4558-a52d-b6decfd3fdaf"
   },
   "outputs": [
    {
     "output_type": "execute_result",
     "data": {
      "text/plain": [
       "   e_isActive  counts\n",
       "0       False    1006\n",
       "1        True    1006"
      ],
      "text/html": [
       "\n",
       "  <div id=\"df-ef7a76d7-b735-4f6d-86bc-51e039c8c661\">\n",
       "    <div class=\"colab-df-container\">\n",
       "      <div>\n",
       "<style scoped>\n",
       "    .dataframe tbody tr th:only-of-type {\n",
       "        vertical-align: middle;\n",
       "    }\n",
       "\n",
       "    .dataframe tbody tr th {\n",
       "        vertical-align: top;\n",
       "    }\n",
       "\n",
       "    .dataframe thead th {\n",
       "        text-align: right;\n",
       "    }\n",
       "</style>\n",
       "<table border=\"1\" class=\"dataframe\">\n",
       "  <thead>\n",
       "    <tr style=\"text-align: right;\">\n",
       "      <th></th>\n",
       "      <th>e_isActive</th>\n",
       "      <th>counts</th>\n",
       "    </tr>\n",
       "  </thead>\n",
       "  <tbody>\n",
       "    <tr>\n",
       "      <th>0</th>\n",
       "      <td>False</td>\n",
       "      <td>1006</td>\n",
       "    </tr>\n",
       "    <tr>\n",
       "      <th>1</th>\n",
       "      <td>True</td>\n",
       "      <td>1006</td>\n",
       "    </tr>\n",
       "  </tbody>\n",
       "</table>\n",
       "</div>\n",
       "      <button class=\"colab-df-convert\" onclick=\"convertToInteractive('df-ef7a76d7-b735-4f6d-86bc-51e039c8c661')\"\n",
       "              title=\"Convert this dataframe to an interactive table.\"\n",
       "              style=\"display:none;\">\n",
       "        \n",
       "  <svg xmlns=\"http://www.w3.org/2000/svg\" height=\"24px\"viewBox=\"0 0 24 24\"\n",
       "       width=\"24px\">\n",
       "    <path d=\"M0 0h24v24H0V0z\" fill=\"none\"/>\n",
       "    <path d=\"M18.56 5.44l.94 2.06.94-2.06 2.06-.94-2.06-.94-.94-2.06-.94 2.06-2.06.94zm-11 1L8.5 8.5l.94-2.06 2.06-.94-2.06-.94L8.5 2.5l-.94 2.06-2.06.94zm10 10l.94 2.06.94-2.06 2.06-.94-2.06-.94-.94-2.06-.94 2.06-2.06.94z\"/><path d=\"M17.41 7.96l-1.37-1.37c-.4-.4-.92-.59-1.43-.59-.52 0-1.04.2-1.43.59L10.3 9.45l-7.72 7.72c-.78.78-.78 2.05 0 2.83L4 21.41c.39.39.9.59 1.41.59.51 0 1.02-.2 1.41-.59l7.78-7.78 2.81-2.81c.8-.78.8-2.07 0-2.86zM5.41 20L4 18.59l7.72-7.72 1.47 1.35L5.41 20z\"/>\n",
       "  </svg>\n",
       "      </button>\n",
       "      \n",
       "  <style>\n",
       "    .colab-df-container {\n",
       "      display:flex;\n",
       "      flex-wrap:wrap;\n",
       "      gap: 12px;\n",
       "    }\n",
       "\n",
       "    .colab-df-convert {\n",
       "      background-color: #E8F0FE;\n",
       "      border: none;\n",
       "      border-radius: 50%;\n",
       "      cursor: pointer;\n",
       "      display: none;\n",
       "      fill: #1967D2;\n",
       "      height: 32px;\n",
       "      padding: 0 0 0 0;\n",
       "      width: 32px;\n",
       "    }\n",
       "\n",
       "    .colab-df-convert:hover {\n",
       "      background-color: #E2EBFA;\n",
       "      box-shadow: 0px 1px 2px rgba(60, 64, 67, 0.3), 0px 1px 3px 1px rgba(60, 64, 67, 0.15);\n",
       "      fill: #174EA6;\n",
       "    }\n",
       "\n",
       "    [theme=dark] .colab-df-convert {\n",
       "      background-color: #3B4455;\n",
       "      fill: #D2E3FC;\n",
       "    }\n",
       "\n",
       "    [theme=dark] .colab-df-convert:hover {\n",
       "      background-color: #434B5C;\n",
       "      box-shadow: 0px 1px 3px 1px rgba(0, 0, 0, 0.15);\n",
       "      filter: drop-shadow(0px 1px 2px rgba(0, 0, 0, 0.3));\n",
       "      fill: #FFFFFF;\n",
       "    }\n",
       "  </style>\n",
       "\n",
       "      <script>\n",
       "        const buttonEl =\n",
       "          document.querySelector('#df-ef7a76d7-b735-4f6d-86bc-51e039c8c661 button.colab-df-convert');\n",
       "        buttonEl.style.display =\n",
       "          google.colab.kernel.accessAllowed ? 'block' : 'none';\n",
       "\n",
       "        async function convertToInteractive(key) {\n",
       "          const element = document.querySelector('#df-ef7a76d7-b735-4f6d-86bc-51e039c8c661');\n",
       "          const dataTable =\n",
       "            await google.colab.kernel.invokeFunction('convertToInteractive',\n",
       "                                                     [key], {});\n",
       "          if (!dataTable) return;\n",
       "\n",
       "          const docLinkHtml = 'Like what you see? Visit the ' +\n",
       "            '<a target=\"_blank\" href=https://colab.research.google.com/notebooks/data_table.ipynb>data table notebook</a>'\n",
       "            + ' to learn more about interactive tables.';\n",
       "          element.innerHTML = '';\n",
       "          dataTable['output_type'] = 'display_data';\n",
       "          await google.colab.output.renderOutput(dataTable, element);\n",
       "          const docLink = document.createElement('div');\n",
       "          docLink.innerHTML = docLinkHtml;\n",
       "          element.appendChild(docLink);\n",
       "        }\n",
       "      </script>\n",
       "    </div>\n",
       "  </div>\n",
       "  "
      ]
     },
     "metadata": {},
     "execution_count": 26
    }
   ],
   "source": [
    "# statistics about amps positive and negative samples\n",
    "groupActivityStatistic = df.groupby(['e_isActive']).size().reset_index(name='counts')\n",
    "groupActivityStatistic"
   ]
  },
  {
   "cell_type": "code",
   "execution_count": null,
   "metadata": {
    "id": "4zAbC2ctDFda"
   },
   "outputs": [],
   "source": [
    "# Split dataset into training (4/5) and test (1/5) sets; out of every 5 sequences, grab the 3rd for the test set\n",
    "# Dataset will already be sorted by MIC primarily (meaning negative controls are at the bottom) and sequence length secondarily in Excel\n",
    "included_sequences = df['sequence'].to_list()\n",
    "included_MICs = df['e_isActive'].to_list()\n",
    "\n",
    "training_sequences = df['sequence'].to_list()\n",
    "del training_sequences[2::5]\n",
    "test_sequences = included_sequences[2::5] # Grabs the 3rd sequence every 5 steps\n",
    "training_MICs = df['e_isActive'].to_list()\n",
    "del training_MICs[2::5]\n",
    "test_MICs = included_MICs[2::5]"
   ]
  },
  {
   "cell_type": "code",
   "execution_count": null,
   "metadata": {
    "id": "6WYoBwzXKFBq"
   },
   "outputs": [],
   "source": [
    "# Zip corresponding sequences and labels together\n",
    "training_set = list(zip(training_sequences, training_MICs))\n",
    "test_set = list(zip(test_sequences, test_MICs))"
   ]
  },
  {
   "cell_type": "code",
   "execution_count": null,
   "metadata": {
    "colab": {
     "base_uri": "https://localhost:8080/"
    },
    "id": "9z3MR3vwVRo1",
    "outputId": "d272088e-1b9a-458b-e10e-008a8b3ee584"
   },
   "outputs": [
    {
     "output_type": "execute_result",
     "data": {
      "text/plain": [
       "1610"
      ]
     },
     "metadata": {},
     "execution_count": 29
    }
   ],
   "source": [
    "len(training_set)"
   ]
  },
  {
   "cell_type": "code",
   "execution_count": null,
   "metadata": {
    "colab": {
     "base_uri": "https://localhost:8080/"
    },
    "id": "M2ATzjvFrvvU",
    "outputId": "1765c4ec-33d7-424a-f9f0-c462cb9710ed"
   },
   "outputs": [
    {
     "output_type": "execute_result",
     "data": {
      "text/plain": [
       "Counter({True: 805, False: 805})"
      ]
     },
     "metadata": {},
     "execution_count": 30
    }
   ],
   "source": [
    "from collections import Counter\n",
    "Counter(elem[1] for elem in training_set)"
   ]
  },
  {
   "cell_type": "code",
   "execution_count": null,
   "metadata": {
    "colab": {
     "base_uri": "https://localhost:8080/"
    },
    "id": "ns-WzIcm26YV",
    "outputId": "812fb637-141b-439e-d384-2e9c2b7ac02c"
   },
   "outputs": [
    {
     "output_type": "execute_result",
     "data": {
      "text/plain": [
       "402"
      ]
     },
     "metadata": {},
     "execution_count": 31
    }
   ],
   "source": [
    "len(test_set)"
   ]
  },
  {
   "cell_type": "code",
   "execution_count": null,
   "metadata": {
    "colab": {
     "base_uri": "https://localhost:8080/"
    },
    "id": "6gsMV5lcsglV",
    "outputId": "2be408a9-d0de-4479-98d1-d7064cb25c93"
   },
   "outputs": [
    {
     "output_type": "execute_result",
     "data": {
      "text/plain": [
       "Counter({True: 201, False: 201})"
      ]
     },
     "metadata": {},
     "execution_count": 32
    }
   ],
   "source": [
    "Counter(elem[1] for elem in test_set)"
   ]
  },
  {
   "cell_type": "code",
   "execution_count": null,
   "metadata": {
    "id": "Sutr7mHqKM0O"
   },
   "outputs": [],
   "source": [
    "# Shuffle sequences and labels, with corresponding sequences and labels kept together\n",
    "# Split the sequences and labels in training_set and test_set into separate lists again\n",
    "random.seed(16)\n",
    "random.shuffle(training_set)\n",
    "training_sequences, training_MICs = zip(*training_set)\n",
    "random.shuffle(test_set)\n",
    "test_sequences, test_MICs = zip(*test_set)"
   ]
  },
  {
   "cell_type": "code",
   "execution_count": null,
   "metadata": {
    "id": "LT-y-FUOtBBt"
   },
   "outputs": [],
   "source": [
    "# Function for zero-padding the sequences\n",
    "def padding(sequences):\n",
    "    padded_sequences = []\n",
    "    for i in range(0, len(sequences)):\n",
    "        if len(sequences[i]) == maxlength:\n",
    "            padded_sequences.append(sequences[i])\n",
    "        else:\n",
    "            padded_sequences.append(sequences[i] + \"0\" * (maxlength - len(sequences[i])))\n",
    "    return padded_sequences"
   ]
  },
  {
   "cell_type": "code",
   "execution_count": null,
   "metadata": {
    "id": "_4XGktqmuQKB"
   },
   "outputs": [],
   "source": [
    "# Pad the training sequences and test sequences\n",
    "padded_training_sequences = padding(training_sequences)\n",
    "padded_test_sequences = padding(test_sequences)"
   ]
  },
  {
   "cell_type": "code",
   "execution_count": null,
   "metadata": {
    "id": "sgwAOYXEui8w"
   },
   "outputs": [],
   "source": [
    "# Mapping of unique characters to integers\n",
    "chars = ['A', 'D', 'E', 'F', 'G', 'H', 'I', 'K', 'L', 'M', 'N', 'P', 'Q', 'R', 'S', 'T', 'V', 'W', 'Y', '0']\n",
    "token_index = dict(zip(chars, range(0, 20)))"
   ]
  },
  {
   "cell_type": "code",
   "execution_count": null,
   "metadata": {
    "id": "RQoi_wq7uloE"
   },
   "outputs": [],
   "source": [
    "# Function for one-hot encoding sequences into binary arrays\n",
    "def one_hot_encode(sequences):\n",
    "    x = np.zeros((len(sequences), maxlength, len(chars))) \n",
    "    for i, sequence in enumerate(sequences): \n",
    "        for j, char in enumerate(sequence[0 : 20]): \n",
    "            index = token_index.get(char) \n",
    "            x[i, j, index] = 1 \n",
    "    return x"
   ]
  },
  {
   "cell_type": "code",
   "execution_count": null,
   "metadata": {
    "colab": {
     "base_uri": "https://localhost:8080/"
    },
    "id": "xJE1_j7EuoXU",
    "outputId": "56356674-f42d-4387-dc1a-a94ed60eb7a5"
   },
   "outputs": [
    {
     "output_type": "stream",
     "name": "stdout",
     "text": [
      "One-hot encoding the sequences...\n"
     ]
    }
   ],
   "source": [
    "# One-hot encode training and test sequences\n",
    "print('One-hot encoding the sequences...')\n",
    "# x_train list contains one-hot encoded versions of the 20 residues of each training sequence\n",
    "x_train = one_hot_encode(padded_training_sequences) \n",
    "# x_test list contains one-hot encoded versions of the 20 residues of each test sequence\n",
    "x_test = one_hot_encode(padded_test_sequences) "
   ]
  },
  {
   "cell_type": "code",
   "execution_count": null,
   "metadata": {
    "colab": {
     "base_uri": "https://localhost:8080/"
    },
    "id": "5Fcz3eMrxqQg",
    "outputId": "c78ae3ca-a486-4f7d-958f-6ecffcd23f95"
   },
   "outputs": [
    {
     "output_type": "execute_result",
     "data": {
      "text/plain": [
       "1610"
      ]
     },
     "metadata": {},
     "execution_count": 39
    }
   ],
   "source": [
    "len(x_train)"
   ]
  },
  {
   "cell_type": "code",
   "execution_count": null,
   "metadata": {
    "id": "zTMkzvTOuxT-"
   },
   "outputs": [],
   "source": [
    "# Vectorize labels\n",
    "y_train = np.asarray(training_MICs).astype('float64')\n",
    "y_test = np.asarray(test_MICs).astype('float64')"
   ]
  },
  {
   "cell_type": "code",
   "execution_count": null,
   "metadata": {
    "colab": {
     "base_uri": "https://localhost:8080/"
    },
    "id": "UFAh6rNVxzho",
    "outputId": "d6274a04-5f24-477d-bf15-d0443e091f37"
   },
   "outputs": [
    {
     "output_type": "execute_result",
     "data": {
      "text/plain": [
       "1610"
      ]
     },
     "metadata": {},
     "execution_count": 41
    }
   ],
   "source": [
    "len(y_train)"
   ]
  },
  {
   "cell_type": "code",
   "execution_count": null,
   "metadata": {
    "colab": {
     "base_uri": "https://localhost:8080/"
    },
    "id": "AIC3SrxSEhGV",
    "outputId": "479574d3-5d68-4177-8a47-5efcc69a3b3e"
   },
   "outputs": [
    {
     "output_type": "execute_result",
     "data": {
      "text/plain": [
       "402"
      ]
     },
     "metadata": {},
     "execution_count": 42
    }
   ],
   "source": [
    "len(x_test)"
   ]
  },
  {
   "cell_type": "markdown",
   "metadata": {
    "id": "vNSP7FHuvAxC"
   },
   "source": [
    "### Preparing The Model"
   ]
  },
  {
   "cell_type": "code",
   "execution_count": null,
   "metadata": {
    "id": "Gs1D5t3Xu_2r"
   },
   "outputs": [],
   "source": [
    "METRICS = [\n",
    "      keras.metrics.TruePositives(name='tp'),\n",
    "      keras.metrics.FalsePositives(name='fp'),\n",
    "      keras.metrics.TrueNegatives(name='tn'),\n",
    "      keras.metrics.FalseNegatives(name='fn'), \n",
    "      keras.metrics.BinaryAccuracy(name='accuracy'),\n",
    "      keras.metrics.Precision(name='precision'),\n",
    "      keras.metrics.Recall(name='recall'),\n",
    "      keras.metrics.AUC(name='auc'),\n",
    "      keras.metrics.AUC(name='prc', curve='PR'), # precision-recall curve\n",
    "]\n",
    "\n",
    "# Callbacks (checkpoints to save model weights each time it improves, stops training when there is no improvement)\n",
    "callbacks = [keras.callbacks.EarlyStopping(monitor = 'acc', patience = 5, mode = 'max'), \n",
    "             keras.callbacks.ModelCheckpoint(filepath = '/content/sample_data/cnn_lstm_att_pesu_atcc_classification_model_v1.h5', monitor = 'acc', \n",
    "                                             verbose = 0, save_best_only = True, mode = 'max')]"
   ]
  },
  {
   "cell_type": "code",
   "execution_count": null,
   "metadata": {
    "id": "j_FdrY14vG2r"
   },
   "outputs": [],
   "source": [
    "\n",
    "# Function that builds model\n",
    "def build_model(hp):\n",
    "    model = tf.keras.models.Sequential() # Sequential model\n",
    "    # Tune the number of units in the LSTM layer; picks an optimal value between 32-512\n",
    "    hp_units = hp.Int('units', min_value = 64, max_value = 512, step = 32)\n",
    "    # Add CNN layer\n",
    "    model.add(layers.Conv1D(filters=32, kernel_size=3, padding='same', activation='relu',input_shape=(maxlength, len(chars))))\n",
    "    model.add(layers.MaxPooling1D(pool_size=2))\n",
    "    # Add a bidirectional LSTM layer\n",
    "    model.add(layers.Bidirectional(layers.LSTM(hp_units, return_sequences = True), input_shape = (maxlength, len(chars))))\n",
    "    model.add(layers.Bidirectional(layers.LSTM(hp_units, return_sequences = True), input_shape = (maxlength, len(chars))))\n",
    "    model.add(SeqSelfAttention(attention_activation='softmax'))\n",
    "    #model.add(layers.Attention())\n",
    "   # model.add(BahdanauAttention(hp_units))\n",
    "    # Picks an optimal value of dropout between\n",
    "    hp_dropout = hp.Float('dropout', min_value = 0.3, max_value = 0.7, step = 0.1)\n",
    "    model.add(layers.Dropout(hp_dropout)) # Adds a Dropout layer\n",
    "    model.add(layers.Flatten())\n",
    "    model.add(layers.Dense(1, activation = 'sigmoid')) # Sigmoid last-layer activation\n",
    "    # Tune the learning rate; picks an optimal value from the different learning rates  [1e-1, 1e-2, 2e-2, 3e-2, 1e-3, 1e-4]\n",
    "    hp_learning_rate = hp.Choice('learning_rate', values = [1e-1, 1e-2, 2e-2, 3e-2, 1e-3, 1e-4])\n",
    "    model.compile(loss = 'binary_crossentropy', optimizer = keras.optimizers.RMSprop(hp_learning_rate), metrics = ['acc'])\n",
    "    # Saving the weights of the model before training start, so we can reset the weights if needed\n",
    "    model.save_weights('/content/sample_data/initial_cnn_lstm_att_pesu_atcc_classification_model_v1.h5') \n",
    "    return model"
   ]
  },
  {
   "cell_type": "code",
   "execution_count": null,
   "metadata": {
    "id": "aWOxmmeEvLoX"
   },
   "outputs": [],
   "source": [
    "# Subclassing keras tuner to support cross-validation\n",
    "class tuner_crossvalidation(kt.engine.tuner.Tuner):\n",
    "    def run_trial(self, trial, x_train, y_train, batch_size = batch_size, epochs = epochs, callbacks = callbacks):\n",
    "        val_accuracies = []\n",
    "        for train_indices, test_indices in crossvalidation.split(x_train):\n",
    "            x_cvtrain, x_cvtest = x_train[train_indices], x_train[test_indices]\n",
    "            y_cvtrain, y_cvtest = y_train[train_indices], y_train[test_indices]\n",
    "            model = self.hypermodel.build(trial.hyperparameters)\n",
    "            model.fit(x_cvtrain, y_cvtrain, batch_size = batch_size, epochs = epochs, callbacks = callbacks)\n",
    "            val_accuracies.append(model.evaluate(x_cvtest, y_cvtest))\n",
    "        self.oracle.update_trial(trial.trial_id, {'val_acc': np.mean(val_accuracies)})\n",
    "        self.save_model(trial.trial_id, model)"
   ]
  },
  {
   "cell_type": "code",
   "execution_count": null,
   "metadata": {
    "id": "9Ou4qqzaTRYQ"
   },
   "outputs": [],
   "source": [
    "tuner = tuner_crossvalidation(hypermodel = build_model, \n",
    "                              oracle = kt.oracles.BayesianOptimization(objective = 'val_acc', max_trials = 11))"
   ]
  },
  {
   "cell_type": "code",
   "execution_count": null,
   "metadata": {
    "colab": {
     "base_uri": "https://localhost:8080/"
    },
    "id": "J2nABy4wvN3S",
    "outputId": "44e4f65c-b959-432b-cfd3-44b4fc06da3b"
   },
   "outputs": [
    {
     "output_type": "stream",
     "name": "stdout",
     "text": [
      "Search space summary\n",
      "Default search space size: 3\n",
      "units (Int)\n",
      "{'default': None, 'conditions': [], 'min_value': 64, 'max_value': 512, 'step': 32, 'sampling': None}\n",
      "dropout (Float)\n",
      "{'default': 0.3, 'conditions': [], 'min_value': 0.3, 'max_value': 0.7, 'step': 0.1, 'sampling': None}\n",
      "learning_rate (Choice)\n",
      "{'default': 0.003, 'conditions': [], 'values': [0.003], 'ordered': True}\n"
     ]
    }
   ],
   "source": [
    "# Show search space summary\n",
    "tuner.search_space_summary()"
   ]
  },
  {
   "cell_type": "markdown",
   "metadata": {
    "id": "8b7YIAQFvRcs"
   },
   "source": [
    "### Find Best Tuning Params"
   ]
  },
  {
   "cell_type": "code",
   "execution_count": null,
   "metadata": {
    "colab": {
     "base_uri": "https://localhost:8080/"
    },
    "id": "xyCCUsSKvSbV",
    "outputId": "7470e41f-7bac-44f6-9698-cacd59813d79"
   },
   "outputs": [
    {
     "output_type": "stream",
     "name": "stdout",
     "text": [
      "Trial 11 Complete [00h 01m 56s]\n",
      "val_acc: 0.6682076089084148\n",
      "\n",
      "Best val_acc So Far: 1.2574907809495925\n",
      "Total elapsed time: 00h 24m 34s\n"
     ]
    }
   ],
   "source": [
    "# Run the hyperparameter search\n",
    "tuner.search(x_train, y_train, batch_size = batch_size, epochs = epochs, callbacks = callbacks)\n",
    "best_model = tuner.get_best_models()[0]"
   ]
  },
  {
   "cell_type": "code",
   "execution_count": null,
   "metadata": {
    "colab": {
     "base_uri": "https://localhost:8080/"
    },
    "id": "wsuURtxivWFs",
    "outputId": "0e14c08f-0ab8-4d7f-cbb4-879138f415c6"
   },
   "outputs": [
    {
     "output_type": "stream",
     "name": "stdout",
     "text": [
      "\n",
      "Completed hyperparameter search. The optimal number of units in the LSTM\n",
      "layer is 352. The optimal dropout for the dropout layer is 0.5.\n",
      "The optimal learning rate for the optimizer is 0.003. \n",
      "\n"
     ]
    }
   ],
   "source": [
    "# Get the best hyperparameters\n",
    "best_hps = tuner.get_best_hyperparameters(num_trials = 1)[0]\n",
    "\n",
    "print(f\"\"\"\n",
    "Completed hyperparameter search. The optimal number of units in the LSTM\n",
    "layer is {best_hps.get('units')}. The optimal dropout for the dropout layer is {best_hps.get('dropout')}.\n",
    "The optimal learning rate for the optimizer is {best_hps.get('learning_rate')}. \n",
    "\"\"\")"
   ]
  },
  {
   "cell_type": "markdown",
   "metadata": {
    "id": "53B4HCrNvc-_"
   },
   "source": [
    "### Training The Model"
   ]
  },
  {
   "cell_type": "code",
   "execution_count": null,
   "metadata": {
    "id": "EpYbbFKNvdmQ"
   },
   "outputs": [],
   "source": [
    "# Function for plotting the accuracy\n",
    "def plot_acc():\n",
    "    acc = history.history['acc']\n",
    "    epochs = range(1, len(acc) + 1)\n",
    "    plt.figure(1)\n",
    "    plt.plot(epochs, acc, 'b-', label = 'Training accuracy')\n",
    "    plt.title('Training accuracy')\n",
    "    plt.xlabel('Epochs')\n",
    "    plt.ylabel('Accuracy')\n",
    "    plt.show()  "
   ]
  },
  {
   "cell_type": "code",
   "execution_count": null,
   "metadata": {
    "id": "nC3SXdo-vgnu",
    "colab": {
     "base_uri": "https://localhost:8080/"
    },
    "outputId": "c09889b9-a9da-4148-c9ba-0014f39797b5"
   },
   "outputs": [
    {
     "output_type": "stream",
     "name": "stdout",
     "text": [
      "Epoch 1/500\n",
      "51/51 [==============================] - 7s 15ms/step - loss: 0.6550 - acc: 0.7106\n",
      "Epoch 2/500\n",
      "51/51 [==============================] - 1s 14ms/step - loss: 0.2463 - acc: 0.9211\n",
      "Epoch 3/500\n",
      "51/51 [==============================] - 1s 13ms/step - loss: 0.1925 - acc: 0.9366\n",
      "Epoch 4/500\n",
      "51/51 [==============================] - 1s 13ms/step - loss: 0.1522 - acc: 0.9516\n",
      "Epoch 5/500\n",
      "51/51 [==============================] - 1s 13ms/step - loss: 0.0978 - acc: 0.9646\n",
      "Epoch 6/500\n",
      "51/51 [==============================] - 1s 13ms/step - loss: 0.0958 - acc: 0.9689\n",
      "Epoch 7/500\n",
      "51/51 [==============================] - 1s 13ms/step - loss: 0.0765 - acc: 0.9789\n",
      "Epoch 8/500\n",
      "51/51 [==============================] - 1s 13ms/step - loss: 0.0680 - acc: 0.9801\n",
      "Epoch 9/500\n",
      "51/51 [==============================] - 1s 14ms/step - loss: 0.0860 - acc: 0.9764\n",
      "Epoch 10/500\n",
      "51/51 [==============================] - 1s 14ms/step - loss: 0.0477 - acc: 0.9870\n",
      "Epoch 11/500\n",
      "51/51 [==============================] - 1s 13ms/step - loss: 0.0371 - acc: 0.9888\n",
      "Epoch 12/500\n",
      "51/51 [==============================] - 1s 13ms/step - loss: 0.0459 - acc: 0.9851\n",
      "Epoch 13/500\n",
      "51/51 [==============================] - 1s 13ms/step - loss: 0.0254 - acc: 0.9957\n",
      "Epoch 14/500\n",
      "51/51 [==============================] - 1s 13ms/step - loss: 0.0227 - acc: 0.9932\n",
      "Epoch 15/500\n",
      "51/51 [==============================] - 1s 14ms/step - loss: 0.0351 - acc: 0.9938\n",
      "Epoch 16/500\n",
      "51/51 [==============================] - 1s 13ms/step - loss: 0.0243 - acc: 0.9950\n",
      "Epoch 17/500\n",
      "51/51 [==============================] - 1s 14ms/step - loss: 0.0212 - acc: 0.9944\n",
      "Epoch 18/500\n",
      "51/51 [==============================] - 1s 14ms/step - loss: 0.0177 - acc: 0.9963\n",
      "Epoch 19/500\n",
      "51/51 [==============================] - 1s 14ms/step - loss: 0.0370 - acc: 0.9907\n",
      "Epoch 20/500\n",
      "51/51 [==============================] - 1s 14ms/step - loss: 0.0154 - acc: 0.9969\n",
      "Epoch 21/500\n",
      "51/51 [==============================] - 1s 14ms/step - loss: 0.0253 - acc: 0.9957\n",
      "Epoch 22/500\n",
      "51/51 [==============================] - 1s 13ms/step - loss: 2.6877e-04 - acc: 1.0000\n",
      "Epoch 23/500\n",
      "51/51 [==============================] - 1s 14ms/step - loss: 3.5838e-06 - acc: 1.0000\n",
      "Epoch 24/500\n",
      "51/51 [==============================] - 1s 14ms/step - loss: 5.1823e-07 - acc: 1.0000\n",
      "Epoch 25/500\n",
      "51/51 [==============================] - 1s 13ms/step - loss: 1.4430e-08 - acc: 1.0000\n",
      "Epoch 26/500\n",
      "51/51 [==============================] - 1s 14ms/step - loss: 2.8694e-09 - acc: 1.0000\n",
      "Epoch 27/500\n",
      "51/51 [==============================] - 1s 14ms/step - loss: 8.5911e-10 - acc: 1.0000\n"
     ]
    }
   ],
   "source": [
    "# Build and train the model with most optimal hyperparameters on all training sequences; plotting the loss and accuracy\n",
    "model = tuner.hypermodel.build(best_hps)\n",
    "history = model.fit(x_train, y_train, batch_size = batch_size, epochs = epochs, callbacks = callbacks)"
   ]
  },
  {
   "cell_type": "code",
   "execution_count": null,
   "metadata": {
    "id": "tXdvQkWwvlJQ",
    "colab": {
     "base_uri": "https://localhost:8080/",
     "height": 295
    },
    "outputId": "e89ad53d-b49d-407f-eec5-c67788b14348"
   },
   "outputs": [
    {
     "output_type": "display_data",
     "data": {
      "text/plain": [
       "<Figure size 432x288 with 1 Axes>"
      ],
      "image/png": "[encoded data removed]"
     },
     "metadata": {
      "needs_background": "light"
     }
    }
   ],
   "source": [
    "# Plots figure of accuracy\n",
    "plot = plot_acc()"
   ]
  },
  {
   "cell_type": "markdown",
   "metadata": {
    "id": "KMMJE6RAvnth"
   },
   "source": [
    "### Evaluatation"
   ]
  },
  {
   "cell_type": "code",
   "execution_count": null,
   "metadata": {
    "id": "0-iFBgmovoZD",
    "colab": {
     "base_uri": "https://localhost:8080/"
    },
    "outputId": "0e6392da-16a2-4786-a463-9a644788085b"
   },
   "outputs": [
    {
     "output_type": "stream",
     "name": "stdout",
     "text": [
      "13/13 [==============================] - 2s 9ms/step - loss: 0.4911 - acc: 0.9726\n",
      "Test score (loss value, validation accuracy):  [0.49108126759529114, 0.9726368188858032]\n"
     ]
    }
   ],
   "source": [
    "# Evaluate optimised model on a never-seen before test set\n",
    "test_score = model.evaluate(x_test, y_test)\n",
    "print('Test score (loss value, validation accuracy): ', test_score)"
   ]
  },
  {
   "cell_type": "code",
   "execution_count": null,
   "metadata": {
    "id": "RPw-6-srvsMh"
   },
   "outputs": [],
   "source": [
    "# Load our best model\n",
    "model = load_model('/content/sample_data/cnn_lstm_att_pesu_atcc_classification_model_v1.h5', custom_objects={\"SeqSelfAttention\": SeqSelfAttention})"
   ]
  },
  {
   "cell_type": "code",
   "execution_count": null,
   "metadata": {
    "id": "nNAWgXVOvs3r"
   },
   "outputs": [],
   "source": [
    "# Function for plotting the ROC and AUC\n",
    "def plot_roc_auc():\n",
    "    plt.figure(2)  \n",
    "    plt.plot([0, 1], [0, 1], 'g--') # plots the diagonal line where fpr = tpr\n",
    "    plt.plot(fpr, tpr, label = 'AUC = {:.3f}'.format(roc_auc))\n",
    "    plt.scatter(fpr[max_value], tpr[max_value], marker = 'o', color = 'red', label = 'Best decision boundary = {:.5f}'.format(best_threshold))\n",
    "    plt.title('ROC curve')\n",
    "    plt.xlabel('False positive rate')\n",
    "    plt.ylabel('True positive rate')\n",
    "    plt.legend(loc = 'best')\n",
    "    plt.show"
   ]
  },
  {
   "cell_type": "code",
   "execution_count": null,
   "metadata": {
    "id": "rLO3dSLXvzW0"
   },
   "outputs": [],
   "source": [
    "# Function for plotting the confusion matrix\n",
    "def plot_conf_matrix():\n",
    "    plt.figure(3)\n",
    "    plt.imshow(conf_matrix, cmap = plt.cm.Blues)\n",
    "    plt.title('Confusion matrix')\n",
    "    plt.xlabel('Predicted label', fontweight = 'bold')\n",
    "    plt.ylabel('True label', fontweight = 'bold')\n",
    "    labels = ['Non-antimicrobial', 'Antimicrobial']\n",
    "    plt.xticks([0, 1], labels)\n",
    "    plt.yticks([0, 1], labels, rotation = 90, va = 'center')\n",
    "    thresh = conf_matrix.max()/2\n",
    "    for i, j in itertools.product(range(conf_matrix.shape[0]), range(conf_matrix.shape[1])):\n",
    "         plt.text(j, i, conf_matrix[i, j], ha = 'center', color = 'white' if conf_matrix[i, j] > thresh else \"black\")\n",
    "    plt.colorbar()\n",
    "    plt.show()"
   ]
  },
  {
   "cell_type": "code",
   "execution_count": null,
   "metadata": {
    "id": "Dd80rWAsv1sg",
    "colab": {
     "base_uri": "https://localhost:8080/",
     "height": 312
    },
    "outputId": "c4ed2508-7454-46a2-b22a-d02472aea85d"
   },
   "outputs": [
    {
     "output_type": "stream",
     "name": "stdout",
     "text": [
      "Best threshold = 0.966558\n"
     ]
    },
    {
     "output_type": "display_data",
     "data": {
      "text/plain": [
       "<Figure size 432x288 with 1 Axes>"
      ],
      "image/png": "[encoded data removed]"
     },
     "metadata": {
      "needs_background": "light"
     }
    }
   ],
   "source": [
    "# Plot the ROC curve and AUC; determine decision boundary   \n",
    "y_pred = model.predict(x_test)\n",
    "fpr, tpr, thresholds = roc_curve(y_test, y_pred)\n",
    "roc_auc = auc(fpr, tpr)\n",
    "J = tpr - fpr # Using Youden's J statistic for calculation of best threshold\n",
    "max_value = np.argmax(J)\n",
    "best_threshold = thresholds[max_value]\n",
    "print('Best threshold = %f' % (best_threshold))\n",
    "plot2 = plot_roc_auc()"
   ]
  },
  {
   "cell_type": "code",
   "execution_count": null,
   "metadata": {
    "id": "sp4w_QTHwFAm",
    "colab": {
     "base_uri": "https://localhost:8080/",
     "height": 329
    },
    "outputId": "ed323e67-bb84-464e-8866-52303d1a16d0"
   },
   "outputs": [
    {
     "output_type": "stream",
     "name": "stdout",
     "text": [
      "[[194   7]\n",
      " [  1 200]]\n"
     ]
    },
    {
     "output_type": "display_data",
     "data": {
      "text/plain": [
       "<Figure size 432x288 with 2 Axes>"
      ],
      "image/png": "[encoded data removed]"
     },
     "metadata": {
      "needs_background": "light"
     }
    }
   ],
   "source": [
    "# Plot the confusion matrix\n",
    "for i in range(len(y_pred)):\n",
    "    if y_pred[i] >= best_threshold:\n",
    "        y_pred[i] = 1\n",
    "    else: y_pred[i] = 0\n",
    "conf_matrix = confusion_matrix(y_test, y_pred)\n",
    "print(conf_matrix)\n",
    "plot3 = plot_conf_matrix()"
   ]
  },
  {
   "cell_type": "code",
   "execution_count": null,
   "metadata": {
    "id": "CmfuXQBXLBnX",
    "colab": {
     "base_uri": "https://localhost:8080/"
    },
    "outputId": "c180de6a-c326-49ce-f2fe-ceef06aec7f3"
   },
   "outputs": [
    {
     "output_type": "stream",
     "name": "stdout",
     "text": [
      "              precision    recall  f1-score   support\n",
      "\n",
      "         0.0       0.99      0.97      0.98       201\n",
      "         1.0       0.97      1.00      0.98       201\n",
      "\n",
      "    accuracy                           0.98       402\n",
      "   macro avg       0.98      0.98      0.98       402\n",
      "weighted avg       0.98      0.98      0.98       402\n",
      "\n"
     ]
    }
   ],
   "source": [
    "from sklearn.metrics import classification_report\n",
    "print(classification_report(y_test, y_pred))"
   ]
  }
 ],
 "metadata": {
  "accelerator": "GPU",
  "colab": {
   "collapsed_sections": [
    "shDLaG5vjxjO"
   ],
   "provenance": []
  },
  "kernelspec": {
   "display_name": "Python 3",
   "name": "python3"
  },
  "language_info": {
   "name": "python"
  }
 },
 "nbformat": 4,
 "nbformat_minor": 0
}
